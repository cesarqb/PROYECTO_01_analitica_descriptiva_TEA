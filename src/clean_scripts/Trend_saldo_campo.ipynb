{
 "cells": [
  {
   "cell_type": "code",
   "execution_count": null,
   "metadata": {},
   "outputs": [],
   "source": [
    "#from google.colab import files\n",
    "import pandas as pd\n",
    "import numpy as np\n",
    "import calendar\n",
    "# import warnings\n",
    "\n",
    "import matplotlib.pyplot as plt"
   ]
  },
  {
   "cell_type": "markdown",
   "metadata": {},
   "source": [
    "## Saldo en campo"
   ]
  },
  {
   "cell_type": "code",
   "execution_count": null,
   "metadata": {},
   "outputs": [],
   "source": [
    "# Cargamos el archivo Excel - RFF Procesado\n",
    "# --------------\n",
    "\n",
    "ruta_path = 'C:/cesar_quezada/ProyectosIA/Proyectos_PALMAS'               # -> Casa\n",
    "# ruta_path = 'C:/Users/usuario/Documents/DOCUMENTOS_CONSULTOR_5_BI'      # -> Trabajo\n",
    "\n",
    "path_sabana_saldo_campo_pw = '/PROYECTO_001_analitica_descriptiva_TEA/data/external/bbdd_saldo_campo/182329be-0e9a-43ee-saldo-campo-pw.xlsx'\n",
    "path_sabana_saldo_campo_sh = '/PROYECTO_001_analitica_descriptiva_TEA/data/external/bbdd_saldo_campo/19065b0d-5048-40f8-saldo-campo-sh.xlsx'\n",
    "\n",
    "path_sabana_saldo_campo_pw_dias = '/PROYECTO_001_analitica_descriptiva_TEA/data/external/bbdd_saldo_campo/5d3cd28b-1322-479a-saldo-campo-pw-dias.xlsx'\n",
    "path_sabana_saldo_campo_sh_dias = '/PROYECTO_001_analitica_descriptiva_TEA/data/external/bbdd_saldo_campo/5ecff3d5-57a8-4803-saldo-campo-sh-dias.xlsx'\n",
    "\n",
    "\n",
    "# Cargar la hoja 2 (indexada desde 0, por lo tanto la hoja 2 es 'sheet_name=1')\n",
    "df_sabana_saldo_campo_pw = pd.read_excel(ruta_path + path_sabana_saldo_campo_pw,sheet_name='Sheet1')\n",
    "df_sabana_saldo_campo_sh = pd.read_excel(ruta_path + path_sabana_saldo_campo_sh,sheet_name='Sheet1')\n",
    "\n",
    "df_sabana_saldo_campo_pw_dias = pd.read_excel(ruta_path + path_sabana_saldo_campo_pw_dias,sheet_name='Sheet1')\n",
    "df_sabana_saldo_campo_sh_dias = pd.read_excel(ruta_path + path_sabana_saldo_campo_sh_dias,sheet_name='Sheet1')\n",
    "\n",
    "# Eliminar las filas donde cualquiera de las columnas tenga el valor 'Totales' o NaN\n",
    "df_sabana_saldo_campo_pw = df_sabana_saldo_campo_pw[~df_sabana_saldo_campo_pw[[\"ATCnombreMESR\", \"Date(ATCFechaR, 'DD/MM/YYYY')\"]].isin(['Totales']).any(axis=1) & df_sabana_saldo_campo_pw[[\"ATCnombreMESR\", \"Date(ATCFechaR, 'DD/MM/YYYY')\"]].notna().all(axis=1)]\n",
    "df_sabana_saldo_campo_sh = df_sabana_saldo_campo_sh[~df_sabana_saldo_campo_sh[[\"ATCnombreMESR\", \"Date(ATCFechaR, 'DD/MM/YYYY')\"]].isin(['Totales']).any(axis=1) & df_sabana_saldo_campo_sh[[\"ATCnombreMESR\", \"Date(ATCFechaR, 'DD/MM/YYYY')\"]].notna().all(axis=1)]\n",
    "\n",
    "df_sabana_saldo_campo_pw['PLANTACION'] = 'Palmawasi'\n",
    "df_sabana_saldo_campo_sh['PLANTACION'] = 'Shanuzi'\n",
    "df_sabana_saldo_campo_pw_dias['PLANTACION'] = 'Palmawasi'\n",
    "df_sabana_saldo_campo_sh_dias['PLANTACION'] = 'Shanuzi'\n",
    "\n",
    "\n",
    "# Concatenar los DataFrames\n",
    "df_sabana_saldo_campo_full = pd.concat([df_sabana_saldo_campo_pw, df_sabana_saldo_campo_sh], ignore_index=True)\n",
    "df_sabana_saldo_campo_dias_full = pd.concat([df_sabana_saldo_campo_pw_dias, df_sabana_saldo_campo_sh_dias], ignore_index=True)\n",
    "\n",
    "df_sabana_saldo_campo_dias_full = df_sabana_saldo_campo_dias_full.rename(columns={'FECHA EVALUADA':'FECHA'})\n",
    "\n",
    "\n",
    "\n",
    "# Creando variable FECHA\n",
    "df_sabana_saldo_campo_full['FECHA'] = pd.to_datetime(df_sabana_saldo_campo_full[\"Date(ATCFechaR, 'DD/MM/YYYY')\"])\n",
    "\n",
    "print(df_sabana_saldo_campo_full.dtypes)\n",
    "\n",
    "df_sabana_saldo_campo_full.head(10)\n",
    "\n"
   ]
  },
  {
   "cell_type": "code",
   "execution_count": null,
   "metadata": {},
   "outputs": [],
   "source": [
    "df_sabana_saldo_campo_dias_full.head()"
   ]
  },
  {
   "cell_type": "code",
   "execution_count": null,
   "metadata": {},
   "outputs": [],
   "source": [
    "# df_sabana_saldo_campo_full[['FECHA','PLANTACION','SALDO','SALDO > 3']].head()\n",
    "df_sabana_saldo_campo_dias_full[['FECHA','PLANTACION','DIA 1','DIA 2','DIA 3','DIA 4','DIA 5','DIA 6','DIA 7']].head()"
   ]
  },
  {
   "cell_type": "code",
   "execution_count": null,
   "metadata": {},
   "outputs": [],
   "source": [
    "# Unir los DataFrames en base a 'FECHA' y 'PLANTACION'\n",
    "df_sabana_saldo_campo_full_vf = pd.merge(df_sabana_saldo_campo_full[['FECHA','PLANTACION','SALDO','SALDO > 3']],\n",
    "                                         df_sabana_saldo_campo_dias_full[['FECHA','PLANTACION','>3 DIAS','DIA 1','DIA 2','DIA 3','DIA 4','DIA 5','DIA 6','DIA 7']],\n",
    "                                         on=['FECHA', 'PLANTACION'], how='inner')\n",
    "df_sabana_saldo_campo_full_vf.head(10)"
   ]
  },
  {
   "cell_type": "code",
   "execution_count": null,
   "metadata": {},
   "outputs": [],
   "source": []
  },
  {
   "cell_type": "markdown",
   "metadata": {},
   "source": [
    "### Guardamos la data de saldos"
   ]
  },
  {
   "cell_type": "code",
   "execution_count": null,
   "metadata": {},
   "outputs": [],
   "source": [
    "# Guardamos la data en processed\n",
    "# -----\n",
    "# Especifica la ruta donde deseas guardar el CSV\n",
    "ruta_sabana_saldo_campo_full_vf =  '/PROYECTO_001_analitica_descriptiva_TEA/data/processed/df_sabana_saldo_campo_full_vf.csv'  # Cambia esta ruta a la que necesites\n",
    "# Guardar el DataFrame en formato CSV\n",
    "df_sabana_saldo_campo_full_vf.to_csv(ruta_path + ruta_sabana_saldo_campo_full_vf, index=False)\n",
    "print(f'Datos guardados en {ruta_path + ruta_sabana_saldo_campo_full_vf}')\n",
    "\n",
    "df_sabana_saldo_campo_full_vf.head(10)"
   ]
  },
  {
   "cell_type": "code",
   "execution_count": null,
   "metadata": {},
   "outputs": [],
   "source": []
  },
  {
   "cell_type": "code",
   "execution_count": null,
   "metadata": {},
   "outputs": [],
   "source": []
  },
  {
   "cell_type": "code",
   "execution_count": null,
   "metadata": {},
   "outputs": [],
   "source": [
    "# Filtramos la tendencia de interes\n",
    "# -------------\n",
    "\n",
    "# ---\n",
    "df_sabana_saldo_campo_full_tendencia = df_sabana_saldo_campo_full[df_sabana_saldo_campo_full['PLANTACION'] == 'Palmawasi']\n",
    "df_sabana_saldo_campo_full_tendencia = df_sabana_saldo_campo_full_tendencia.sort_values(by='FECHA')\n",
    "# ---\n",
    "\n",
    "plantacion_name = df_sabana_saldo_campo_full['PLANTACION'].unique()\n",
    "\n",
    "# Crear el gráfico de líneas para 'toneladas_dia'\n",
    "plt.figure(figsize=(15, 5))\n",
    "plt.plot(df_sabana_saldo_campo_full_tendencia['FECHA'], df_sabana_saldo_campo_full_tendencia['SALDO'], marker='o', markersize=2, linestyle='-', label='SALDO')\n",
    "plt.plot(df_sabana_saldo_campo_full_tendencia['FECHA'], df_sabana_saldo_campo_full_tendencia['SALDO > 3'], marker='o', markersize=2, linestyle='-', label='SALDO > 3')\n",
    "plt.title('RFF Procesado por Día a través del Tiempo - '+ plantacion_name[0])\n",
    "plt.xlabel('Fecha')\n",
    "plt.ylabel('RFF Procesado por Día')\n",
    "plt.grid(True)\n",
    "plt.legend()\n",
    "#plt.xticks(rotation=45)\n",
    "\n",
    "# Mostrar la gráfica\n",
    "print(df_sabana_saldo_campo_full_tendencia.head())\n",
    "plt.tight_layout()\n",
    "plt.show()"
   ]
  },
  {
   "cell_type": "code",
   "execution_count": null,
   "metadata": {},
   "outputs": [],
   "source": []
  },
  {
   "cell_type": "code",
   "execution_count": null,
   "metadata": {},
   "outputs": [],
   "source": []
  }
 ],
 "metadata": {
  "kernelspec": {
   "display_name": "Python 3",
   "language": "python",
   "name": "python3"
  },
  "language_info": {
   "codemirror_mode": {
    "name": "ipython",
    "version": 3
   },
   "file_extension": ".py",
   "mimetype": "text/x-python",
   "name": "python",
   "nbconvert_exporter": "python",
   "pygments_lexer": "ipython3",
   "version": "3.11.9"
  }
 },
 "nbformat": 4,
 "nbformat_minor": 2
}
