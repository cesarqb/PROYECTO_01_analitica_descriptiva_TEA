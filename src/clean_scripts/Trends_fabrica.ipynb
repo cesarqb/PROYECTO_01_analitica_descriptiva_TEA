{
 "cells": [
  {
   "cell_type": "code",
   "execution_count": null,
   "metadata": {},
   "outputs": [],
   "source": [
    "#from google.colab import files\n",
    "import pandas as pd\n",
    "import numpy as np\n",
    "import calendar\n",
    "# import warnings\n",
    "\n",
    "import matplotlib.pyplot as plt"
   ]
  },
  {
   "cell_type": "markdown",
   "metadata": {},
   "source": [
    "## RFF Procesado"
   ]
  },
  {
   "cell_type": "code",
   "execution_count": null,
   "metadata": {},
   "outputs": [],
   "source": [
    "# Cargamos el archivo Excel - RFF Procesado\n",
    "# --------------\n",
    "\n",
    "ruta_path = 'C:/cesar_quezada/ProyectosIA/Proyectos_PALMAS'               # -> Casa\n",
    "# ruta_path = 'C:/Users/usuario/Documents/DOCUMENTOS_CONSULTOR_5_BI'      # -> Trabajo\n",
    "\n",
    "path_sabana_fabrica_nh = '/PROYECTO_001_analitica_descriptiva_TEA/data/external/bbdd_fabrica/53f6869d-fabrica-tea-nh.xlsx'\n",
    "path_sabana_fabrica_pw = '/PROYECTO_001_analitica_descriptiva_TEA/data/external/bbdd_fabrica/53f6869d-fabrica-tea-pw.xlsx'\n",
    "path_sabana_fabrica_sh = '/PROYECTO_001_analitica_descriptiva_TEA/data/external/bbdd_fabrica/53f6869d-fabrica-tea-sh.xlsx'\n",
    "path_sabana_fabrica_tl = '/PROYECTO_001_analitica_descriptiva_TEA/data/external/bbdd_fabrica/53f6869d-fabrica-tea-tl.xlsx'\n",
    "\n",
    "\n",
    "# Cargar la hoja 2 (indexada desde 0, por lo tanto la hoja 2 es 'sheet_name=1')\n",
    "df_sabana_fabrica_nh = pd.read_excel(ruta_path + path_sabana_fabrica_nh,sheet_name='Sheet1')\n",
    "df_sabana_fabrica_pw = pd.read_excel(ruta_path + path_sabana_fabrica_pw,sheet_name='Sheet1')\n",
    "df_sabana_fabrica_sh = pd.read_excel(ruta_path + path_sabana_fabrica_sh,sheet_name='Sheet1')\n",
    "df_sabana_fabrica_tl = pd.read_excel(ruta_path + path_sabana_fabrica_tl,sheet_name='Sheet1')\n",
    "\n",
    "# Eliminar las filas donde cualquiera de las columnas tenga el valor 'Totales' o NaN\n",
    "df_sabana_fabrica_nh = df_sabana_fabrica_nh[~df_sabana_fabrica_nh[['AÑO', 'MES', 'DIA']].isin(['Totales']).any(axis=1) & df_sabana_fabrica_nh[['AÑO', 'MES', 'DIA']].notna().all(axis=1)]\n",
    "df_sabana_fabrica_pw = df_sabana_fabrica_pw[~df_sabana_fabrica_pw[['AÑO', 'MES', 'DIA']].isin(['Totales']).any(axis=1) & df_sabana_fabrica_pw[['AÑO', 'MES', 'DIA']].notna().all(axis=1)]\n",
    "df_sabana_fabrica_sh = df_sabana_fabrica_sh[~df_sabana_fabrica_sh[['AÑO', 'MES', 'DIA']].isin(['Totales']).any(axis=1) & df_sabana_fabrica_sh[['AÑO', 'MES', 'DIA']].notna().all(axis=1)]\n",
    "df_sabana_fabrica_tl = df_sabana_fabrica_tl[~df_sabana_fabrica_tl[['AÑO', 'MES', 'DIA']].isin(['Totales']).any(axis=1) & df_sabana_fabrica_tl[['AÑO', 'MES', 'DIA']].notna().all(axis=1)]\n",
    "\n",
    "df_sabana_fabrica_nh['PLANTACION'] = 'Nuevo Horizonte'\n",
    "df_sabana_fabrica_pw['PLANTACION'] = 'Palmawasi'\n",
    "df_sabana_fabrica_sh['PLANTACION'] = 'Shanuzi'\n",
    "df_sabana_fabrica_tl['PLANTACION'] = 'Tulumayo'\n",
    "\n",
    "# Concatenar los DataFrames\n",
    "df_sabana_fabrica_full = pd.concat([df_sabana_fabrica_nh, df_sabana_fabrica_pw, df_sabana_fabrica_sh, df_sabana_fabrica_tl], ignore_index=True)\n",
    "\n",
    "print(df_sabana_fabrica_full.dtypes)\n",
    "df_sabana_fabrica_full.head(10)\n"
   ]
  },
  {
   "cell_type": "code",
   "execution_count": null,
   "metadata": {},
   "outputs": [],
   "source": [
    "# CREANDO VARIABLES IMPORTANTES\n",
    "# --------------\n",
    "# -----------\n",
    "\n",
    "df_sabana_fabrica_full['DIA'] = df_sabana_fabrica_full['DIA'].astype('int64')\n",
    "\n",
    "meses_a_numeros = {\n",
    "    'Enero': 1,\n",
    "    'Febrero': 2,\n",
    "    'Marzo': 3,\n",
    "    'Abril': 4,\n",
    "    'Mayo': 5,\n",
    "    'Junio': 6,\n",
    "    'Julio': 7,\n",
    "    'Agosto': 8,\n",
    "    'Setiembre': 9,\n",
    "    'Octubre': 10,\n",
    "    'Noviembre': 11,\n",
    "    'Diciembre': 12\n",
    "}\n",
    "\n",
    "# Aplicar la conversión al DataFrame\n",
    "df_sabana_fabrica_full['MES_NRO'] = df_sabana_fabrica_full['MES'].map(meses_a_numeros)\n",
    "# Creamos variable fecha\n",
    "df_sabana_fabrica_full['FECHA'] = pd.to_datetime(df_sabana_fabrica_full['AÑO'].astype(str) + '-' + df_sabana_fabrica_full['MES_NRO'].astype(str) + '-' + df_sabana_fabrica_full['DIA'].astype(str), \n",
    "                                                 format='%Y-%m-%d', errors='coerce')\n",
    "\n",
    "df_sabana_fabrica_full['AÑO_MES'] = df_sabana_fabrica_full['AÑO'].astype(str) + '-' + df_sabana_fabrica_full['MES_NRO'].astype(str)\n",
    "\n",
    "print(f\"{df_sabana_fabrica_full['AÑO'].isna().sum()} valores perdidos para variable año\")\n",
    "print(f\"{df_sabana_fabrica_full['MES_NRO'].isna().sum()} valores perdidos para variable mes_nro\")\n",
    "print(f\"{df_sabana_fabrica_full['DIA'].isna().sum()} valores perdidos para variable día\")\n",
    "print(df_sabana_fabrica_full.PLANTACION.unique())\n",
    "\n",
    "# Guardamos la data en processed\n",
    "# -----\n",
    "# Especifica la ruta donde deseas guardar el CSV\n",
    "ruta_sabana_fabrica_full =  '/PROYECTO_001_analitica_descriptiva_TEA/data/processed/df_sabana_fabrica_full.csv'  # Cambia esta ruta a la que necesites\n",
    "# Guardar el DataFrame en formato CSV\n",
    "df_sabana_fabrica_full.to_csv(ruta_path + ruta_sabana_fabrica_full, index=False)\n",
    "print(f'Datos guardados en {ruta_path + ruta_sabana_fabrica_full}')\n",
    "\n",
    "\n",
    "df_sabana_fabrica_full.tail(10)"
   ]
  },
  {
   "cell_type": "code",
   "execution_count": null,
   "metadata": {},
   "outputs": [],
   "source": [
    "df_sabana_fabrica_full[df_sabana_fabrica_full['AÑO'] == 2023].head(10)"
   ]
  },
  {
   "cell_type": "code",
   "execution_count": null,
   "metadata": {},
   "outputs": [],
   "source": []
  },
  {
   "cell_type": "code",
   "execution_count": null,
   "metadata": {},
   "outputs": [],
   "source": []
  },
  {
   "cell_type": "code",
   "execution_count": null,
   "metadata": {},
   "outputs": [],
   "source": []
  },
  {
   "cell_type": "markdown",
   "metadata": {},
   "source": [
    "Estadísticas importantes"
   ]
  },
  {
   "cell_type": "code",
   "execution_count": null,
   "metadata": {},
   "outputs": [],
   "source": [
    "# Mostramos estadísticas importantes\n",
    "# -------------\n",
    "# -----------\n",
    "# ---------\n",
    "\n",
    "# --- Seleccionamos PLANTACION\n",
    "# ---\n",
    "df_sabana_fabrica_full_tendencia = df_sabana_fabrica_full[df_sabana_fabrica_full['PLANTACION'] == 'Palmawasi']\n",
    "# ---\n",
    "\n",
    "# Función personalizada para obtener el mínimo sin considerar ceros\n",
    "def min_sin_ceros(x):\n",
    "    x_no_cero = x[x != 0]\n",
    "    if len(x_no_cero) == 0:\n",
    "        return 0  # O algún valor representativo si todos son ceros\n",
    "    return x_no_cero.min()\n",
    "\n",
    "# Agrupar por la nueva columna 'AÑO_MES'\n",
    "grouped_sabana_fabrica_full = df_sabana_fabrica_full_tendencia.groupby('AÑO_MES')\n",
    "\n",
    "# Crear el DataFrame resumen\n",
    "resumen_sabana_fabrica_full = grouped_sabana_fabrica_full.agg(\n",
    "    nro_dias_con_rff_procesado=('RFF PROCESADO', lambda x: (x != 0).sum()),\n",
    "    nro_dias_sin_rff_procesado=('RFF PROCESADO', lambda x: (x == 0).sum()),\n",
    "    rff_procesado_suma=('RFF PROCESADO', 'sum'),\n",
    "    rff_procesado_promedio=('RFF PROCESADO', 'mean'),\n",
    "    mediana_rff_procesado=('RFF PROCESADO', 'median'),\n",
    "    minimo_rff_procesado=('RFF PROCESADO', 'min'),\n",
    "    minimo_rff_procesado_sin_ceros=('RFF PROCESADO', min_sin_ceros),\n",
    "    maximo_rff_procesado=('RFF PROCESADO', 'max'),\n",
    "    varianza_rff_procesado=('RFF PROCESADO', 'var'),\n",
    "    desviacion_estandar_rff_procesado=('RFF PROCESADO', 'std')\n",
    ").reset_index()\n",
    "\n",
    "# Convertir 'AÑO_MES' al formato datetime\n",
    "resumen_sabana_fabrica_full['AÑO_MES'] = pd.to_datetime(resumen_sabana_fabrica_full['AÑO_MES'], format='%Y-%m')\n",
    "# Mostrar el DataFrame resumen\n",
    "resumen_sabana_fabrica_full = resumen_sabana_fabrica_full.sort_values(by='AÑO_MES')\n",
    "resumen_sabana_fabrica_full"
   ]
  },
  {
   "cell_type": "code",
   "execution_count": null,
   "metadata": {},
   "outputs": [],
   "source": [
    "resumen_sabana_fabrica_full.dtypes"
   ]
  },
  {
   "cell_type": "code",
   "execution_count": null,
   "metadata": {},
   "outputs": [],
   "source": []
  },
  {
   "cell_type": "code",
   "execution_count": null,
   "metadata": {},
   "outputs": [],
   "source": []
  },
  {
   "cell_type": "code",
   "execution_count": null,
   "metadata": {},
   "outputs": [],
   "source": [
    "# Crear el gráfico de líneas para 'toneladas_dia'\n",
    "plt.figure(figsize=(15, 5))\n",
    "plt.plot(resumen_sabana_fabrica_full['AÑO_MES'], resumen_sabana_fabrica_full['nro_dias_sin_rff_procesado'], marker='o', linestyle='-', color='green', label='RFF Procesado')\n",
    "plt.title('RFF Procesado por Día a través del Tiempo')\n",
    "plt.xlabel('Fecha')\n",
    "plt.ylabel('RFF Procesado por Día')\n",
    "plt.grid(True)\n",
    "plt.legend()\n",
    "plt.xticks(rotation=45)\n",
    "\n"
   ]
  },
  {
   "cell_type": "code",
   "execution_count": null,
   "metadata": {},
   "outputs": [],
   "source": []
  },
  {
   "cell_type": "markdown",
   "metadata": {},
   "source": [
    "Analizando tendencias"
   ]
  },
  {
   "cell_type": "code",
   "execution_count": null,
   "metadata": {},
   "outputs": [],
   "source": [
    "# Filtramos la tendencia de interes\n",
    "# -------------\n",
    "\n",
    "# ---\n",
    "df_sabana_fabrica_full_tendencia = df_sabana_fabrica_full[df_sabana_fabrica_full['PLANTACION'] == 'Palmawasi']\n",
    "# ---\n",
    "\n",
    "plantacion_name = df_sabana_fabrica_full_tendencia['PLANTACION'].unique()\n",
    "\n",
    "# Crear el gráfico de líneas para 'toneladas_dia'\n",
    "plt.figure(figsize=(15, 5))\n",
    "plt.plot(df_sabana_fabrica_full_tendencia['FECHA'], df_sabana_fabrica_full_tendencia['RFF PROCESADO'], marker='o', linestyle='-', color='green', label='RFF Procesado')\n",
    "plt.title('RFF Procesado por Día a través del Tiempo - '+ plantacion_name[0])\n",
    "plt.xlabel('Fecha')\n",
    "plt.ylabel('RFF Procesado por Día')\n",
    "plt.grid(True)\n",
    "plt.legend()\n",
    "plt.xticks(rotation=45)\n",
    "\n",
    "# Mostrar la gráfica\n",
    "print(df_sabana_fabrica_full[df_sabana_fabrica_full['RFF PROCESADO'] == 0].head())\n",
    "plt.tight_layout()\n",
    "plt.show()"
   ]
  },
  {
   "cell_type": "code",
   "execution_count": null,
   "metadata": {},
   "outputs": [],
   "source": []
  },
  {
   "cell_type": "code",
   "execution_count": null,
   "metadata": {},
   "outputs": [],
   "source": []
  }
 ],
 "metadata": {
  "kernelspec": {
   "display_name": "Python 3",
   "language": "python",
   "name": "python3"
  },
  "language_info": {
   "codemirror_mode": {
    "name": "ipython",
    "version": 3
   },
   "file_extension": ".py",
   "mimetype": "text/x-python",
   "name": "python",
   "nbconvert_exporter": "python",
   "pygments_lexer": "ipython3",
   "version": "3.11.9"
  }
 },
 "nbformat": 4,
 "nbformat_minor": 2
}
