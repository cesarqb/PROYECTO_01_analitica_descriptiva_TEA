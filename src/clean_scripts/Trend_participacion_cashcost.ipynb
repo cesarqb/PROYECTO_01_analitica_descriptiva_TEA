{
 "cells": [
  {
   "cell_type": "code",
   "execution_count": 1,
   "metadata": {},
   "outputs": [],
   "source": [
    "#from google.colab import files\n",
    "import pandas as pd\n",
    "import numpy as np\n",
    "import calendar\n",
    "# import warnings\n",
    "\n",
    "import matplotlib.pyplot as plt"
   ]
  },
  {
   "cell_type": "markdown",
   "metadata": {},
   "source": [
    "### Cargando datos de participacion cashcost"
   ]
  },
  {
   "cell_type": "code",
   "execution_count": 2,
   "metadata": {},
   "outputs": [],
   "source": [
    "# Cargamos el archivo Excel - RFF Procesado\n",
    "# --------------\n",
    "\n",
    "ruta_path = 'C:/cesar_quezada/ProyectosIA/Proyectos_PALMAS'               # -> Casa\n",
    "# ruta_path = 'C:/Users/usuario/Documents/DOCUMENTOS_CONSULTOR_5_BI'      # -> Trabajo\n",
    "\n",
    "path_participacion_cashcost = '/PROYECTO_001_analitica_descriptiva_TEA/data/external/bbdd_participacion_cashcost/RFF PROCESADO Y CPO OBTENIDO PROPIOS Y TERCEROS.xlsx'\n",
    "\n",
    "# Cargar la hoja 2 (indexada desde 0, por lo tanto la hoja 2 es 'sheet_name=1')\n",
    "df_participacion_cashcost = pd.read_excel(ruta_path + path_participacion_cashcost)\n"
   ]
  },
  {
   "cell_type": "code",
   "execution_count": 11,
   "metadata": {},
   "outputs": [],
   "source": [
    "# Limpiando datos\n",
    "# ----\n",
    "df_participacion_cashcost['pk_tiempo'] = df_participacion_cashcost['pk_tiempo'].astype(str)\n",
    "df_participacion_cashcost['FECHA'] = pd.to_datetime(df_participacion_cashcost['pk_tiempo'], format='%Y%m%d') # Parseando Fecha\n",
    "df_participacion_cashcost['FECHA'] = df_participacion_cashcost['FECHA'].dt.strftime('%Y-%m-%d') # Formateando Fecha\n",
    "\n",
    "\n",
    "# Crear un diccionario de mapeo\n",
    "mapping = {\n",
    "    'PW': 'Palmawasi',\n",
    "    'NH': 'Nuevo Horizonte',\n",
    "    'SH': 'Shanuzi',\n",
    "    'TY': 'Tulumayo'\n",
    "}\n",
    "# Usar map y fillna\n",
    "df_participacion_cashcost['PLANTACION'] = df_participacion_cashcost['SEDE'].map(mapping).fillna('Desconocido')"
   ]
  },
  {
   "cell_type": "code",
   "execution_count": null,
   "metadata": {},
   "outputs": [],
   "source": []
  },
  {
   "cell_type": "markdown",
   "metadata": {},
   "source": [
    "#### Generando base total - Participacion Cashcost"
   ]
  },
  {
   "cell_type": "code",
   "execution_count": 13,
   "metadata": {},
   "outputs": [
    {
     "name": "stdout",
     "output_type": "stream",
     "text": [
      "Datos guardados en C:/cesar_quezada/ProyectosIA/Proyectos_PALMAS/PROYECTO_001_analitica_descriptiva_TEA/data/processed/df_participacion_cashcost_full.csv\n"
     ]
    },
    {
     "data": {
      "text/html": [
       "<div>\n",
       "<style scoped>\n",
       "    .dataframe tbody tr th:only-of-type {\n",
       "        vertical-align: middle;\n",
       "    }\n",
       "\n",
       "    .dataframe tbody tr th {\n",
       "        vertical-align: top;\n",
       "    }\n",
       "\n",
       "    .dataframe thead th {\n",
       "        text-align: right;\n",
       "    }\n",
       "</style>\n",
       "<table border=\"1\" class=\"dataframe\">\n",
       "  <thead>\n",
       "    <tr style=\"text-align: right;\">\n",
       "      <th></th>\n",
       "      <th>pk_tiempo</th>\n",
       "      <th>vch_centro</th>\n",
       "      <th>SEDE</th>\n",
       "      <th>RFFProcesado</th>\n",
       "      <th>RFFProcesadoPropios</th>\n",
       "      <th>RFFProcesadoTerceros</th>\n",
       "      <th>CPOObtenido</th>\n",
       "      <th>CPOObtenidoPropios</th>\n",
       "      <th>CPOObtenidoTerceros</th>\n",
       "      <th>FECHA</th>\n",
       "      <th>PLANTACION</th>\n",
       "    </tr>\n",
       "  </thead>\n",
       "  <tbody>\n",
       "    <tr>\n",
       "      <th>0</th>\n",
       "      <td>20190101</td>\n",
       "      <td>3002</td>\n",
       "      <td>PW</td>\n",
       "      <td>0.00</td>\n",
       "      <td>0.00</td>\n",
       "      <td>0.00</td>\n",
       "      <td>0.00</td>\n",
       "      <td>0.00000</td>\n",
       "      <td>0.00000</td>\n",
       "      <td>2019-01-01</td>\n",
       "      <td>Palmawasi</td>\n",
       "    </tr>\n",
       "    <tr>\n",
       "      <th>1</th>\n",
       "      <td>20190102</td>\n",
       "      <td>3002</td>\n",
       "      <td>PW</td>\n",
       "      <td>496.30</td>\n",
       "      <td>406.32</td>\n",
       "      <td>89.98</td>\n",
       "      <td>122.00</td>\n",
       "      <td>109.11564</td>\n",
       "      <td>12.88436</td>\n",
       "      <td>2019-01-02</td>\n",
       "      <td>Palmawasi</td>\n",
       "    </tr>\n",
       "    <tr>\n",
       "      <th>2</th>\n",
       "      <td>20190102</td>\n",
       "      <td>3006</td>\n",
       "      <td>NH</td>\n",
       "      <td>121.80</td>\n",
       "      <td>0.00</td>\n",
       "      <td>121.80</td>\n",
       "      <td>31.09</td>\n",
       "      <td>4.53060</td>\n",
       "      <td>26.55940</td>\n",
       "      <td>2019-01-02</td>\n",
       "      <td>Nuevo Horizonte</td>\n",
       "    </tr>\n",
       "    <tr>\n",
       "      <th>3</th>\n",
       "      <td>20190102</td>\n",
       "      <td>3702</td>\n",
       "      <td>SH</td>\n",
       "      <td>109.94</td>\n",
       "      <td>102.72</td>\n",
       "      <td>7.22</td>\n",
       "      <td>24.56</td>\n",
       "      <td>24.06793</td>\n",
       "      <td>0.49207</td>\n",
       "      <td>2019-01-02</td>\n",
       "      <td>Shanuzi</td>\n",
       "    </tr>\n",
       "    <tr>\n",
       "      <th>4</th>\n",
       "      <td>20190103</td>\n",
       "      <td>3002</td>\n",
       "      <td>PW</td>\n",
       "      <td>975.59</td>\n",
       "      <td>893.82</td>\n",
       "      <td>81.77</td>\n",
       "      <td>238.00</td>\n",
       "      <td>212.86494</td>\n",
       "      <td>25.13506</td>\n",
       "      <td>2019-01-03</td>\n",
       "      <td>Palmawasi</td>\n",
       "    </tr>\n",
       "  </tbody>\n",
       "</table>\n",
       "</div>"
      ],
      "text/plain": [
       "  pk_tiempo vch_centro SEDE  RFFProcesado  RFFProcesadoPropios  \\\n",
       "0  20190101       3002   PW          0.00                 0.00   \n",
       "1  20190102       3002   PW        496.30               406.32   \n",
       "2  20190102       3006   NH        121.80                 0.00   \n",
       "3  20190102       3702   SH        109.94               102.72   \n",
       "4  20190103       3002   PW        975.59               893.82   \n",
       "\n",
       "   RFFProcesadoTerceros  CPOObtenido  CPOObtenidoPropios  CPOObtenidoTerceros  \\\n",
       "0                  0.00         0.00             0.00000              0.00000   \n",
       "1                 89.98       122.00           109.11564             12.88436   \n",
       "2                121.80        31.09             4.53060             26.55940   \n",
       "3                  7.22        24.56            24.06793              0.49207   \n",
       "4                 81.77       238.00           212.86494             25.13506   \n",
       "\n",
       "        FECHA       PLANTACION  \n",
       "0  2019-01-01        Palmawasi  \n",
       "1  2019-01-02        Palmawasi  \n",
       "2  2019-01-02  Nuevo Horizonte  \n",
       "3  2019-01-02          Shanuzi  \n",
       "4  2019-01-03        Palmawasi  "
      ]
     },
     "execution_count": 13,
     "metadata": {},
     "output_type": "execute_result"
    }
   ],
   "source": [
    "# Especifica la ruta donde deseas guardar el CSV\n",
    "ruta_participacion_cashcost =  '/PROYECTO_001_analitica_descriptiva_TEA/data/processed/df_participacion_cashcost_full.csv'  # Cambia esta ruta a la que necesites\n",
    "# Guardar el DataFrame en formato CSV\n",
    "df_participacion_cashcost.to_csv(ruta_path + ruta_participacion_cashcost, index=False)\n",
    "print(f'Datos guardados en {ruta_path + ruta_participacion_cashcost}')\n",
    "\n",
    "df_participacion_cashcost.head()"
   ]
  },
  {
   "cell_type": "code",
   "execution_count": null,
   "metadata": {},
   "outputs": [],
   "source": []
  }
 ],
 "metadata": {
  "kernelspec": {
   "display_name": "Python 3",
   "language": "python",
   "name": "python3"
  },
  "language_info": {
   "codemirror_mode": {
    "name": "ipython",
    "version": 3
   },
   "file_extension": ".py",
   "mimetype": "text/x-python",
   "name": "python",
   "nbconvert_exporter": "python",
   "pygments_lexer": "ipython3",
   "version": "3.11.9"
  }
 },
 "nbformat": 4,
 "nbformat_minor": 2
}
