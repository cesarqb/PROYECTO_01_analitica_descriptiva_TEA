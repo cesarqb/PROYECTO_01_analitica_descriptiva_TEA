{
 "cells": [
  {
   "cell_type": "code",
   "execution_count": 1,
   "metadata": {},
   "outputs": [],
   "source": [
    "#from google.colab import files\n",
    "import pandas as pd\n",
    "import numpy as np\n",
    "import calendar\n",
    "# import warnings\n",
    "\n",
    "import matplotlib.pyplot as plt"
   ]
  },
  {
   "cell_type": "code",
   "execution_count": null,
   "metadata": {},
   "outputs": [],
   "source": [
    "# warnings.filterwarnings(\"ignore\")\n",
    "pd.set_option('display.max_columns', None)\n",
    "pd.set_option('display.max_rows', None)\n",
    "\n",
    "path_cadenas = 'C:/Users/usuario\\Documents\\DOCUMENTOS_CONSULTOR_5_BI\\PROYECTO_004_Analisis_TEA_new'\n",
    "\n",
    "\n",
    "# uploaded = files.upload()\n",
    "DF_CALIDAD_RFF_PROVEEDORES_2024       = pd.read_excel('C:/Users/usuario/Documents/DOCUMENTOS_CONSULTOR_5_BI/PROYECTO_004_Analisis_TEA_new/DATA_TULUMAYO_PROVEEDORES_ENE24_ABR24.xlsx',\n",
    "                                                       index_col='FECHA', parse_dates=['FECHA'], sheet_name='Hoja1')\n",
    "\n",
    "\n",
    "DF_PERDIDAS_2024                      = pd.read_excel('C:/Users/usuario/Documents/DOCUMENTOS_CONSULTOR_5_BI/PROYECTO_004_Analisis_TEA_new/DATA_TULUMAYO_PROVEEDORES_ENE24_ABR24.xlsx',\n",
    "                                                       index_col='FECHA', parse_dates=['FECHA'], sheet_name='Hoja2')\n",
    "\n",
    "\n",
    "\n",
    "\n",
    "# Mostramos el dataframe\n",
    "# -----\n",
    "print(DF_CALIDAD_RFF_PROVEEDORES_2024.shape)\n",
    "DF_CALIDAD_RFF_PROVEEDORES_2024.head()\n"
   ]
  },
  {
   "cell_type": "code",
   "execution_count": null,
   "metadata": {},
   "outputs": [],
   "source": []
  },
  {
   "cell_type": "code",
   "execution_count": null,
   "metadata": {},
   "outputs": [],
   "source": []
  },
  {
   "cell_type": "code",
   "execution_count": null,
   "metadata": {},
   "outputs": [],
   "source": []
  }
 ],
 "metadata": {
  "kernelspec": {
   "display_name": "Python 3",
   "language": "python",
   "name": "python3"
  },
  "language_info": {
   "codemirror_mode": {
    "name": "ipython",
    "version": 3
   },
   "file_extension": ".py",
   "mimetype": "text/x-python",
   "name": "python",
   "nbconvert_exporter": "python",
   "pygments_lexer": "ipython3",
   "version": "3.8.7"
  }
 },
 "nbformat": 4,
 "nbformat_minor": 2
}
