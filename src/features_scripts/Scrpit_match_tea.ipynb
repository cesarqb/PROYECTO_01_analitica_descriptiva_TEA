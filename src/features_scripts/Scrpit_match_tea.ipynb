{
 "cells": [
  {
   "cell_type": "code",
   "execution_count": null,
   "metadata": {},
   "outputs": [],
   "source": [
    "# !pip install scipy\n",
    "# !pip install statsmodels"
   ]
  },
  {
   "cell_type": "code",
   "execution_count": 3,
   "metadata": {},
   "outputs": [],
   "source": [
    "#from google.colab import files\n",
    "import pandas as pd\n",
    "import numpy as np\n",
    "import calendar\n",
    "# import warnings\n",
    "from scipy.stats import spearmanr, kendalltau\n",
    "from scipy.stats import entropy\n",
    "import seaborn as sns\n",
    "\n",
    "import matplotlib.pyplot as plt\n",
    "from scipy.stats import pearsonr"
   ]
  },
  {
   "cell_type": "code",
   "execution_count": null,
   "metadata": {},
   "outputs": [],
   "source": []
  },
  {
   "cell_type": "markdown",
   "metadata": {},
   "source": [
    "### Cargando rutas de archivos y funciones"
   ]
  },
  {
   "cell_type": "code",
   "execution_count": 4,
   "metadata": {},
   "outputs": [],
   "source": [
    "# Cargamos el archivo Excel - RFF Procesado\n",
    "# --------------\n",
    "\n",
    "ruta_path = 'C:/cesar_quezada/ProyectosIA/Proyectos_PALMAS'               # -> Casa\n",
    "# ruta_path = 'C:/Users/usuario/Documents/DOCUMENTOS_CONSULTOR_5_BI'      # -> Trabajo\n",
    "\n",
    "\n",
    "ruta_path_fabrica = '/PROYECTO_01_analitica_descriptiva_TEA/data/processed/df_sabana_fabrica_full.csv'\n",
    "ruta_path_balanza = '/PROYECTO_01_analitica_descriptiva_TEA/data/processed/df_sabana_participacion_full.csv'\n",
    "ruta_path_saldo_campo = '/PROYECTO_01_analitica_descriptiva_TEA/data/processed/df_sabana_saldo_campo_full_vf.csv'\n",
    "ruta_calidad_precipitacion = '/PROYECTO_01_analitica_descriptiva_TEA/data/processed/df_calidad_precipitacion_full.csv'\n",
    "# --\n",
    "ruta_calidad_racimos_propios = '/PROYECTO_01_analitica_descriptiva_TEA/data/processed/df_calidad_racimos_propios_total_full.csv'\n",
    "ruta_antiguedad_frutos = '/PROYECTO_01_analitica_descriptiva_TEA/data/processed/df_antiguedad_fruta_full.csv'\n",
    "# --\n",
    "ruta_calidad_racimos_terceros = '/PROYECTO_01_analitica_descriptiva_TEA/data/processed/df_sabana_calidad_terceros_full.csv'\n",
    "# --\n",
    "ruta_acidez = '/PROYECTO_01_analitica_descriptiva_TEA/data/processed/df_acidez_full.csv'\n",
    "# --\n",
    "ruta_clima = '/PROYECTO_01_analitica_descriptiva_TEA/data/processed/df_clima_full_vf.csv'\n",
    "# --\n",
    "ruta__freq_cosecha = '/PROYECTO_01_analitica_descriptiva_TEA/data/processed/df_freq_cosecha_full.csv'\n",
    "# --\n",
    "ruta_participacion_cashcost_full = '/PROYECTO_01_analitica_descriptiva_TEA/data/processed/df_participacion_cashcost_full.csv'\n",
    "# --\n",
    "ruta_perdida_aceite_full = '/PROYECTO_01_analitica_descriptiva_TEA/data/processed/df_perdida_aceite_full.csv'\n",
    "# --\n",
    "ruta_perdida_cosecha = '/PROYECTO_01_analitica_descriptiva_TEA/data/processed/df_perdida_otros_full_group.csv'\n",
    "\n",
    "\n"
   ]
  },
  {
   "cell_type": "code",
   "execution_count": 5,
   "metadata": {},
   "outputs": [],
   "source": [
    "## FUNCION COMPLETITUD\n",
    "## #######################\n",
    "## #######################\n",
    "## #######################\n",
    "\n",
    "def function_completitud(df_x, variable, valor = 2, anio_filtro = '1901-01-01'):\n",
    "    # Mostrando estadísticas importantes\n",
    "\n",
    "    # --- Seleccionamos PLANTACION\n",
    "    # ---\n",
    "    df_bbdd_imputar = df_x\n",
    "    plantacion_name = df_bbdd_imputar['PLANTACION'].unique()\n",
    "\n",
    "    # Crear una nueva columna con el año y mes en el formato deseado\n",
    "    df_bbdd_imputar['FECHA'] = pd.to_datetime(df_bbdd_imputar['FECHA'])\n",
    "\n",
    "    # Crear un rango de fechas que cubra el período completo del DataFrame original\n",
    "    start_date = df_bbdd_imputar['FECHA'].min().replace(day=1)\n",
    "    end_date = (df_bbdd_imputar['FECHA'].max() + pd.offsets.MonthEnd(1)).replace(day=1) - pd.Timedelta(days=1)\n",
    "    all_dates = pd.date_range(start=start_date, end=end_date, freq='D')\n",
    "\n",
    "    # Crear un DataFrame con todas las fechas\n",
    "    df_all_dates = pd.DataFrame(all_dates, columns=['FECHA'])\n",
    "    # Hacer un merge con el DataFrame original\n",
    "    df_merged = pd.merge(df_all_dates, df_bbdd_imputar, on='FECHA', how='left')\n",
    "\n",
    "    # Filtramos el año si es que fuera necesario\n",
    "    # ---\n",
    "    # Filtrar el DataFrame para considerar solo las fechas mayores a 2023-03-16\n",
    "    fecha_limite = pd.Timestamp(anio_filtro)\n",
    "    df_merged = df_merged[df_merged['FECHA'] > fecha_limite]\n",
    "\n",
    "    # Crear las columnas variable_con_datos y variable_sin_datos\n",
    "    df_merged['variable_con_datos'] = np.where(df_merged[variable].notnull() & (df_merged[variable] != 0), 1, 0)\n",
    "    df_merged['variable_sin_datos'] = np.where(df_merged[variable].isnull() | (df_merged[variable] == 0), 1, 0)\n",
    "\n",
    "    # Agrupar por mes y sumar las columnas\n",
    "    df_merged['AÑO_MES'] = df_merged['FECHA'].dt.strftime('%Y-%m')\n",
    "    df_monthly = df_merged.groupby('AÑO_MES').agg({'variable_con_datos': 'sum', 'variable_sin_datos': 'sum'}).reset_index()\n",
    "    df_monthly['PLANTACION'] = plantacion_name[0]\n",
    "    df_monthly['Total_dias'] = df_monthly['variable_con_datos'] + df_monthly['variable_sin_datos']\n",
    "    df_monthly['% Completitud'] = df_monthly['variable_con_datos']/(df_monthly['variable_con_datos'] + df_monthly['variable_sin_datos'])\n",
    "\n",
    "    # Agrupar por año\n",
    "    df_merged['AÑO'] = df_merged['FECHA'].dt.strftime('%Y')\n",
    "    df_year = df_merged.groupby('AÑO').agg({'variable_con_datos': 'sum', 'variable_sin_datos': 'sum'}).reset_index()\n",
    "    df_year['PLANTACION'] = plantacion_name[0]\n",
    "    df_year['Total_dias'] = df_year['variable_con_datos'] + df_year['variable_sin_datos']\n",
    "    df_year['% Completitud'] = df_year['variable_con_datos']/(df_year['variable_con_datos'] + df_year['variable_sin_datos'])\n",
    "\n",
    "    # Creando el indicador divergencia KL (Kullback-Leibler)\n",
    "    # ------\n",
    "    df_merged['incompleto'] = df_merged[variable]\n",
    "    df_merged['completo'] = df_merged[variable]\n",
    "\n",
    "    # Reemplazamos los ceros por NaN\n",
    "\n",
    "    df_merged['completo'].replace(0, np.nan, inplace=True)\n",
    "    df_merged['completo'].fillna(method='ffill', inplace=True) # Reemplazamos los valores NaN por el valor anterior (forward fill)\n",
    "\n",
    "    # Calcular la moda de cada columna\n",
    "    # moda_variable = df_merged['completo'].mode().iloc[0]\n",
    "\n",
    "    # Verificar si la moda no está vacía antes de acceder al primer elemento\n",
    "    if not df_merged['completo'].mode().empty:\n",
    "        moda_variable = df_merged['completo'].mode().iloc[0]\n",
    "        df_merged['completo'] = df_merged['completo'].fillna(moda_variable) # Reemplazamos los valores NaN por la moda\n",
    "    else:\n",
    "        # Si no hay moda, calcular el promedio\n",
    "        moda_variable = df_merged['completo'].mean()\n",
    "        df_merged['completo'] = df_merged['completo'].fillna(moda_variable) # Reemplazamos los valores NaN por el promedio\n",
    "\n",
    "\n",
    "    df_merged['completo'] = df_merged['completo'].fillna(moda_variable) # Reemplazamos los valores NaN por el valor anterior (forward fill)\n",
    "\n",
    "    # Calcular las distribuciones de la variable original y la imputada\n",
    "    hist_original, bin_edges = np.histogram(df_merged['incompleto'].dropna(), bins=30, density=True)\n",
    "    hist_imputado, _ = np.histogram(df_merged['completo'], bins=bin_edges, density=True)\n",
    "\n",
    "    # Calcular la divergencia KL entre las dos distribuciones\n",
    "    kl_divergence = entropy(hist_original, hist_imputado)\n",
    "\n",
    "\n",
    "    # Guardamos el datframe - df_monthly\n",
    "    # -----\n",
    "    print( \"## ################# ##\")\n",
    "    print(f'Divergencia KL: {kl_divergence}')\n",
    "    print(f'Dataframe creados: df_year, df_month')\n",
    "    print( \"## ################# ##\")\n",
    "\n",
    "    # Especifica la ruta donde deseas guardar el excel\n",
    "    ruta_missing_mensual =  '/PROYECTO_01_analitica_descriptiva_TEA/data/processed/missing_values/df_missing_values_month.xlsx'  # Cambia esta ruta a la que necesites\n",
    "    df_monthly.to_excel(ruta_path + ruta_missing_mensual, index=False)\n",
    "    print(f'Datos guardados en {ruta_path + ruta_missing_mensual}')\n",
    "\n",
    "    # Guardamos el datframe - df_year\n",
    "    # -----\n",
    "    # Especifica la ruta donde deseas guardar el excel\n",
    "    ruta_missing_anual =  '/PROYECTO_01_analitica_descriptiva_TEA/data/processed/missing_values/df_missing_values_year.xlsx'  # Cambia esta ruta a la que necesites\n",
    "    df_year.to_excel(ruta_path + ruta_missing_anual, index=False)\n",
    "    print(f'Datos guardados en {ruta_path + ruta_missing_anual}')\n",
    "\n",
    "     # Mostrar el DataFrame correspondiente según el valor de `val`\n",
    "    if valor == 1:\n",
    "        print(\"DataFrame df_year:\")\n",
    "        print(df_year.head(10))\n",
    "    else:\n",
    "        print(\"DataFrame df_month:\")\n",
    "        print(df_monthly.head(10))\n",
    "\n",
    "\n",
    "\n",
    "## FUNCION COMPLETITUD PENALIZADA\n",
    "## #######################\n",
    "## #######################\n",
    "## #######################\n",
    "\n",
    "def function_completitud_pen(df_x, variable, valor = 2, anio_filtro = '1901-01-01'):\n",
    "    # Mostrando estadísticas importantes\n",
    "\n",
    "    # --- Seleccionamos PLANTACION\n",
    "    # ---\n",
    "    df_bbdd_imputar = df_x\n",
    "    plantacion_name = df_bbdd_imputar['PLANTACION'].unique()\n",
    "\n",
    "    # Crear una nueva columna con el año y mes en el formato deseado\n",
    "    df_bbdd_imputar['FECHA'] = pd.to_datetime(df_bbdd_imputar['FECHA'])\n",
    "\n",
    "    # Crear un rango de fechas que cubra el período completo del DataFrame original\n",
    "    start_date = df_bbdd_imputar['FECHA'].min().replace(day=1)\n",
    "    end_date = (df_bbdd_imputar['FECHA'].max() + pd.offsets.MonthEnd(1)).replace(day=1) - pd.Timedelta(days=1)\n",
    "    all_dates = pd.date_range(start=start_date, end=end_date, freq='D')\n",
    "\n",
    "    # Crear un DataFrame con todas las fechas\n",
    "    df_all_dates = pd.DataFrame(all_dates, columns=['FECHA'])\n",
    "    # Hacer un merge con el DataFrame original\n",
    "    df_merged = pd.merge(df_all_dates, df_bbdd_imputar, on='FECHA', how='left')\n",
    "    df_merged['FECHA'] = pd.to_datetime(df_merged['FECHA'])\n",
    "    dim_start = df_merged.shape[0]\n",
    "\n",
    "    # Filtrar filas donde el día de la semana no sea domingo (domingo es 6)\n",
    "    df_merged = df_merged[df_merged['FECHA'].dt.weekday != 6]\n",
    "    df_merged = df_merged[df_merged['FECHA'].dt.weekday != 5]\n",
    "\n",
    "    dim_finish = df_merged.shape[0]\n",
    "\n",
    "    dim_reduccion = dim_finish/dim_start\n",
    "\n",
    "    # Filtramos el año si es que fuera necesario\n",
    "    # ---\n",
    "    # Filtrar el DataFrame para considerar solo las fechas mayores a 2023-03-16\n",
    "    fecha_limite = pd.Timestamp(anio_filtro)\n",
    "    df_merged = df_merged[df_merged['FECHA'] > fecha_limite]\n",
    "\n",
    "    # Crear las columnas variable_con_datos y variable_sin_datos\n",
    "    df_merged['variable_con_datos'] = np.where(df_merged[variable].notnull() & (df_merged[variable] != 0), 1, 0)\n",
    "    df_merged['variable_sin_datos'] = np.where(df_merged[variable].isnull() | (df_merged[variable] == 0), 1, 0)\n",
    "\n",
    "    sum_variable_con_datos = df_merged['variable_con_datos'].sum()\n",
    "    sum_variable_sin_datos = df_merged['variable_sin_datos'].sum()\n",
    "    pctj_completitud_total = sum_variable_con_datos/(sum_variable_con_datos + sum_variable_sin_datos)\n",
    "\n",
    "    # Agrupar por mes y sumar las columnas\n",
    "    df_merged['AÑO_MES'] = df_merged['FECHA'].dt.strftime('%Y-%m')\n",
    "    df_monthly = df_merged.groupby('AÑO_MES').agg({'variable_con_datos': 'sum', 'variable_sin_datos': 'sum'}).reset_index()\n",
    "    df_monthly['PLANTACION'] = plantacion_name[0]\n",
    "    df_monthly['Total_dias'] = df_monthly['variable_con_datos'] + df_monthly['variable_sin_datos']\n",
    "    df_monthly['% Completitud'] = df_monthly['variable_con_datos']/(df_monthly['variable_con_datos'] + df_monthly['variable_sin_datos'])\n",
    "\n",
    "    # Agrupar por año\n",
    "    df_merged['AÑO'] = df_merged['FECHA'].dt.strftime('%Y')\n",
    "    df_year = df_merged.groupby('AÑO').agg({'variable_con_datos': 'sum', 'variable_sin_datos': 'sum'}).reset_index()\n",
    "    df_year['PLANTACION'] = plantacion_name[0]\n",
    "    df_year['Total_dias'] = df_year['variable_con_datos'] + df_year['variable_sin_datos']\n",
    "    df_year['% Completitud'] = df_year['variable_con_datos']/(df_year['variable_con_datos'] + df_year['variable_sin_datos'])\n",
    "\n",
    "    # Creando el indicador divergencia KL (Kullback-Leibler)\n",
    "    # ------\n",
    "    df_merged['incompleto'] = df_merged[variable]\n",
    "    df_merged['completo'] = df_merged[variable]\n",
    "\n",
    "    # Reemplazamos los ceros por NaN\n",
    "\n",
    "    df_merged['completo'].replace(0, np.nan, inplace=True)\n",
    "    df_merged['completo'].fillna(method='ffill', inplace=True) # Reemplazamos los valores NaN por el valor anterior (forward fill)\n",
    "\n",
    "    # Calcular la moda de cada columna\n",
    "    # moda_variable = df_merged['completo'].mode().iloc[0]\n",
    "\n",
    "    # Verificar si la moda no está vacía antes de acceder al primer elemento\n",
    "    if not df_merged['completo'].mode().empty:\n",
    "        moda_variable = df_merged['completo'].mode().iloc[0]\n",
    "        df_merged['completo'] = df_merged['completo'].fillna(moda_variable) # Reemplazamos los valores NaN por la moda\n",
    "    else:\n",
    "        # Si no hay moda, calcular el promedio\n",
    "        moda_variable = df_merged['completo'].mean()\n",
    "        df_merged['completo'] = df_merged['completo'].fillna(moda_variable) # Reemplazamos los valores NaN por el promedio\n",
    "\n",
    "\n",
    "    df_merged['completo'] = df_merged['completo'].fillna(moda_variable) # Reemplazamos los valores NaN por el valor anterior (forward fill)\n",
    "\n",
    "    # Calcular las distribuciones de la variable original y la imputada\n",
    "    hist_original, bin_edges = np.histogram(df_merged['incompleto'].dropna(), bins=30, density=True)\n",
    "    hist_imputado, _ = np.histogram(df_merged['completo'], bins=bin_edges, density=True)\n",
    "\n",
    "    # Calcular la divergencia KL entre las dos distribuciones\n",
    "    kl_divergence = entropy(hist_original, hist_imputado)\n",
    "\n",
    "\n",
    "    # Guardamos el datframe - df_monthly\n",
    "    # -----\n",
    "    print( \"## ################# ##\")\n",
    "    print(f'Divergencia KL: {kl_divergence}')\n",
    "    print(f'Sin considerar dias sábados/domingos: {dim_reduccion}')\n",
    "    print(f'Dataframe creados: df_year, df_month')\n",
    "    print(f'pctj_completitud_total= {pctj_completitud_total}')\n",
    "    print( \"## ################# ##\")\n",
    "\n",
    "    # Especifica la ruta donde deseas guardar el excel\n",
    "    ruta_missing_mensual =  '/PROYECTO_01_analitica_descriptiva_TEA/data/processed/missing_values/df_missing_values_month.xlsx'  # Cambia esta ruta a la que necesites\n",
    "    df_monthly.to_excel(ruta_path + ruta_missing_mensual, index=False)\n",
    "    print(f'Datos guardados en {ruta_path + ruta_missing_mensual}')\n",
    "\n",
    "    # Guardamos el datframe - df_year\n",
    "    # -----\n",
    "    # Especifica la ruta donde deseas guardar el excel\n",
    "    ruta_missing_anual =  '/PROYECTO_01_analitica_descriptiva_TEA/data/processed/missing_values/df_missing_values_year.xlsx'  # Cambia esta ruta a la que necesites\n",
    "    df_year.to_excel(ruta_path + ruta_missing_anual, index=False)\n",
    "    print(f'Datos guardados en {ruta_path + ruta_missing_anual}')\n",
    "\n",
    "     # Mostrar el DataFrame correspondiente según el valor de `val`\n",
    "    if valor == 1:\n",
    "        print(\"DataFrame df_year:\")\n",
    "        print(df_year.head(10))\n",
    "    else:\n",
    "        print(\"DataFrame df_month:\")\n",
    "        print(df_monthly.head(10))\n",
    "\n",
    "\n",
    "\n",
    "\n",
    "\n",
    "\n",
    "## FUNCION GRAFICADORA 1\n",
    "## #######################\n",
    "## #######################\n",
    "## #######################\n",
    "\n",
    "def function_tendencia_unica(df_x, valor,colors='green'):\n",
    "    df_x = df_x.sort_values(by='FECHA')\n",
    "    plantacion_name = df_x['PLANTACION'].unique()\n",
    "\n",
    "    # Si solo te interesa modificar el primer valor (o un único valor) puedes hacer:\n",
    "    if 'Shanuzi' in plantacion_name:\n",
    "        plantacion_name = ['Shanuzi']\n",
    "    else:\n",
    "        plantacion_name = plantacion_name.tolist()\n",
    "    \n",
    "    plt.figure(figsize=(15, 5))\n",
    "    plt.plot(df_x['FECHA'], df_x[valor], marker='o', markersize=2, linestyle='-', color=colors, label='Pesos')\n",
    "    # plt.title(f'{plantacion_name[0]}: variable {valor} - a través del Tiempo ')\n",
    "    plt.title(f'variable {valor} - a través del Tiempo ')\n",
    "   \n",
    "    plt.xlabel('Fecha')\n",
    "    plt.ylabel('Pesos')\n",
    "    plt.grid(True)\n",
    "    plt.legend()\n",
    "    #plt.xticks(rotation=45)\n",
    "\n",
    "    fecha_min = df_x['FECHA'].min()\n",
    "    fecha_max = df_x['FECHA'].max()\n",
    "    print('Analisis de ', fecha_min, ' hasta ', fecha_max)\n",
    "    \n",
    "    # Mostrar la gráfica\n",
    "    # print(df_TEA_full_tendencia[df_TEA_full_tendencia['RFF PROCESADO'] == 0].head())\n",
    "    plt.tight_layout()\n",
    "    plt.show()\n",
    "\n",
    "\n",
    "\n",
    "\n",
    "## FUNCION CORRELACION CRUZADA\n",
    "## #######################\n",
    "## #######################\n",
    "## #######################\n",
    "\n",
    "def correlacion_cruzada(serie1, serie2):\n",
    "    lags = np.arange(-len(serie1) + 1, len(serie1))\n",
    "    corr = [serie1.corr(serie2.shift(lag)) for lag in lags]\n",
    "    return lags, corr\n",
    "\n",
    "\n",
    "\n",
    "\n",
    "\n",
    "## FUNCION SAVE EXCEL\n",
    "## #######################\n",
    "## #######################\n",
    "## #######################\n",
    "\n",
    "def function_save(df_x):\n",
    "    # Especifica la ruta donde deseas guardar el CSV\n",
    "    ruta_save =  '/PROYECTO_01_analitica_descriptiva_TEA/data/processed/__bbdd_revision__.xlsx'  # Cambia esta ruta a la que necesites\n",
    "    df_x.to_excel(ruta_path + ruta_save, index=False)\n",
    "    print(f'Datos guardados en {ruta_path + ruta_save}')\n",
    "\n"
   ]
  },
  {
   "cell_type": "markdown",
   "metadata": {},
   "source": [
    "### Cargando datos processed"
   ]
  },
  {
   "cell_type": "code",
   "execution_count": 6,
   "metadata": {},
   "outputs": [],
   "source": [
    "### Cargamos df_sabana_fabrica_full\n",
    "### --------------------\n",
    "df_sabana_fabrica_full = pd.read_csv(ruta_path + ruta_path_fabrica)\n",
    "df_sabana_balanza_full = pd.read_csv(ruta_path + ruta_path_balanza)\n",
    "\n",
    "df_sabana_saldo_campo_full_vf = pd.read_csv(ruta_path + ruta_path_saldo_campo)\n",
    "df_sabana_saldo_campo_full_vf['FECHA'] = pd.to_datetime(df_sabana_saldo_campo_full_vf['FECHA'])\n",
    "\n",
    "df_calidad_precipitacion_full = pd.read_csv(ruta_path + ruta_calidad_precipitacion)\n",
    "df_calidad_precipitacion_full['FECHA'] = df_calidad_precipitacion_full['FECHA'].str.split(' ').str[0]\n",
    "df_calidad_precipitacion_full['FECHA'] = pd.to_datetime(df_calidad_precipitacion_full['FECHA'], format='%Y-%m-%d')\n",
    "\n",
    "# --\n",
    "df_calidad_racimos_propios_full = pd.read_csv(ruta_path + ruta_calidad_racimos_propios)\n",
    "df_calidad_antiguedad_frutos_full = pd.read_csv(ruta_path + ruta_antiguedad_frutos)\n",
    "\n",
    "# --\n",
    "df_sabana_calidad_terceros_full = pd.read_csv(ruta_path + ruta_calidad_racimos_terceros)\n",
    "df_sabana_calidad_terceros_full['FECHA'] = pd.to_datetime(df_sabana_calidad_terceros_full['FECHA'], format='%Y-%m-%d')\n",
    "df_sabana_calidad_terceros_full['% VERDES'] = df_sabana_calidad_terceros_full['% VERDES'].replace('-',np.nan)\n",
    "df_sabana_calidad_terceros_full['% MADUROS'] = df_sabana_calidad_terceros_full['% MADUROS'].replace('-',np.nan)\n",
    "df_sabana_calidad_terceros_full['% SMADUROS'] = df_sabana_calidad_terceros_full['% SMADUROS'].replace('-',np.nan)\n",
    "df_sabana_calidad_terceros_full['% ESCOBAJO'] = df_sabana_calidad_terceros_full['% ESCOBAJO'].replace('-',np.nan)\n",
    "\n",
    "df_sabana_calidad_terceros_full['% VERDES'] = df_sabana_calidad_terceros_full['% VERDES'].astype(float)\n",
    "df_sabana_calidad_terceros_full['% MADUROS'] = df_sabana_calidad_terceros_full['% MADUROS'].astype(float)\n",
    "df_sabana_calidad_terceros_full['% SMADUROS'] = df_sabana_calidad_terceros_full['% SMADUROS'].astype(float)\n",
    "df_sabana_calidad_terceros_full['% ESCOBAJO'] = df_sabana_calidad_terceros_full['% ESCOBAJO'].astype(float)\n",
    "\n",
    "# --\n",
    "df_acidez_full = pd.read_csv(ruta_path + ruta_acidez)\n",
    "\n",
    "# --\n",
    "df_clima_full_vf = pd.read_csv(ruta_path + ruta_clima)\n",
    "\n",
    "# --\n",
    "df_freq_cosecha_full = pd.read_csv(ruta_path + ruta__freq_cosecha)\n",
    "\n",
    "# --\n",
    "df_participacion_cashcost_full = pd.read_csv(ruta_path + ruta_participacion_cashcost_full)\n",
    "\n",
    "# --\n",
    "df_perdida_aceite_full = pd.read_csv(ruta_path + ruta_perdida_aceite_full)\n",
    "df_perdida_aceite_full['FECHA'] = pd.to_datetime(df_perdida_aceite_full['FECHA'])\n",
    "\n",
    "# --\n",
    "df_perdida_cosecha_full_vf = pd.read_csv(ruta_path + ruta_perdida_cosecha)\n"
   ]
  },
  {
   "cell_type": "code",
   "execution_count": null,
   "metadata": {},
   "outputs": [],
   "source": []
  },
  {
   "cell_type": "markdown",
   "metadata": {},
   "source": [
    "### Visualizando datos/ completitud de datos"
   ]
  },
  {
   "cell_type": "code",
   "execution_count": null,
   "metadata": {},
   "outputs": [],
   "source": [
    "# df_sabana_fabrica_full.head(15)\n",
    "# df_sabana_balanza_full.head()       # --> se actualizará con la data de Rolly (CashCost)\n",
    "\n",
    "# df_sabana_saldo_campo_full_vf.head()\n",
    "\n",
    "# print(df_calidad_precipitacion_full.dtypes)\n",
    "# df_calidad_precipitacion_full.head()\n",
    "\n",
    "# df_calidad_racimos_propios_full.head()\n",
    "# df_calidad_antiguedad_frutos_full.head()\n",
    "\n",
    "# df_acidez_full.head()\n",
    "df_perdida_aceite_full.head()\n"
   ]
  },
  {
   "cell_type": "code",
   "execution_count": null,
   "metadata": {},
   "outputs": [],
   "source": [
    "df_sabana_fabrica_full.groupby('PLANTACION').agg({'FECHA':['min','max'],\n",
    "                                                  'MES_NRO':'count'})"
   ]
  },
  {
   "cell_type": "code",
   "execution_count": null,
   "metadata": {},
   "outputs": [],
   "source": [
    "df_sabana_balanza_full.groupby('PLANTACION').agg({'FECHA':['min','max'],\n",
    "                                                  'PTANIO':'count'})"
   ]
  },
  {
   "cell_type": "code",
   "execution_count": null,
   "metadata": {},
   "outputs": [],
   "source": [
    "df_sabana_saldo_campo_full_vf.groupby('PLANTACION').agg({'FECHA':['min','max'],\n",
    "                                                        'SALDO':'count'})"
   ]
  },
  {
   "cell_type": "code",
   "execution_count": null,
   "metadata": {},
   "outputs": [],
   "source": [
    "df_calidad_precipitacion_full.groupby('PLANTACION').agg({'FECHA':['min','max'],\n",
    "                                                         'PLANTACION':'count'})"
   ]
  },
  {
   "cell_type": "code",
   "execution_count": null,
   "metadata": {},
   "outputs": [],
   "source": [
    "df_calidad_racimos_propios_full.groupby('PLANTACION').agg({'FECHA':['min','max'],\n",
    "                                                           'PLANTACION':'count'})"
   ]
  },
  {
   "cell_type": "code",
   "execution_count": null,
   "metadata": {},
   "outputs": [],
   "source": [
    "df_sabana_calidad_terceros_full.groupby('PLANTACION').agg({'FECHA':['min','max'],\n",
    "                                                           'PLANTACION':'count'})"
   ]
  },
  {
   "cell_type": "code",
   "execution_count": null,
   "metadata": {},
   "outputs": [],
   "source": [
    "df_calidad_antiguedad_frutos_full.groupby('PLANTACION').agg({'FECHA':['min','max'],\n",
    "                                                             'PLANTACION':'count'})"
   ]
  },
  {
   "cell_type": "code",
   "execution_count": null,
   "metadata": {},
   "outputs": [],
   "source": [
    "df_acidez_full.groupby('PLANTACION').agg({'FECHA':['min','max'],\n",
    "                                          'PLANTACION':'count'})"
   ]
  },
  {
   "cell_type": "code",
   "execution_count": null,
   "metadata": {},
   "outputs": [],
   "source": [
    "df_clima_full_vf.groupby('PLANTACION').agg({'FECHA':['min','max'],\n",
    "                                            'PLANTACION':'count'})"
   ]
  },
  {
   "cell_type": "code",
   "execution_count": null,
   "metadata": {},
   "outputs": [],
   "source": [
    "df_freq_cosecha_full.groupby('PLANTACION').agg({'FECHA':['min','max'],\n",
    "                                                'PLANTACION':'count'})"
   ]
  },
  {
   "cell_type": "code",
   "execution_count": null,
   "metadata": {},
   "outputs": [],
   "source": [
    "df_participacion_cashcost_full.groupby('PLANTACION').agg({'FECHA':['min','max'],\n",
    "                                                          'PLANTACION':'count'})"
   ]
  },
  {
   "cell_type": "code",
   "execution_count": null,
   "metadata": {},
   "outputs": [],
   "source": [
    "df_perdida_aceite_full.groupby('PLANTACION').agg({'FECHA':['min','max'],\n",
    "                                                  'PLANTACION':'count'})"
   ]
  },
  {
   "cell_type": "code",
   "execution_count": null,
   "metadata": {},
   "outputs": [],
   "source": [
    "df_perdida_cosecha_full_vf.groupby('PLANTACION').agg({'FECHA':['min','max'],\n",
    "                                                      'PLANTACION':'count'})"
   ]
  },
  {
   "cell_type": "code",
   "execution_count": null,
   "metadata": {},
   "outputs": [],
   "source": []
  },
  {
   "cell_type": "markdown",
   "metadata": {},
   "source": [
    "##### --------------------------------------------"
   ]
  },
  {
   "cell_type": "code",
   "execution_count": null,
   "metadata": {},
   "outputs": [],
   "source": [
    "df_clima_full_vf.head()\n",
    "#df_participacion_cashcost_full.dtypes"
   ]
  },
  {
   "cell_type": "code",
   "execution_count": null,
   "metadata": {},
   "outputs": [],
   "source": [
    "df_clima_full_vf.groupby('PLANTACION').size()"
   ]
  },
  {
   "cell_type": "code",
   "execution_count": null,
   "metadata": {},
   "outputs": [],
   "source": [
    "function_completitud_pen(df_clima_full_vf[df_clima_full_vf['PLANTACION'] == 'Nuevo Horizonte'],'Temp Hi',1)"
   ]
  },
  {
   "cell_type": "code",
   "execution_count": null,
   "metadata": {},
   "outputs": [],
   "source": [
    "# df_sabana_fabrica_full.groupby('PLANTACION').size()\n",
    "# df_sabana_balanza_full.groupby('PLANTACION').size()\n",
    "# df_sabana_saldo_campo_full_vf.groupby('PLANTACION').size()\n",
    "# df_calidad_precipitacion_full.groupby('PLANTACION').size()\n"
   ]
  },
  {
   "cell_type": "code",
   "execution_count": null,
   "metadata": {},
   "outputs": [],
   "source": []
  },
  {
   "cell_type": "markdown",
   "metadata": {},
   "source": [
    "##### Transformando datos"
   ]
  },
  {
   "cell_type": "code",
   "execution_count": null,
   "metadata": {},
   "outputs": [],
   "source": [
    "# AÑADIENDO DATOS DE BALANZA Y FABRICA\n",
    "# #######################\n",
    "# #######################\n",
    "\n",
    "# Unir los DataFrames en base a 'FECHA' y 'PLANTACION'\n",
    "df_TEA_full = pd.merge(df_sabana_balanza_full[['FECHA','PLANTACION','PROPIOS','TERCEROS','TOTAL','PARTICIPACION CP']], \n",
    "                       df_sabana_fabrica_full[['FECHA','PLANTACION','RFF PROCESADO','CPO OBTENIDO','TEA']], \n",
    "                       on=['FECHA', 'PLANTACION'], how='outer')\n",
    "# Convertir 'FECHA' a formato datetime\n",
    "df_TEA_full['FECHA'] = pd.to_datetime(df_TEA_full['FECHA'])\n",
    "\n",
    "\n",
    "print(f'df_sabana_balanza_full: {df_sabana_balanza_full.shape}')\n",
    "print(f'df_sabana_fabrica_full: {df_sabana_fabrica_full.shape}')\n",
    "\n",
    "print(df_TEA_full['PLANTACION'].unique())\n",
    "print(f'df_TEA_full: {df_TEA_full.shape}')\n",
    "df_TEA_full.head(15)"
   ]
  },
  {
   "cell_type": "code",
   "execution_count": null,
   "metadata": {},
   "outputs": [],
   "source": []
  },
  {
   "cell_type": "code",
   "execution_count": null,
   "metadata": {},
   "outputs": [],
   "source": [
    "# AÑADIENDO DATOS DE PRECIPITACION\n",
    "# #######################\n",
    "# #######################\n",
    "\n",
    "# Unir los DataFrames en base a 'FECHA' y 'PLANTACION'\n",
    "df_TEA_full = pd.merge(df_TEA_full, \n",
    "                       df_calidad_precipitacion_full, \n",
    "                       on=['FECHA', 'PLANTACION'], how='outer')\n",
    "\n",
    "# Convertir 'FECHA' a formato datetime\n",
    "df_TEA_full['FECHA'] = pd.to_datetime(df_TEA_full['FECHA'])\n",
    "\n",
    "print(df_TEA_full['PLANTACION'].unique())\n",
    "print(f'df_TEA_full: {df_TEA_full.shape}')\n",
    "df_TEA_full.head(15)"
   ]
  },
  {
   "cell_type": "code",
   "execution_count": null,
   "metadata": {},
   "outputs": [],
   "source": [
    "function_tendencia_unica(df_TEA_full[df_TEA_full['PLANTACION'] == 'Palmawasi'], 'TERCEROS')"
   ]
  },
  {
   "cell_type": "code",
   "execution_count": null,
   "metadata": {},
   "outputs": [],
   "source": [
    "# AÑADIENDO DATOS DE CALIDAD RACIMOS PROPIOS\n",
    "# #######################\n",
    "# #######################\n",
    "\n",
    "df_calidad_racimos_propios_full.tail()\n",
    "# df_calidad_racimos_propios_full[df_calidad_racimos_propios_full['PLANTACION'] == 'Palmawasi'].tail(15)\n"
   ]
  },
  {
   "cell_type": "code",
   "execution_count": null,
   "metadata": {},
   "outputs": [],
   "source": [
    "df_calidad_racimos_propios_full_group = df_calidad_racimos_propios_full.groupby(['FECHA','PLANTACION','SECTOR']).agg({'VERDES':'sum',\n",
    "                                                                                                                      'MADUROS':'sum',\n",
    "                                                                                                                      'SMADUROS':'sum',\n",
    "                                                                                                                      'PEDUNCULO':'sum',\n",
    "                                                                                                                      'ESCOBAJO':'sum',\n",
    "                                                                                                                      'MALFORMADOA':'sum',\n",
    "                                                                                                                      'MALFORMADOB': 'sum',\n",
    "                                                                                                                      'Peso':'sum',\n",
    "                                                                                                                      'Racimos':'sum'}).reset_index()\n",
    "\n",
    "# Validamos presencia de duplicados en la bbdd\n",
    "df_prueba = df_calidad_racimos_propios_full[['FECHA','PLANTACION','SECTOR']].drop_duplicates()\n",
    "print(df_calidad_racimos_propios_full.shape)\n",
    "print(df_prueba.shape)\n",
    "\n",
    "# Creando variables de calidad\n",
    "df_calidad_racimos_propios_full_group['Peso_CALIDAD'] = df_calidad_racimos_propios_full_group[['VERDES','MADUROS','SMADUROS','PEDUNCULO','ESCOBAJO']].sum(axis=1)\n",
    "\n",
    "df_calidad_racimos_propios_full_group['Peso_VERDES'] = df_calidad_racimos_propios_full_group['Peso']*(df_calidad_racimos_propios_full_group['VERDES']/ df_calidad_racimos_propios_full_group['Peso_CALIDAD'])\n",
    "df_calidad_racimos_propios_full_group['Peso_MADUROS'] = df_calidad_racimos_propios_full_group['Peso']*(df_calidad_racimos_propios_full_group['MADUROS']/ df_calidad_racimos_propios_full_group['Peso_CALIDAD'])\n",
    "df_calidad_racimos_propios_full_group['Peso_SMADUROS'] = df_calidad_racimos_propios_full_group['Peso']*(df_calidad_racimos_propios_full_group['SMADUROS']/ df_calidad_racimos_propios_full_group['Peso_CALIDAD'])\n",
    "df_calidad_racimos_propios_full_group['Peso_PEDUNCULO'] = df_calidad_racimos_propios_full_group['Peso']*(df_calidad_racimos_propios_full_group['PEDUNCULO']/ df_calidad_racimos_propios_full_group['Peso_CALIDAD'])\n",
    "df_calidad_racimos_propios_full_group['Peso_ESCOBAJO'] = df_calidad_racimos_propios_full_group['Peso']*(df_calidad_racimos_propios_full_group['ESCOBAJO']/ df_calidad_racimos_propios_full_group['Peso_CALIDAD'])\n",
    "\n",
    "# print(df_calidad_racimos_propios_full_group['PLANTACION'].unique())\n",
    "\n",
    "# Craendo dataframe agrupando los sectores\n",
    "# ------------\n",
    "df_agg_racimos = df_calidad_racimos_propios_full_group.groupby(['FECHA','PLANTACION']).agg({'Peso_VERDES':'sum',\n",
    "                                                                                            'Peso_MADUROS':'sum',\n",
    "                                                                                            'Peso_SMADUROS':'sum',\n",
    "                                                                                            'Peso_PEDUNCULO':'sum',\n",
    "                                                                                            'Peso_ESCOBAJO':'sum',\n",
    "                                                                                            'Peso':'sum',\n",
    "                                                                                            'Racimos':'sum'}).reset_index()\n",
    "df_agg_racimos['FECHA'] = pd.to_datetime(df_agg_racimos['FECHA'])\n",
    "\n",
    "print(df_agg_racimos['PLANTACION'].unique())\n",
    "df_agg_racimos.tail()\n"
   ]
  },
  {
   "cell_type": "code",
   "execution_count": null,
   "metadata": {},
   "outputs": [],
   "source": [
    "# AÑADIENDO DATOS DE PRECIPITACION\n",
    "# #######################\n",
    "# #######################\n",
    "\n",
    "# Unir los DataFrames en base a 'FECHA' y 'PLANTACION'\n",
    "df_TEA_full = pd.merge(df_TEA_full, \n",
    "                       df_agg_racimos, \n",
    "                       on=['FECHA', 'PLANTACION'], how='outer')\n",
    "\n",
    "# Convertir 'FECHA' a formato datetime\n",
    "df_TEA_full['FECHA'] = pd.to_datetime(df_TEA_full['FECHA'])\n",
    "\n",
    "print(df_TEA_full['PLANTACION'].unique())\n",
    "print(f'df_TEA_full: {df_TEA_full.shape}')\n",
    "df_TEA_full.head()"
   ]
  },
  {
   "cell_type": "code",
   "execution_count": null,
   "metadata": {},
   "outputs": [],
   "source": [
    "function_tendencia_unica(df_agg_racimos[df_agg_racimos['PLANTACION'] == 'Palmawasi'], 'Peso')"
   ]
  },
  {
   "cell_type": "code",
   "execution_count": null,
   "metadata": {},
   "outputs": [],
   "source": []
  },
  {
   "cell_type": "markdown",
   "metadata": {},
   "source": [
    "#### Analizando tendencias"
   ]
  },
  {
   "cell_type": "markdown",
   "metadata": {},
   "source": []
  },
  {
   "cell_type": "markdown",
   "metadata": {},
   "source": [
    "##### ACIDEZ VS CALIDAD RACIMOS PROPIOS"
   ]
  },
  {
   "cell_type": "code",
   "execution_count": null,
   "metadata": {},
   "outputs": [],
   "source": [
    "df_acidez_full.head()"
   ]
  },
  {
   "cell_type": "code",
   "execution_count": null,
   "metadata": {},
   "outputs": [],
   "source": [
    "df_acidez_full.PLANTACION.unique()"
   ]
  },
  {
   "cell_type": "code",
   "execution_count": null,
   "metadata": {},
   "outputs": [],
   "source": [
    "df_acidez_full[df_acidez_full['PLANTACION'] == 'Shanuzi'].tail()\n",
    "# df_acidez_full[df_acidez_full['PLANTACION'] == 'Palmawasi'].tail()\n"
   ]
  },
  {
   "cell_type": "code",
   "execution_count": null,
   "metadata": {},
   "outputs": [],
   "source": [
    "function_tendencia_unica(df_acidez_full[df_acidez_full['PLANTACION'] == 'Shanuzi'], '% Acidez')\n",
    "# function_tendencia_unica(df_acidez_full[df_acidez_full['PLANTACION'] == 'Palmawasi'], '% Acidez')"
   ]
  },
  {
   "cell_type": "code",
   "execution_count": null,
   "metadata": {},
   "outputs": [],
   "source": [
    "## REDUCIENDO LA BASE A SEMANA\n",
    "## ############\n",
    "## ############\n",
    "\n",
    "df_analisis_tendencia_acidez = df_acidez_full[df_acidez_full['PLANTACION'] == 'Shanuzi']\n",
    "# df_analisis_tendencia_acidez = df_acidez_full[df_acidez_full['PLANTACION'] == 'Palmawasi']\n",
    "\n",
    "df_analisis_tendencia_acidez['FECHA'] = pd.to_datetime(df_analisis_tendencia_acidez['FECHA'])\n",
    "\n",
    "# Crear columna 'SEMANA' que indica el año y la semana del año\n",
    "df_analisis_tendencia_acidez['SEMANA'] = df_analisis_tendencia_acidez['FECHA'].dt.to_period('W').apply(lambda r: r.start_time)\n",
    "df_analisis_tendencia_acidez.head()"
   ]
  },
  {
   "cell_type": "code",
   "execution_count": null,
   "metadata": {},
   "outputs": [],
   "source": [
    "# Agrupar por 'SEMANA' y calcular la suma de 'VALOR1' y 'VALOR2'\n",
    "df_analisis_tendencia_semana_acidez = df_analisis_tendencia_acidez.groupby(['SEMANA','PLANTACION']).agg({'% Acidez': 'mean'}).reset_index()\n",
    "df_analisis_tendencia_semana_acidez.columns = ['FECHA','PLANTACION','% Acidez']\n",
    "df_analisis_tendencia_semana_acidez.head()"
   ]
  },
  {
   "cell_type": "code",
   "execution_count": null,
   "metadata": {},
   "outputs": [],
   "source": [
    "function_tendencia_unica(df_analisis_tendencia_semana_acidez, '% Acidez','red')"
   ]
  },
  {
   "cell_type": "code",
   "execution_count": null,
   "metadata": {},
   "outputs": [],
   "source": [
    "df_analisis_tendencia_semana_2.head()"
   ]
  },
  {
   "cell_type": "markdown",
   "metadata": {},
   "source": [
    "Calidad racimos propios"
   ]
  },
  {
   "cell_type": "code",
   "execution_count": null,
   "metadata": {},
   "outputs": [],
   "source": [
    "# BBDD Calidad racimos propios tratado: Lineas abajo\n",
    "# ------------------\n",
    "# -----------\n",
    "\n",
    "function_tendencia_unica(df_analisis_tendencia_semana_2,'Peso_SMADUROS','green')"
   ]
  },
  {
   "cell_type": "code",
   "execution_count": null,
   "metadata": {},
   "outputs": [],
   "source": [
    "# AÑADIENDO DATOS - ANALISIS SEMANAL\n",
    "# #######################\n",
    "# #######################\n",
    "\n",
    "\n",
    "# fecha_limite_sem = pd.Timestamp('2023-01-01') ## --> Para sede Palmawasi \n",
    "fecha_limite_sem = pd.Timestamp('2023-03-01') ## --> Para sede Shanuzi \n",
    "\n",
    "# Unir los DataFrames en base a 'FECHA' y 'PLANTACION'\n",
    "df_analisis_semana_full_acidez = pd.merge(df_analisis_tendencia_semana_acidez,\n",
    "                                          df_analisis_tendencia_semana_2,\n",
    "                                          on=['FECHA', 'PLANTACION'], how='outer')\n",
    "\n",
    "\n",
    "df_analisis_semana_full_acidez = df_analisis_semana_full_acidez[df_analisis_semana_full_acidez['FECHA'] >= fecha_limite_sem]\n",
    "# fecha_limite_mes\n",
    "\n",
    "# Convertir 'FECHA' a formato datetime\n",
    "df_analisis_semana_full_acidez['FECHA'] = pd.to_datetime(df_analisis_semana_full_acidez['FECHA'])\n",
    "print(df_analisis_semana_full_acidez.PLANTACION.unique())\n",
    "df_analisis_semana_full_acidez.head()"
   ]
  },
  {
   "cell_type": "code",
   "execution_count": null,
   "metadata": {},
   "outputs": [],
   "source": [
    "function_tendencia_unica(df_analisis_semana_full_acidez, '% Acidez','red')"
   ]
  },
  {
   "cell_type": "code",
   "execution_count": null,
   "metadata": {},
   "outputs": [],
   "source": []
  },
  {
   "cell_type": "code",
   "execution_count": null,
   "metadata": {},
   "outputs": [],
   "source": [
    "# Crear figura y ejes\n",
    "fig, ax1 = plt.subplots(figsize=(15, 6))\n",
    "\n",
    "plantacion_name = df_analisis_semana_full_acidez['PLANTACION'].unique()\n",
    "\n",
    "# Graficar la primera variable en el eje principal\n",
    "ax1.plot(df_analisis_semana_full_acidez['FECHA'], df_analisis_semana_full_acidez['% Acidez'], color='red', marker='o', linestyle='-', label='% Acidez')\n",
    "ax1.set_xlabel('Fecha')\n",
    "ax1.set_ylabel('Variable 1', color='blue')\n",
    "ax1.tick_params(axis='y', labelcolor='blue')\n",
    "\n",
    "# Crear eje secundario\n",
    "ax2 = ax1.twinx()\n",
    "ax2.plot(df_analisis_semana_full_acidez['FECHA'], df_analisis_semana_full_acidez['Peso_SMADUROS'], color='green', marker='s', linestyle='--', label='Peso_SMADUROS')\n",
    "\n",
    "ax2.set_ylabel('Variable 2', color='green')\n",
    "ax2.tick_params(axis='y', labelcolor='green')\n",
    "\n",
    "# Agregar títulos y leyendas\n",
    "fig.suptitle(f'{plantacion_name[0]} - Comparación de variables con diferentes escalas', fontsize=14)\n",
    "ax1.legend(loc='upper left')\n",
    "ax2.legend(loc='upper right')\n",
    "\n",
    "# Mostrar gráfico\n",
    "plt.grid(True)\n",
    "plt.show()"
   ]
  },
  {
   "cell_type": "code",
   "execution_count": null,
   "metadata": {},
   "outputs": [],
   "source": []
  },
  {
   "cell_type": "code",
   "execution_count": null,
   "metadata": {},
   "outputs": [],
   "source": [
    "# Suavizando por medias moviles\n",
    "# ----------\n",
    "# Desplazar 'VARIABLE_1' un período hacia adelante\n",
    "# Suavizando por medias moviles\n",
    "# ----------\n",
    "# Desplazar 'VARIABLE_1' un período hacia adelante\n",
    "df_analisis_semana_full_acidez['% Acidez_rolling_2'] = df_analisis_semana_full_acidez['% Acidez'].rolling(window=2).mean() # Suavizado a 2 periodos\n",
    "df_analisis_semana_full_acidez['% Acidez_rolling_3'] = df_analisis_semana_full_acidez['% Acidez'].rolling(window=3).mean() # Suavizado a 3 periodos\n",
    "df_analisis_semana_full_acidez['% Acidez_rolling_4'] = df_analisis_semana_full_acidez['% Acidez'].rolling(window=4).mean() # Suavizado a 4 periodos\n",
    "\n",
    "df_analisis_semana_full_acidez['Peso_SMADUROS_rolling_2'] = df_analisis_semana_full_acidez['Peso_SMADUROS'].rolling(window=2).mean() # Suavizado a 2 periodos\n",
    "df_analisis_semana_full_acidez['Peso_SMADUROS_rolling_3'] = df_analisis_semana_full_acidez['Peso_SMADUROS'].rolling(window=3).mean() # Suavizado a 3 periodos\n",
    "df_analisis_semana_full_acidez['Peso_SMADUROS_rolling_4'] = df_analisis_semana_full_acidez['Peso_SMADUROS'].rolling(window=4).mean() # Suavizado a 4 periodos\n",
    "\n",
    "df_analisis_semana_full_acidez['Peso_MADUROS_rolling_2'] = df_analisis_semana_full_acidez['Peso_MADUROS'].rolling(window=2).mean() # Suavizado a 2 periodos\n",
    "df_analisis_semana_full_acidez['Peso_MADUROS_rolling_3'] = df_analisis_semana_full_acidez['Peso_MADUROS'].rolling(window=3).mean() # Suavizado a 3 periodos\n",
    "df_analisis_semana_full_acidez['Peso_MADUROS_rolling_4'] = df_analisis_semana_full_acidez['Peso_MADUROS'].rolling(window=4).mean() # Suavizado a 4 periodos\n",
    "\n",
    "\n",
    "df_analisis_semana_full_acidez['Peso_VERDES_rolling_2'] = df_analisis_semana_full_acidez['Peso_VERDES'].rolling(window=2).mean() # Suavizado a 2 periodos\n",
    "df_analisis_semana_full_acidez['Peso_VERDES_rolling_3'] = df_analisis_semana_full_acidez['Peso_VERDES'].rolling(window=3).mean() # Suavizado a 3 periodos\n",
    "df_analisis_semana_full_acidez['Peso_VERDES_rolling_4'] = df_analisis_semana_full_acidez['Peso_VERDES'].rolling(window=4).mean() # Suavizado a 4 periodos\n",
    "df_analisis_semana_full_acidez['Peso_VERDES_rolling_5'] = df_analisis_semana_full_acidez['Peso_VERDES'].rolling(window=5).mean() # Suavizado a 4 periodos\n",
    "\n",
    "df_analisis_semana_full_acidez.head()"
   ]
  },
  {
   "cell_type": "code",
   "execution_count": null,
   "metadata": {},
   "outputs": [],
   "source": []
  },
  {
   "cell_type": "code",
   "execution_count": null,
   "metadata": {},
   "outputs": [],
   "source": [
    "# Crear figura y ejes\n",
    "fig, ax1 = plt.subplots(figsize=(15, 6))\n",
    "\n",
    "plantacion_name = df_analisis_semana_full_acidez['PLANTACION'].unique()\n",
    "\n",
    "# Graficar la primera variable en el eje principal\n",
    "ax1.plot(df_analisis_semana_full_acidez['FECHA'], df_analisis_semana_full_acidez['% Acidez_rolling_4'], color='blue', marker='o', linestyle='-', label='% Acidez_rolling_3')\n",
    "ax1.set_xlabel('Fecha')\n",
    "ax1.set_ylabel('Variable 1', color='blue')\n",
    "ax1.tick_params(axis='y', labelcolor='blue')\n",
    "\n",
    "# Crear eje secundario\n",
    "ax2 = ax1.twinx()\n",
    "ax2.plot(df_analisis_semana_full_acidez['FECHA'], df_analisis_semana_full_acidez['Peso_SMADUROS_rolling_2'], color='green', marker='s', linestyle='--', label='Peso_SMADUROS_rolling_2')\n",
    "\n",
    "ax2.set_ylabel('Variable 2', color='green')\n",
    "ax2.tick_params(axis='y', labelcolor='green')\n",
    "\n",
    "# Agregar títulos y leyendas\n",
    "fig.suptitle(f'{plantacion_name[0]} - Comparación de Variables con Diferentes Escalas', fontsize=14)\n",
    "ax1.legend(loc='upper left')\n",
    "ax2.legend(loc='upper right')\n",
    "\n",
    "# Mostrar gráfico\n",
    "plt.grid(True)\n",
    "plt.show()"
   ]
  },
  {
   "cell_type": "code",
   "execution_count": null,
   "metadata": {},
   "outputs": [],
   "source": []
  },
  {
   "cell_type": "code",
   "execution_count": null,
   "metadata": {},
   "outputs": [],
   "source": [
    "df_analisis_semana_full_acidez['% Acidez_rolling_3'].corr(df_analisis_semana_full_acidez['Peso_SMADUROS_rolling_2'])\n",
    "# df_analisis_semana_full_acidez['% Acidez'].corr(df_analisis_semana_full_acidez['Peso_SMADUROS'])\n",
    "\n",
    "\n"
   ]
  },
  {
   "cell_type": "code",
   "execution_count": null,
   "metadata": {},
   "outputs": [],
   "source": [
    "def correlacion_cruzada(serie1, serie2):\n",
    "    lags = np.arange(-len(serie1) + 1, len(serie1))\n",
    "    corr = [serie1.corr(serie2.shift(lag)) for lag in lags]\n",
    "    return lags, corr\n",
    "\n",
    "# lags, corr = correlacion_cruzada(df_analisis_semana_full_acidez['% Acidez_rolling_3'], df_analisis_semana_full_acidez['Peso_MADUROS_rolling_2'])\n",
    "lags, corr = correlacion_cruzada(df_analisis_semana_full_acidez['% Acidez'], df_analisis_semana_full_acidez['Peso_MADUROS'])\n"
   ]
  },
  {
   "cell_type": "code",
   "execution_count": null,
   "metadata": {},
   "outputs": [],
   "source": [
    "lags, corr"
   ]
  },
  {
   "cell_type": "code",
   "execution_count": null,
   "metadata": {},
   "outputs": [],
   "source": [
    "# Graficar correlación cruzada\n",
    "plt.figure(figsize=(12, 6))\n",
    "plt.plot(lags, corr)\n",
    "plt.title('Correlación Cruzada entre \"% Acidez_rolling_3\" y \"Peso_MADUROS_rolling_2\"')\n",
    "plt.xlabel('Desfase')\n",
    "plt.ylabel('Correlación')\n",
    "plt.axvline(0, color='gray', linestyle='--', linewidth=1)\n",
    "plt.axhline(0, color='gray', linestyle='--', linewidth=1)\n",
    "plt.show()"
   ]
  },
  {
   "cell_type": "code",
   "execution_count": null,
   "metadata": {},
   "outputs": [],
   "source": []
  },
  {
   "cell_type": "code",
   "execution_count": null,
   "metadata": {},
   "outputs": [],
   "source": [
    "# Probando traslaciones temporales\n",
    "# -----------\n",
    "\n",
    "# Desplazar 'VARIABLE_1' un período hacia adelante\n",
    "df_analisis_full['% Acidez_SHIFTED_1'] = df_analisis_full['% Acidez'].shift(-1)\n",
    "df_analisis_full['% Acidez_SHIFTED_2'] = df_analisis_full['% Acidez'].shift(-2)\n",
    "df_analisis_full['% Acidez_SHIFTED_3'] = df_analisis_full['% Acidez'].shift(-3)\n",
    "df_analisis_full['% Acidez_SHIFTED_4'] = df_analisis_full['% Acidez'].shift(-4)\n",
    "df_analisis_full['% Acidez_SHIFTED_5'] = df_analisis_full['% Acidez'].shift(-5)\n",
    "df_analisis_full['% Acidez_SHIFTED_6'] = df_analisis_full['% Acidez'].shift(-6)\n",
    "df_analisis_full['% Acidez_SHIFTED_7'] = df_analisis_full['% Acidez'].shift(-7)\n",
    "\n",
    "df_analisis_full.head()"
   ]
  },
  {
   "cell_type": "code",
   "execution_count": null,
   "metadata": {},
   "outputs": [],
   "source": [
    "# Crear figura y ejes\n",
    "fig, ax1 = plt.subplots(figsize=(15, 6))\n",
    "\n",
    "plantacion_name = df_analisis_full['PLANTACION'].unique()\n",
    "\n",
    "# Graficar la primera variable en el eje principal\n",
    "ax1.plot(df_analisis_full['FECHA'], df_analisis_full['% Acidez'], color='blue', marker='o', linestyle='-', label='% Acidez')\n",
    "#ax1.plot(df_analisis_full['FECHA'], df_analisis_full['% Acidez_SHIFTED_5'], color='red', marker='o', linestyle='-', label='% Acidez_SHIFTED_5')\n",
    "ax1.set_xlabel('Fecha')\n",
    "ax1.set_ylabel('Variable 1', color='blue')\n",
    "ax1.tick_params(axis='y', labelcolor='blue')\n",
    "\n",
    "# Crear eje secundario\n",
    "ax2 = ax1.twinx()\n",
    "# ax2.plot(df_analisis_full['FECHA'], df_analisis_full['Peso_VERDES'], color='green', marker='s', linestyle='--', label='Peso_VERDES')\n",
    "# ax2.plot(df_analisis_full['FECHA'], df_analisis_full['Peso_MADUROS'], color='green', marker='s', linestyle='--', label='Peso_MADUROS')\n",
    "ax2.plot(df_analisis_full['FECHA'], df_analisis_full['Peso_SMADUROS'], color='green', marker='s', linestyle='--', label='Peso_SMADUROS')\n",
    "\n",
    "ax2.set_ylabel('Variable 2', color='green')\n",
    "ax2.tick_params(axis='y', labelcolor='green')\n",
    "\n",
    "# Agregar títulos y leyendas\n",
    "fig.suptitle(f'{plantacion_name[0]} - Comparación de Variables con Diferentes Escalas', fontsize=14)\n",
    "ax1.legend(loc='upper left')\n",
    "ax2.legend(loc='upper right')\n",
    "\n",
    "# Mostrar gráfico\n",
    "plt.grid(True)\n",
    "plt.show()"
   ]
  },
  {
   "cell_type": "code",
   "execution_count": null,
   "metadata": {},
   "outputs": [],
   "source": [
    "df_analisis_full['% Acidez_SHIFTED_5'].corr(df_analisis_full['Peso_SMADUROS'])"
   ]
  },
  {
   "cell_type": "code",
   "execution_count": null,
   "metadata": {},
   "outputs": [],
   "source": []
  },
  {
   "cell_type": "code",
   "execution_count": null,
   "metadata": {},
   "outputs": [],
   "source": []
  },
  {
   "cell_type": "code",
   "execution_count": null,
   "metadata": {},
   "outputs": [],
   "source": [
    "# Datos de ejemplo\n",
    "toneladas = np.array([100, 200, 300, 400, 500])\n",
    "porcentajes = np.array([10, 20, 30, 40, 50])"
   ]
  },
  {
   "cell_type": "code",
   "execution_count": null,
   "metadata": {},
   "outputs": [],
   "source": [
    "# Normalización (escalado)\n",
    "toneladas_norm = (df_analisis_full['Peso_VERDES'] - np.mean(df_analisis_full['Peso_VERDES'])) / np.std(df_analisis_full['Peso_VERDES'])\n",
    "porcentajes_norm = (df_analisis_full['% Acidez'] - np.mean(df_analisis_full['% Acidez'])) / np.std(df_analisis_full['% Acidez'])"
   ]
  },
  {
   "cell_type": "code",
   "execution_count": null,
   "metadata": {},
   "outputs": [],
   "source": [
    "# Calcular la correlación de Pearson\n",
    "correlacion, _ = pearsonr(toneladas_norm, porcentajes_norm)\n",
    "print(f'Correlación de Pearson: {correlacion}')"
   ]
  },
  {
   "cell_type": "code",
   "execution_count": null,
   "metadata": {},
   "outputs": [],
   "source": [
    "# Calcular la correlación de Pearson\n",
    "correlacion, _ = pearsonr(toneladas, porcentajes)\n",
    "print(f'Correlación de Pearson: {correlacion}')"
   ]
  },
  {
   "cell_type": "code",
   "execution_count": null,
   "metadata": {},
   "outputs": [],
   "source": []
  },
  {
   "cell_type": "markdown",
   "metadata": {},
   "source": [
    "##### PROPORCION DE PARTICIPACION PROPIOS Y TERCEROS"
   ]
  },
  {
   "cell_type": "code",
   "execution_count": null,
   "metadata": {},
   "outputs": [],
   "source": [
    "df_participacion_cashcost_full.head()"
   ]
  },
  {
   "cell_type": "code",
   "execution_count": null,
   "metadata": {},
   "outputs": [],
   "source": [
    "df_participacion_cashcost_full.groupby('PLANTACION').size()"
   ]
  },
  {
   "cell_type": "code",
   "execution_count": null,
   "metadata": {},
   "outputs": [],
   "source": [
    "df_analisis_participacion = df_participacion_cashcost_full[df_participacion_cashcost_full['PLANTACION'] == 'Palmawasi']\n",
    "# df_analisis_participacion = df_participacion_cashcost_full[df_participacion_cashcost_full['PLANTACION'] == 'Shanuzi']\n",
    "df_analisis_participacion.tail()"
   ]
  },
  {
   "cell_type": "code",
   "execution_count": null,
   "metadata": {},
   "outputs": [],
   "source": [
    "function_tendencia_unica(df_analisis_participacion,'RFFProcesado')"
   ]
  },
  {
   "cell_type": "code",
   "execution_count": null,
   "metadata": {},
   "outputs": [],
   "source": [
    "df_analisis_participacion.columns"
   ]
  },
  {
   "cell_type": "code",
   "execution_count": null,
   "metadata": {},
   "outputs": [],
   "source": [
    "## REDUCIENDO LA BASE A SEMANA\n",
    "## ############\n",
    "## ############\n",
    "\n",
    "df_analisis_participacion['FECHA'] = pd.to_datetime(df_analisis_participacion['FECHA'])\n",
    "\n",
    "# Crear columna 'SEMANA' que indica el año y la semana del año\n",
    "df_analisis_participacion['SEMANA'] = df_analisis_participacion['FECHA'].dt.to_period('W').apply(lambda r: r.start_time)\n",
    "df_analisis_participacion['MES'] = df_analisis_participacion['FECHA'].dt.to_period('M').apply(lambda r: r.start_time)\n",
    "\n",
    "# Agrupar por 'SEMANA' y calcular la suma de 'VALOR1' y 'VALOR2'\n",
    "df_analisis_participacion_semana = df_analisis_participacion.groupby(['SEMANA','PLANTACION']).agg({'RFFProcesado': 'sum',\n",
    "                                                                                                   'RFFProcesadoPropios':'sum',\n",
    "                                                                                                   'RFFProcesadoTerceros':'sum',\n",
    "                                                                                                   'CPOObtenido':'sum',\n",
    "                                                                                                   'CPOObtenidoPropios':'sum',\n",
    "                                                                                                   'CPOObtenidoTerceros':'sum'}).reset_index()\n",
    "df_analisis_participacion_semana.columns = ['FECHA', 'PLANTACION', 'RFFProcesado', 'RFFProcesadoPropios','RFFProcesadoTerceros', 'CPOObtenido', 'CPOObtenidoPropios','CPOObtenidoTerceros']\n",
    "\n",
    "# Agrupar por 'MES' y calcular la suma de 'VALOR1' y 'VALOR2'\n",
    "df_analisis_participacion_mes = df_analisis_participacion.groupby(['MES','PLANTACION']).agg({'RFFProcesado': 'sum',\n",
    "                                                                                             'RFFProcesadoPropios':'sum',\n",
    "                                                                                             'RFFProcesadoTerceros':'sum',\n",
    "                                                                                             'CPOObtenido':'sum',\n",
    "                                                                                             'CPOObtenidoPropios':'sum',\n",
    "                                                                                             'CPOObtenidoTerceros':'sum'}).reset_index()\n",
    "df_analisis_participacion_mes.columns = ['FECHA', 'PLANTACION', 'RFFProcesado', 'RFFProcesadoPropios','RFFProcesadoTerceros', 'CPOObtenido', 'CPOObtenidoPropios',\n",
    "       'CPOObtenidoTerceros']\n",
    "\n",
    "df_analisis_participacion_mes.head()"
   ]
  },
  {
   "cell_type": "code",
   "execution_count": null,
   "metadata": {},
   "outputs": [],
   "source": [
    "print(df_analisis_participacion_semana.PLANTACION.unique())\n",
    "function_tendencia_unica(df_analisis_participacion_semana,'RFFProcesado')"
   ]
  },
  {
   "cell_type": "code",
   "execution_count": null,
   "metadata": {},
   "outputs": [],
   "source": [
    "function_save(df_analisis_participacion_mes)"
   ]
  },
  {
   "cell_type": "code",
   "execution_count": null,
   "metadata": {},
   "outputs": [],
   "source": [
    "# Mostrando el % de participacion\n",
    "# ---\n",
    "df_analisis_participacion_mes['Propios_Porcentaje'] = (df_analisis_participacion_mes['RFFProcesadoPropios'] / df_analisis_participacion_semana['RFFProcesado']) * 100\n",
    "df_analisis_participacion_mes['Terceros_Porcentaje'] = (df_analisis_participacion_mes['RFFProcesadoTerceros'] / df_analisis_participacion_semana['RFFProcesado']) * 100\n",
    "df_analisis_participacion_mes.head()\n"
   ]
  },
  {
   "cell_type": "code",
   "execution_count": null,
   "metadata": {},
   "outputs": [],
   "source": [
    "df_analisis_participacion_mes['Fecha_cat'] = df_analisis_participacion_mes['FECHA'].astype('object')\n",
    "df_analisis_participacion_mes.head()"
   ]
  },
  {
   "cell_type": "code",
   "execution_count": null,
   "metadata": {},
   "outputs": [],
   "source": [
    "function_save(df_analisis_participacion_mes)"
   ]
  },
  {
   "cell_type": "code",
   "execution_count": null,
   "metadata": {},
   "outputs": [],
   "source": [
    "# Crear figura y ejes\n",
    "fig, ax1 = plt.subplots(figsize=(15, 6))\n",
    "\n",
    "plantacion_name = df_analisis_participacion_mes['PLANTACION'].unique()\n",
    "\n",
    "# Graficar la primera variable en el eje principal\n",
    "# ax1.plot(df_analisis_participacion_mes['FECHA'], df_analisis_participacion_mes['RFFProcesado'], color='blue', marker='o', linestyle='-', label='RFFProcesado')\n",
    "# ax1.plot(df_analisis_participacion_mes['FECHA'], df_analisis_participacion_mes['RFFProcesadoPropios'], color='blue', marker='o', linestyle='-', label='RFFProcesadoPropios')\n",
    "ax1.plot(df_analisis_participacion_mes['FECHA'], df_analisis_participacion_mes['RFFProcesadoTerceros'], color='blue', marker='o', linestyle='-', label='RFFProcesadoTerceros')\n",
    "ax1.set_xlabel('Fecha')\n",
    "ax1.set_ylabel('Variable 1', color='blue')\n",
    "ax1.tick_params(axis='y', labelcolor='blue')\n",
    "\n",
    "# Crear eje secundario\n",
    "ax2 = ax1.twinx()\n",
    "# ax2.plot(df_analisis_participacion_mes['FECHA'], df_analisis_participacion_mes['CPOObtenido'], color='green', marker='s', linestyle='--', label='CPOObtenido')\n",
    "# ax2.plot(df_analisis_participacion_mes['FECHA'], df_analisis_participacion_mes['CPOObtenidoPropios'], color='green', marker='s', linestyle='--', label='CPOObtenidoPropios')\n",
    "ax2.plot(df_analisis_participacion_mes['FECHA'], df_analisis_participacion_mes['CPOObtenidoTerceros'], color='green', marker='s', linestyle='--', label='CPOObtenidoTerceros')\n",
    "\n",
    "ax2.set_ylabel('Variable 2', color='green')\n",
    "ax2.tick_params(axis='y', labelcolor='green')\n",
    "\n",
    "# Agregar títulos y leyendas\n",
    "fig.suptitle(f'{plantacion_name[0]} - Comparación de variables con diferentes escalas', fontsize=14)\n",
    "ax1.legend(loc='upper left')\n",
    "ax2.legend(loc='upper right')\n",
    "\n",
    "# Mostrar gráfico\n",
    "plt.grid(True)\n",
    "plt.show()\n"
   ]
  },
  {
   "cell_type": "code",
   "execution_count": null,
   "metadata": {},
   "outputs": [],
   "source": []
  },
  {
   "cell_type": "markdown",
   "metadata": {},
   "source": [
    "Añadiendo la variable TEA"
   ]
  },
  {
   "cell_type": "code",
   "execution_count": null,
   "metadata": {},
   "outputs": [],
   "source": [
    "print(df_analisis_tendencia_mes.PLANTACION.unique())\n",
    "df_analisis_tendencia_mes.head()"
   ]
  },
  {
   "cell_type": "code",
   "execution_count": null,
   "metadata": {},
   "outputs": [],
   "source": [
    "# AÑADIENDO DATOS DE BALANZA Y FABRICA\n",
    "# #######################\n",
    "# #######################\n",
    "\n",
    "var_tea_columns = ['FECHA','PLANTACION','TEA_total']\n",
    "\n",
    "# Unir los DataFrames en base a 'FECHA' y 'PLANTACION'\n",
    "df_analisis_full_particip_sem = pd.merge(df_analisis_participacion_semana,\n",
    "                                         df_analisis_tendencia_semana[var_tea_columns],\n",
    "                                         on=['FECHA', 'PLANTACION'], how='outer')\n",
    "# Convertir 'FECHA' a formato datetime\n",
    "df_analisis_full_particip_sem['FECHA'] = pd.to_datetime(df_analisis_full_particip_sem['FECHA'])\n",
    "print(df_analisis_full_particip_sem.PLANTACION.unique())\n",
    "# df_analisis_full_particip_sem.head()\n",
    "\n",
    "\n",
    "\n",
    "# Unir los DataFrames en base a 'FECHA' y 'PLANTACION'\n",
    "df_analisis_full_particip_mes = pd.merge(df_analisis_participacion_mes,\n",
    "                                         df_analisis_tendencia_mes[var_tea_columns],\n",
    "                                         on=['FECHA', 'PLANTACION'], how='outer')\n",
    "# Convertir 'FECHA' a formato datetime\n",
    "df_analisis_full_particip_mes['FECHA'] = pd.to_datetime(df_analisis_full_particip_mes['FECHA'])\n",
    "print(df_analisis_full_particip_mes.PLANTACION.unique())\n",
    "# df_analisis_full_particip_mes.head()\n",
    "\n",
    "df_analisis_full_particip_sem.head()\n",
    "\n"
   ]
  },
  {
   "cell_type": "code",
   "execution_count": null,
   "metadata": {},
   "outputs": [],
   "source": [
    "\n",
    "# Crear figura y ejes\n",
    "fig, ax1 = plt.subplots(figsize=(20, 4))\n",
    "\n",
    "# plantacion_name = df_analisis_full_particip_mes['PLANTACION'].unique()\n",
    "plantacion_name = df_analisis_full_particip_sem['PLANTACION'].unique()\n",
    "\n",
    "# Graficar la primera variable en el eje principal\n",
    "# ax1.plot(df_analisis_full_particip_mes['FECHA'], df_analisis_full_particip_mes['TEA_total'], color='red', marker='o', linestyle='-', label='TEA_total')\n",
    "ax1.plot(df_analisis_full_particip_sem['FECHA'], df_analisis_full_particip_sem['TEA_total'], color='red', marker='o', linestyle='-', label='TEA_total')\n",
    "ax1.set_xlabel('Fecha')\n",
    "ax1.set_ylabel('Variable 1', color='red')\n",
    "ax1.tick_params(axis='y', labelcolor='red')\n",
    "\n",
    "# Crear eje secundario\n",
    "ax2 = ax1.twinx()\n",
    "# ax2.plot(df_analisis_full_particip_mes['FECHA'], df_analisis_full_particip_mes['RFFProcesado'], color='green', marker='s', linestyle='--', label='RFFProcesado')\n",
    "ax2.plot(df_analisis_full_particip_sem['FECHA'], df_analisis_full_particip_sem['RFFProcesado'], color='green', marker='s', linestyle='--', label='RFFProcesado')\n",
    "\n",
    "ax2.set_ylabel('Variable 2', color='green')\n",
    "ax2.tick_params(axis='y', labelcolor='green')\n",
    "\n",
    "# Agregar títulos y leyendas\n",
    "fig.suptitle('Comparación de variables con diferentes escalas', fontsize=14)\n",
    "ax1.legend(loc='upper left')\n",
    "ax2.legend(loc='upper right')\n",
    "\n",
    "# Mostrar gráfico\n",
    "plt.grid(True)\n",
    "plt.show()\n"
   ]
  },
  {
   "cell_type": "code",
   "execution_count": null,
   "metadata": {},
   "outputs": [],
   "source": [
    "function_save(df_analisis_full_particip_sem)"
   ]
  },
  {
   "cell_type": "code",
   "execution_count": null,
   "metadata": {},
   "outputs": [],
   "source": [
    "# Suavizando por medias moviles\n",
    "# ----------\n",
    "# Desplazar 'VARIABLE_1' un período hacia adelante\n",
    "df_analisis_full_particip_mes['PRECIPITACION_TOTAL_rolling_2'] = df_analisis_full_particip_mes['PRECIPITACION_TOTAL'].rolling(window=2).mean() # Suavizado a 2 periodos\n",
    "df_analisis_full_particip_mes['PRECIPITACION_TOTAL_rolling_3'] = df_analisis_full_particip_mes['PRECIPITACION_TOTAL'].rolling(window=3).mean() # Suavizado a 3 periodos\n",
    "df_analisis_full_particip_mes['PRECIPITACION_TOTAL_rolling_4'] = df_analisis_full_particip_mes['PRECIPITACION_TOTAL'].rolling(window=4).mean() # Suavizado a 4 periodos\n"
   ]
  },
  {
   "cell_type": "code",
   "execution_count": null,
   "metadata": {},
   "outputs": [],
   "source": [
    "df_analisis_full_particip_sem"
   ]
  },
  {
   "cell_type": "code",
   "execution_count": null,
   "metadata": {},
   "outputs": [],
   "source": [
    "def function_correlacion_cruzada(df_x):\n",
    "    # Excluir la columna 'TEA' para calcular la correlación con las variables explicativas temporales\n",
    "    df_explicativas = df_x.drop(columns=['TEA_total'])\n",
    "\n",
    "    # Calcular la correlación entre TEA y cada variable explicativa temporal utilizando rolling().corr()\n",
    "    correlation_df = df_explicativas.rolling(window=4).corr(df_x['TEA_total'])\n",
    "    function_save(correlation_df)\n",
    "\n",
    "    # Mostrar el DataFrame de correlaciones\n",
    "    print(correlation_df)\n",
    "\n",
    "    # Crear un gráfico de calor para visualizar las correlaciones\n",
    "    plt.figure(figsize=(15, 3))\n",
    "    sns.heatmap(correlation_df.T, annot=False, cmap='coolwarm', linewidths=0.5)\n",
    "    plt.title('Correlación entre TEA y Variables Explicativas Temporales')\n",
    "    plt.xlabel('Puntos Temporales')\n",
    "    plt.ylabel('Variables Explicativas Temporales')\n",
    "    plt.show()\n"
   ]
  },
  {
   "cell_type": "code",
   "execution_count": null,
   "metadata": {},
   "outputs": [],
   "source": [
    "df_analisis_full_prueba = df_analisis_full_particip_mes[['FECHA','TEA_total','RFFProcesado']]\n",
    "\n",
    "# df_analisis_full_prueba = df_analisis_full[['FECHA','TEA_total_rolling_2','%_MADUROS_rolling_2']]\n",
    "# df_analisis_full_prueba = df_analisis_full[['FECHA','TEA_total_rolling_2','%_SMADUROS_rolling_2']]\n",
    "\n",
    "df_analisis_full_prueba.set_index('FECHA',inplace=True)\n",
    "df_analisis_full_prueba.head()\n"
   ]
  },
  {
   "cell_type": "code",
   "execution_count": null,
   "metadata": {},
   "outputs": [],
   "source": [
    "function_correlacion_cruzada(df_analisis_full_prueba)"
   ]
  },
  {
   "cell_type": "code",
   "execution_count": null,
   "metadata": {},
   "outputs": [],
   "source": []
  },
  {
   "cell_type": "code",
   "execution_count": null,
   "metadata": {},
   "outputs": [],
   "source": []
  },
  {
   "cell_type": "code",
   "execution_count": null,
   "metadata": {},
   "outputs": [],
   "source": []
  },
  {
   "cell_type": "code",
   "execution_count": null,
   "metadata": {},
   "outputs": [],
   "source": [
    "# Configuración del gráfico\n",
    "fig, ax = plt.subplots(figsize=(10, 6))\n",
    "\n",
    "# Ajuste del ancho de las barras\n",
    "# Graficar barras apiladas\n",
    "ax.bar(df_analisis_participacion_mes['Fecha_cat'], df_analisis_participacion_mes['Propios_Porcentaje'],  label='Propios')\n",
    "ax.bar(df_analisis_participacion_mes['Fecha_cat'], df_analisis_participacion_mes['Terceros_Porcentaje'], bottom=df_analisis_participacion_mes['Propios_Porcentaje'], label='Terceros')\n",
    "\n",
    "# Etiquetas y título\n",
    "ax.set_xlabel('Fecha')\n",
    "ax.set_ylabel('Porcentaje de Participación')\n",
    "ax.set_title('Participación de RFF Procesado a través del tiempo')\n",
    "ax.legend()\n",
    "\n",
    "# Mostrar gráfico\n",
    "plt.xticks(rotation=0)\n",
    "plt.tight_layout()\n",
    "plt.show()"
   ]
  },
  {
   "cell_type": "code",
   "execution_count": null,
   "metadata": {},
   "outputs": [],
   "source": []
  },
  {
   "cell_type": "code",
   "execution_count": null,
   "metadata": {},
   "outputs": [],
   "source": []
  },
  {
   "cell_type": "code",
   "execution_count": null,
   "metadata": {},
   "outputs": [],
   "source": []
  },
  {
   "cell_type": "code",
   "execution_count": null,
   "metadata": {},
   "outputs": [],
   "source": []
  },
  {
   "cell_type": "markdown",
   "metadata": {},
   "source": [
    "##### DATOS PRECIPITACION"
   ]
  },
  {
   "cell_type": "code",
   "execution_count": null,
   "metadata": {},
   "outputs": [],
   "source": [
    "print(df_calidad_precipitacion_full.PLANTACION.unique())\n",
    "\n",
    "print(f'Precipitacion máxima: {df_calidad_precipitacion_full.PRECIPITACION_TOTAL.max()}')\n",
    "print(f'Precipitacion mínima: {df_calidad_precipitacion_full.PRECIPITACION_TOTAL.min()}')\n",
    "print(f'Precipitacion promedio: {df_calidad_precipitacion_full.PRECIPITACION_TOTAL.mean()}')\n",
    "\n",
    "df_calidad_precipitacion_full.head()\n"
   ]
  },
  {
   "cell_type": "code",
   "execution_count": null,
   "metadata": {},
   "outputs": [],
   "source": [
    "print(df_calidad_precipitacion_full.PLANTACION.unique())\n",
    "# function_tendencia_unica(df_calidad_precipitacion_full[df_calidad_precipitacion_full['PLANTACION'] == 'Palmawasi'], 'PRECIPITACION_TOTAL','blue')\n",
    "function_tendencia_unica(df_calidad_precipitacion_full[df_calidad_precipitacion_full['PLANTACION'] == 'Shanuzi'], 'PRECIPITACION_TOTAL','blue')"
   ]
  },
  {
   "cell_type": "code",
   "execution_count": null,
   "metadata": {},
   "outputs": [],
   "source": [
    "## REDUCIENDO LA BASE A SEMANA\n",
    "## ############\n",
    "## ############\n",
    "\n",
    "# df_analisis_tendencia_precip = df_calidad_precipitacion_full[df_calidad_precipitacion_full['PLANTACION'] == 'Palmawasi']\n",
    "df_analisis_tendencia_precip = df_calidad_precipitacion_full[df_calidad_precipitacion_full['PLANTACION'] == 'Shanuzi']\n",
    "\n",
    "\n",
    "df_analisis_tendencia_precip['FECHA'] = pd.to_datetime(df_analisis_tendencia_precip['FECHA'])\n",
    "\n",
    "# Crear columna 'SEMANA' que indica el año y la semana del año\n",
    "df_analisis_tendencia_precip['SEMANA'] = df_analisis_tendencia_precip['FECHA'].dt.to_period('W').apply(lambda r: r.start_time)\n",
    "\n",
    "print(df_analisis_tendencia_precip.PLANTACION.unique())\n",
    "df_analisis_tendencia_precip.head()"
   ]
  },
  {
   "cell_type": "code",
   "execution_count": null,
   "metadata": {},
   "outputs": [],
   "source": [
    "# Agrupar por 'SEMANA' y calcular la suma de 'VALOR1' y 'VALOR2'\n",
    "df_analisis_tendencia_semana_precip = df_analisis_tendencia_precip.groupby(['SEMANA','PLANTACION']).agg({'PRECIPITACION_TOTAL': 'sum'}).reset_index()\n",
    "df_analisis_tendencia_semana_precip.columns = ['FECHA','PLANTACION','PRECIPITACION_TOTAL']\n",
    "df_analisis_tendencia_semana_precip.head()"
   ]
  },
  {
   "cell_type": "code",
   "execution_count": null,
   "metadata": {},
   "outputs": [],
   "source": [
    "function_tendencia_unica(df_analisis_tendencia_semana_precip, 'PRECIPITACION_TOTAL','blue')"
   ]
  },
  {
   "cell_type": "code",
   "execution_count": null,
   "metadata": {},
   "outputs": [],
   "source": []
  },
  {
   "cell_type": "code",
   "execution_count": null,
   "metadata": {},
   "outputs": [],
   "source": []
  },
  {
   "cell_type": "code",
   "execution_count": null,
   "metadata": {},
   "outputs": [],
   "source": []
  },
  {
   "cell_type": "code",
   "execution_count": null,
   "metadata": {},
   "outputs": [],
   "source": [
    "df_filtrado_3 = df_analisis_tendencia_semana_precip"
   ]
  },
  {
   "cell_type": "markdown",
   "metadata": {},
   "source": [
    "Calidad racimos propios"
   ]
  },
  {
   "cell_type": "code",
   "execution_count": null,
   "metadata": {},
   "outputs": [],
   "source": [
    "print(df_analisis_tendencia_semana_2.PLANTACION.unique())\n",
    "df_analisis_tendencia_semana_2.head()"
   ]
  },
  {
   "cell_type": "code",
   "execution_count": null,
   "metadata": {},
   "outputs": [],
   "source": []
  },
  {
   "cell_type": "code",
   "execution_count": null,
   "metadata": {},
   "outputs": [],
   "source": [
    "# AÑADIENDO DATOS DE BALANZA Y FABRICA\n",
    "# #######################\n",
    "# #######################\n",
    "\n",
    "# Unir los DataFrames en base a 'FECHA' y 'PLANTACION'\n",
    "df_analisis_full_precip = pd.merge(df_analisis_tendencia_semana_precip,\n",
    "                            df_analisis_tendencia_semana_2,\n",
    "                            on=['FECHA', 'PLANTACION'], how='outer')\n",
    "# Convertir 'FECHA' a formato datetime\n",
    "df_analisis_full_precip['FECHA'] = pd.to_datetime(df_analisis_full_precip['FECHA'])\n",
    "print(df_analisis_full_precip.PLANTACION.unique())\n",
    "df_analisis_full_precip.head()"
   ]
  },
  {
   "cell_type": "code",
   "execution_count": null,
   "metadata": {},
   "outputs": [],
   "source": [
    "# fecha_limite_sem = pd.Timestamp('2019-01-01') ## --> Para sede Palmawasi\n",
    "fecha_limite_sem = pd.Timestamp('2021-01-01') ## --> Para sede Palmawasi\n",
    "\n",
    "df_analisis_full_precip = df_analisis_full_precip[df_analisis_full_precip['FECHA'] >= fecha_limite_sem]\n",
    "df_analisis_full_precip.head()"
   ]
  },
  {
   "cell_type": "code",
   "execution_count": null,
   "metadata": {},
   "outputs": [],
   "source": [
    "# Crear figura y ejes\n",
    "fig, ax1 = plt.subplots(figsize=(15, 6))\n",
    "\n",
    "plantacion_name = df_analisis_full_precip['PLANTACION'].unique()\n",
    "\n",
    "# Graficar la primera variable en el eje principal\n",
    "ax1.plot(df_analisis_full_precip['FECHA'], df_analisis_full_precip['PRECIPITACION_TOTAL'], color='blue', marker='o', linestyle='-', label='PRECIPITACION_TOTAL')\n",
    "ax1.set_xlabel('Fecha')\n",
    "ax1.set_ylabel('Variable 1', color='blue')\n",
    "ax1.tick_params(axis='y', labelcolor='blue')\n",
    "\n",
    "# Crear eje secundario\n",
    "ax2 = ax1.twinx()\n",
    "# ax2.plot(df_analisis_full_precip['FECHA'], df_analisis_full_precip['Peso_MALFORMADOA'], color='green', marker='s', linestyle='--', label='Peso_MALFORMADOA')\n",
    "ax2.plot(df_analisis_full_precip['FECHA'], df_analisis_full_precip['Peso_MALFORMADOB'], color='green', marker='s', linestyle='--', label='Peso_MALFORMADOB')\n",
    "\n",
    "ax2.set_ylabel('Variable 2', color='green')\n",
    "ax2.tick_params(axis='y', labelcolor='green')\n",
    "\n",
    "# Agregar títulos y leyendas\n",
    "fig.suptitle(f'{plantacion_name[0]} - Comparación de variables con diferentes escalas', fontsize=14)\n",
    "ax1.legend(loc='upper left')\n",
    "ax2.legend(loc='upper right')\n",
    "\n",
    "# Mostrar gráfico\n",
    "plt.grid(True)\n",
    "plt.show()\n",
    "\n"
   ]
  },
  {
   "cell_type": "code",
   "execution_count": null,
   "metadata": {},
   "outputs": [],
   "source": [
    "df_analisis_full_precip['PRECIPITACION_TOTAL'].corr(df_analisis_full_precip['Peso_MALFORMADOA'])\n",
    "# df_analisis_full_precip['PRECIPITACION_TOTAL_rolling_2'].corr(df_analisis_full_precip['Peso_MALFORMADOB_rolling_2'])\n"
   ]
  },
  {
   "cell_type": "code",
   "execution_count": null,
   "metadata": {},
   "outputs": [],
   "source": [
    "\n",
    "# Suavizando por medias moviles\n",
    "# ----------\n",
    "# Desplazar 'VARIABLE_1' un período hacia adelante\n",
    "df_analisis_full_precip['PRECIPITACION_TOTAL_rolling_2'] = df_analisis_full_precip['PRECIPITACION_TOTAL'].rolling(window=2).mean() # Suavizado a 2 periodos\n",
    "df_analisis_full_precip['PRECIPITACION_TOTAL_rolling_3'] = df_analisis_full_precip['PRECIPITACION_TOTAL'].rolling(window=3).mean() # Suavizado a 3 periodos\n",
    "df_analisis_full_precip['PRECIPITACION_TOTAL_rolling_4'] = df_analisis_full_precip['PRECIPITACION_TOTAL'].rolling(window=4).mean() # Suavizado a 4 periodos\n",
    "\n",
    "df_analisis_full_precip['Peso_VERDES_rolling_2'] = df_analisis_full_precip['Peso_VERDES'].rolling(window=2).mean() # Suavizado a 2 periodos\n",
    "df_analisis_full_precip['Peso_VERDES_rolling_3'] = df_analisis_full_precip['Peso_VERDES'].rolling(window=3).mean() # Suavizado a 3 periodos\n",
    "df_analisis_full_precip['Peso_VERDES_rolling_4'] = df_analisis_full_precip['Peso_VERDES'].rolling(window=4).mean() # Suavizado a 4 periodos\n",
    "\n",
    "df_analisis_full_precip['Peso_MADUROS_rolling_2'] = df_analisis_full_precip['Peso_MADUROS'].rolling(window=2).mean() # Suavizado a 2 periodos\n",
    "df_analisis_full_precip['Peso_MADUROS_rolling_3'] = df_analisis_full_precip['Peso_MADUROS'].rolling(window=3).mean() # Suavizado a 3 periodos\n",
    "df_analisis_full_precip['Peso_MADUROS_rolling_4'] = df_analisis_full_precip['Peso_MADUROS'].rolling(window=4).mean() # Suavizado a 4 periodos\n",
    "\n",
    "df_analisis_full_precip['Peso_SMADUROS_rolling_2'] = df_analisis_full_precip['Peso_SMADUROS'].rolling(window=2).mean() # Suavizado a 2 periodos\n",
    "df_analisis_full_precip['Peso_SMADUROS_rolling_3'] = df_analisis_full_precip['Peso_SMADUROS'].rolling(window=3).mean() # Suavizado a 3 periodos\n",
    "df_analisis_full_precip['Peso_SMADUROS_rolling_4'] = df_analisis_full_precip['Peso_SMADUROS'].rolling(window=4).mean() # Suavizado a 4 periodos\n",
    "\n",
    "# --\n",
    "df_analisis_full_precip['Peso_MALFORMADOA_rolling_2'] = df_analisis_full_precip['Peso_MALFORMADOA'].rolling(window=2).mean() # Suavizado a 2 periodos\n",
    "df_analisis_full_precip['Peso_MALFORMADOA_rolling_3'] = df_analisis_full_precip['Peso_MALFORMADOA'].rolling(window=3).mean() # Suavizado a 3 periodos\n",
    "df_analisis_full_precip['Peso_MALFORMADOA_rolling_4'] = df_analisis_full_precip['Peso_MALFORMADOA'].rolling(window=4).mean() # Suavizado a 4 periodos\n",
    "\n",
    "df_analisis_full_precip['Peso_MALFORMADOB_rolling_2'] = df_analisis_full_precip['Peso_MALFORMADOB'].rolling(window=2).mean() # Suavizado a 2 periodos\n",
    "df_analisis_full_precip['Peso_MALFORMADOB_rolling_3'] = df_analisis_full_precip['Peso_MALFORMADOB'].rolling(window=3).mean() # Suavizado a 3 periodos\n",
    "df_analisis_full_precip['Peso_MALFORMADOB_rolling_4'] = df_analisis_full_precip['Peso_MALFORMADOB'].rolling(window=4).mean() # Suavizado a 4 periodos\n",
    "\n",
    "df_analisis_full_precip.head()\n"
   ]
  },
  {
   "cell_type": "code",
   "execution_count": null,
   "metadata": {},
   "outputs": [],
   "source": []
  },
  {
   "cell_type": "code",
   "execution_count": null,
   "metadata": {},
   "outputs": [],
   "source": [
    "# Crear figura y ejes\n",
    "fig, ax1 = plt.subplots(figsize=(15, 6))\n",
    "\n",
    "plantacion_name = df_analisis_full_precip['PLANTACION'].unique()\n",
    "\n",
    "# Graficar la primera variable en el eje principal\n",
    "ax1.plot(df_analisis_full_precip['FECHA'], df_analisis_full_precip['PRECIPITACION_TOTAL_rolling_2'], color='blue', marker='o', linestyle='-', label='PRECIPITACION_TOTAL_rolling_2')\n",
    "ax1.set_xlabel('Fecha')\n",
    "ax1.set_ylabel('Variable 1', color='blue')\n",
    "ax1.tick_params(axis='y', labelcolor='blue')\n",
    "\n",
    "# Crear eje secundario\n",
    "ax2 = ax1.twinx()\n",
    "# ax2.plot(df_analisis_full_precip['FECHA'], df_analisis_full_precip['Peso_MALFORMADOA_rolling_2'], color='green', marker='s', linestyle='--', label='Peso_MALFORMADOA_rolling_2')\n",
    "ax2.plot(df_analisis_full_precip['FECHA'], df_analisis_full_precip['Peso_MALFORMADOB_rolling_2'], color='green', marker='s', linestyle='--', label='Peso_MALFORMADOB_rolling_2')\n",
    "\n",
    "ax2.set_ylabel('Variable 2', color='green')\n",
    "ax2.tick_params(axis='y', labelcolor='green')\n",
    "\n",
    "# Agregar títulos y leyendas\n",
    "fig.suptitle(f'{plantacion_name[0]} - Comparación de Variables con Diferentes Escalas', fontsize=14)\n",
    "ax1.legend(loc='upper left')\n",
    "ax2.legend(loc='upper right')\n",
    "\n",
    "# Mostrar gráfico\n",
    "plt.grid(True)\n",
    "plt.show()\n",
    "\n"
   ]
  },
  {
   "cell_type": "code",
   "execution_count": null,
   "metadata": {},
   "outputs": [],
   "source": [
    "df_analisis_full_precip.columns"
   ]
  },
  {
   "cell_type": "code",
   "execution_count": null,
   "metadata": {},
   "outputs": [],
   "source": [
    "# Correlaciones analisis\n",
    "# ----------\n",
    "# ------\n",
    "\n",
    "df_analisis_full_precip['PRECIPITACION_TOTAL_rolling_2'].corr(df_analisis_full_precip['Peso_VERDES_rolling_2'])\n",
    "# df_analisis_full_precip['PRECIPITACION_TOTAL_rolling_2'].corr(df_analisis_full_precip['Peso_MADUROS_rolling_2'])\n",
    "# df_analisis_full_precip['PRECIPITACION_TOTAL_rolling_2'].corr(df_analisis_full_precip['Peso_SMADUROS_rolling_2'])\n",
    "\n",
    "# df_analisis_full_precip['PRECIPITACION_TOTAL_rolling_3'].corr(df_analisis_full_precip['Peso_MALFORMADOA_rolling_2'])\n",
    "# df_analisis_full_precip['PRECIPITACION_TOTAL_rolling_2'].corr(df_analisis_full_precip['Peso_MALFORMADOB_rolling_2'])\n",
    "\n",
    "\n",
    "\n",
    "\n"
   ]
  },
  {
   "cell_type": "code",
   "execution_count": null,
   "metadata": {},
   "outputs": [],
   "source": [
    "def correlacion_cruzada(serie1, serie2):\n",
    "    lags = np.arange(-len(serie1) + 1, len(serie1))\n",
    "    corr = [serie1.corr(serie2.shift(lag)) for lag in lags]\n",
    "    return lags, corr\n",
    "\n",
    "# lags, corr = correlacion_cruzada(df_analisis_full_precip['PRECIPITACION_TOTAL_rolling_2'], df_analisis_full_precip['Peso_MALFORMADOA_rolling_2'])\n",
    "# lags, corr = correlacion_cruzada(df_analisis_full_precip['PRECIPITACION_TOTAL_rolling_2'], df_analisis_full_precip['Peso_MALFORMADOB_rolling_2'])\n",
    "# lags, corr = correlacion_cruzada(df_analisis_full_precip['PRECIPITACION_TOTAL_rolling_2'], df_analisis_full_precip['Peso_VERDES_rolling_2'])\n",
    "# lags, corr = correlacion_cruzada(df_analisis_full_precip['PRECIPITACION_TOTAL_rolling_2'], df_analisis_full_precip['Peso_MADUROS_rolling_2'])\n",
    "lags, corr = correlacion_cruzada(df_analisis_full_precip['PRECIPITACION_TOTAL_rolling_2'], df_analisis_full_precip['Peso_SMADUROS_rolling_2'])\n",
    "\n"
   ]
  },
  {
   "cell_type": "code",
   "execution_count": null,
   "metadata": {},
   "outputs": [],
   "source": [
    "# lags, corr\n",
    "\n",
    "# Crear el DataFrame correlaciones cruzadas\n",
    "df_lags_corr = pd.DataFrame({'lags': lags, 'corr': corr})\n",
    "function_save(df_lags_corr)\n",
    "df_lags_corr.head()"
   ]
  },
  {
   "cell_type": "code",
   "execution_count": null,
   "metadata": {},
   "outputs": [],
   "source": [
    "\n",
    "# Graficar correlación cruzada\n",
    "plt.figure(figsize=(12, 6))\n",
    "plt.plot(lags, corr)\n",
    "# plt.title('Correlación Cruzada entre \"PRECIPITACION_TOTAL_rolling_2\" y \"Peso_MAFORMADOA_rolling_2\"')\n",
    "# plt.title('Correlación Cruzada entre \"PRECIPITACION_TOTAL_rolling_2\" y \"Peso_MAFORMADOB_rolling_2\"')\n",
    "# plt.title('Correlación Cruzada entre \"PRECIPITACION_TOTAL_rolling_2\" y \"Peso_VERDES_rolling_2\"')\n",
    "# plt.title('Correlación Cruzada entre \"PRECIPITACION_TOTAL_rolling_2\" y \"Peso_MADUROS_rolling_2\"')\n",
    "plt.title('Correlación Cruzada entre \"PRECIPITACION_TOTAL_rolling_2\" y \"Peso_SMADUROS_rolling_2\"')\n",
    "\n",
    "\n",
    "plt.xlabel('Desfase')\n",
    "plt.ylabel('Correlación')\n",
    "plt.axvline(0, color='gray', linestyle='--', linewidth=1)\n",
    "plt.axhline(0, color='gray', linestyle='--', linewidth=1)\n",
    "plt.show()\n"
   ]
  },
  {
   "cell_type": "code",
   "execution_count": null,
   "metadata": {},
   "outputs": [],
   "source": [
    "\n",
    "# Probando traslaciones temporales\n",
    "# -----------\n",
    "\n",
    "# Desplazar 'VARIABLE_1' un período hacia adelante\n",
    "\n",
    "# -- Verdes\n",
    "# --\n",
    "df_analisis_full_precip['Peso_VERDES_rolling_2_SHIFTED_38'] = df_analisis_full_precip['Peso_VERDES_rolling_2'].shift(-38)\n",
    "df_analisis_full_precip['Peso_VERDES_rolling_2_SHIFTED_43'] = df_analisis_full_precip['Peso_VERDES_rolling_2'].shift(-43)\n",
    "\n",
    "# -- Maduros\n",
    "# --\n",
    "df_analisis_full_precip['Peso_MADUROS_rolling_2_SHIFTED_41'] = df_analisis_full_precip['Peso_MADUROS_rolling_2'].shift(-41)\n",
    "df_analisis_full_precip['Peso_MADUROS_rolling_2_SHIFTED_34'] = df_analisis_full_precip['Peso_MADUROS_rolling_2'].shift(-34)\n",
    "\n",
    "\n",
    "# -- SMaduros\n",
    "# --\n",
    "df_analisis_full_precip['Peso_SMADUROS_rolling_2_SHIFTED_45'] = df_analisis_full_precip['Peso_SMADUROS_rolling_2'].shift(-45)\n",
    "\n",
    "\n",
    "# -- tipo A\n",
    "# --\n",
    "df_analisis_full_precip['Peso_MALFORMADOA_rolling_2_SHIFTED_39'] = df_analisis_full_precip['Peso_MALFORMADOA_rolling_2'].shift(-39)\n",
    "df_analisis_full_precip['Peso_MALFORMADOA_rolling_2_SHIFTED_40'] = df_analisis_full_precip['Peso_MALFORMADOA_rolling_2'].shift(-40)\n",
    "df_analisis_full_precip['Peso_MALFORMADOA_rolling_2_SHIFTED_41'] = df_analisis_full_precip['Peso_MALFORMADOA_rolling_2'].shift(-41)\n",
    "# --\n",
    "\n",
    "# -- tipo B\n",
    "# --\n",
    "df_analisis_full_precip['Peso_MALFORMADOB_rolling_2_SHIFTED_33'] = df_analisis_full_precip['Peso_MALFORMADOB_rolling_2'].shift(-33)\n",
    "df_analisis_full_precip['Peso_MALFORMADOB_rolling_2_SHIFTED_39'] = df_analisis_full_precip['Peso_MALFORMADOB_rolling_2'].shift(-39)\n",
    "df_analisis_full_precip['Peso_MALFORMADOB_rolling_2_SHIFTED_40'] = df_analisis_full_precip['Peso_MALFORMADOB_rolling_2'].shift(-40)\n",
    "df_analisis_full_precip['Peso_MALFORMADOB_rolling_2_SHIFTED_41'] = df_analisis_full_precip['Peso_MALFORMADOB_rolling_2'].shift(-41)\n",
    "\n",
    "df_analisis_full_precip.head()\n"
   ]
  },
  {
   "cell_type": "code",
   "execution_count": null,
   "metadata": {},
   "outputs": [],
   "source": [
    "# Crear figura y ejes\n",
    "fig, ax1 = plt.subplots(figsize=(15, 6))\n",
    "\n",
    "plantacion_name = df_analisis_full_precip['PLANTACION'].unique()\n",
    "\n",
    "# Graficar la primera variable en el eje principal\n",
    "ax1.plot(df_analisis_full_precip['FECHA'], df_analisis_full_precip['PRECIPITACION_TOTAL_rolling_2'], color='blue', marker='o', linestyle='-', label='PRECIPITACION_TOTAL_rolling_2')\n",
    "ax1.set_xlabel('Fecha')\n",
    "ax1.set_ylabel('Variable 1', color='blue')\n",
    "ax1.tick_params(axis='y', labelcolor='blue')\n",
    "\n",
    "# Crear eje secundario\n",
    "ax2 = ax1.twinx()\n",
    "# ax2.plot(df_analisis_full_precip['FECHA'], df_analisis_full_precip['Peso_MALFORMADOA_rolling_2_SHIFTED_40'], color='green', marker='s', linestyle='--', label='Peso_MALFORMADOA_rolling_2_SHIFTED_40')\n",
    "# ax2.plot(df_analisis_full_precip['FECHA'], df_analisis_full_precip['Peso_MALFORMADOB_rolling_2_SHIFTED_40'], color='green', marker='s', linestyle='--', label='Peso_MALFORMADOB_rolling_2_SHIFTED_40')\n",
    "# ax2.plot(df_analisis_full_precip['FECHA'], df_analisis_full_precip['Peso_MALFORMADOB_rolling_2_SHIFTED_33'], color='green', marker='s', linestyle='--', label='Peso_MALFORMADOB_rolling_2_SHIFTED_33')\n",
    "# ax2.plot(df_analisis_full_precip['FECHA'], df_analisis_full_precip['Peso_VERDES_rolling_2_SHIFTED_43'], color='green', marker='s', linestyle='--', label='Peso_VERDES_rolling_2_SHIFTED_43')\n",
    "# ax2.plot(df_analisis_full_precip['FECHA'], df_analisis_full_precip['Peso_MADUROS_rolling_2_SHIFTED_34'], color='green', marker='s', linestyle='--', label='Peso_MADUROS_rolling_2_SHIFTED_34')\n",
    "ax2.plot(df_analisis_full_precip['FECHA'], df_analisis_full_precip['Peso_SMADUROS_rolling_2_SHIFTED_45'], color='green', marker='s', linestyle='--', label='Peso_SMADUROS_rolling_2_SHIFTED_45')\n",
    "\n",
    "\n",
    "ax2.set_ylabel('Variable 2', color='green')\n",
    "ax2.tick_params(axis='y', labelcolor='green')\n",
    "\n",
    "# Agregar títulos y leyendas\n",
    "fig.suptitle(f'{plantacion_name[0]} - Comparación de Variables con Diferentes Escalas', fontsize=14)\n",
    "ax1.legend(loc='upper left')\n",
    "ax2.legend(loc='upper right')\n",
    "\n",
    "# Mostrar gráfico\n",
    "plt.grid(True)\n",
    "plt.show()"
   ]
  },
  {
   "cell_type": "code",
   "execution_count": null,
   "metadata": {},
   "outputs": [],
   "source": [
    "function_tendencia_unica(df_analisis_full_precip, 'Peso_SMADUROS')"
   ]
  },
  {
   "cell_type": "code",
   "execution_count": null,
   "metadata": {},
   "outputs": [],
   "source": [
    "# tipo A\n",
    "# df_analisis_full_precip['PRECIPITACION_TOTAL_rolling_2'].corr(df_analisis_full_precip['Peso_MAFORMADOA_rolling_2'])\n",
    "# df_analisis_full_precip['PRECIPITACION_TOTAL_rolling_2'].corr(df_analisis_full_precip['Peso_MALFORMADOA_rolling_2_SHIFTED_40'])\n",
    "\n",
    "# -- tipo B\n",
    "# df_analisis_full_precip['PRECIPITACION_TOTAL_rolling_2'].corr(df_analisis_full_precip['Peso_MALFORMADOB_rolling_2'])\n",
    "df_analisis_full_precip['PRECIPITACION_TOTAL_rolling_4'].corr(df_analisis_full_precip['Peso_MALFORMADOB_rolling_2_SHIFTED_33'])\n",
    "# df_analisis_full_precip['PRECIPITACION_TOTAL_rolling_4'].corr(df_analisis_full_precip['Peso_MALFORMADOB_rolling_2_SHIFTED_40'])\n"
   ]
  },
  {
   "cell_type": "code",
   "execution_count": null,
   "metadata": {},
   "outputs": [],
   "source": [
    "# Crear figura y ejes\n",
    "fig, ax1 = plt.subplots(figsize=(15, 6))\n",
    "\n",
    "plantacion_name = df_analisis_full_precip['PLANTACION'].unique()\n",
    "\n",
    "# Graficar la primera variable en el eje principal\n",
    "ax1.plot(df_analisis_full_precip['FECHA'], df_analisis_full_precip['Peso_MALFORMADOA_rolling_2_SHIFTED_40'], color='blue', marker='o', linestyle='-', label='Peso_MALFORMADOA_rolling_2_SHIFTED_40')\n",
    "#ax1.plot(df_analisis_full_precip['FECHA'], df_analisis_full_precip['Peso_MALFORMADOB_rolling_2_SHIFTED_40'], color='blue', marker='o', linestyle='-', label='Peso_MALFORMADOB_rolling_2_SHIFTED_40')\n",
    "\n",
    "ax1.set_xlabel('Fecha')\n",
    "ax1.set_ylabel('Variable 1', color='blue')\n",
    "ax1.tick_params(axis='y', labelcolor='blue')\n",
    "\n",
    "# Crear eje secundario\n",
    "ax2 = ax1.twinx()\n",
    "ax2.plot(df_analisis_full_precip['FECHA'], df_analisis_full_precip['Peso_MALFORMADOA_rolling_2'], color='green', marker='s', linestyle='--', label='Peso_MALFORMADOA_rolling_2')\n",
    "# ax2.plot(df_analisis_full_precip['FECHA'], df_analisis_full_precip['Peso_MALFORMADOB_rolling_2'], color='green', marker='s', linestyle='--', label='Peso_MALFORMADOB_rolling_2')\n",
    "\n",
    "ax2.set_ylabel('Variable 2', color='green')\n",
    "ax2.tick_params(axis='y', labelcolor='green')\n",
    "\n",
    "# Agregar títulos y leyendas\n",
    "fig.suptitle(f'{plantacion_name[0]} - Comparación de Variables con Diferentes Escalas', fontsize=14)\n",
    "ax1.legend(loc='upper left')\n",
    "ax2.legend(loc='upper right')\n",
    "\n",
    "# Mostrar gráfico\n",
    "plt.grid(True)\n",
    "plt.show()\n"
   ]
  },
  {
   "cell_type": "code",
   "execution_count": null,
   "metadata": {},
   "outputs": [],
   "source": []
  },
  {
   "cell_type": "code",
   "execution_count": null,
   "metadata": {},
   "outputs": [],
   "source": []
  },
  {
   "cell_type": "markdown",
   "metadata": {},
   "source": [
    "Cruzando precipitación con TEA"
   ]
  },
  {
   "cell_type": "code",
   "execution_count": null,
   "metadata": {},
   "outputs": [],
   "source": [
    "# AÑADIENDO DATOS DE BALANZA Y FABRICA\n",
    "# #######################\n",
    "# #######################\n",
    "\n",
    "fecha_limite_sem = pd.Timestamp('2016-01-01') ## --> Para sede Palmawasi\n",
    "# fecha_limite_sem = pd.Timestamp('2016-01-01') ## --> Para sede Shanuzi\n",
    "\n",
    "# Unir los DataFrames en base a 'FECHA' y 'PLANTACION'\n",
    "df_analisis_full_precip_tea = pd.merge(df_analisis_tendencia_semana,\n",
    "                                       df_analisis_tendencia_semana_precip,\n",
    "                                       on=['FECHA', 'PLANTACION'], how='outer')\n",
    "# Convertir 'FECHA' a formato datetime\n",
    "df_analisis_full_precip_tea['FECHA'] = pd.to_datetime(df_analisis_full_precip_tea['FECHA'])\n",
    "df_analisis_full_precip_tea =  df_analisis_full_precip_tea[df_analisis_full_precip_tea['FECHA'] >= fecha_limite_sem]\n",
    "\n",
    "print(df_analisis_full_precip_tea.PLANTACION.unique())\n",
    "df_analisis_full_precip_tea.head()"
   ]
  },
  {
   "cell_type": "code",
   "execution_count": null,
   "metadata": {},
   "outputs": [],
   "source": [
    "# Crear figura y ejes\n",
    "fig, ax1 = plt.subplots(figsize=(15, 5))\n",
    "\n",
    "plantacion_name = df_analisis_full_precip_tea['PLANTACION'].unique()\n",
    "\n",
    "# Graficar la primera variable en el eje principal\n",
    "ax1.plot(df_analisis_full_precip_tea['FECHA'], df_analisis_full_precip_tea['PRECIPITACION_TOTAL'], color='blue', marker='o', linestyle='-', label='PRECIPITACION_TOTAL')\n",
    "ax1.set_xlabel('Fecha')\n",
    "ax1.set_ylabel('Variable 1', color='blue')\n",
    "ax1.tick_params(axis='y', labelcolor='blue')\n",
    "\n",
    "# Crear eje secundario\n",
    "ax2 = ax1.twinx()\n",
    "ax2.plot(df_analisis_full_precip_tea['FECHA'], df_analisis_full_precip_tea['TEA_total'], color='red', marker='s', linestyle='--', label='TEA_total')\n",
    "\n",
    "ax2.set_ylabel('Variable 2', color='red')\n",
    "ax2.tick_params(axis='y', labelcolor='red')\n",
    "\n",
    "# Agregar títulos y leyendas\n",
    "fig.suptitle(f'{plantacion_name[0]} - Comparación de variables con diferentes escalas', fontsize=14)\n",
    "ax1.legend(loc='upper left')\n",
    "ax2.legend(loc='upper right')\n",
    "\n",
    "# Mostrar gráfico\n",
    "plt.grid(True)\n",
    "plt.show()\n"
   ]
  },
  {
   "cell_type": "code",
   "execution_count": null,
   "metadata": {},
   "outputs": [],
   "source": []
  },
  {
   "cell_type": "code",
   "execution_count": null,
   "metadata": {},
   "outputs": [],
   "source": [
    "# function_tendencia_unica(df_analisis_full_precip_tea,'PRECIPITACION_TOTAL','blue')\n",
    "function_tendencia_unica(df_analisis_full_precip_tea,'TEA_total','red')"
   ]
  },
  {
   "cell_type": "code",
   "execution_count": null,
   "metadata": {},
   "outputs": [],
   "source": [
    "\n",
    "# Suavizando por medias moviles\n",
    "# ----------\n",
    "# Desplazar 'VARIABLE_1' un período hacia adelante\n",
    "df_analisis_full_precip_tea['PRECIPITACION_TOTAL_rolling_2'] = df_analisis_full_precip_tea['PRECIPITACION_TOTAL'].rolling(window=2).mean() # Suavizado a 2 periodos\n",
    "df_analisis_full_precip_tea['PRECIPITACION_TOTAL_rolling_3'] = df_analisis_full_precip_tea['PRECIPITACION_TOTAL'].rolling(window=3).mean() # Suavizado a 3 periodos\n",
    "df_analisis_full_precip_tea['PRECIPITACION_TOTAL_rolling_4'] = df_analisis_full_precip_tea['PRECIPITACION_TOTAL'].rolling(window=4).mean() # Suavizado a 4 periodos\n",
    "\n",
    "df_analisis_full_precip_tea['TEA_total_rolling_2'] = df_analisis_full_precip_tea['TEA_total'].rolling(window=2).mean() # Suavizado a 2 periodos\n",
    "df_analisis_full_precip_tea['TEA_total_rolling_3'] = df_analisis_full_precip_tea['TEA_total'].rolling(window=3).mean() # Suavizado a 3 periodos\n",
    "df_analisis_full_precip_tea['TEA_total_rolling_4'] = df_analisis_full_precip_tea['TEA_total'].rolling(window=4).mean() # Suavizado a 4 periodos\n",
    "\n",
    "df_analisis_full_precip_tea.head()\n",
    "\n"
   ]
  },
  {
   "cell_type": "code",
   "execution_count": null,
   "metadata": {},
   "outputs": [],
   "source": [
    "# Crear figura y ejes\n",
    "fig, ax1 = plt.subplots(figsize=(15, 6))\n",
    "\n",
    "plantacion_name = df_analisis_full_precip_tea['PLANTACION'].unique()\n",
    "\n",
    "# Graficar la primera variable en el eje principal\n",
    "ax1.plot(df_analisis_full_precip_tea['FECHA'], df_analisis_full_precip_tea['PRECIPITACION_TOTAL_rolling_2'], color='blue', marker='o', linestyle='-', label='PRECIPITACION_TOTAL_rolling_2')\n",
    "ax1.set_xlabel('Fecha')\n",
    "ax1.set_ylabel('Variable 1', color='blue')\n",
    "ax1.tick_params(axis='y', labelcolor='blue')\n",
    "\n",
    "# Crear eje secundario\n",
    "ax2 = ax1.twinx()\n",
    "ax2.plot(df_analisis_full_precip_tea['FECHA'], df_analisis_full_precip_tea['TEA_total_rolling_2'], color='red', marker='s', linestyle='--', label='TEA_total_rolling_2')\n",
    "\n",
    "ax2.set_ylabel('Variable 2', color='red')\n",
    "ax2.tick_params(axis='y', labelcolor='red')\n",
    "\n",
    "# Agregar títulos y leyendas\n",
    "fig.suptitle(f'{plantacion_name[0]} - Comparación de Variables con Diferentes Escalas', fontsize=14)\n",
    "ax1.legend(loc='upper left')\n",
    "ax2.legend(loc='upper right')\n",
    "\n",
    "# Mostrar gráfico\n",
    "plt.grid(True)\n",
    "plt.show()\n"
   ]
  },
  {
   "cell_type": "code",
   "execution_count": null,
   "metadata": {},
   "outputs": [],
   "source": [
    "# Correlaciones analisis\n",
    "# ----------\n",
    "# ------\n",
    "df_analisis_full_precip_tea['PRECIPITACION_TOTAL_rolling_2'].corr(df_analisis_full_precip_tea['TEA_total_rolling_2'])\n"
   ]
  },
  {
   "cell_type": "code",
   "execution_count": null,
   "metadata": {},
   "outputs": [],
   "source": [
    "def correlacion_cruzada(serie1, serie2):\n",
    "    lags = np.arange(-len(serie1) + 1, len(serie1))\n",
    "    corr = [serie1.corr(serie2.shift(lag)) for lag in lags]\n",
    "    return lags, corr\n",
    "\n",
    "lags, corr = correlacion_cruzada(df_analisis_full_precip_tea['PRECIPITACION_TOTAL_rolling_2'], df_analisis_full_precip_tea['TEA_total_rolling_2'])\n"
   ]
  },
  {
   "cell_type": "code",
   "execution_count": null,
   "metadata": {},
   "outputs": [],
   "source": [
    "# lags, corr\n",
    "\n",
    "# Crear el DataFrame correlaciones cruzadas\n",
    "df_lags_corr = pd.DataFrame({'lags': lags, 'corr': corr})\n",
    "function_save(df_lags_corr)\n",
    "df_lags_corr.head()\n"
   ]
  },
  {
   "cell_type": "code",
   "execution_count": null,
   "metadata": {},
   "outputs": [],
   "source": [
    "# Graficar correlación cruzada\n",
    "plt.figure(figsize=(12, 6))\n",
    "plt.plot(lags, corr)\n",
    "plt.title('Correlación Cruzada entre \"PRECIPITACION_TOTAL_rolling_2\" y \"TEA_total_rolling_2\"')\n",
    "plt.xlabel('Desfase')\n",
    "plt.ylabel('Correlación')\n",
    "plt.axvline(0, color='gray', linestyle='--', linewidth=1)\n",
    "plt.axhline(0, color='gray', linestyle='--', linewidth=1)\n",
    "plt.show()"
   ]
  },
  {
   "cell_type": "code",
   "execution_count": null,
   "metadata": {},
   "outputs": [],
   "source": [
    "\n",
    "# Probando traslaciones temporales\n",
    "# -----------\n",
    "\n",
    "# Desplazar 'VARIABLE_1' un período hacia adelante\n",
    "# -- Palmawasi\n",
    "# --\n",
    "df_analisis_full_precip_tea['TEA_total_rolling_2_SHIFTED_28'] = df_analisis_full_precip_tea['TEA_total_rolling_2'].shift(-28)\n",
    "df_analisis_full_precip_tea['TEA_total_rolling_2_SHIFTED_29'] = df_analisis_full_precip_tea['TEA_total_rolling_2'].shift(-29)\n",
    "df_analisis_full_precip_tea['TEA_total_rolling_2_SHIFTED_30'] = df_analisis_full_precip_tea['TEA_total_rolling_2'].shift(-30)\n",
    "# --\n",
    "\n",
    "# -- Shanusi\n",
    "# --\n",
    "# df_analisis_full_precip_tea['TEA_total_rolling_2_SHIFTED_25'] = df_analisis_full_precip_tea['TEA_total_rolling_2'].shift(-25)\n",
    "# df_analisis_full_precip_tea['TEA_total_rolling_2_SHIFTED_26'] = df_analisis_full_precip_tea['TEA_total_rolling_2'].shift(-26)\n",
    "# df_analisis_full_precip_tea['TEA_total_rolling_2_SHIFTED_27'] = df_analisis_full_precip_tea['TEA_total_rolling_2'].shift(-27)\n"
   ]
  },
  {
   "cell_type": "code",
   "execution_count": null,
   "metadata": {},
   "outputs": [],
   "source": [
    "# Correlaciones analisis\n",
    "# ----------\n",
    "# ------\n",
    "# df_analisis_full_precip_tea['PRECIPITACION_TOTAL_rolling_2'].corr(df_analisis_full_precip_tea['TEA_total_rolling_2_SHIFTED_27'])\n",
    "df_analisis_full_precip_tea['PRECIPITACION_TOTAL_rolling_2'].corr(df_analisis_full_precip_tea['TEA_total_rolling_2_SHIFTED_29'])\n"
   ]
  },
  {
   "cell_type": "code",
   "execution_count": null,
   "metadata": {},
   "outputs": [],
   "source": [
    "# Crear figura y ejes\n",
    "fig, ax1 = plt.subplots(figsize=(20, 5))\n",
    "\n",
    "plantacion_name = df_analisis_full_precip_tea['PLANTACION'].unique()\n",
    "\n",
    "# Graficar la primera variable en el eje principal\n",
    "ax1.plot(df_analisis_full_precip_tea['FECHA'], df_analisis_full_precip_tea['PRECIPITACION_TOTAL_rolling_2'], color='blue', marker='o', linestyle='-', label='PRECIPITACION_TOTAL_rolling_2')\n",
    "ax1.set_xlabel('Fecha')\n",
    "ax1.set_ylabel('Variable 1', color='blue')\n",
    "ax1.tick_params(axis='y', labelcolor='blue')\n",
    "\n",
    "# Crear eje secundario\n",
    "ax2 = ax1.twinx()\n",
    "# ax2.plot(df_analisis_full_precip_tea['FECHA'], df_analisis_full_precip_tea['TEA_total_rolling_2'], color='red', marker='s', linestyle='--', label='TEA_total_rolling_2')\n",
    "ax2.plot(df_analisis_full_precip_tea['FECHA'], df_analisis_full_precip_tea['TEA_total_rolling_2_SHIFTED_29'], color='red', marker='s', linestyle='--', label='TEA_total_rolling_2_SHIFTED_7_month')\n",
    "\n",
    "ax2.set_ylabel('Variable 2', color='red')\n",
    "ax2.tick_params(axis='y', labelcolor='red')\n",
    "\n",
    "# Agregar títulos y leyendas\n",
    "fig.suptitle(f'{plantacion_name[0]} - Comparación de Variables con Diferentes Escalas', fontsize=14)\n",
    "ax1.legend(loc='upper left')\n",
    "ax2.legend(loc='upper right')\n",
    "\n",
    "# Mostrar gráfico\n",
    "plt.grid(True)\n",
    "plt.show()\n"
   ]
  },
  {
   "cell_type": "code",
   "execution_count": null,
   "metadata": {},
   "outputs": [],
   "source": []
  },
  {
   "cell_type": "code",
   "execution_count": null,
   "metadata": {},
   "outputs": [],
   "source": []
  },
  {
   "cell_type": "code",
   "execution_count": null,
   "metadata": {},
   "outputs": [],
   "source": []
  },
  {
   "cell_type": "markdown",
   "metadata": {},
   "source": [
    "##### RELACION CALIDAD FRUTOS VS TEA"
   ]
  },
  {
   "cell_type": "code",
   "execution_count": null,
   "metadata": {},
   "outputs": [],
   "source": [
    "# Completando datos con Peso balanza de Propios y terceros\n",
    "# ----\n",
    "df_sabana_balanza_full['FECHA'] = pd.to_datetime(df_sabana_balanza_full['FECHA'])\n",
    "df_sabana_balanza_full.head()"
   ]
  },
  {
   "cell_type": "code",
   "execution_count": null,
   "metadata": {},
   "outputs": [],
   "source": [
    "df_calidad_racimos_propios_full['FECHA'] = pd.to_datetime(df_calidad_racimos_propios_full['FECHA'])\n",
    "df_calidad_racimos_propios_full.head()\n"
   ]
  },
  {
   "cell_type": "code",
   "execution_count": null,
   "metadata": {},
   "outputs": [],
   "source": [
    "print(f'dimension inicial: {df_calidad_racimos_propios_full.shape}')\n",
    "\n",
    "df_calidad_racimos_propios_full_v2 = pd.merge(df_calidad_racimos_propios_full,\n",
    "                                              df_sabana_balanza_full[['FECHA','PLANTACION','PROPIOS']],\n",
    "                                              on = ['FECHA','PLANTACION'],\n",
    "                                              how = 'outer')\n",
    "\n",
    "df_calidad_racimos_propios_full_v2['FECHA'] = pd.to_datetime(df_calidad_racimos_propios_full_v2['FECHA'])\n",
    "df_calidad_racimos_propios_full_v2['Peso_propios'] = df_calidad_racimos_propios_full_v2['PROPIOS']*1000\n",
    "df_calidad_racimos_propios_full_v2['PCTJ'] = df_calidad_racimos_propios_full_v2['Peso']/df_calidad_racimos_propios_full_v2['Peso_propios']\n",
    "# Reemplazar valores 'inf' con NaN\n",
    "df_calidad_racimos_propios_full_v2['PCTJ'].replace([np.inf, -np.inf], np.nan, inplace=True)\n",
    "\n",
    "print(f'dimension final: {df_calidad_racimos_propios_full_v2.shape}')\n",
    "df_calidad_racimos_propios_full_v2.head()"
   ]
  },
  {
   "cell_type": "code",
   "execution_count": null,
   "metadata": {},
   "outputs": [],
   "source": [
    "df_sabana_balanza_full.PLANTACION.unique()"
   ]
  },
  {
   "cell_type": "code",
   "execution_count": null,
   "metadata": {},
   "outputs": [],
   "source": [
    "# Limpiando variables faltantes con peso en balanza\n",
    "\n",
    "\n",
    "# -----------\n",
    "# -------\n",
    "# ---\n",
    "sede_analisis = 'Palmawasi'\n",
    "# sede_analisis = 'Shanuzi'\n",
    "# sede_analisis = 'Tulumayo'\n",
    "\n",
    "# -------\n",
    "# ---\n",
    "\n",
    "\n",
    "min_fecha_balanza = df_sabana_balanza_full[df_sabana_balanza_full['PLANTACION'] == sede_analisis].FECHA.min()\n",
    "min_fecha_racimos = df_calidad_racimos_propios_full[df_calidad_racimos_propios_full['PLANTACION'] == sede_analisis].FECHA.min()\n",
    "\n",
    "print(f'df_sabana_balanza_full: {min_fecha_balanza}')\n",
    "print(f'df_calidad_racimos_propios_full {min_fecha_racimos}')\n",
    "\n",
    "df_calidad_racimos_propios_filter = df_calidad_racimos_propios_full_v2[df_calidad_racimos_propios_full_v2['PLANTACION'] == sede_analisis]\n",
    "df_calidad_racimos_propios_filter['FECHA'] = pd.to_datetime(df_calidad_racimos_propios_filter['FECHA'])\n",
    "\n",
    "print(df_calidad_racimos_propios_filter.PLANTACION.unique())\n",
    "df_calidad_racimos_propios_filter.head()"
   ]
  },
  {
   "cell_type": "code",
   "execution_count": null,
   "metadata": {},
   "outputs": [],
   "source": [
    "# Filtrar el DataFrame para considerar solo las fechas mayores a 2023-03-16\n",
    "fecha_limite = pd.Timestamp('2021-08-18') ## --> Para sede Palmawasi\n",
    "# fecha_limite = pd.Timestamp('2023-03-17') ## --> Para sede Shanuzi\n",
    "# fecha_limite = pd.Timestamp('2022-01-03') ## --> Para sede Tulumayo\n",
    "\n",
    "df_filtrado =  df_calidad_racimos_propios_filter[df_calidad_racimos_propios_filter['FECHA'] >= fecha_limite]\n",
    "df_filtrado.head()"
   ]
  },
  {
   "cell_type": "code",
   "execution_count": null,
   "metadata": {},
   "outputs": [],
   "source": [
    "# Completando porcentajes faltanes\n",
    "# -------\n",
    "# Crear una nueva columna 'AÑO' que contenga solo el año\n",
    "df_filtrado['AÑO'] = df_filtrado['FECHA'].dt.year\n",
    "\n",
    "print(df_filtrado.groupby('AÑO').agg({'Peso':'sum'}).reset_index())\n",
    "resumen_pctj = df_filtrado.groupby('AÑO').agg({'PCTJ':'mean'}).reset_index()\n",
    "resumen_pctj.columns = ['AÑO','PCTJ_AÑO']\n",
    "\n",
    "# -------------\n",
    "resumen_pctj.iloc[0,1] = 0.966405 ## --> Para Palmawasi\n",
    "# resumen_pctj['PCTJ_AÑO'] = 1 ## --> Tulumayo\n",
    "# -------------\n",
    "print('---------------------')\n",
    "print(resumen_pctj)"
   ]
  },
  {
   "cell_type": "code",
   "execution_count": null,
   "metadata": {},
   "outputs": [],
   "source": [
    "df_filtrado = pd.merge(df_filtrado,\n",
    "                       resumen_pctj,\n",
    "                       on = 'AÑO',\n",
    "                       how = 'left')\n",
    "df_filtrado.head()\n"
   ]
  },
  {
   "cell_type": "code",
   "execution_count": null,
   "metadata": {},
   "outputs": [],
   "source": [
    "# Crear la nueva columna 'Peso_ajustado'\n",
    "df_filtrado['Peso_ajustado'] = np.where(df_filtrado['Peso'].isna(), df_filtrado['Peso_propios'] * df_filtrado['PCTJ_AÑO'], df_filtrado['Peso'])\n",
    "df_filtrado.head()\n"
   ]
  },
  {
   "cell_type": "code",
   "execution_count": null,
   "metadata": {},
   "outputs": [],
   "source": [
    "## REDUCIENDO LA BASE A SEMANA Y MES\n",
    "## ############\n",
    "## ############\n",
    "\n",
    "df_analisis_tendencia_2 = df_filtrado\n",
    "df_analisis_tendencia_2['FECHA'] = pd.to_datetime(df_analisis_tendencia_2['FECHA'])\n",
    "\n",
    "# Crear columna 'SEMANA' que indica el año y la semana del año\n",
    "df_analisis_tendencia_2['SEMANA'] = df_analisis_tendencia_2['FECHA'].dt.to_period('W').apply(lambda r: r.start_time)\n",
    "\n",
    "# Crear columna 'MES' que indica el año y el mes del año\n",
    "df_analisis_tendencia_2M = df_analisis_tendencia_2\n",
    "df_analisis_tendencia_2M['MES'] = df_analisis_tendencia_2M['FECHA'].dt.to_period('M').apply(lambda r: r.start_time)"
   ]
  },
  {
   "cell_type": "code",
   "execution_count": null,
   "metadata": {},
   "outputs": [],
   "source": [
    "# df_analisis_tendencia_2.head()\n",
    "df_analisis_tendencia_2M.head()\n"
   ]
  },
  {
   "cell_type": "code",
   "execution_count": null,
   "metadata": {},
   "outputs": [],
   "source": [
    "# Agrupar por 'SEMANA' y 'MES' calcular la suma de valores\n",
    "# ------------------------\n",
    "# -----------------\n",
    "# ----------\n",
    "df_analisis_tendencia_semana_2 = df_analisis_tendencia_2.groupby(['SEMANA','PLANTACION']).agg({'VERDES':'sum',\n",
    "                                                                                               'MADUROS':'sum',\n",
    "                                                                                               'SMADUROS':'sum',\n",
    "                                                                                               'ESCOBAJO':'sum',\n",
    "                                                                                               'MALFORMADOA':'sum',\n",
    "                                                                                               'MALFORMADOB':'sum',\n",
    "                                                                                               'Peso': 'sum',\n",
    "                                                                                               'Peso_ajustado':'sum',\n",
    "                                                                                               'Racimos':'sum',\n",
    "                                                                                               'Peso_propios':'sum'}).reset_index()\n",
    "\n",
    "df_analisis_tendencia_semana_2.columns = ['FECHA', 'PLANTACION', 'VERDES', 'MADUROS', 'SMADUROS', 'ESCOBAJO','MALFORMADOA','MALFORMADOB','Peso','Peso_ajustado','Racimos','Peso_propios']\n",
    "\n",
    "# Agrupar por 'MES' y calcular la suma de 'VALOR1' y 'VALOR2'\n",
    "df_analisis_tendencia_mes_2 = df_analisis_tendencia_2M.groupby(['MES','PLANTACION']).agg({'VERDES':'sum',\n",
    "                                                                                          'MADUROS':'sum',\n",
    "                                                                                          'SMADUROS':'sum',\n",
    "                                                                                          'ESCOBAJO':'sum',\n",
    "                                                                                          'MALFORMADOA':'sum',\n",
    "                                                                                          'MALFORMADOB':'sum',\n",
    "                                                                                          'Peso': 'sum',\n",
    "                                                                                          'Peso_ajustado':'sum',\n",
    "                                                                                          'Racimos':'sum',\n",
    "                                                                                          'Peso_propios':'sum'}).reset_index()\n",
    "\n",
    "df_analisis_tendencia_mes_2.columns = ['FECHA', 'PLANTACION', 'VERDES', 'MADUROS', 'SMADUROS', 'ESCOBAJO','MALFORMADOA','MALFORMADOB','Peso','Peso_ajustado','Racimos','Peso_propios']\n",
    "\n"
   ]
  },
  {
   "cell_type": "code",
   "execution_count": null,
   "metadata": {},
   "outputs": [],
   "source": [
    "df_analisis_tendencia_semana_2.head()\n",
    "# df_analisis_tendencia_mes_2.head()\n"
   ]
  },
  {
   "cell_type": "code",
   "execution_count": null,
   "metadata": {},
   "outputs": [],
   "source": [
    "# Creando variables de calidad\n",
    "# ----\n",
    "\n",
    "# VARIABLES CALIDAD SEMANAL\n",
    "# -------\n",
    "# ---\n",
    "df_analisis_tendencia_semana_2['Peso_CALIDAD'] = df_analisis_tendencia_semana_2[['VERDES','MADUROS','SMADUROS','ESCOBAJO']].sum(axis=1)\n",
    "\n",
    "df_analisis_tendencia_semana_2['%_VERDES'] = df_analisis_tendencia_semana_2['VERDES']/ df_analisis_tendencia_semana_2['Peso_CALIDAD']\n",
    "df_analisis_tendencia_semana_2['%_MADUROS'] = df_analisis_tendencia_semana_2['MADUROS']/ df_analisis_tendencia_semana_2['Peso_CALIDAD']\n",
    "df_analisis_tendencia_semana_2['%_SMADUROS'] = df_analisis_tendencia_semana_2['SMADUROS']/ df_analisis_tendencia_semana_2['Peso_CALIDAD']\n",
    "df_analisis_tendencia_semana_2['%_ESCOBAJO'] = df_analisis_tendencia_semana_2['ESCOBAJO']/ df_analisis_tendencia_semana_2['Peso_CALIDAD']\n",
    "df_analisis_tendencia_semana_2['%_MALFORMADOA'] = df_analisis_tendencia_semana_2['MALFORMADOA']/ df_analisis_tendencia_semana_2['Peso_CALIDAD']\n",
    "df_analisis_tendencia_semana_2['%_MALFORMADOB'] = df_analisis_tendencia_semana_2['MALFORMADOB']/ df_analisis_tendencia_semana_2['Peso_CALIDAD']\n",
    "\n",
    "\n",
    "df_analisis_tendencia_semana_2['Peso_VERDES'] = df_analisis_tendencia_semana_2['Peso_ajustado']*(df_analisis_tendencia_semana_2['VERDES']/ df_analisis_tendencia_semana_2['Peso_CALIDAD'])\n",
    "df_analisis_tendencia_semana_2['Peso_MADUROS'] = df_analisis_tendencia_semana_2['Peso_ajustado']*(df_analisis_tendencia_semana_2['MADUROS']/ df_analisis_tendencia_semana_2['Peso_CALIDAD'])\n",
    "df_analisis_tendencia_semana_2['Peso_SMADUROS'] = df_analisis_tendencia_semana_2['Peso_ajustado']*(df_analisis_tendencia_semana_2['SMADUROS']/ df_analisis_tendencia_semana_2['Peso_CALIDAD'])\n",
    "df_analisis_tendencia_semana_2['Peso_ESCOBAJO'] = df_analisis_tendencia_semana_2['Peso_ajustado']*(df_analisis_tendencia_semana_2['ESCOBAJO']/ df_analisis_tendencia_semana_2['Peso_CALIDAD'])\n",
    "df_analisis_tendencia_semana_2['Peso_MALFORMADOA'] = df_analisis_tendencia_semana_2['Peso_ajustado']*(df_analisis_tendencia_semana_2['MALFORMADOA']/ df_analisis_tendencia_semana_2['Peso_CALIDAD'])\n",
    "df_analisis_tendencia_semana_2['Peso_MALFORMADOB'] = df_analisis_tendencia_semana_2['Peso_ajustado']*(df_analisis_tendencia_semana_2['MALFORMADOB']/ df_analisis_tendencia_semana_2['Peso_CALIDAD'])\n",
    "\n",
    "df_analisis_tendencia_semana_2['FECHA'] = pd.to_datetime(df_analisis_tendencia_semana_2['FECHA'])\n",
    "\n",
    "\n",
    "# VARIABLES CALIDAD MES\n",
    "# -------\n",
    "# ---\n",
    "\n",
    "df_analisis_tendencia_mes_2['Peso_CALIDAD'] = df_analisis_tendencia_mes_2[['VERDES','MADUROS','SMADUROS','ESCOBAJO']].sum(axis=1)\n",
    "\n",
    "df_analisis_tendencia_mes_2['Peso_VERDES'] = df_analisis_tendencia_mes_2['Peso_ajustado']*(df_analisis_tendencia_mes_2['VERDES']/ df_analisis_tendencia_mes_2['Peso_CALIDAD'])\n",
    "df_analisis_tendencia_mes_2['Peso_MADUROS'] = df_analisis_tendencia_mes_2['Peso_ajustado']*(df_analisis_tendencia_mes_2['MADUROS']/ df_analisis_tendencia_mes_2['Peso_CALIDAD'])\n",
    "df_analisis_tendencia_mes_2['Peso_SMADUROS'] = df_analisis_tendencia_mes_2['Peso_ajustado']*(df_analisis_tendencia_mes_2['SMADUROS']/ df_analisis_tendencia_mes_2['Peso_CALIDAD'])\n",
    "df_analisis_tendencia_mes_2['Peso_ESCOBAJO'] = df_analisis_tendencia_mes_2['Peso_ajustado']*(df_analisis_tendencia_mes_2['ESCOBAJO']/ df_analisis_tendencia_mes_2['Peso_CALIDAD'])\n",
    "df_analisis_tendencia_mes_2['Peso_MALFORMADOA'] = df_analisis_tendencia_mes_2['Peso_ajustado']*(df_analisis_tendencia_mes_2['MALFORMADOA']/ df_analisis_tendencia_mes_2['Peso_CALIDAD'])\n",
    "df_analisis_tendencia_mes_2['Peso_MALFORMADOB'] = df_analisis_tendencia_mes_2['Peso_ajustado']*(df_analisis_tendencia_mes_2['MALFORMADOB']/ df_analisis_tendencia_mes_2['Peso_CALIDAD'])\n",
    "\n",
    "df_analisis_tendencia_mes_2['FECHA'] = pd.to_datetime(df_analisis_tendencia_mes_2['FECHA'])\n",
    "\n",
    "\n",
    "df_analisis_tendencia_semana_2.head()\n"
   ]
  },
  {
   "cell_type": "code",
   "execution_count": null,
   "metadata": {},
   "outputs": [],
   "source": [
    "# function_tendencia_unica(df_analisis_tendencia_mes_2,'Peso_MADUROS','green')\n",
    "\n",
    "# function_tendencia_unica(df_analisis_tendencia_semana_2,'Peso_MADUROS','green')\n",
    "\n",
    "print(df_analisis_tendencia_semana_2.PLANTACION.unique())\n",
    "function_tendencia_unica(df_analisis_tendencia_semana_2,'Peso_SMADUROS','green')\n",
    "\n"
   ]
  },
  {
   "cell_type": "code",
   "execution_count": null,
   "metadata": {},
   "outputs": [],
   "source": []
  },
  {
   "cell_type": "markdown",
   "metadata": {},
   "source": [
    "TEA SEMANAL Y MENSUAL - CASHCOST"
   ]
  },
  {
   "cell_type": "code",
   "execution_count": null,
   "metadata": {},
   "outputs": [],
   "source": [
    "\n",
    "# -----------\n",
    "# -------\n",
    "# ---\n",
    "sede_analisis = 'Palmawasi'\n",
    "# sede_analisis = 'Shanuzi'\n",
    "\n",
    "\n",
    "\n",
    "# -------\n",
    "# ---\n",
    "\n",
    "df_participacion_tea =  df_participacion_cashcost_full[df_participacion_cashcost_full['PLANTACION'] == sede_analisis]\n",
    "df_participacion_tea.head()"
   ]
  },
  {
   "cell_type": "code",
   "execution_count": null,
   "metadata": {},
   "outputs": [],
   "source": [
    "## REDUCIENDO LA BASE A SEMANA\n",
    "## ############\n",
    "## ############\n",
    "\n",
    "df_analisis_tendencia = df_participacion_tea\n",
    "\n",
    "df_analisis_tendencia['FECHA'] = pd.to_datetime(df_analisis_tendencia['FECHA'])\n",
    "\n",
    "# Crear columna 'SEMANA'\n",
    "df_analisis_tendencia['SEMANA'] = df_analisis_tendencia['FECHA'].dt.to_period('W').apply(lambda r: r.start_time)\n",
    "# Crear columna 'MES'\n",
    "df_analisis_tendencia['MES'] = df_analisis_tendencia['FECHA'].dt.to_period('M').apply(lambda r: r.start_time)\n",
    "\n",
    "\n",
    "\n",
    "# Agrupar por 'SEMANA' y 'MES' calcular la suma de valores\n",
    "# ------------------------\n",
    "# -----------------\n",
    "# ----------\n",
    "df_analisis_tendencia_semana = df_analisis_tendencia.groupby(['SEMANA','PLANTACION']).agg({'RFFProcesado': 'sum',\n",
    "                                                                                           'RFFProcesadoPropios':'sum',\n",
    "                                                                                           'RFFProcesadoTerceros':'sum',\n",
    "                                                                                           'CPOObtenidoPropios':'sum',\n",
    "                                                                                           'CPOObtenidoTerceros':'sum',\n",
    "                                                                                           'CPOObtenido': 'sum'}).reset_index()\n",
    "df_analisis_tendencia_semana.columns = ['FECHA','PLANTACION', 'RFFProcesado', 'RFFProcesadoPropios','RFFProcesadoTerceros', 'CPOObtenidoPropios', 'CPOObtenidoTerceros','CPOObtenido']\n",
    "df_analisis_tendencia_semana['TEA_total'] = df_analisis_tendencia_semana['CPOObtenido']/df_analisis_tendencia_semana['RFFProcesado']\n",
    "df_analisis_tendencia_semana['TEA_propios'] = df_analisis_tendencia_semana['CPOObtenidoPropios']/df_analisis_tendencia_semana['RFFProcesadoPropios']\n",
    "df_analisis_tendencia_semana['TEA_terceros'] = df_analisis_tendencia_semana['CPOObtenidoTerceros']/df_analisis_tendencia_semana['RFFProcesadoTerceros']\n",
    "\n",
    "\n",
    "df_analisis_tendencia_mes = df_analisis_tendencia.groupby(['MES','PLANTACION']).agg({'RFFProcesado': 'sum',\n",
    "                                                                                     'RFFProcesadoPropios':'sum',\n",
    "                                                                                     'RFFProcesadoTerceros':'sum',\n",
    "                                                                                     'CPOObtenidoPropios':'sum',\n",
    "                                                                                     'CPOObtenidoTerceros':'sum',\n",
    "                                                                                     'CPOObtenido': 'sum'}).reset_index()\n",
    "df_analisis_tendencia_mes.columns = ['FECHA','PLANTACION', 'RFFProcesado', 'RFFProcesadoPropios','RFFProcesadoTerceros', 'CPOObtenidoPropios', 'CPOObtenidoTerceros','CPOObtenido']\n",
    "df_analisis_tendencia_mes['TEA_total'] = df_analisis_tendencia_mes['CPOObtenido']/df_analisis_tendencia_mes['RFFProcesado']\n",
    "df_analisis_tendencia_mes['TEA_propios'] = df_analisis_tendencia_mes['CPOObtenidoPropios']/df_analisis_tendencia_mes['RFFProcesadoPropios']\n",
    "df_analisis_tendencia_mes['TEA_terceros'] = df_analisis_tendencia_mes['CPOObtenidoTerceros']/df_analisis_tendencia_mes['RFFProcesadoTerceros']\n",
    "\n"
   ]
  },
  {
   "cell_type": "code",
   "execution_count": null,
   "metadata": {},
   "outputs": [],
   "source": [
    "# Tendencias calidad de racimos\n",
    "# ---------------\n",
    "# ----------\n",
    "\n",
    "function_tendencia_unica(df_analisis_tendencia_semana_2,'Peso_SMADUROS','green')\n",
    "# function_tendencia_unica(df_analisis_tendencia_mes_2,'Peso_MADUROS','green')"
   ]
  },
  {
   "cell_type": "code",
   "execution_count": null,
   "metadata": {},
   "outputs": [],
   "source": [
    "# Tendencias TEA\n",
    "# ----------\n",
    "# --------\n",
    "\n",
    "print(df_analisis_tendencia_semana.PLANTACION.unique())\n",
    "function_tendencia_unica(df_analisis_tendencia_semana,'TEA_total','red')\n",
    "# function_tendencia_unica(df_analisis_tendencia_mes,'TEA_total','red')"
   ]
  },
  {
   "cell_type": "code",
   "execution_count": null,
   "metadata": {},
   "outputs": [],
   "source": [
    "# Ajustando datos segun las fechas de calidad de racimos\n",
    "# ---------------------\n",
    "# ---------------\n",
    "# ---------\n",
    "\n",
    "print(f'dimensión de base df_analisis_tendencia_semana_2: {df_analisis_tendencia_semana_2.FECHA.min()}')\n",
    "print(f'dimensión de base df_analisis_tendencia_mes_2: {df_analisis_tendencia_mes_2.FECHA.min()}')"
   ]
  },
  {
   "cell_type": "code",
   "execution_count": null,
   "metadata": {},
   "outputs": [],
   "source": [
    "# Filtrar el DataFrame para considerar solo las fechas mayores a 2023-03-16\n",
    "fecha_limite_sem = pd.Timestamp('2021-08-16') ## --> Para sede Palmawasi\n",
    "\n",
    "# fecha_limite_mes = pd.Timestamp('2021-08-01') ## --> Para sede Palmawasi\n",
    "# fecha_limite_mes = pd.Timestamp('2022-01-01') ## --> Para sede Palmawasi\n",
    "\n",
    "# fecha_limite_mes = pd.Timestamp('2023-03-01') ## --> Para sede Shanuzi\n",
    "# fecha_limite_sem = pd.Timestamp('2023-03-13') ## --> Para sede Shanuzi\n",
    "\n",
    "df_filtrado_semana =  df_analisis_tendencia_semana[df_analisis_tendencia_semana['FECHA'] >= fecha_limite_sem]\n",
    "df_filtrado_mes =  df_analisis_tendencia_mes[df_analisis_tendencia_mes['FECHA'] >= fecha_limite_mes]\n",
    "\n",
    "df_filtrado_semana.head()\n",
    "# df_filtrado_mes.head()"
   ]
  },
  {
   "cell_type": "code",
   "execution_count": null,
   "metadata": {},
   "outputs": [],
   "source": []
  },
  {
   "cell_type": "code",
   "execution_count": null,
   "metadata": {},
   "outputs": [],
   "source": [
    "# Tendencias TEA filtrado \n",
    "# ----------\n",
    "# --------\n",
    "print(df_filtrado_semana.PLANTACION.unique())\n",
    "function_tendencia_unica(df_filtrado_semana,'TEA_total','red')\n",
    "# function_tendencia_unica(df_filtrado_mes,'TEA_total','red')\n",
    "# function_tendencia_unica(df_filtrado_mes,'TEA_propios','blue')\n",
    "# function_tendencia_unica(df_filtrado_mes,'TEA_terceros','blue')\n"
   ]
  },
  {
   "cell_type": "code",
   "execution_count": null,
   "metadata": {},
   "outputs": [],
   "source": [
    "function_tendencia_unica(df_analisis_tendencia_semana_2,'Peso_SMADUROS','green')\n",
    "# function_tendencia_unica(df_analisis_tendencia_mes_2,'Peso_MADUROS','green')\n"
   ]
  },
  {
   "cell_type": "code",
   "execution_count": null,
   "metadata": {},
   "outputs": [],
   "source": []
  },
  {
   "cell_type": "code",
   "execution_count": null,
   "metadata": {},
   "outputs": [],
   "source": [
    "# calidad racimos\n",
    "# ----\n",
    "\n",
    "df_analisis_tendencia_semana_2\n",
    "df_analisis_tendencia_mes_2\n",
    "\n",
    "\n",
    "\n",
    "# TEA\n",
    "# ----\n",
    "df_analisis_tendencia_semana\n",
    "df_analisis_tendencia_mes"
   ]
  },
  {
   "cell_type": "code",
   "execution_count": null,
   "metadata": {},
   "outputs": [],
   "source": [
    "# AÑADIENDO DATOS - ANALISIS SEMANAL\n",
    "# #######################\n",
    "# #######################\n",
    "\n",
    "# Unir los DataFrames en base a 'FECHA' y 'PLANTACION'\n",
    "df_analisis_semana_full = pd.merge(df_analisis_tendencia_semana,\n",
    "                                   df_analisis_tendencia_semana_2,\n",
    "                                   on=['FECHA', 'PLANTACION'], how='outer')\n",
    "\n",
    "\n",
    "df_analisis_semana_full = df_analisis_semana_full[df_analisis_semana_full['FECHA'] >= fecha_limite_sem]\n",
    "# fecha_limite_mes\n",
    "\n",
    "# Convertir 'FECHA' a formato datetime\n",
    "df_analisis_semana_full['FECHA'] = pd.to_datetime(df_analisis_semana_full['FECHA'])\n",
    "print(df_analisis_semana_full.PLANTACION.unique())\n",
    "df_analisis_semana_full.head()\n",
    "\n",
    "\n",
    "# AÑADIENDO DATOS - ANALISIS MENSUAL\n",
    "# #######################\n",
    "# #######################\n",
    "\n",
    "# Unir los DataFrames en base a 'FECHA' y 'PLANTACION'\n",
    "# df_analisis_mes_full = pd.merge(df_analisis_tendencia_mes,\n",
    "#                                 df_analisis_tendencia_mes_2,\n",
    "#                                 on=['FECHA', 'PLANTACION'], how='outer')\n",
    "\n",
    "\n",
    "# df_analisis_mes_full = df_analisis_mes_full[df_analisis_mes_full['FECHA'] >= fecha_limite_mes]\n",
    "# fecha_limite_mes\n",
    "\n",
    "# Convertir 'FECHA' a formato datetime\n",
    "# df_analisis_mes_full['FECHA'] = pd.to_datetime(df_analisis_mes_full['FECHA'])\n",
    "# print(df_analisis_mes_full.PLANTACION.unique())\n"
   ]
  },
  {
   "cell_type": "code",
   "execution_count": null,
   "metadata": {},
   "outputs": [],
   "source": [
    "# Cuadramos BBDD para analizar\n",
    "# -----------------\n",
    "# --------------\n",
    "# ----------\n",
    "\n",
    "df_analisis_full = df_analisis_semana_full # ANALISIS SEMANAL\n",
    "# df_analisis_full = df_analisis_mes_full # ANALISIS MENSUAL\n",
    "\n",
    "df_analisis_full.head()"
   ]
  },
  {
   "cell_type": "code",
   "execution_count": null,
   "metadata": {},
   "outputs": [],
   "source": [
    "# fecha_limite_mes = pd.Timestamp('2023-03-01') ## --> Para sede Shanuzi\n",
    "fecha_limite_sem = pd.Timestamp('2023-03-13') ## --> Para sede Shanuzi\n",
    "\n",
    "df_analisis_full =  df_analisis_full[df_analisis_full['FECHA'] >= fecha_limite_sem]\n",
    "# df_filtrado_mes =  df_analisis_tendencia_mes[df_analisis_tendencia_mes['FECHA'] >= fecha_limite_mes]\n",
    "\n",
    "df_analisis_full.head()"
   ]
  },
  {
   "cell_type": "code",
   "execution_count": null,
   "metadata": {},
   "outputs": [],
   "source": []
  },
  {
   "cell_type": "code",
   "execution_count": null,
   "metadata": {},
   "outputs": [],
   "source": [
    "# Crear figura y ejes\n",
    "fig, ax1 = plt.subplots(figsize=(15, 6))\n",
    "\n",
    "plantacion_name = df_analisis_full['PLANTACION'].unique()\n",
    "\n",
    "# Graficar la primera variable en el eje principal\n",
    "ax1.plot(df_analisis_full['FECHA'], df_analisis_full['TEA_total'], color='red', marker='o', linestyle='-', label='TEA')\n",
    "ax1.set_xlabel('Fecha')\n",
    "ax1.set_ylabel('tea_total', color='red')\n",
    "ax1.tick_params(axis='y', labelcolor='red')\n",
    "\n",
    "# Crear eje secundario\n",
    "ax2 = ax1.twinx()\n",
    "# ax2.plot(df_filtrado_semana['FECHA'], df_filtrado_semana['Peso_MADUROS'], color='blue', marker='s', linestyle='--', label='Peso_MADUROS')\n",
    "ax2.plot(df_analisis_full['FECHA'], df_analisis_full['%_MADUROS'], color='blue', marker='s', linestyle='--', label='%_MADUROS')\n",
    "\n",
    "\n",
    "ax2.set_ylabel('Peso_SMADUROS', color='blue')\n",
    "ax2.tick_params(axis='y', labelcolor='blue')\n",
    "\n",
    "# Agregar títulos y leyendas\n",
    "fig.suptitle(f'{plantacion_name[0]} - Comparación de variables con diferentes escalas', fontsize=14)\n",
    "ax1.legend(loc='upper left')\n",
    "ax2.legend(loc='upper right')\n",
    "\n",
    "# Mostrar gráfico\n",
    "plt.grid(True)\n",
    "plt.show()\n"
   ]
  },
  {
   "cell_type": "code",
   "execution_count": null,
   "metadata": {},
   "outputs": [],
   "source": [
    "# Suavizando por medias moviles\n",
    "# ----------\n",
    "# Desplazar 'VARIABLE_1' un período hacia adelante\n",
    "df_analisis_full['TEA_total_rolling_2'] = df_analisis_full['TEA_total'].rolling(window=2).mean() # Suavizado a 2 periodos\n",
    "df_analisis_full['TEA_total_rolling_3'] = df_analisis_full['TEA_total'].rolling(window=3).mean() # Suavizado a 3 periodos\n",
    "df_analisis_full['TEA_total_rolling_4'] = df_analisis_full['TEA_total'].rolling(window=4).mean() # Suavizado a 4 periodos\n",
    "\n",
    "df_analisis_full['Peso_SMADUROS_rolling_2'] = df_analisis_full['Peso_SMADUROS'].rolling(window=2).mean() # Suavizado a 2 periodos\n",
    "df_analisis_full['Peso_SMADUROS_rolling_3'] = df_analisis_full['Peso_SMADUROS'].rolling(window=3).mean() # Suavizado a 3 periodos\n",
    "df_analisis_full['Peso_SMADUROS_rolling_4'] = df_analisis_full['Peso_SMADUROS'].rolling(window=4).mean() # Suavizado a 4 periodos\n",
    "\n",
    "df_analisis_full['Peso_MADUROS_rolling_2'] = df_analisis_full['Peso_MADUROS'].rolling(window=2).mean() # Suavizado a 2 periodos\n",
    "df_analisis_full['Peso_MADUROS_rolling_3'] = df_analisis_full['Peso_MADUROS'].rolling(window=3).mean() # Suavizado a 3 periodos\n",
    "df_analisis_full['Peso_MADUROS_rolling_4'] = df_analisis_full['Peso_MADUROS'].rolling(window=4).mean() # Suavizado a 4 periodos\n",
    "\n",
    "\n",
    "df_analisis_full['Peso_VERDES_rolling_2'] = df_analisis_full['Peso_VERDES'].rolling(window=2).mean() # Suavizado a 2 periodos\n",
    "df_analisis_full['Peso_VERDES_rolling_3'] = df_analisis_full['Peso_VERDES'].rolling(window=3).mean() # Suavizado a 3 periodos\n",
    "df_analisis_full['Peso_VERDES_rolling_4'] = df_analisis_full['Peso_VERDES'].rolling(window=4).mean() # Suavizado a 4 periodos\n",
    "df_analisis_full['Peso_VERDES_rolling_5'] = df_analisis_full['Peso_VERDES'].rolling(window=5).mean() # Suavizado a 4 periodos\n",
    "\n",
    "df_analisis_full['Peso_MALFORMADOA_rolling_2'] = df_analisis_full['Peso_MALFORMADOA'].rolling(window=2).mean() # Suavizado a 2 periodos\n",
    "df_analisis_full['Peso_MALFORMADOA_rolling_3'] = df_analisis_full['Peso_MALFORMADOA'].rolling(window=3).mean() # Suavizado a 3 periodos\n",
    "df_analisis_full['Peso_MALFORMADOA_rolling_4'] = df_analisis_full['Peso_MALFORMADOA'].rolling(window=4).mean() # Suavizado a 4 periodos\n",
    "\n",
    "df_analisis_full['Peso_MALFORMADOB_rolling_2'] = df_analisis_full['Peso_MALFORMADOB'].rolling(window=2).mean() # Suavizado a 2 periodos\n",
    "df_analisis_full['Peso_MALFORMADOB_rolling_3'] = df_analisis_full['Peso_MALFORMADOB'].rolling(window=3).mean() # Suavizado a 3 periodos\n",
    "df_analisis_full['Peso_MALFORMADOB_rolling_4'] = df_analisis_full['Peso_MALFORMADOB'].rolling(window=4).mean() # Suavizado a 4 periodos\n",
    "\n",
    "\n",
    "# -----------\n",
    "# ----\n",
    "\n",
    "df_analisis_full['%_SMADUROS_rolling_2'] = df_analisis_full['%_SMADUROS'].rolling(window=2).mean() # Suavizado a 2 periodos\n",
    "df_analisis_full['%_SMADUROS_rolling_3'] = df_analisis_full['%_SMADUROS'].rolling(window=3).mean() # Suavizado a 3 periodos\n",
    "df_analisis_full['%_SMADUROS_rolling_4'] = df_analisis_full['%_SMADUROS'].rolling(window=4).mean() # Suavizado a 4 periodos\n",
    "\n",
    "df_analisis_full['%_MADUROS_rolling_2'] = df_analisis_full['%_MADUROS'].rolling(window=2).mean() # Suavizado a 2 periodos\n",
    "df_analisis_full['%_MADUROS_rolling_3'] = df_analisis_full['%_MADUROS'].rolling(window=3).mean() # Suavizado a 3 periodos\n",
    "df_analisis_full['%_MADUROS_rolling_4'] = df_analisis_full['%_MADUROS'].rolling(window=4).mean() # Suavizado a 4 periodos\n",
    "\n",
    "df_analisis_full['%_VERDES_rolling_2'] = df_analisis_full['%_VERDES'].rolling(window=2).mean() # Suavizado a 2 periodos\n",
    "df_analisis_full['%_VERDES_rolling_3'] = df_analisis_full['%_VERDES'].rolling(window=3).mean() # Suavizado a 3 periodos\n",
    "df_analisis_full['%_VERDES_rolling_4'] = df_analisis_full['%_VERDES'].rolling(window=4).mean() # Suavizado a 4 periodos\n",
    "\n",
    "df_analisis_full['%_MALFORMADOA_rolling_2'] = df_analisis_full['%_MALFORMADOA'].rolling(window=2).mean() # Suavizado a 2 periodos\n",
    "df_analisis_full['%_MALFORMADOA_rolling_3'] = df_analisis_full['%_MALFORMADOA'].rolling(window=3).mean() # Suavizado a 3 periodos\n",
    "df_analisis_full['%_MALFORMADOA_rolling_4'] = df_analisis_full['%_MALFORMADOA'].rolling(window=4).mean() # Suavizado a 4 periodos\n",
    "\n",
    "df_analisis_full['%_MALFORMADOB_rolling_2'] = df_analisis_full['%_MALFORMADOB'].rolling(window=2).mean() # Suavizado a 2 periodos\n",
    "df_analisis_full['%_MALFORMADOB_rolling_3'] = df_analisis_full['%_MALFORMADOB'].rolling(window=3).mean() # Suavizado a 3 periodos\n",
    "df_analisis_full['%_MALFORMADOB_rolling_4'] = df_analisis_full['%_MALFORMADOB'].rolling(window=4).mean() # Suavizado a 4 periodos\n",
    "\n",
    "\n"
   ]
  },
  {
   "cell_type": "code",
   "execution_count": null,
   "metadata": {},
   "outputs": [],
   "source": [
    "df_analisis_full.columns"
   ]
  },
  {
   "cell_type": "code",
   "execution_count": null,
   "metadata": {},
   "outputs": [],
   "source": [
    "\n",
    "# Crear figura y ejes\n",
    "fig, ax1 = plt.subplots(figsize=(15, 6))\n",
    "\n",
    "plantacion_name = df_analisis_full['PLANTACION'].unique()\n",
    "\n",
    "# Graficar la primera variable en el eje principal\n",
    "ax1.plot(df_analisis_full['FECHA'], df_analisis_full['TEA_total_rolling_2'], color='red', marker='o', linestyle='-', label='TEA_total_rolling_2')\n",
    "ax1.set_xlabel('Fecha')\n",
    "ax1.set_ylabel('TEA_total', color='red')\n",
    "ax1.tick_params(axis='y', labelcolor='red')\n",
    "\n",
    "# Crear eje secundario\n",
    "ax2 = ax1.twinx()\n",
    "# ax2.plot(df_analisis_full['FECHA'], df_analisis_full['Peso_VERDES_rolling_2'], color='green', marker='s', linestyle='--', label='Peso_VERDES_rolling_2')\n",
    "ax2.plot(df_analisis_full['FECHA'], df_analisis_full['Peso_MADUROS_rolling_2'], color='green', marker='s', linestyle='--', label='Peso_MADUROS_rolling_2')\n",
    "# ax2.plot(df_analisis_full['FECHA'], df_analisis_full['Peso_SMADUROS_rolling_2'], color='green', marker='s', linestyle='--', label='Peso_SMADUROS_rolling_2')\n",
    "# ax2.plot(df_analisis_full['FECHA'], df_analisis_full['Peso_MALFORMADOA_rolling_2'], color='green', marker='s', linestyle='--', label='Peso_MALFORMADOA_rolling_2')\n",
    "# ax2.plot(df_analisis_full['FECHA'], df_analisis_full['Peso_MALFORMADOB_rolling_2'], color='green', marker='s', linestyle='--', label='Peso_MALFORMADOB_rolling_2')\n",
    "\n",
    "# ax2.plot(df_analisis_full['FECHA'], df_analisis_full['%_MADUROS_rolling_2'], color='blue', marker='s', linestyle='--', label='%_MADUROS_rolling_2')\n",
    "# ax2.plot(df_analisis_full['FECHA'], df_analisis_full['%_SMADUROS_rolling_2'], color='blue', marker='s', linestyle='--', label='%_SMADUROS_rolling_2')\n",
    "# ax2.plot(df_analisis_full['FECHA'], df_analisis_full['%_VERDES_rolling_2'], color='blue', marker='s', linestyle='--', label='%_VERDES_rolling_2')\n",
    "\n",
    "\n",
    "ax2.set_ylabel('Peso_SMADUROS', color='green')\n",
    "ax2.tick_params(axis='y', labelcolor='green')\n",
    "\n",
    "# Agregar títulos y leyendas\n",
    "fig.suptitle(f'{plantacion_name[0]} - Comparación de Variables con Diferentes Escalas', fontsize=14)\n",
    "ax1.legend(loc='upper left')\n",
    "ax2.legend(loc='upper right')\n",
    "\n",
    "# Mostrar gráfico\n",
    "plt.grid(True)\n",
    "plt.show()"
   ]
  },
  {
   "cell_type": "code",
   "execution_count": null,
   "metadata": {},
   "outputs": [],
   "source": [
    "function_save(df_analisis_full)"
   ]
  },
  {
   "cell_type": "code",
   "execution_count": null,
   "metadata": {},
   "outputs": [],
   "source": [
    "## Analizando correlaciones\n",
    "# df_analisis_full['TEA_total_rolling_2'].corr(df_analisis_full['Peso_MADUROS_rolling_2'])\n",
    "# df_analisis_full['TEA_total_rolling_2'].corr(df_analisis_full['Peso_SMADUROS_rolling_2'])\n",
    "# df_analisis_full['TEA_total_rolling_2'].corr(df_analisis_full['Peso_VERDES_rolling_2'])\n",
    "# df_analisis_full['TEA_total_rolling_2'].corr(df_analisis_full['Peso_MALFORMADOA_rolling_2'])\n",
    "# df_analisis_full['TEA_total_rolling_2'].corr(df_analisis_full['Peso_MALFORMADOB_rolling_2'])\n",
    "\n",
    "# df_analisis_full['TEA_total_rolling_2'].corr(df_analisis_full['%_MADUROS_rolling_2'])\n",
    "df_analisis_full['TEA_total_rolling_2'].corr(df_analisis_full['%_VERDES_rolling_2'])"
   ]
  },
  {
   "cell_type": "code",
   "execution_count": null,
   "metadata": {},
   "outputs": [],
   "source": [
    "def function_correlacion_cruzada(df_x):\n",
    "    # Excluir la columna 'TEA' para calcular la correlación con las variables explicativas temporales\n",
    "    df_explicativas = df_x.drop(columns=['TEA_total_rolling_2'])\n",
    "\n",
    "    # Calcular la correlación entre TEA y cada variable explicativa temporal utilizando rolling().corr()\n",
    "    correlation_df = df_explicativas.rolling(window=4).corr(df_x['TEA_total_rolling_2'])\n",
    "    function_save(correlation_df)\n",
    "\n",
    "    # Mostrar el DataFrame de correlaciones\n",
    "    print(correlation_df)\n",
    "\n",
    "    # Crear un gráfico de calor para visualizar las correlaciones\n",
    "    plt.figure(figsize=(15, 3))\n",
    "    sns.heatmap(correlation_df.T, annot=False, cmap='coolwarm', linewidths=0.5)\n",
    "    plt.title('Correlación entre TEA y Variables Explicativas Temporales')\n",
    "    plt.xlabel('Puntos Temporales')\n",
    "    plt.ylabel('Variables Explicativas Temporales')\n",
    "    plt.show()"
   ]
  },
  {
   "cell_type": "code",
   "execution_count": null,
   "metadata": {},
   "outputs": [],
   "source": [
    "# df_analisis_full_prueba = df_analisis_full[['FECHA','TEA_total','Peso_MADUROS']]\n",
    "# df_analisis_full_prueba = df_analisis_full[['FECHA','TEA_total_rolling_2','Peso_SMADUROS_rolling_2']]\n",
    "# df_analisis_full_prueba = df_analisis_full[['FECHA','TEA_total_rolling_2','Peso_VERDES_rolling_2']]\n",
    "# df_analisis_full_prueba = df_analisis_full[['FECHA','TEA_total_rolling_2','Peso_MALFORMADOA_rolling_2']]\n",
    "df_analisis_full_prueba = df_analisis_full[['FECHA','TEA_total_rolling_2','Peso_MALFORMADOB_rolling_2']]\n",
    "\n",
    "# df_analisis_full_prueba = df_analisis_full[['FECHA','TEA_total_rolling_2','%_MADUROS_rolling_2']]\n",
    "# df_analisis_full_prueba = df_analisis_full[['FECHA','TEA_total_rolling_2','%_SMADUROS_rolling_2']]\n",
    "\n",
    "df_analisis_full_prueba.set_index('FECHA',inplace=True)\n",
    "df_analisis_full_prueba.head()\n"
   ]
  },
  {
   "cell_type": "code",
   "execution_count": null,
   "metadata": {},
   "outputs": [],
   "source": [
    "function_correlacion_cruzada(df_analisis_full_prueba)"
   ]
  },
  {
   "cell_type": "markdown",
   "metadata": {},
   "source": [
    "Quitando el componente estacional de las series de tiempo"
   ]
  },
  {
   "cell_type": "code",
   "execution_count": null,
   "metadata": {},
   "outputs": [],
   "source": [
    "from statsmodels.tsa.seasonal import seasonal_decompose\n",
    "\n",
    "serie1 = df_analisis_full_prueba['TEA_total_rolling_2']\n",
    "serie2 = df_analisis_full_prueba['Peso_MADUROS_rolling_2']\n",
    "\n",
    "# Interpolar valores faltantes en ambas series\n",
    "serie1_interpolated = serie1.interpolate().fillna(method='bfill')\n",
    "serie2_interpolated = serie2.interpolate().fillna(method='bfill')\n",
    "\n",
    "# Alinear temporalmente las series para que tengan la misma longitud\n",
    "aligned_data = pd.concat([serie1_interpolated, serie2_interpolated], axis=1).dropna()\n",
    "serie1_aligned = aligned_data['TEA_total_rolling_2']\n",
    "serie2_aligned = aligned_data['Peso_MADUROS_rolling_2']\n"
   ]
  },
  {
   "cell_type": "code",
   "execution_count": null,
   "metadata": {},
   "outputs": [],
   "source": [
    "# Descomposición de la primera serie después de interpolar y alinear\n",
    "result1 = seasonal_decompose(serie1_aligned, model='additive', period=12)\n",
    "result1.plot()\n",
    "plt.show()\n",
    "\n",
    "# Descomposición de la segunda serie después de interpolar y alinear\n",
    "result2 = seasonal_decompose(serie2_aligned, model='additive', period=12)\n",
    "result2.plot()\n",
    "plt.show()"
   ]
  },
  {
   "cell_type": "code",
   "execution_count": null,
   "metadata": {},
   "outputs": [],
   "source": [
    "# Correlación de componentes residuales\n",
    "serie1_deseasonalized = serie1_aligned - result1.seasonal\n",
    "serie2_deseasonalized = serie2_aligned - result2.seasonal\n",
    "\n",
    "# Calcular la correlación entre los componentes residuales\n",
    "correlation = np.corrcoef(serie1_deseasonalized, serie2_deseasonalized)[0, 1]\n",
    "print(f'Correlación entre las componentes residuales: {correlation}')"
   ]
  },
  {
   "cell_type": "code",
   "execution_count": null,
   "metadata": {},
   "outputs": [],
   "source": []
  },
  {
   "cell_type": "code",
   "execution_count": null,
   "metadata": {},
   "outputs": [],
   "source": []
  },
  {
   "cell_type": "code",
   "execution_count": null,
   "metadata": {},
   "outputs": [],
   "source": []
  },
  {
   "cell_type": "code",
   "execution_count": null,
   "metadata": {},
   "outputs": [],
   "source": []
  },
  {
   "cell_type": "code",
   "execution_count": null,
   "metadata": {},
   "outputs": [],
   "source": [
    "function_save(df_analisis_full)"
   ]
  },
  {
   "cell_type": "code",
   "execution_count": null,
   "metadata": {},
   "outputs": [],
   "source": []
  },
  {
   "cell_type": "code",
   "execution_count": null,
   "metadata": {},
   "outputs": [],
   "source": [
    "lags, corr = correlacion_cruzada(df_analisis_full['TEA_total_rolling_3'], df_analisis_full['Peso_MADUROS_rolling_3'])\n",
    "\n",
    "# Graficar correlación cruzada\n",
    "plt.figure(figsize=(12, 6))\n",
    "plt.plot(lags, corr)\n",
    "plt.title('Correlación Cruzada entre \"TEA_total_rolling_3\" y \"Peso_MADUROS_rolling_3\"')\n",
    "plt.xlabel('Desfase')\n",
    "plt.ylabel('Correlación')\n",
    "plt.axvline(0, color='gray', linestyle='--', linewidth=1)\n",
    "plt.axhline(0, color='gray', linestyle='--', linewidth=1)\n",
    "plt.show()\n"
   ]
  },
  {
   "cell_type": "code",
   "execution_count": null,
   "metadata": {},
   "outputs": [],
   "source": []
  },
  {
   "cell_type": "code",
   "execution_count": null,
   "metadata": {},
   "outputs": [],
   "source": []
  },
  {
   "cell_type": "code",
   "execution_count": null,
   "metadata": {},
   "outputs": [],
   "source": []
  },
  {
   "cell_type": "code",
   "execution_count": null,
   "metadata": {},
   "outputs": [],
   "source": []
  },
  {
   "cell_type": "code",
   "execution_count": null,
   "metadata": {},
   "outputs": [],
   "source": []
  },
  {
   "cell_type": "code",
   "execution_count": null,
   "metadata": {},
   "outputs": [],
   "source": [
    "# Crear figura y ejes\n",
    "fig, ax1 = plt.subplots(figsize=(15, 6))\n",
    "\n",
    "plantacion_name = df_analisis_full['PLANTACION'].unique()\n",
    "\n",
    "# Graficar la primera variable en el eje principal\n",
    "# ax1.plot(df_analisis_full['FECHA'], df_analisis_full['TEA'], color='blue', marker='o', linestyle='-', label='TEA')\n",
    "ax1.plot(df_analisis_full['FECHA'], df_analisis_full['TEA_rolling_2'], color='blue', marker='o', linestyle='-', label='TEA_rolling_2')\n",
    "ax1.set_xlabel('Fecha')\n",
    "ax1.set_ylabel('Variable 1', color='blue')\n",
    "ax1.tick_params(axis='y', labelcolor='blue')\n",
    "\n",
    "# Crear eje secundario\n",
    "ax2 = ax1.twinx()\n",
    "# ax2.plot(df_analisis_full['FECHA'], df_analisis_full['Peso_MADUROS_rolling_2'], color='green', marker='s', linestyle='--', label='Peso_MADUROS_rolling_2')\n",
    "ax2.plot(df_analisis_full['FECHA'], df_analisis_full['Peso_SMADUROS_rolling_2'], color='green', marker='s', linestyle='--', label='Peso_SMADUROS_rolling_2')\n",
    "# ax2.plot(df_analisis_full['FECHA'], df_analisis_full['Peso_VERDES_rolling_2'], color='green', marker='s', linestyle='--', label='Peso_VERDES')\n",
    "\n",
    "\n",
    "ax2.set_ylabel('Variable 2', color='green')\n",
    "ax2.tick_params(axis='y', labelcolor='green')\n",
    "\n",
    "# Agregar títulos y leyendas\n",
    "fig.suptitle(f'{plantacion_name[0]} - Comparación de Variables con Diferentes Escalas', fontsize=14)\n",
    "ax1.legend(loc='upper left')\n",
    "ax2.legend(loc='upper right')\n",
    "\n",
    "# Mostrar gráfico\n",
    "plt.grid(True)\n",
    "plt.show()"
   ]
  },
  {
   "cell_type": "code",
   "execution_count": null,
   "metadata": {},
   "outputs": [],
   "source": [
    "# df_analisis_full['TEA'].corr(df_analisis_full['Peso_MADUROS_rolling_2'])\n",
    "df_analisis_full['TEA'].corr(df_analisis_full['Peso_SMADUROS_rolling_2'])\n",
    "# df_analisis_full['TEA'].corr(df_analisis_full['Peso_VERDES_rolling_2'])\n",
    "\n",
    "# df_analisis_full['TEA_rolling_2'].corr(df_analisis_full['Peso_MADUROS_rolling_2'])\n"
   ]
  },
  {
   "cell_type": "code",
   "execution_count": null,
   "metadata": {},
   "outputs": [],
   "source": [
    "def function_correlacion_cruzada(df_x):\n",
    "    # Excluir la columna 'TEA' para calcular la correlación con las variables explicativas temporales\n",
    "    df_explicativas = df_x.drop(columns=['TEA'])\n",
    "\n",
    "    # Calcular la correlación entre TEA y cada variable explicativa temporal utilizando rolling().corr()\n",
    "    correlation_df = df_explicativas.rolling(window=10).corr(df_x['TEA'])\n",
    "\n",
    "    # Mostrar el DataFrame de correlaciones\n",
    "    print(correlation_df)\n",
    "\n",
    "    # Crear un gráfico de calor para visualizar las correlaciones\n",
    "    plt.figure(figsize=(10, 6))\n",
    "    sns.heatmap(correlation_df.T, annot=False, cmap='coolwarm', linewidths=0.5)\n",
    "    plt.title('Correlación entre TEA y Variables Explicativas Temporales')\n",
    "    plt.xlabel('Puntos Temporales')\n",
    "    plt.ylabel('Variables Explicativas Temporales')\n",
    "    plt.show()"
   ]
  },
  {
   "cell_type": "code",
   "execution_count": null,
   "metadata": {},
   "outputs": [],
   "source": [
    "df_analisis_full.columns"
   ]
  },
  {
   "cell_type": "code",
   "execution_count": null,
   "metadata": {},
   "outputs": [],
   "source": [
    "df_analisis_full_corr_columns = ['FECHA','CPOObtenido', 'TEA','Peso_VERDES', 'Peso_MADUROS','Peso_SMADUROS', 'Peso_ESCOBAJO', 'Peso_MAFORMADOA', 'Peso_MAFORMADOB']\n",
    "\n",
    "df_analisis_full_corr = df_analisis_full[df_analisis_full_corr_columns]\n",
    "df_analisis_full_corr.set_index('FECHA', inplace=True)\n",
    "\n",
    "df_analisis_full_corr.head()\n"
   ]
  },
  {
   "cell_type": "code",
   "execution_count": null,
   "metadata": {},
   "outputs": [],
   "source": [
    "# Calcular la matriz de correlación entre las variables\n",
    "matriz_correlacion = df_analisis_full_corr.corr()"
   ]
  },
  {
   "cell_type": "code",
   "execution_count": null,
   "metadata": {},
   "outputs": [],
   "source": [
    "\n",
    "plt.figure(figsize=(10, 6))\n",
    "sns.heatmap(matriz_correlacion, annot=True, cmap='coolwarm', linewidths=0.5)\n",
    "plt.title('Matriz de correlación entre las variables')\n",
    "plt.show()"
   ]
  },
  {
   "cell_type": "code",
   "execution_count": null,
   "metadata": {},
   "outputs": [],
   "source": [
    "function_correlacion_cruzada(df_analisis_full_corr)"
   ]
  },
  {
   "cell_type": "code",
   "execution_count": null,
   "metadata": {},
   "outputs": [],
   "source": []
  },
  {
   "cell_type": "code",
   "execution_count": null,
   "metadata": {},
   "outputs": [],
   "source": []
  },
  {
   "cell_type": "markdown",
   "metadata": {},
   "source": [
    "##### ANALISIS SALDO EN CAMPO"
   ]
  },
  {
   "cell_type": "code",
   "execution_count": null,
   "metadata": {},
   "outputs": [],
   "source": [
    "print(df_sabana_saldo_campo_full_vf.PLANTACION.unique())\n",
    "df_sabana_saldo_campo_full_vf.head()"
   ]
  },
  {
   "cell_type": "code",
   "execution_count": null,
   "metadata": {},
   "outputs": [],
   "source": [
    "# Limpiando variables faltantes con peso en balanza\n",
    "\n",
    "\n",
    "# -----------\n",
    "# -------\n",
    "# ---\n",
    "# sede_analisis = 'Palmawasi'\n",
    "sede_analisis = 'Shanuzi'\n",
    "\n",
    "# -------\n",
    "# ---\n"
   ]
  },
  {
   "cell_type": "code",
   "execution_count": null,
   "metadata": {},
   "outputs": [],
   "source": [
    "df_sabana_saldo_campo_full_vf_filter = df_sabana_saldo_campo_full_vf[df_sabana_saldo_campo_full_vf['PLANTACION'] == sede_analisis]\n",
    "df_sabana_saldo_campo_full_vf_filter['FECHA'] = pd.to_datetime(df_sabana_saldo_campo_full_vf['FECHA'])\n",
    "\n",
    "print(df_sabana_saldo_campo_full_vf_filter.PLANTACION.unique())\n",
    "df_sabana_saldo_campo_full_vf_filter.head()\n"
   ]
  },
  {
   "cell_type": "code",
   "execution_count": null,
   "metadata": {},
   "outputs": [],
   "source": [
    "## REDUCIENDO LA BASE A SEMANA Y MES\n",
    "## ############\n",
    "## ############\n",
    "\n",
    "df_analisis_tendencia_2_saldo_campo = df_sabana_saldo_campo_full_vf_filter\n",
    "df_analisis_tendencia_2_saldo_campo['FECHA'] = pd.to_datetime(df_analisis_tendencia_2_saldo_campo['FECHA'])\n",
    "\n",
    "# Crear columna 'SEMANA' que indica el año y la semana del año\n",
    "df_analisis_tendencia_2_saldo_campo['SEMANA'] = df_analisis_tendencia_2_saldo_campo['FECHA'].dt.to_period('W').apply(lambda r: r.start_time)\n",
    "\n",
    "# Crear columna 'MES' que indica el año y el mes del año\n",
    "df_analisis_tendencia_2M_saldo_campo = df_sabana_saldo_campo_full_vf_filter\n",
    "df_analisis_tendencia_2M_saldo_campo['MES'] = df_analisis_tendencia_2M_saldo_campo['FECHA'].dt.to_period('M').apply(lambda r: r.start_time)\n",
    "\n",
    "df_analisis_tendencia_2_saldo_campo.head()"
   ]
  },
  {
   "cell_type": "code",
   "execution_count": null,
   "metadata": {},
   "outputs": [],
   "source": []
  },
  {
   "cell_type": "code",
   "execution_count": null,
   "metadata": {},
   "outputs": [],
   "source": [
    "# Agrupar por 'SEMANA' y 'MES' calcular la suma de valores\n",
    "# ------------------------\n",
    "# -----------------\n",
    "# ----------\n",
    "df_analisis_tendencia_semana_2_saldo_campo = df_analisis_tendencia_2_saldo_campo.groupby(['SEMANA','PLANTACION']).agg({'SALDO':'sum',\n",
    "                                                                                                                       'SALDO > 3':'sum'}).reset_index()\n",
    "\n",
    "df_analisis_tendencia_semana_2_saldo_campo.columns = ['FECHA','PLANTACION', 'SALDO', 'SALDO > 3']\n",
    "df_analisis_tendencia_semana_2_saldo_campo.head()"
   ]
  },
  {
   "cell_type": "code",
   "execution_count": null,
   "metadata": {},
   "outputs": [],
   "source": [
    "function_save(df_analisis_tendencia_semana_2_saldo_campo)"
   ]
  },
  {
   "cell_type": "code",
   "execution_count": null,
   "metadata": {},
   "outputs": [],
   "source": [
    "    # function_tendencia_unica(df_analisis_tendencia_semana_2_saldo_campo,'SALDO','black')\n",
    "function_tendencia_unica(df_analisis_tendencia_semana_2_saldo_campo,'SALDO > 3','black')\n"
   ]
  },
  {
   "cell_type": "code",
   "execution_count": null,
   "metadata": {},
   "outputs": [],
   "source": [
    "# AÑADIENDO DATOS - ANALISIS SEMANAL\n",
    "# #######################\n",
    "# #######################\n",
    "\n",
    "# Filtrar el DataFrame para considerar solo las fechas mayores a 2023-03-16\n",
    "# fecha_limite_sem = pd.Timestamp('2023-03-01') ## --> Para sede Palmawasi\n",
    "fecha_limite_sem = pd.Timestamp('2023-03-01') ## --> Para sede Shanusi\n",
    "\n",
    "\n",
    "# Unir los DataFrames en base a 'FECHA' y 'PLANTACION'\n",
    "df_analisis_semana_full_saldo_campo = pd.merge(df_analisis_tendencia_semana_2_saldo_campo,\n",
    "                                               df_analisis_tendencia_semana,\n",
    "                                               on=['FECHA', 'PLANTACION'], how='outer')\n",
    "\n",
    "df_analisis_semana_full_saldo_campo = df_analisis_semana_full_saldo_campo[df_analisis_semana_full_saldo_campo['FECHA'] >= fecha_limite_sem]\n",
    "# fecha_limite_mes\n",
    "\n",
    "# Convertir 'FECHA' a formato datetime\n",
    "df_analisis_semana_full_saldo_campo['FECHA'] = pd.to_datetime(df_analisis_semana_full_saldo_campo['FECHA'])\n",
    "print(df_analisis_semana_full_saldo_campo.PLANTACION.unique())\n",
    "df_analisis_semana_full_saldo_campo.head()\n"
   ]
  },
  {
   "cell_type": "code",
   "execution_count": null,
   "metadata": {},
   "outputs": [],
   "source": [
    "\n",
    "# Crear figura y ejes\n",
    "fig, ax1 = plt.subplots(figsize=(20, 5))\n",
    "\n",
    "plantacion_name = df_analisis_semana_full_saldo_campo['PLANTACION'].unique()\n",
    "\n",
    "# Graficar la primera variable en el eje principal\n",
    "ax1.plot(df_analisis_semana_full_saldo_campo['FECHA'], df_analisis_semana_full_saldo_campo['TEA_total'], color='red', marker='o', linestyle='-', label='TEA_total')\n",
    "ax1.set_xlabel('Fecha')\n",
    "ax1.set_ylabel('TEA_total', color='red')\n",
    "ax1.tick_params(axis='y', labelcolor='red')\n",
    "\n",
    "# Crear eje secundario\n",
    "ax2 = ax1.twinx()\n",
    "# ax2.plot(df_analisis_semana_full_saldo_campo['FECHA'], df_analisis_semana_full_saldo_campo['SALDO'], color='black', marker='s', linestyle='--', label='SALDO')\n",
    "ax2.plot(df_analisis_semana_full_saldo_campo['FECHA'], df_analisis_semana_full_saldo_campo['SALDO > 3'], color='black', marker='s', linestyle='--', label='SALDO > 3')\n",
    "\n",
    "\n",
    "ax2.set_ylabel('var', color='black')\n",
    "ax2.tick_params(axis='y', labelcolor='black')\n",
    "\n",
    "# Agregar títulos y leyendas\n",
    "fig.suptitle(f'{plantacion_name[0]} - Comparación de Variables con Diferentes Escalas', fontsize=14)\n",
    "ax1.legend(loc='upper left')\n",
    "ax2.legend(loc='upper right')\n",
    "\n",
    "# Mostrar gráfico\n",
    "plt.grid(True)\n",
    "plt.show()"
   ]
  },
  {
   "cell_type": "code",
   "execution_count": null,
   "metadata": {},
   "outputs": [],
   "source": [
    "# Suavizando por medias moviles\n",
    "# ----------\n",
    "# Desplazar 'VARIABLE_1' un período hacia adelante\n",
    "df_analisis_semana_full_saldo_campo['TEA_total_rolling_2'] = df_analisis_semana_full_saldo_campo['TEA_total'].rolling(window=2).mean() # Suavizado a 2 periodos\n",
    "df_analisis_semana_full_saldo_campo['TEA_total_rolling_3'] = df_analisis_semana_full_saldo_campo['TEA_total'].rolling(window=3).mean() # Suavizado a 3 periodos\n",
    "df_analisis_semana_full_saldo_campo['TEA_total_rolling_4'] = df_analisis_semana_full_saldo_campo['TEA_total'].rolling(window=4).mean() # Suavizado a 4 periodos\n",
    "\n",
    "df_analisis_semana_full_saldo_campo['SALDO_rolling_2'] = df_analisis_semana_full_saldo_campo['SALDO'].rolling(window=2).mean() # Suavizado a 2 periodos\n",
    "df_analisis_semana_full_saldo_campo['SALDO_rolling_3'] = df_analisis_semana_full_saldo_campo['SALDO'].rolling(window=3).mean() # Suavizado a 3 periodos\n",
    "df_analisis_semana_full_saldo_campo['SALDO_rolling_4'] = df_analisis_semana_full_saldo_campo['SALDO'].rolling(window=4).mean() # Suavizado a 4 periodos\n",
    "\n",
    "df_analisis_semana_full_saldo_campo['SALDO > 3_rolling_2'] = df_analisis_semana_full_saldo_campo['SALDO > 3'].rolling(window=2).mean() # Suavizado a 2 periodos\n",
    "df_analisis_semana_full_saldo_campo['SALDO > 3_rolling_3'] = df_analisis_semana_full_saldo_campo['SALDO > 3'].rolling(window=3).mean() # Suavizado a 3 periodos\n",
    "df_analisis_semana_full_saldo_campo['SALDO > 3_rolling_4'] = df_analisis_semana_full_saldo_campo['SALDO > 3'].rolling(window=4).mean() # Suavizado a 4 periodos\n"
   ]
  },
  {
   "cell_type": "code",
   "execution_count": null,
   "metadata": {},
   "outputs": [],
   "source": [
    "function_save(df_analisis_semana_full_saldo_campo)"
   ]
  },
  {
   "cell_type": "code",
   "execution_count": null,
   "metadata": {},
   "outputs": [],
   "source": [
    "\n",
    "# Crear figura y ejes\n",
    "fig, ax1 = plt.subplots(figsize=(20, 5))\n",
    "\n",
    "plantacion_name = df_analisis_semana_full_saldo_campo['PLANTACION'].unique()\n",
    "\n",
    "# Graficar la primera variable en el eje principal\n",
    "ax1.plot(df_analisis_semana_full_saldo_campo['FECHA'], df_analisis_semana_full_saldo_campo['TEA_total_rolling_2'], color='red', marker='o', linestyle='-', label='TEA_total_rolling_2')\n",
    "ax1.set_xlabel('Fecha')\n",
    "ax1.set_ylabel('TEA_total', color='red')\n",
    "ax1.tick_params(axis='y', labelcolor='red')\n",
    "\n",
    "# Crear eje secundario\n",
    "ax2 = ax1.twinx()\n",
    "# ax2.plot(df_analisis_semana_full_saldo_campo['FECHA'], df_analisis_semana_full_saldo_campo['SALDO_rolling_2'], color='black', marker='s', linestyle='--', label='SALDO_rolling_2')\n",
    "ax2.plot(df_analisis_semana_full_saldo_campo['FECHA'], df_analisis_semana_full_saldo_campo['SALDO > 3_rolling_2'], color='black', marker='s', linestyle='--', label='SALDO > 3_rolling_2')\n",
    "\n",
    "\n",
    "ax2.set_ylabel('var', color='black')\n",
    "ax2.tick_params(axis='y', labelcolor='black')\n",
    "\n",
    "# Agregar títulos y leyendas\n",
    "fig.suptitle(f'{plantacion_name[0]} - Comparación de Variables con Diferentes Escalas', fontsize=14)\n",
    "ax1.legend(loc='upper left')\n",
    "ax2.legend(loc='upper right')\n",
    "\n",
    "# Mostrar gráfico\n",
    "plt.grid(True)\n",
    "plt.show()"
   ]
  },
  {
   "cell_type": "code",
   "execution_count": null,
   "metadata": {},
   "outputs": [],
   "source": [
    "def function_correlacion_cruzada(df_x):\n",
    "    # Excluir la columna 'TEA' para calcular la correlación con las variables explicativas temporales\n",
    "    df_explicativas = df_x.drop(columns=['TEA_total_rolling_2'])\n",
    "\n",
    "    # Calcular la correlación entre TEA y cada variable explicativa temporal utilizando rolling().corr()\n",
    "    correlation_df = df_explicativas.rolling(window=4).corr(df_x['TEA_total_rolling_2'])\n",
    "    function_save(correlation_df)\n",
    "\n",
    "    # Mostrar el DataFrame de correlaciones\n",
    "    print(correlation_df)\n",
    "\n",
    "    # Crear un gráfico de calor para visualizar las correlaciones\n",
    "    plt.figure(figsize=(20, 3))\n",
    "    sns.heatmap(correlation_df.T, annot=False, cmap='coolwarm', linewidths=0.5)\n",
    "    plt.title('Correlación entre TEA y Variables Explicativas Temporales')\n",
    "    plt.xlabel('Puntos Temporales')\n",
    "    plt.ylabel('Variables Explicativas Temporales')\n",
    "    plt.show()"
   ]
  },
  {
   "cell_type": "code",
   "execution_count": null,
   "metadata": {},
   "outputs": [],
   "source": [
    "df_analisis_full_prueba = df_analisis_semana_full_saldo_campo[['FECHA','TEA_total_rolling_2','SALDO > 3_rolling_2']]\n",
    "\n",
    "df_analisis_full_prueba.set_index('FECHA',inplace=True)\n",
    "df_analisis_full_prueba.head()\n"
   ]
  },
  {
   "cell_type": "code",
   "execution_count": null,
   "metadata": {},
   "outputs": [],
   "source": [
    "function_correlacion_cruzada(df_analisis_full_prueba)"
   ]
  },
  {
   "cell_type": "code",
   "execution_count": null,
   "metadata": {},
   "outputs": [],
   "source": []
  },
  {
   "cell_type": "code",
   "execution_count": null,
   "metadata": {},
   "outputs": [],
   "source": []
  },
  {
   "cell_type": "code",
   "execution_count": null,
   "metadata": {},
   "outputs": [],
   "source": []
  },
  {
   "cell_type": "markdown",
   "metadata": {},
   "source": [
    "##### ANALISIS PERDIDAS ACEITE"
   ]
  },
  {
   "cell_type": "code",
   "execution_count": null,
   "metadata": {},
   "outputs": [],
   "source": [
    "print(df_perdida_aceite_full.PLANTACION.unique())\n",
    "df_perdida_aceite_full.head()"
   ]
  },
  {
   "cell_type": "code",
   "execution_count": null,
   "metadata": {},
   "outputs": [],
   "source": [
    "# Variable pérdidas\n",
    "# ---------\n",
    "\n",
    "df_perdida_aceite_full.columns\n",
    "\n",
    "# TM ACEITE CONDENSADO\n",
    "\n",
    "# TM ACEITE ESCOBAJO SIN PICAR\n",
    "# TM ACEITE ESCOBAJO PICADO\n",
    "\n",
    "# TM ACEITE RACIMO MAL DESFRUTADO\n",
    "\n",
    "# TM ACEITE FIBRA\n",
    "\n",
    "# TM ACEITE AGUA TD\n",
    "\n",
    "# TM ACEITE SOLIDO TD\n",
    "\n",
    "# TM ACEITE EN ARENA\n",
    "\n",
    "# TM ACEITE CASCARA\n",
    "\n",
    "# Hay nuevas perdidas que no los quieren conciderar\n",
    "# ----------\n",
    "# TM RACIMOS DUROS\n",
    "# TM RACIMOS MAL DESFRUTADOS"
   ]
  },
  {
   "cell_type": "code",
   "execution_count": null,
   "metadata": {},
   "outputs": [],
   "source": [
    "# Limpiando variables faltantes con peso en balanza\n",
    "\n",
    "\n",
    "# -----------\n",
    "# -------\n",
    "# ---\n",
    "sede_analisis = 'Palmawasi'\n",
    "# sede_analisis = 'Shanuzi'\n",
    "\n",
    "# -------\n",
    "# ---\n"
   ]
  },
  {
   "cell_type": "code",
   "execution_count": null,
   "metadata": {},
   "outputs": [],
   "source": [
    "# Filtrando la base total por sedes\n",
    "# --------\n",
    "\n",
    "# Creamos PERDIDA EN ACEITE ESCOBAJO\n",
    "# ----\n",
    "df_perdida_aceite_full['TM ACEITE ESCOBAJO'] = df_perdida_aceite_full['TM ACEITE ESCOBAJO SIN PICAR'] + df_perdida_aceite_full['TM ACEITE ESCOBAJO PICADO']\n",
    "df_perdida_aceite_full['TM PERDIDA TOTAL'] = df_perdida_aceite_full['TM ACEITE CONDENSADO']+df_perdida_aceite_full['TM ACEITE ESCOBAJO']+df_perdida_aceite_full['TM ACEITE RACIMO MAL DESFRUTADO']+df_perdida_aceite_full['TM ACEITE FIBRA']+df_perdida_aceite_full['TM ACEITE AGUA TD']+df_perdida_aceite_full['TM ACEITE SOLIDO TD']+df_perdida_aceite_full['TM ACEITE EN ARENA']+df_perdida_aceite_full['TM ACEITE CASCARA']\n",
    "# ----\n",
    "\n",
    "df_perdida_aceite_full_filter = df_perdida_aceite_full[df_perdida_aceite_full['PLANTACION'] == sede_analisis]\n",
    "df_perdida_aceite_full_filter['FECHA'] = pd.to_datetime(df_perdida_aceite_full_filter['FECHA'])\n",
    "\n",
    "print(df_perdida_aceite_full_filter.PLANTACION.unique())\n",
    "df_perdida_aceite_full_filter.head()\n"
   ]
  },
  {
   "cell_type": "code",
   "execution_count": null,
   "metadata": {},
   "outputs": [],
   "source": [
    "# function_tendencia_unica(df_perdida_aceite_full_filter,'TM ACEITE CONDENSADO','black')\n",
    "# function_tendencia_unica(df_perdida_aceite_full_filter,'TM ACEITE ESCOBAJO','black')\n",
    "function_tendencia_unica(df_perdida_aceite_full_filter,'TM PERDIDA TOTAL','black')\n"
   ]
  },
  {
   "cell_type": "code",
   "execution_count": null,
   "metadata": {},
   "outputs": [],
   "source": [
    "\n",
    "## REDUCIENDO LA BASE A SEMANA Y MES\n",
    "## ############\n",
    "## ############\n",
    "\n",
    "df_analisis_tendencia_2_perdida_aceite = df_perdida_aceite_full_filter\n",
    "df_analisis_tendencia_2_perdida_aceite['FECHA'] = pd.to_datetime(df_analisis_tendencia_2_perdida_aceite['FECHA'])\n",
    "\n",
    "# Crear columna 'SEMANA' que indica el año y la semana del año\n",
    "df_analisis_tendencia_2_perdida_aceite['SEMANA'] = df_analisis_tendencia_2_perdida_aceite['FECHA'].dt.to_period('W').apply(lambda r: r.start_time)\n",
    "\n",
    "# Crear columna 'MES' que indica el año y el mes del año\n",
    "df_analisis_tendencia_2M_perdida_aceite = df_perdida_aceite_full_filter\n",
    "df_analisis_tendencia_2M_perdida_aceite['MES'] = df_analisis_tendencia_2M_perdida_aceite['FECHA'].dt.to_period('M').apply(lambda r: r.start_time)\n",
    "\n",
    "df_analisis_tendencia_2_perdida_aceite.head()\n"
   ]
  },
  {
   "cell_type": "code",
   "execution_count": null,
   "metadata": {},
   "outputs": [],
   "source": [
    "# Tipos de perdidas en aceite - Fabrica\n",
    "# ----------\n",
    "\n",
    "# TM PERDIDA TOTAL\n",
    "\n",
    "# TM ACEITE CONDENSADO\n",
    "# TM ACEITE ESCOBAJO\n",
    "# TM ACEITE RACIMO MAL DESFRUTADO\n",
    "# TM ACEITE FIBRA\n",
    "# TM ACEITE AGUA TD\n",
    "# TM ACEITE SOLIDO TD\n",
    "# TM ACEITE EN ARENA\n",
    "# TM ACEITE CASCARA"
   ]
  },
  {
   "cell_type": "code",
   "execution_count": null,
   "metadata": {},
   "outputs": [],
   "source": [
    "\n",
    "# Agrupar por 'SEMANA' y 'MES' calcular la suma de valores\n",
    "# ------------------------\n",
    "# -----------------\n",
    "# ----------\n",
    "df_analisis_tendencia_semana_2_perdida_aceite = df_analisis_tendencia_2_perdida_aceite.groupby(['SEMANA','PLANTACION']).agg({'TM PERDIDA TOTAL':'sum',\n",
    "                                                                                                                             'TM ACEITE CONDENSADO':'sum',\n",
    "                                                                                                                             'TM ACEITE ESCOBAJO':'sum',\n",
    "                                                                                                                             'TM ACEITE RACIMO MAL DESFRUTADO':'sum',\n",
    "                                                                                                                             'TM ACEITE FIBRA':'sum',\n",
    "                                                                                                                             'TM ACEITE AGUA TD':'sum',\n",
    "                                                                                                                             'TM ACEITE SOLIDO TD':'sum',\n",
    "                                                                                                                             'TM ACEITE EN ARENA':'sum',\n",
    "                                                                                                                             'TM ACEITE CASCARA':'sum'}).reset_index()\n",
    "\n",
    "df_analisis_tendencia_semana_2_perdida_aceite.columns = ['FECHA','PLANTACION','TM PERDIDA TOTAL' ,'TM ACEITE CONDENSADO', 'TM ACEITE ESCOBAJO','TM ACEITE RACIMO MAL DESFRUTADO', 'TM ACEITE FIBRA','TM ACEITE AGUA TD', 'TM ACEITE SOLIDO TD', 'TM ACEITE EN ARENA','TM ACEITE CASCARA']\n",
    "df_analisis_tendencia_semana_2_perdida_aceite.head()\n",
    "\n"
   ]
  },
  {
   "cell_type": "code",
   "execution_count": null,
   "metadata": {},
   "outputs": [],
   "source": [
    "# function_tendencia_unica(df_analisis_tendencia_semana_2_perdida_aceite,'TM ACEITE CONDENSADO','black')\n",
    "function_tendencia_unica(df_analisis_tendencia_semana_2_perdida_aceite,'TM PERDIDA TOTAL','black')\n"
   ]
  },
  {
   "cell_type": "code",
   "execution_count": null,
   "metadata": {},
   "outputs": [],
   "source": [
    "df_analisis_tendencia_semana.head()"
   ]
  },
  {
   "cell_type": "code",
   "execution_count": null,
   "metadata": {},
   "outputs": [],
   "source": [
    "print(df_analisis_tendencia_semana.PLANTACION.unique())\n",
    "function_tendencia_unica(df_analisis_tendencia_semana,'TEA_total','red')"
   ]
  },
  {
   "cell_type": "code",
   "execution_count": null,
   "metadata": {},
   "outputs": [],
   "source": [
    "# AÑADIENDO DATOS - ANALISIS SEMANAL\n",
    "# #######################\n",
    "# #######################\n",
    "\n",
    "# Filtrar el DataFrame para considerar solo las fechas mayores a 2023-03-16\n",
    "fecha_limite_sem = pd.Timestamp('2022-07-01') ## --> Para sede Palmawasi\n",
    "# fecha_limite_sem_1 = pd.Timestamp('2023-10-01') ## --> Para sede Shanusi\n",
    "# fecha_limite_sem_2 = pd.Timestamp('2024-07-01') ## --> Para sede Shanusi\n",
    "\n",
    "# Unir los DataFrames en base a 'FECHA' y 'PLANTACION'\n",
    "df_analisis_semana_full_perdida_aceite = pd.merge(df_analisis_tendencia_semana,\n",
    "                                               df_analisis_tendencia_semana_2_perdida_aceite,\n",
    "                                               on=['FECHA', 'PLANTACION'], how='outer')\n",
    "\n",
    "df_analisis_semana_full_perdida_aceite = df_analisis_semana_full_perdida_aceite[df_analisis_semana_full_perdida_aceite['FECHA'] >= fecha_limite_sem]\n",
    "#df_analisis_semana_full_perdida_aceite = df_analisis_semana_full_perdida_aceite[df_analisis_semana_full_perdida_aceite['FECHA'] <= fecha_limite_sem_2]\n",
    "#  fecha_limite_mes\n",
    "\n",
    "# Convertir 'FECHA' a formato datetime\n",
    "df_analisis_semana_full_perdida_aceite['FECHA'] = pd.to_datetime(df_analisis_semana_full_perdida_aceite['FECHA'])\n",
    "print(df_analisis_semana_full_perdida_aceite.PLANTACION.unique())\n",
    "df_analisis_semana_full_perdida_aceite.head()\n"
   ]
  },
  {
   "cell_type": "code",
   "execution_count": null,
   "metadata": {},
   "outputs": [],
   "source": [
    "# Crear figura y ejes\n",
    "fig, ax1 = plt.subplots(figsize=(20, 5))\n",
    "\n",
    "plantacion_name = df_analisis_semana_full_perdida_aceite['PLANTACION'].unique()\n",
    "\n",
    "# Graficar la primera variable en el eje principal\n",
    "ax1.plot(df_analisis_semana_full_perdida_aceite['FECHA'], df_analisis_semana_full_perdida_aceite['TEA_total'], color='red', marker='o', linestyle='-', label='TEA_total')\n",
    "ax1.set_xlabel('Fecha')\n",
    "ax1.set_ylabel('TEA_total', color='red')\n",
    "ax1.tick_params(axis='y', labelcolor='red')\n",
    "\n",
    "# Crear eje secundario\n",
    "ax2 = ax1.twinx()\n",
    "ax2.plot(df_analisis_semana_full_perdida_aceite['FECHA'], df_analisis_semana_full_perdida_aceite['TM ACEITE CONDENSADO'], color='black', marker='s', linestyle='--', label='TM ACEITE CONDENSADO')\n",
    "\n",
    "ax2.set_ylabel('var', color='black')\n",
    "ax2.tick_params(axis='y', labelcolor='black')\n",
    "\n",
    "# Agregar títulos y leyendas\n",
    "fig.suptitle(f'Comparación de Variables con Diferentes Escalas', fontsize=14)\n",
    "ax1.legend(loc='upper left')\n",
    "ax2.legend(loc='upper right')\n",
    "\n",
    "# Mostrar gráfico\n",
    "plt.grid(True)\n",
    "plt.show()"
   ]
  },
  {
   "cell_type": "code",
   "execution_count": null,
   "metadata": {},
   "outputs": [],
   "source": [
    "function_save(df_analisis_semana_full_perdida_aceite)"
   ]
  },
  {
   "cell_type": "code",
   "execution_count": null,
   "metadata": {},
   "outputs": [],
   "source": [
    "df_analisis_semana_full_perdida_aceite.columns"
   ]
  },
  {
   "cell_type": "code",
   "execution_count": null,
   "metadata": {},
   "outputs": [],
   "source": [
    "# Suavizando por medias moviles\n",
    "# ----------\n",
    "# Desplazar 'VARIABLE_1' un período hacia adelante\n",
    "df_analisis_semana_full_perdida_aceite['TEA_total_rolling_2'] = df_analisis_semana_full_perdida_aceite['TEA_total'].rolling(window=2).mean() # Suavizado a 2 periodos\n",
    "df_analisis_semana_full_perdida_aceite['TEA_total_rolling_3'] = df_analisis_semana_full_perdida_aceite['TEA_total'].rolling(window=3).mean() # Suavizado a 3 periodos\n",
    "\n",
    "df_analisis_semana_full_perdida_aceite['TM PERDIDA TOTAL_rolling_2'] = df_analisis_semana_full_perdida_aceite['TM PERDIDA TOTAL'].rolling(window=2).mean() # Suavizado a 2 periodos\n",
    "df_analisis_semana_full_perdida_aceite['TM PERDIDA TOTAL_rolling_3'] = df_analisis_semana_full_perdida_aceite['TM PERDIDA TOTAL'].rolling(window=3).mean() # Suavizado a 3 periodos\n",
    "\n",
    "df_analisis_semana_full_perdida_aceite['TM ACEITE CONDENSADO_rolling_2'] = df_analisis_semana_full_perdida_aceite['TM ACEITE CONDENSADO'].rolling(window=2).mean() # Suavizado a 2 periodos\n",
    "df_analisis_semana_full_perdida_aceite['TM ACEITE CONDENSADO_rolling_3'] = df_analisis_semana_full_perdida_aceite['TM ACEITE CONDENSADO'].rolling(window=3).mean() # Suavizado a 3 periodos\n",
    "\n",
    "df_analisis_semana_full_perdida_aceite['TM ACEITE ESCOBAJO_rolling_2'] = df_analisis_semana_full_perdida_aceite['TM ACEITE ESCOBAJO'].rolling(window=2).mean() # Suavizado a 2 periodos\n",
    "df_analisis_semana_full_perdida_aceite['TM ACEITE ESCOBAJO_rolling_3'] = df_analisis_semana_full_perdida_aceite['TM ACEITE ESCOBAJO'].rolling(window=3).mean() # Suavizado a 3 periodos\n",
    "\n",
    "df_analisis_semana_full_perdida_aceite['TM ACEITE RACIMO MAL DESFRUTADO_rolling_2'] = df_analisis_semana_full_perdida_aceite['TM ACEITE RACIMO MAL DESFRUTADO'].rolling(window=2).mean() # Suavizado a 2 periodos\n",
    "df_analisis_semana_full_perdida_aceite['TM ACEITE RACIMO MAL DESFRUTADO_rolling_3'] = df_analisis_semana_full_perdida_aceite['TM ACEITE RACIMO MAL DESFRUTADO'].rolling(window=3).mean() # Suavizado a 3 periodos\n",
    "\n",
    "df_analisis_semana_full_perdida_aceite['TM ACEITE FIBRA_rolling_2'] = df_analisis_semana_full_perdida_aceite['TM ACEITE FIBRA'].rolling(window=2).mean() # Suavizado a 2 periodos\n",
    "df_analisis_semana_full_perdida_aceite['TM ACEITE FIBRA_rolling_3'] = df_analisis_semana_full_perdida_aceite['TM ACEITE FIBRA'].rolling(window=3).mean() # Suavizado a 3 periodos\n",
    "\n",
    "df_analisis_semana_full_perdida_aceite['TM ACEITE AGUA TD_rolling_2'] = df_analisis_semana_full_perdida_aceite['TM ACEITE AGUA TD'].rolling(window=2).mean() # Suavizado a 2 periodos\n",
    "df_analisis_semana_full_perdida_aceite['TM ACEITE AGUA TD_rolling_3'] = df_analisis_semana_full_perdida_aceite['TM ACEITE AGUA TD'].rolling(window=3).mean() # Suavizado a 3 periodos\n",
    "\n",
    "df_analisis_semana_full_perdida_aceite['TM ACEITE SOLIDO TD_rolling_2'] = df_analisis_semana_full_perdida_aceite['TM ACEITE SOLIDO TD'].rolling(window=2).mean() # Suavizado a 2 periodos\n",
    "df_analisis_semana_full_perdida_aceite['TM ACEITE SOLIDO TD_rolling_3'] = df_analisis_semana_full_perdida_aceite['TM ACEITE SOLIDO TD'].rolling(window=3).mean() # Suavizado a 3 periodos\n",
    "\n",
    "df_analisis_semana_full_perdida_aceite['TM ACEITE EN ARENA_rolling_2'] = df_analisis_semana_full_perdida_aceite['TM ACEITE EN ARENA'].rolling(window=2).mean() # Suavizado a 2 periodos\n",
    "df_analisis_semana_full_perdida_aceite['TM ACEITE EN ARENA_rolling_3'] = df_analisis_semana_full_perdida_aceite['TM ACEITE EN ARENA'].rolling(window=3).mean() # Suavizado a 3 periodos\n",
    "\n",
    "df_analisis_semana_full_perdida_aceite['TM ACEITE CASCARA_rolling_2'] = df_analisis_semana_full_perdida_aceite['TM ACEITE CASCARA'].rolling(window=2).mean() # Suavizado a 2 periodos\n",
    "df_analisis_semana_full_perdida_aceite['TM ACEITE CASCARA_rolling_3'] = df_analisis_semana_full_perdida_aceite['TM ACEITE CASCARA'].rolling(window=3).mean() # Suavizado a 3 periodos\n",
    "\n"
   ]
  },
  {
   "cell_type": "code",
   "execution_count": null,
   "metadata": {},
   "outputs": [],
   "source": [
    "# Crear figura y ejes\n",
    "fig, ax1 = plt.subplots(figsize=(15, 5))\n",
    "\n",
    "plantacion_name = df_analisis_semana_full_perdida_aceite['PLANTACION'].unique()\n",
    "\n",
    "# Graficar la primera variable en el eje principal\n",
    "ax1.plot(df_analisis_semana_full_perdida_aceite['FECHA'], df_analisis_semana_full_perdida_aceite['TEA_total_rolling_2'], color='red', marker='o', linestyle='-', label='TEA_total_rolling_2')\n",
    "ax1.set_xlabel('Fecha')\n",
    "ax1.set_ylabel('TEA_total', color='red')\n",
    "ax1.tick_params(axis='y', labelcolor='red')\n",
    "\n",
    "# Crear eje secundario\n",
    "ax2 = ax1.twinx()\n",
    "ax2.plot(df_analisis_semana_full_perdida_aceite['FECHA'], df_analisis_semana_full_perdida_aceite['TM PERDIDA TOTAL_rolling_2'], color='black', marker='s', linestyle='--', label='TM PERDIDA TOTAL_rolling_2')\n",
    "# ax2.plot(df_analisis_semana_full_perdida_aceite['FECHA'], df_analisis_semana_full_perdida_aceite['TM ACEITE CONDENSADO_rolling_2'], color='black', marker='s', linestyle='--', label='TM ACEITE CONDENSADO_rolling_2')\n",
    "# ax2.plot(df_analisis_semana_full_perdida_aceite['FECHA'], df_analisis_semana_full_perdida_aceite['TM ACEITE ESCOBAJO_rolling_2'], color='black', marker='s', linestyle='--', label='TM ACEITE ESCOBAJO_rolling_2')\n",
    "# ax2.plot(df_analisis_semana_full_perdida_aceite['FECHA'], df_analisis_semana_full_perdida_aceite['TM ACEITE RACIMO MAL DESFRUTADO_rolling_2'], color='black', marker='s', linestyle='--', label='TM ACEITE RACIMO MAL DESFRUTADO_rolling_2')\n",
    "# ax2.plot(df_analisis_semana_full_perdida_aceite['FECHA'], df_analisis_semana_full_perdida_aceite['TM ACEITE FIBRA_rolling_2'], color='black', marker='s', linestyle='--', label='TM ACEITE FIBRA_rolling_2')\n",
    "\n",
    "# ax2.plot(df_analisis_semana_full_perdida_aceite['FECHA'], df_analisis_semana_full_perdida_aceite['TM ACEITE AGUA TD_rolling_2'], color='black', marker='s', linestyle='--', label='TM ACEITE AGUA TD_rolling_2')\n",
    "# ax2.plot(df_analisis_semana_full_perdida_aceite['FECHA'], df_analisis_semana_full_perdida_aceite['TM ACEITE SOLIDO TD_rolling_2'], color='black', marker='s', linestyle='--', label='TM ACEITE SOLIDO TD_rolling_2')\n",
    "# ax2.plot(df_analisis_semana_full_perdida_aceite['FECHA'], df_analisis_semana_full_perdida_aceite['TM ACEITE EN ARENA_rolling_2'], color='black', marker='s', linestyle='--', label='TM ACEITE EN ARENA_rolling_2')\n",
    "# ax2.plot(df_analisis_semana_full_perdida_aceite['FECHA'], df_analisis_semana_full_perdida_aceite['TM ACEITE CASCARA_rolling_2'], color='black', marker='s', linestyle='--', label='TM ACEITE CASCARA_rolling_2')\n",
    "\n",
    "\n",
    "ax2.set_ylabel('var', color='black')\n",
    "ax2.tick_params(axis='y', labelcolor='black')\n",
    "\n",
    "# Agregar títulos y leyendas\n",
    "fig.suptitle(f'Comparación de Variables con Diferentes Escalas', fontsize=14)\n",
    "ax1.legend(loc='upper left')\n",
    "ax2.legend(loc='upper right')\n",
    "\n",
    "# Mostrar gráfico\n",
    "plt.grid(True)\n",
    "plt.show()"
   ]
  },
  {
   "cell_type": "code",
   "execution_count": null,
   "metadata": {},
   "outputs": [],
   "source": [
    "df_analisis_semana_full_perdida_aceite.columns"
   ]
  },
  {
   "cell_type": "code",
   "execution_count": null,
   "metadata": {},
   "outputs": [],
   "source": [
    "df_analisis_semana_full_perdida_aceite.head()"
   ]
  },
  {
   "cell_type": "code",
   "execution_count": null,
   "metadata": {},
   "outputs": [],
   "source": [
    "def function_correlacion_cruzada(df_x):\n",
    "    # Excluir la columna 'TEA' para calcular la correlación con las variables explicativas temporales\n",
    "    df_explicativas = df_x.drop(columns=['TEA_total_rolling_2'])\n",
    "\n",
    "    # Calcular la correlación entre TEA y cada variable explicativa temporal utilizando rolling().corr()\n",
    "    correlation_df = df_explicativas.rolling(window=4).corr(df_x['TEA_total_rolling_2'])\n",
    "    function_save(correlation_df)\n",
    "\n",
    "    # Mostrar el DataFrame de correlaciones\n",
    "    print(correlation_df)\n",
    "\n",
    "    # Crear un gráfico de calor para visualizar las correlaciones\n",
    "    plt.figure(figsize=(20, 3))\n",
    "    sns.heatmap(correlation_df.T, annot=False, cmap='coolwarm', linewidths=0.5)\n",
    "    plt.title('Correlación entre TEA y Variables Explicativas Temporales')\n",
    "    plt.xlabel('Puntos Temporales')\n",
    "    plt.ylabel('Variables Explicativas Temporales')\n",
    "    plt.show()\n"
   ]
  },
  {
   "cell_type": "code",
   "execution_count": null,
   "metadata": {},
   "outputs": [],
   "source": [
    "df_analisis_resumen = df_analisis_semana_full_perdida_aceite[['FECHA','TEA_total_rolling_2','TM PERDIDA TOTAL_rolling_2']]\n",
    "df_analisis_resumen.set_index('FECHA', inplace=True)\n",
    "\n",
    "df_analisis_resumen.head()"
   ]
  },
  {
   "cell_type": "code",
   "execution_count": null,
   "metadata": {},
   "outputs": [],
   "source": [
    "function_correlacion_cruzada(df_analisis_resumen)"
   ]
  },
  {
   "cell_type": "code",
   "execution_count": null,
   "metadata": {},
   "outputs": [],
   "source": []
  },
  {
   "cell_type": "code",
   "execution_count": null,
   "metadata": {},
   "outputs": [],
   "source": []
  },
  {
   "cell_type": "code",
   "execution_count": null,
   "metadata": {},
   "outputs": [],
   "source": [
    "df_analisis_semana_full_perdida_aceite.columns"
   ]
  },
  {
   "cell_type": "code",
   "execution_count": null,
   "metadata": {},
   "outputs": [],
   "source": []
  },
  {
   "cell_type": "code",
   "execution_count": null,
   "metadata": {},
   "outputs": [],
   "source": []
  },
  {
   "cell_type": "code",
   "execution_count": null,
   "metadata": {},
   "outputs": [],
   "source": []
  },
  {
   "cell_type": "code",
   "execution_count": null,
   "metadata": {},
   "outputs": [],
   "source": []
  },
  {
   "cell_type": "markdown",
   "metadata": {},
   "source": [
    "##### ANALISIS CLIMA"
   ]
  },
  {
   "cell_type": "code",
   "execution_count": 7,
   "metadata": {},
   "outputs": [
    {
     "name": "stdout",
     "output_type": "stream",
     "text": [
      "['Palmawasi' 'Shanuzi' 'Nuevo Horizonte']\n"
     ]
    },
    {
     "data": {
      "text/html": [
       "<div>\n",
       "<style scoped>\n",
       "    .dataframe tbody tr th:only-of-type {\n",
       "        vertical-align: middle;\n",
       "    }\n",
       "\n",
       "    .dataframe tbody tr th {\n",
       "        vertical-align: top;\n",
       "    }\n",
       "\n",
       "    .dataframe thead th {\n",
       "        text-align: right;\n",
       "    }\n",
       "</style>\n",
       "<table border=\"1\" class=\"dataframe\">\n",
       "  <thead>\n",
       "    <tr style=\"text-align: right;\">\n",
       "      <th></th>\n",
       "      <th>FECHA</th>\n",
       "      <th>PLANTACION</th>\n",
       "      <th>Temperatura</th>\n",
       "      <th>Temp Hi</th>\n",
       "      <th>Temp Low</th>\n",
       "      <th>Humedad</th>\n",
       "      <th>Radiacion</th>\n",
       "    </tr>\n",
       "  </thead>\n",
       "  <tbody>\n",
       "    <tr>\n",
       "      <th>0</th>\n",
       "      <td>2010-01-01 00:00:00</td>\n",
       "      <td>Palmawasi</td>\n",
       "      <td>21.808511</td>\n",
       "      <td>21.982979</td>\n",
       "      <td>21.663830</td>\n",
       "      <td>94.914894</td>\n",
       "      <td>159.531915</td>\n",
       "    </tr>\n",
       "    <tr>\n",
       "      <th>1</th>\n",
       "      <td>2010-01-02 00:00:00</td>\n",
       "      <td>Palmawasi</td>\n",
       "      <td>21.793750</td>\n",
       "      <td>21.900000</td>\n",
       "      <td>21.658333</td>\n",
       "      <td>92.395833</td>\n",
       "      <td>144.916667</td>\n",
       "    </tr>\n",
       "    <tr>\n",
       "      <th>2</th>\n",
       "      <td>2010-01-03 00:00:00</td>\n",
       "      <td>Palmawasi</td>\n",
       "      <td>21.877083</td>\n",
       "      <td>22.033333</td>\n",
       "      <td>21.735417</td>\n",
       "      <td>87.000000</td>\n",
       "      <td>241.645833</td>\n",
       "    </tr>\n",
       "    <tr>\n",
       "      <th>3</th>\n",
       "      <td>2010-01-04 00:00:00</td>\n",
       "      <td>Palmawasi</td>\n",
       "      <td>22.202083</td>\n",
       "      <td>22.352083</td>\n",
       "      <td>22.047917</td>\n",
       "      <td>87.583333</td>\n",
       "      <td>178.395833</td>\n",
       "    </tr>\n",
       "    <tr>\n",
       "      <th>4</th>\n",
       "      <td>2010-01-05 00:00:00</td>\n",
       "      <td>Palmawasi</td>\n",
       "      <td>22.320833</td>\n",
       "      <td>22.493750</td>\n",
       "      <td>22.137500</td>\n",
       "      <td>89.395833</td>\n",
       "      <td>269.208333</td>\n",
       "    </tr>\n",
       "  </tbody>\n",
       "</table>\n",
       "</div>"
      ],
      "text/plain": [
       "                 FECHA PLANTACION  Temperatura    Temp Hi   Temp Low  \\\n",
       "0  2010-01-01 00:00:00  Palmawasi    21.808511  21.982979  21.663830   \n",
       "1  2010-01-02 00:00:00  Palmawasi    21.793750  21.900000  21.658333   \n",
       "2  2010-01-03 00:00:00  Palmawasi    21.877083  22.033333  21.735417   \n",
       "3  2010-01-04 00:00:00  Palmawasi    22.202083  22.352083  22.047917   \n",
       "4  2010-01-05 00:00:00  Palmawasi    22.320833  22.493750  22.137500   \n",
       "\n",
       "     Humedad   Radiacion  \n",
       "0  94.914894  159.531915  \n",
       "1  92.395833  144.916667  \n",
       "2  87.000000  241.645833  \n",
       "3  87.583333  178.395833  \n",
       "4  89.395833  269.208333  "
      ]
     },
     "execution_count": 7,
     "metadata": {},
     "output_type": "execute_result"
    }
   ],
   "source": [
    "print(df_clima_full_vf.PLANTACION.unique())\n",
    "df_clima_full_vf.head()"
   ]
  },
  {
   "cell_type": "code",
   "execution_count": 8,
   "metadata": {},
   "outputs": [
    {
     "data": {
      "text/html": [
       "<div>\n",
       "<style scoped>\n",
       "    .dataframe tbody tr th:only-of-type {\n",
       "        vertical-align: middle;\n",
       "    }\n",
       "\n",
       "    .dataframe tbody tr th {\n",
       "        vertical-align: top;\n",
       "    }\n",
       "\n",
       "    .dataframe thead th {\n",
       "        text-align: right;\n",
       "    }\n",
       "</style>\n",
       "<table border=\"1\" class=\"dataframe\">\n",
       "  <thead>\n",
       "    <tr style=\"text-align: right;\">\n",
       "      <th></th>\n",
       "      <th>FECHA</th>\n",
       "      <th>PLANTACION</th>\n",
       "      <th>Temperatura</th>\n",
       "      <th>Temp Hi</th>\n",
       "      <th>Temp Low</th>\n",
       "      <th>Humedad</th>\n",
       "      <th>Radiacion</th>\n",
       "    </tr>\n",
       "  </thead>\n",
       "  <tbody>\n",
       "    <tr>\n",
       "      <th>0</th>\n",
       "      <td>2010-01-01 00:00:00</td>\n",
       "      <td>Palmawasi</td>\n",
       "      <td>21.808511</td>\n",
       "      <td>21.982979</td>\n",
       "      <td>21.663830</td>\n",
       "      <td>94.914894</td>\n",
       "      <td>159.531915</td>\n",
       "    </tr>\n",
       "    <tr>\n",
       "      <th>1</th>\n",
       "      <td>2010-01-02 00:00:00</td>\n",
       "      <td>Palmawasi</td>\n",
       "      <td>21.793750</td>\n",
       "      <td>21.900000</td>\n",
       "      <td>21.658333</td>\n",
       "      <td>92.395833</td>\n",
       "      <td>144.916667</td>\n",
       "    </tr>\n",
       "    <tr>\n",
       "      <th>2</th>\n",
       "      <td>2010-01-03 00:00:00</td>\n",
       "      <td>Palmawasi</td>\n",
       "      <td>21.877083</td>\n",
       "      <td>22.033333</td>\n",
       "      <td>21.735417</td>\n",
       "      <td>87.000000</td>\n",
       "      <td>241.645833</td>\n",
       "    </tr>\n",
       "    <tr>\n",
       "      <th>3</th>\n",
       "      <td>2010-01-04 00:00:00</td>\n",
       "      <td>Palmawasi</td>\n",
       "      <td>22.202083</td>\n",
       "      <td>22.352083</td>\n",
       "      <td>22.047917</td>\n",
       "      <td>87.583333</td>\n",
       "      <td>178.395833</td>\n",
       "    </tr>\n",
       "    <tr>\n",
       "      <th>4</th>\n",
       "      <td>2010-01-05 00:00:00</td>\n",
       "      <td>Palmawasi</td>\n",
       "      <td>22.320833</td>\n",
       "      <td>22.493750</td>\n",
       "      <td>22.137500</td>\n",
       "      <td>89.395833</td>\n",
       "      <td>269.208333</td>\n",
       "    </tr>\n",
       "  </tbody>\n",
       "</table>\n",
       "</div>"
      ],
      "text/plain": [
       "                 FECHA PLANTACION  Temperatura    Temp Hi   Temp Low  \\\n",
       "0  2010-01-01 00:00:00  Palmawasi    21.808511  21.982979  21.663830   \n",
       "1  2010-01-02 00:00:00  Palmawasi    21.793750  21.900000  21.658333   \n",
       "2  2010-01-03 00:00:00  Palmawasi    21.877083  22.033333  21.735417   \n",
       "3  2010-01-04 00:00:00  Palmawasi    22.202083  22.352083  22.047917   \n",
       "4  2010-01-05 00:00:00  Palmawasi    22.320833  22.493750  22.137500   \n",
       "\n",
       "     Humedad   Radiacion  \n",
       "0  94.914894  159.531915  \n",
       "1  92.395833  144.916667  \n",
       "2  87.000000  241.645833  \n",
       "3  87.583333  178.395833  \n",
       "4  89.395833  269.208333  "
      ]
     },
     "execution_count": 8,
     "metadata": {},
     "output_type": "execute_result"
    }
   ],
   "source": [
    "# Seleccionando sede de interes\n",
    "# -----------\n",
    "# -------\n",
    "\n",
    "df_clima_full_filter = df_clima_full_vf[df_clima_full_vf['PLANTACION'] == 'Palmawasi']\n",
    "df_clima_full_filter.head()\n"
   ]
  },
  {
   "cell_type": "code",
   "execution_count": 10,
   "metadata": {},
   "outputs": [
    {
     "data": {
      "text/html": [
       "<div>\n",
       "<style scoped>\n",
       "    .dataframe tbody tr th:only-of-type {\n",
       "        vertical-align: middle;\n",
       "    }\n",
       "\n",
       "    .dataframe tbody tr th {\n",
       "        vertical-align: top;\n",
       "    }\n",
       "\n",
       "    .dataframe thead th {\n",
       "        text-align: right;\n",
       "    }\n",
       "</style>\n",
       "<table border=\"1\" class=\"dataframe\">\n",
       "  <thead>\n",
       "    <tr style=\"text-align: right;\">\n",
       "      <th></th>\n",
       "      <th>Temperatura</th>\n",
       "    </tr>\n",
       "  </thead>\n",
       "  <tbody>\n",
       "    <tr>\n",
       "      <th>117910</th>\n",
       "      <td>56.097880</td>\n",
       "    </tr>\n",
       "    <tr>\n",
       "      <th>117813</th>\n",
       "      <td>55.902857</td>\n",
       "    </tr>\n",
       "    <tr>\n",
       "      <th>205072</th>\n",
       "      <td>43.898667</td>\n",
       "    </tr>\n",
       "    <tr>\n",
       "      <th>117522</th>\n",
       "      <td>43.327106</td>\n",
       "    </tr>\n",
       "    <tr>\n",
       "      <th>118007</th>\n",
       "      <td>42.373510</td>\n",
       "    </tr>\n",
       "    <tr>\n",
       "      <th>200826</th>\n",
       "      <td>41.907143</td>\n",
       "    </tr>\n",
       "    <tr>\n",
       "      <th>118104</th>\n",
       "      <td>41.390476</td>\n",
       "    </tr>\n",
       "    <tr>\n",
       "      <th>201598</th>\n",
       "      <td>40.734483</td>\n",
       "    </tr>\n",
       "    <tr>\n",
       "      <th>205458</th>\n",
       "      <td>40.395455</td>\n",
       "    </tr>\n",
       "    <tr>\n",
       "      <th>203721</th>\n",
       "      <td>40.372414</td>\n",
       "    </tr>\n",
       "    <tr>\n",
       "      <th>202563</th>\n",
       "      <td>40.296154</td>\n",
       "    </tr>\n",
       "    <tr>\n",
       "      <th>203914</th>\n",
       "      <td>39.905000</td>\n",
       "    </tr>\n",
       "    <tr>\n",
       "      <th>204107</th>\n",
       "      <td>39.642623</td>\n",
       "    </tr>\n",
       "    <tr>\n",
       "      <th>202949</th>\n",
       "      <td>39.611111</td>\n",
       "    </tr>\n",
       "    <tr>\n",
       "      <th>204879</th>\n",
       "      <td>39.290000</td>\n",
       "    </tr>\n",
       "  </tbody>\n",
       "</table>\n",
       "</div>"
      ],
      "text/plain": [
       "        Temperatura\n",
       "117910    56.097880\n",
       "117813    55.902857\n",
       "205072    43.898667\n",
       "117522    43.327106\n",
       "118007    42.373510\n",
       "200826    41.907143\n",
       "118104    41.390476\n",
       "201598    40.734483\n",
       "205458    40.395455\n",
       "203721    40.372414\n",
       "202563    40.296154\n",
       "203914    39.905000\n",
       "204107    39.642623\n",
       "202949    39.611111\n",
       "204879    39.290000"
      ]
     },
     "execution_count": 10,
     "metadata": {},
     "output_type": "execute_result"
    }
   ],
   "source": [
    "pd.DataFrame(df_clima_full_filter.Temperatura.sort_values(ascending= False)).head(15)"
   ]
  },
  {
   "cell_type": "code",
   "execution_count": 12,
   "metadata": {},
   "outputs": [
    {
     "data": {
      "image/png": "[encoded data removed]",
      "text/plain": [
       "<Figure size 1000x600 with 1 Axes>"
      ]
     },
     "metadata": {},
     "output_type": "display_data"
    }
   ],
   "source": [
    "# Crear gráfico de caja para la columna 'A'\n",
    "plt.figure(figsize=(10, 6))\n",
    "df_clima_full_filter['Temperatura'].plot.box(vert=False)\n",
    "plt.title('Gráfico de Caja de la Variable A')\n",
    "plt.ylabel('Valores de A')\n",
    "plt.show()"
   ]
  },
  {
   "cell_type": "code",
   "execution_count": null,
   "metadata": {},
   "outputs": [],
   "source": [
    "# Limpiando valores atipicos\n",
    "# -------------\n",
    "\n",
    "df_clima_full_filter.describe()"
   ]
  },
  {
   "cell_type": "code",
   "execution_count": 22,
   "metadata": {},
   "outputs": [
    {
     "name": "stderr",
     "output_type": "stream",
     "text": [
      "C:\\Users\\CESAR QUEZADA\\AppData\\Local\\Temp\\ipykernel_12692\\860465264.py:2: SettingWithCopyWarning: \n",
      "A value is trying to be set on a copy of a slice from a DataFrame.\n",
      "Try using .loc[row_indexer,col_indexer] = value instead\n",
      "\n",
      "See the caveats in the documentation: https://pandas.pydata.org/pandas-docs/stable/user_guide/indexing.html#returning-a-view-versus-a-copy\n",
      "  df_clima_full_filter['Temperatura'] = df_clima_full_filter['Temperatura'].mask(df_clima_full_filter['Temperatura'] > 33, np.nan)\n"
     ]
    }
   ],
   "source": [
    "# Reemplazar valores mayores a 25 por NaN\n",
    "df_clima_full_filter['Temperatura'] = df_clima_full_filter['Temperatura'].mask(df_clima_full_filter['Temperatura'] > 33, np.nan)"
   ]
  },
  {
   "cell_type": "code",
   "execution_count": 23,
   "metadata": {},
   "outputs": [
    {
     "name": "stdout",
     "output_type": "stream",
     "text": [
      "Analisis de  2010-01-01 00:00:00  hasta  2024-12-06 00:00:00\n"
     ]
    },
    {
     "data": {
      "image/png": "[encoded data removed]",
      "text/plain": [
       "<Figure size 1500x500 with 1 Axes>"
      ]
     },
     "metadata": {},
     "output_type": "display_data"
    }
   ],
   "source": [
    "function_tendencia_unica(df_clima_full_filter,'Temperatura')"
   ]
  },
  {
   "cell_type": "code",
   "execution_count": 25,
   "metadata": {},
   "outputs": [
    {
     "name": "stderr",
     "output_type": "stream",
     "text": [
      "C:\\Users\\CESAR QUEZADA\\AppData\\Local\\Temp\\ipykernel_12692\\2788949264.py:7: SettingWithCopyWarning: \n",
      "A value is trying to be set on a copy of a slice from a DataFrame.\n",
      "Try using .loc[row_indexer,col_indexer] = value instead\n",
      "\n",
      "See the caveats in the documentation: https://pandas.pydata.org/pandas-docs/stable/user_guide/indexing.html#returning-a-view-versus-a-copy\n",
      "  df_analisis_tendencia_clima['FECHA'] = pd.to_datetime(df_analisis_tendencia_clima['FECHA'])\n",
      "C:\\Users\\CESAR QUEZADA\\AppData\\Local\\Temp\\ipykernel_12692\\2788949264.py:10: SettingWithCopyWarning: \n",
      "A value is trying to be set on a copy of a slice from a DataFrame.\n",
      "Try using .loc[row_indexer,col_indexer] = value instead\n",
      "\n",
      "See the caveats in the documentation: https://pandas.pydata.org/pandas-docs/stable/user_guide/indexing.html#returning-a-view-versus-a-copy\n",
      "  df_analisis_tendencia_clima['SEMANA'] = df_analisis_tendencia_clima['FECHA'].dt.to_period('W').apply(lambda r: r.start_time)\n",
      "C:\\Users\\CESAR QUEZADA\\AppData\\Local\\Temp\\ipykernel_12692\\2788949264.py:12: SettingWithCopyWarning: \n",
      "A value is trying to be set on a copy of a slice from a DataFrame.\n",
      "Try using .loc[row_indexer,col_indexer] = value instead\n",
      "\n",
      "See the caveats in the documentation: https://pandas.pydata.org/pandas-docs/stable/user_guide/indexing.html#returning-a-view-versus-a-copy\n",
      "  df_analisis_tendencia_clima['MES'] = df_analisis_tendencia_clima['FECHA'].dt.to_period('M').apply(lambda r: r.start_time)\n"
     ]
    },
    {
     "data": {
      "text/html": [
       "<div>\n",
       "<style scoped>\n",
       "    .dataframe tbody tr th:only-of-type {\n",
       "        vertical-align: middle;\n",
       "    }\n",
       "\n",
       "    .dataframe tbody tr th {\n",
       "        vertical-align: top;\n",
       "    }\n",
       "\n",
       "    .dataframe thead th {\n",
       "        text-align: right;\n",
       "    }\n",
       "</style>\n",
       "<table border=\"1\" class=\"dataframe\">\n",
       "  <thead>\n",
       "    <tr style=\"text-align: right;\">\n",
       "      <th></th>\n",
       "      <th>FECHA</th>\n",
       "      <th>PLANTACION</th>\n",
       "      <th>Temperatura</th>\n",
       "      <th>Temp Hi</th>\n",
       "      <th>Temp Low</th>\n",
       "      <th>Humedad</th>\n",
       "      <th>Radiacion</th>\n",
       "    </tr>\n",
       "  </thead>\n",
       "  <tbody>\n",
       "    <tr>\n",
       "      <th>0</th>\n",
       "      <td>2009-12-28</td>\n",
       "      <td>Palmawasi</td>\n",
       "      <td>21.826448</td>\n",
       "      <td>21.972104</td>\n",
       "      <td>21.685860</td>\n",
       "      <td>91.436909</td>\n",
       "      <td>182.031472</td>\n",
       "    </tr>\n",
       "    <tr>\n",
       "      <th>1</th>\n",
       "      <td>2010-01-04</td>\n",
       "      <td>Palmawasi</td>\n",
       "      <td>22.438393</td>\n",
       "      <td>22.606845</td>\n",
       "      <td>22.270833</td>\n",
       "      <td>89.306548</td>\n",
       "      <td>214.636905</td>\n",
       "    </tr>\n",
       "    <tr>\n",
       "      <th>2</th>\n",
       "      <td>2010-01-11</td>\n",
       "      <td>Palmawasi</td>\n",
       "      <td>22.652083</td>\n",
       "      <td>22.829762</td>\n",
       "      <td>22.485417</td>\n",
       "      <td>89.869048</td>\n",
       "      <td>191.065476</td>\n",
       "    </tr>\n",
       "    <tr>\n",
       "      <th>3</th>\n",
       "      <td>2010-01-18</td>\n",
       "      <td>Palmawasi</td>\n",
       "      <td>22.818750</td>\n",
       "      <td>22.998810</td>\n",
       "      <td>22.634226</td>\n",
       "      <td>83.461310</td>\n",
       "      <td>218.931548</td>\n",
       "    </tr>\n",
       "    <tr>\n",
       "      <th>4</th>\n",
       "      <td>2010-01-25</td>\n",
       "      <td>Palmawasi</td>\n",
       "      <td>23.447024</td>\n",
       "      <td>23.643452</td>\n",
       "      <td>23.255060</td>\n",
       "      <td>88.020833</td>\n",
       "      <td>237.473214</td>\n",
       "    </tr>\n",
       "  </tbody>\n",
       "</table>\n",
       "</div>"
      ],
      "text/plain": [
       "       FECHA PLANTACION  Temperatura    Temp Hi   Temp Low    Humedad  \\\n",
       "0 2009-12-28  Palmawasi    21.826448  21.972104  21.685860  91.436909   \n",
       "1 2010-01-04  Palmawasi    22.438393  22.606845  22.270833  89.306548   \n",
       "2 2010-01-11  Palmawasi    22.652083  22.829762  22.485417  89.869048   \n",
       "3 2010-01-18  Palmawasi    22.818750  22.998810  22.634226  83.461310   \n",
       "4 2010-01-25  Palmawasi    23.447024  23.643452  23.255060  88.020833   \n",
       "\n",
       "    Radiacion  \n",
       "0  182.031472  \n",
       "1  214.636905  \n",
       "2  191.065476  \n",
       "3  218.931548  \n",
       "4  237.473214  "
      ]
     },
     "execution_count": 25,
     "metadata": {},
     "output_type": "execute_result"
    }
   ],
   "source": [
    "## REDUCIENDO LA BASE A SEMANA\n",
    "## ############\n",
    "## ############\n",
    "\n",
    "df_analisis_tendencia_clima = df_clima_full_filter\n",
    "\n",
    "df_analisis_tendencia_clima['FECHA'] = pd.to_datetime(df_analisis_tendencia_clima['FECHA'])\n",
    "\n",
    "# Crear columna 'SEMANA'\n",
    "df_analisis_tendencia_clima['SEMANA'] = df_analisis_tendencia_clima['FECHA'].dt.to_period('W').apply(lambda r: r.start_time)\n",
    "# Crear columna 'MES'\n",
    "df_analisis_tendencia_clima['MES'] = df_analisis_tendencia_clima['FECHA'].dt.to_period('M').apply(lambda r: r.start_time)\n",
    "\n",
    "\n",
    "\n",
    "# Agrupar por 'SEMANA' y 'MES' calcular la suma de valores\n",
    "# ------------------------\n",
    "# -----------------\n",
    "# ----------\n",
    "df_analisis_tendencia_clima_semana = df_analisis_tendencia_clima.groupby(['SEMANA','PLANTACION']).agg({'Temperatura': 'mean',\n",
    "                                                                                                       'Temp Hi':'mean',\n",
    "                                                                                                       'Temp Low':'mean',\n",
    "                                                                                                       'Humedad':'mean',\n",
    "                                                                                                       'Radiacion':'mean'}).reset_index()\n",
    "df_analisis_tendencia_clima_semana.columns = ['FECHA','PLANTACION', 'Temperatura', 'Temp Hi', 'Temp Low', 'Humedad','Radiacion']\n",
    "\n",
    "df_analisis_tendencia_clima_mes = df_analisis_tendencia_clima.groupby(['MES','PLANTACION']).agg({'Temperatura': 'mean',\n",
    "                                                                                                 'Temp Hi':'mean',\n",
    "                                                                                                 'Temp Low':'mean',\n",
    "                                                                                                 'Humedad':'mean',\n",
    "                                                                                                 'Radiacion':'mean'}).reset_index()\n",
    "df_analisis_tendencia_clima_mes.columns = ['FECHA','PLANTACION', 'Temperatura', 'Temp Hi', 'Temp Low', 'Humedad','Radiacion']\n",
    "\n",
    "df_analisis_tendencia_clima_semana.head()"
   ]
  },
  {
   "cell_type": "code",
   "execution_count": 27,
   "metadata": {},
   "outputs": [
    {
     "data": {
      "text/html": [
       "<div>\n",
       "<style scoped>\n",
       "    .dataframe tbody tr th:only-of-type {\n",
       "        vertical-align: middle;\n",
       "    }\n",
       "\n",
       "    .dataframe tbody tr th {\n",
       "        vertical-align: top;\n",
       "    }\n",
       "\n",
       "    .dataframe thead th {\n",
       "        text-align: right;\n",
       "    }\n",
       "</style>\n",
       "<table border=\"1\" class=\"dataframe\">\n",
       "  <thead>\n",
       "    <tr style=\"text-align: right;\">\n",
       "      <th></th>\n",
       "      <th>FECHA</th>\n",
       "      <th>Temperatura</th>\n",
       "      <th>Temp Hi</th>\n",
       "      <th>Temp Low</th>\n",
       "      <th>Humedad</th>\n",
       "      <th>Radiacion</th>\n",
       "    </tr>\n",
       "  </thead>\n",
       "  <tbody>\n",
       "    <tr>\n",
       "      <th>count</th>\n",
       "      <td>713</td>\n",
       "      <td>702.000000</td>\n",
       "      <td>706.000000</td>\n",
       "      <td>706.000000</td>\n",
       "      <td>703.000000</td>\n",
       "      <td>706.000000</td>\n",
       "    </tr>\n",
       "    <tr>\n",
       "      <th>mean</th>\n",
       "      <td>2017-05-11 14:56:43.085554176</td>\n",
       "      <td>24.309973</td>\n",
       "      <td>24.640334</td>\n",
       "      <td>24.225889</td>\n",
       "      <td>86.547085</td>\n",
       "      <td>174.762592</td>\n",
       "    </tr>\n",
       "    <tr>\n",
       "      <th>min</th>\n",
       "      <td>2009-12-28 00:00:00</td>\n",
       "      <td>6.384925</td>\n",
       "      <td>8.484780</td>\n",
       "      <td>5.597425</td>\n",
       "      <td>25.670493</td>\n",
       "      <td>1.591837</td>\n",
       "    </tr>\n",
       "    <tr>\n",
       "      <th>25%</th>\n",
       "      <td>2013-07-15 00:00:00</td>\n",
       "      <td>23.896203</td>\n",
       "      <td>24.076463</td>\n",
       "      <td>23.723343</td>\n",
       "      <td>84.334707</td>\n",
       "      <td>148.511494</td>\n",
       "    </tr>\n",
       "    <tr>\n",
       "      <th>50%</th>\n",
       "      <td>2017-05-01 00:00:00</td>\n",
       "      <td>24.481845</td>\n",
       "      <td>24.665549</td>\n",
       "      <td>24.329614</td>\n",
       "      <td>86.943604</td>\n",
       "      <td>170.919097</td>\n",
       "    </tr>\n",
       "    <tr>\n",
       "      <th>75%</th>\n",
       "      <td>2021-03-22 00:00:00</td>\n",
       "      <td>25.029998</td>\n",
       "      <td>25.195204</td>\n",
       "      <td>24.921904</td>\n",
       "      <td>89.318452</td>\n",
       "      <td>194.607050</td>\n",
       "    </tr>\n",
       "    <tr>\n",
       "      <th>max</th>\n",
       "      <td>2024-12-02 00:00:00</td>\n",
       "      <td>29.394697</td>\n",
       "      <td>48.766121</td>\n",
       "      <td>39.700000</td>\n",
       "      <td>99.360119</td>\n",
       "      <td>534.045455</td>\n",
       "    </tr>\n",
       "    <tr>\n",
       "      <th>std</th>\n",
       "      <td>NaN</td>\n",
       "      <td>1.810335</td>\n",
       "      <td>2.540399</td>\n",
       "      <td>2.046188</td>\n",
       "      <td>5.239096</td>\n",
       "      <td>55.763517</td>\n",
       "    </tr>\n",
       "  </tbody>\n",
       "</table>\n",
       "</div>"
      ],
      "text/plain": [
       "                               FECHA  Temperatura     Temp Hi    Temp Low  \\\n",
       "count                            713   702.000000  706.000000  706.000000   \n",
       "mean   2017-05-11 14:56:43.085554176    24.309973   24.640334   24.225889   \n",
       "min              2009-12-28 00:00:00     6.384925    8.484780    5.597425   \n",
       "25%              2013-07-15 00:00:00    23.896203   24.076463   23.723343   \n",
       "50%              2017-05-01 00:00:00    24.481845   24.665549   24.329614   \n",
       "75%              2021-03-22 00:00:00    25.029998   25.195204   24.921904   \n",
       "max              2024-12-02 00:00:00    29.394697   48.766121   39.700000   \n",
       "std                              NaN     1.810335    2.540399    2.046188   \n",
       "\n",
       "          Humedad   Radiacion  \n",
       "count  703.000000  706.000000  \n",
       "mean    86.547085  174.762592  \n",
       "min     25.670493    1.591837  \n",
       "25%     84.334707  148.511494  \n",
       "50%     86.943604  170.919097  \n",
       "75%     89.318452  194.607050  \n",
       "max     99.360119  534.045455  \n",
       "std      5.239096   55.763517  "
      ]
     },
     "execution_count": 27,
     "metadata": {},
     "output_type": "execute_result"
    }
   ],
   "source": [
    "df_analisis_tendencia_clima_semana.describe()"
   ]
  },
  {
   "cell_type": "code",
   "execution_count": null,
   "metadata": {},
   "outputs": [],
   "source": [
    "df_analisis_tendencia_clima_semana.head()"
   ]
  },
  {
   "cell_type": "code",
   "execution_count": 26,
   "metadata": {},
   "outputs": [
    {
     "name": "stdout",
     "output_type": "stream",
     "text": [
      "Analisis de  2009-12-28 00:00:00  hasta  2024-12-02 00:00:00\n"
     ]
    },
    {
     "data": {
      "image/png": "[encoded data removed]",
      "text/plain": [
       "<Figure size 1500x500 with 1 Axes>"
      ]
     },
     "metadata": {},
     "output_type": "display_data"
    }
   ],
   "source": [
    "function_tendencia_unica(df_analisis_tendencia_clima_semana,'Temperatura')\n",
    "# function_tendencia_unica(df_analisis_tendencia_clima_mes,'Temperatura')"
   ]
  },
  {
   "cell_type": "code",
   "execution_count": null,
   "metadata": {},
   "outputs": [],
   "source": [
    "# Suavizando por medias moviles\n",
    "# ----------\n",
    "# Desplazar 'VARIABLE_1' un período hacia adelante\n",
    "df_analisis_tendencia_clima_semana['Temperatura_rolling_2'] = df_analisis_tendencia_clima_semana['Temperatura'].rolling(window=2).mean() # Suavizado a 2 periodos\n",
    "df_analisis_tendencia_clima_semana['Temperatura_rolling_3'] = df_analisis_tendencia_clima_semana['Temperatura'].rolling(window=3).mean() # Suavizado a 3 periodos\n",
    "df_analisis_tendencia_clima_semana['Temperatura_rolling_4'] = df_analisis_tendencia_clima_semana['Temperatura'].rolling(window=4).mean() # Suavizado a 4 periodos\n"
   ]
  },
  {
   "cell_type": "code",
   "execution_count": null,
   "metadata": {},
   "outputs": [],
   "source": [
    "function_tendencia_unica(df_analisis_tendencia_clima_semana,'Temperatura_rolling_4')"
   ]
  },
  {
   "cell_type": "code",
   "execution_count": null,
   "metadata": {},
   "outputs": [],
   "source": []
  },
  {
   "cell_type": "code",
   "execution_count": null,
   "metadata": {},
   "outputs": [],
   "source": []
  },
  {
   "cell_type": "code",
   "execution_count": null,
   "metadata": {},
   "outputs": [],
   "source": []
  },
  {
   "cell_type": "code",
   "execution_count": null,
   "metadata": {},
   "outputs": [],
   "source": []
  },
  {
   "cell_type": "code",
   "execution_count": null,
   "metadata": {},
   "outputs": [],
   "source": []
  },
  {
   "cell_type": "code",
   "execution_count": null,
   "metadata": {},
   "outputs": [],
   "source": []
  },
  {
   "cell_type": "markdown",
   "metadata": {},
   "source": [
    "##### OTRO ANALISIS"
   ]
  },
  {
   "cell_type": "code",
   "execution_count": null,
   "metadata": {},
   "outputs": [],
   "source": []
  },
  {
   "cell_type": "code",
   "execution_count": null,
   "metadata": {},
   "outputs": [],
   "source": []
  },
  {
   "cell_type": "code",
   "execution_count": null,
   "metadata": {},
   "outputs": [],
   "source": []
  },
  {
   "cell_type": "code",
   "execution_count": null,
   "metadata": {},
   "outputs": [],
   "source": [
    "# Analizando datos por Plantacion\n",
    "# ----\n",
    "df_TEA_full_tendencia = df_calidad_racimos_propios_full_group[df_calidad_racimos_propios_full_group['PLANTACION'] == 'Palmawasi']\n",
    "# ---\n",
    "df_TEA_full_tendencia = df_TEA_full_tendencia[df_TEA_full_tendencia['SECTOR'] == 'SE03']\n",
    "# ---\n",
    "\n",
    "function_tendencia_unica(df_TEA_full_tendencia,'Peso')"
   ]
  },
  {
   "cell_type": "code",
   "execution_count": null,
   "metadata": {},
   "outputs": [],
   "source": [
    "df_TEA_full.head()"
   ]
  },
  {
   "cell_type": "code",
   "execution_count": null,
   "metadata": {},
   "outputs": [],
   "source": [
    "print(df_TEA_full['PLANTACION'].unique())\n",
    "df_TEA_full.head()"
   ]
  },
  {
   "cell_type": "code",
   "execution_count": null,
   "metadata": {},
   "outputs": [],
   "source": [
    "function_tendencia_unica(df_TEA_full[df_TEA_full['PLANTACION'] == 'Nuevo Horizonte'], 'PROPIOS')"
   ]
  },
  {
   "cell_type": "code",
   "execution_count": null,
   "metadata": {},
   "outputs": [],
   "source": [
    "# Filtramos la tendencia de interes DE LA BBDD UNIDA\n",
    "# ################\n",
    "# ################\n",
    "# ################\n",
    "\n",
    "# ---\n",
    "df_TEA_full_tendencia = df_TEA_full[df_TEA_full['PLANTACION'] == 'Nuevo Horizonte']\n",
    "df_TEA_full_tendencia = df_TEA_full_tendencia.sort_values(by='FECHA')\n",
    "# ---\n",
    "\n",
    "plantacion_name = df_TEA_full_tendencia['PLANTACION'].unique()\n",
    "\n",
    "# Crear el gráfico de líneas para 'toneladas_dia'\n",
    "plt.figure(figsize=(15, 5))\n",
    "plt.plot(df_TEA_full_tendencia['FECHA'], df_TEA_full_tendencia['CPO OBTENIDO'], marker='o', markersize=2, linestyle='-', color='green', label='CPO OBTENIDO')\n",
    "plt.title('RFF Procesado por Día a través del Tiempo - '+ plantacion_name[0])\n",
    "plt.xlabel('Fecha')\n",
    "plt.ylabel('RFF Procesado por Día')\n",
    "plt.grid(True)\n",
    "plt.legend()\n",
    "#plt.xticks(rotation=45)\n",
    "\n",
    "# Mostrar la gráfica\n",
    "# print(df_TEA_full_tendencia[df_TEA_full_tendencia['RFF PROCESADO'] == 0].head())\n",
    "plt.tight_layout()\n",
    "plt.show()"
   ]
  },
  {
   "cell_type": "code",
   "execution_count": null,
   "metadata": {},
   "outputs": [],
   "source": []
  },
  {
   "cell_type": "code",
   "execution_count": null,
   "metadata": {},
   "outputs": [],
   "source": [
    "# ---\n",
    "plantacion_name = df_TEA_full_tendencia['PLANTACION'].unique()\n",
    "\n",
    "\n",
    "# Configurar el gráfico\n",
    "plt.figure(figsize=(15, 5))\n",
    "\n",
    "# Graficar 'VALOR1' y 'VALOR2'\n",
    "# plt.plot(df_TEA_full_tendencia['FECHA'], df_TEA_full_tendencia['RFF PROCESADO'], marker='o', markersize=4, label='RFF PROCESADO')\n",
    "plt.plot(df_TEA_full_tendencia['FECHA'], df_TEA_full_tendencia['CPO OBTENIDO'], marker='o', markersize=4, label='CPO OBTENIDO')\n",
    "\n",
    "# plt.plot(df_TEA_full_tendencia['FECHA'], df_TEA_full_tendencia['PROPIOS'], marker='o', markersize=4, label='PROPIOS')\n",
    "# plt.plot(df_TEA_full_tendencia['FECHA'], df_TEA_full_tendencia['TERCEROS'], marker='o', markersize=4, label='TERCEROS')\n",
    "plt.plot(df_TEA_full_tendencia['FECHA'], df_TEA_full_tendencia['PRECIPITACION_TOTAL'], marker='o', markersize=4, label='PRECIPITACION_TOTAL')\n",
    "\n",
    "# Configurar etiquetas y título\n",
    "plt.xlabel('Fecha')\n",
    "plt.ylabel('Valores')\n",
    "plt.title('Comparación de RFF PROCESADO y CPO OBTENIDO a lo largo del tiempo - '+ plantacion_name[0])\n",
    "plt.legend()\n",
    "\n",
    "# Mostrar el gráfico\n",
    "plt.grid(True)\n",
    "plt.show()"
   ]
  },
  {
   "cell_type": "code",
   "execution_count": null,
   "metadata": {},
   "outputs": [],
   "source": [
    "# Duplicando informacion faltante\n",
    "# -----\n",
    "df_TEA_full_tendencia_recorte = df_TEA_full_tendencia[['FECHA','CPO OBTENIDO']]\n",
    "df_TEA_full_tendencia_recorte = df_TEA_full_tendencia_recorte.dropna(subset=['CPO OBTENIDO'])\n",
    "df_TEA_full_tendencia_recorte = df_TEA_full_tendencia_recorte[df_TEA_full_tendencia_recorte['FECHA'] <= '2023-12-31']\n",
    "# Lista de años a los que quieres copiar los datos\n",
    "years_to_fill = [2019, 2020, 2021, 2022]\n",
    "\n",
    "dfs_real = df_TEA_full_tendencia[['FECHA','CPO OBTENIDO']][df_TEA_full_tendencia['FECHA'] > '2023-01-01']\n",
    "\n",
    "dfs = []\n",
    "for year in years_to_fill:\n",
    "    df_copy = df_TEA_full_tendencia_recorte.copy()\n",
    "    # Ajustar el año mientras se maneja el caso especial del 29 de febrero\n",
    "    def replace_year(date):\n",
    "        try:\n",
    "            return date.replace(year=year)\n",
    "        except ValueError:\n",
    "            # Manejar el 29 de febrero para años no bisiestos\n",
    "            return date.replace(year=year, day=28)\n",
    "    \n",
    "    df_copy['FECHA'] = df_copy['FECHA'].apply(replace_year)\n",
    "    dfs.append(df_copy)\n",
    "\n",
    "# Concatenar todos los DataFrames\n",
    "df_combined = pd.concat(dfs, ignore_index=True)\n",
    "df_final = pd.concat([df_combined,dfs_real], ignore_index=True)\n",
    "\n",
    "df_final.columns = ['FECHA','CPO OBTENIDO imp']\n",
    "df_final.head()"
   ]
  },
  {
   "cell_type": "code",
   "execution_count": null,
   "metadata": {},
   "outputs": [],
   "source": [
    "# Unir los DataFrames en base a 'FECHA' y 'PLANTACION'\n",
    "df_TEA_full_tendencia = pd.merge(df_TEA_full_tendencia,\n",
    "                                 df_final, \n",
    "                                 on='FECHA', \n",
    "                                 how='left')"
   ]
  },
  {
   "cell_type": "code",
   "execution_count": null,
   "metadata": {},
   "outputs": [],
   "source": [
    "df_TEA_full_tendencia.head()"
   ]
  },
  {
   "cell_type": "code",
   "execution_count": null,
   "metadata": {},
   "outputs": [],
   "source": [
    "plantacion_name = df_TEA_full_tendencia['PLANTACION'].unique()\n",
    "\n",
    "\n",
    "# Configurar el gráfico\n",
    "plt.figure(figsize=(15, 5))\n",
    "\n",
    "# Graficar 'VALOR1' y 'VALOR2'\n",
    "# plt.plot(df_TEA_full_tendencia['FECHA'], df_TEA_full_tendencia['RFF PROCESADO'], marker='o', markersize=4, label='RFF PROCESADO')\n",
    "# plt.plot(df_TEA_full_tendencia['FECHA'], df_TEA_full_tendencia['CPO OBTENIDO'], marker='o', markersize=4, label='CPO OBTENIDO')\n",
    "plt.plot(df_TEA_full_tendencia['FECHA'], df_TEA_full_tendencia['CPO OBTENIDO imp'], marker='o', markersize=4, label='CPO OBTENIDO imp')\n",
    "\n",
    "\n",
    "# plt.plot(df_TEA_full_tendencia['FECHA'], df_TEA_full_tendencia['PROPIOS'], marker='o', markersize=4, label='PROPIOS')\n",
    "# plt.plot(df_TEA_full_tendencia['FECHA'], df_TEA_full_tendencia['TERCEROS'], marker='o', markersize=4, label='TERCEROS')\n",
    "plt.plot(df_TEA_full_tendencia['FECHA'], df_TEA_full_tendencia['PRECIPITACION_TOTAL'], marker='o', markersize=4, label='PRECIPITACION_TOTAL')\n",
    "\n",
    "# Configurar etiquetas y título\n",
    "plt.xlabel('Fecha')\n",
    "plt.ylabel('Valores')\n",
    "plt.title('Comparación de RFF PROCESADO y CPO OBTENIDO a lo largo del tiempo - '+ plantacion_name[0])\n",
    "plt.legend()\n",
    "\n",
    "# Mostrar el gráfico\n",
    "plt.grid(True)\n",
    "plt.show()"
   ]
  },
  {
   "cell_type": "code",
   "execution_count": null,
   "metadata": {},
   "outputs": [],
   "source": []
  },
  {
   "cell_type": "code",
   "execution_count": null,
   "metadata": {},
   "outputs": [],
   "source": []
  },
  {
   "cell_type": "markdown",
   "metadata": {},
   "source": [
    "#### Agrupando por semanas"
   ]
  },
  {
   "cell_type": "code",
   "execution_count": null,
   "metadata": {},
   "outputs": [],
   "source": [
    "# Crear columna 'SEMANA' que indica el año y la semana del año\n",
    "df_TEA_full_tendencia['SEMANA'] = df_TEA_full_tendencia['FECHA'].dt.to_period('W').apply(lambda r: r.start_time)\n",
    "df_TEA_full_tendencia.head()"
   ]
  },
  {
   "cell_type": "code",
   "execution_count": null,
   "metadata": {},
   "outputs": [],
   "source": [
    "# Agrupar por 'SEMANA' y calcular la suma de 'VALOR1' y 'VALOR2'\n",
    "df_TEA_full_semana = df_TEA_full_tendencia.groupby(['SEMANA', 'PLANTACION']).agg({'PROPIOS': 'sum',\n",
    "                                                                                  'TERCEROS': 'sum',\n",
    "                                                                                  'TOTAL': 'sum',\n",
    "                                                                                  'RFF PROCESADO': 'sum',\n",
    "                                                                                  'CPO OBTENIDO': 'sum',\n",
    "                                                                                  'CPO OBTENIDO imp': 'sum',\n",
    "                                                                                  'PRECIPITACION_TOTAL':'sum'}).reset_index()\n",
    "\n",
    "df_TEA_full_semana.head()"
   ]
  },
  {
   "cell_type": "markdown",
   "metadata": {},
   "source": [
    "#### Suavizando por medias moviles"
   ]
  },
  {
   "cell_type": "code",
   "execution_count": null,
   "metadata": {},
   "outputs": [],
   "source": [
    "# Filtramos la tendencia de interes\n",
    "# -------------\n",
    "\n",
    "# ---\n",
    "df_TEA_full_semana_tendencia = df_TEA_full_semana\n",
    "df_TEA_full_semana_tendencia = df_TEA_full_semana_tendencia.sort_values(by='SEMANA')\n",
    "df_TEA_full_semana_tendencia.head()"
   ]
  },
  {
   "cell_type": "code",
   "execution_count": null,
   "metadata": {},
   "outputs": [],
   "source": [
    "# Suavizando por medias moviles\n",
    "# ----------\n",
    "df_TEA_full_semana_tendencia['CPO OBTENIDO_svzdo_2'] = df_TEA_full_semana_tendencia['CPO OBTENIDO imp'].rolling(window=2).mean() # Suavizado a 2 periodos\n",
    "df_TEA_full_semana_tendencia['CPO OBTENIDO_svzdo_3'] = df_TEA_full_semana_tendencia['CPO OBTENIDO imp'].rolling(window=3).mean() # Suavizado a 3 periodos\n",
    "df_TEA_full_semana_tendencia['CPO OBTENIDO_svzdo_4'] = df_TEA_full_semana_tendencia['CPO OBTENIDO imp'].rolling(window=4).mean() # Suavizado a 4 periodos\n",
    "df_TEA_full_semana_tendencia['CPO OBTENIDO_svzdo_5'] = df_TEA_full_semana_tendencia['CPO OBTENIDO imp'].rolling(window=5).mean() # Suavizado a 5 periodos\n",
    "\n",
    "\n",
    "df_TEA_full_semana_tendencia['PRECIPITACION_TOTAL_svzdo_2'] = df_TEA_full_semana_tendencia['PRECIPITACION_TOTAL'].rolling(window=2).mean() # Suavizado a 2 periodos\n",
    "df_TEA_full_semana_tendencia['PRECIPITACION_TOTAL_svzdo_3'] = df_TEA_full_semana_tendencia['PRECIPITACION_TOTAL'].rolling(window=3).mean() # Suavizado a 3 periodos\n",
    "df_TEA_full_semana_tendencia['PRECIPITACION_TOTAL_svzdo_4'] = df_TEA_full_semana_tendencia['PRECIPITACION_TOTAL'].rolling(window=4).mean() # Suavizado a 4 periodos\n",
    "df_TEA_full_semana_tendencia['PRECIPITACION_TOTAL_svzdo_5'] = df_TEA_full_semana_tendencia['PRECIPITACION_TOTAL'].rolling(window=5).mean() # Suavizado a 5 periodos\n",
    "\n",
    "\n",
    "# Probando traslaciones temporales\n",
    "# -----------\n",
    "\n",
    "# Desplazar 'VARIABLE_1' un período hacia adelante\n",
    "df_TEA_full_semana_tendencia['PRECIPITACION_TOTAL_SHIFTED_1'] = df_TEA_full_semana_tendencia['PRECIPITACION_TOTAL'].shift(-1)\n",
    "df_TEA_full_semana_tendencia['PRECIPITACION_TOTAL_SHIFTED_2'] = df_TEA_full_semana_tendencia['PRECIPITACION_TOTAL'].shift(-2)\n",
    "df_TEA_full_semana_tendencia['PRECIPITACION_TOTAL_SHIFTED_3'] = df_TEA_full_semana_tendencia['PRECIPITACION_TOTAL'].shift(-3)\n",
    "df_TEA_full_semana_tendencia['PRECIPITACION_TOTAL_SHIFTED_4'] = df_TEA_full_semana_tendencia['PRECIPITACION_TOTAL'].shift(-4)\n",
    "df_TEA_full_semana_tendencia['PRECIPITACION_TOTAL_SHIFTED_5'] = df_TEA_full_semana_tendencia['PRECIPITACION_TOTAL'].shift(-5)\n",
    "df_TEA_full_semana_tendencia['PRECIPITACION_TOTAL_SHIFTED_6'] = df_TEA_full_semana_tendencia['PRECIPITACION_TOTAL'].shift(-6)\n",
    "df_TEA_full_semana_tendencia['PRECIPITACION_TOTAL_SHIFTED_7'] = df_TEA_full_semana_tendencia['PRECIPITACION_TOTAL'].shift(-7)\n",
    "\n",
    "\n",
    "df_TEA_full_semana_tendencia.head()"
   ]
  },
  {
   "cell_type": "code",
   "execution_count": null,
   "metadata": {},
   "outputs": [],
   "source": []
  },
  {
   "cell_type": "code",
   "execution_count": null,
   "metadata": {},
   "outputs": [],
   "source": [
    "# Graficamos tendencias\n",
    "# -------\n",
    "# -----\n",
    "# --\n",
    "\n",
    "plantacion_name = df_TEA_full_semana_tendencia['PLANTACION'].unique()\n",
    "\n",
    "# Crear el gráfico de líneas para 'toneladas_dia'\n",
    "plt.figure(figsize=(15, 5))\n",
    "plt.plot(df_TEA_full_semana_tendencia['SEMANA'], df_TEA_full_semana_tendencia['CPO OBTENIDO imp'], marker='o', markersize=2, linestyle='-', color='green', label='CPO OBTENIDO')\n",
    "# plt.plot(df_TEA_full_semana_tendencia['SEMANA'], df_TEA_full_semana_tendencia['CPO OBTENIDO_svzdo_2'], marker='o', markersize=2, linestyle='-', color='red', label='CPO OBTENIDO_svzdo_2')\n",
    "# plt.plot(df_TEA_full_semana_tendencia['SEMANA'], df_TEA_full_semana_tendencia['CPO OBTENIDO_svzdo_3'], marker='o', markersize=2, linestyle='-', color='blue', label='CPO OBTENIDO_svzdo_3')\n",
    "# plt.plot(df_TEA_full_semana_tendencia['SEMANA'], df_TEA_full_semana_tendencia['CPO OBTENIDO_svzdo_4'], marker='o', markersize=2, linestyle='-', color='red', label='CPO OBTENIDO_svzdo_4')\n",
    "# plt.plot(df_TEA_full_semana_tendencia['SEMANA'], df_TEA_full_semana_tendencia['CPO OBTENIDO_svzdo_5'], marker='o', markersize=2, linestyle='-', color='blue', label='CPO OBTENIDO_svzdo_5')\n",
    "\n",
    "plt.plot(df_TEA_full_semana_tendencia['SEMANA'], df_TEA_full_semana_tendencia['PRECIPITACION_TOTAL_SHIFTED_4'], marker='o', markersize=2, linestyle='-', color='blue', label='PRECIPITACION_TOTAL_SHIFTED_1')\n",
    "\n",
    "\n",
    "plt.title('RFF Procesado por Semana a través del Tiempo - '+ plantacion_name[0])\n",
    "plt.xlabel('Semana')\n",
    "plt.ylabel('RFF Procesado por Semana')\n",
    "plt.grid(True)\n",
    "plt.legend()\n",
    "#plt.xticks(rotation=45)\n",
    "\n",
    "# Mostrar la gráfica\n",
    "# print(df_TEA_full_semana_tendencia[df_TEA_full_semana_tendencia['RFF PROCESADO'] == 0].head())\n",
    "plt.tight_layout()\n",
    "plt.show()"
   ]
  },
  {
   "cell_type": "code",
   "execution_count": null,
   "metadata": {},
   "outputs": [],
   "source": [
    "\n"
   ]
  },
  {
   "cell_type": "code",
   "execution_count": null,
   "metadata": {},
   "outputs": [],
   "source": []
  },
  {
   "cell_type": "code",
   "execution_count": null,
   "metadata": {},
   "outputs": [],
   "source": [
    "plantacion_name = df_TEA_full_semana_tendencia['PLANTACION'].unique()\n",
    "\n",
    "# Configurar el gráfico\n",
    "plt.figure(figsize=(15, 5))\n",
    "\n",
    "# Graficar 'VALOR1' y 'VALOR2'\n",
    "# plt.plot(df_TEA_full_semana_tendencia['SEMANA'], df_TEA_full_semana_tendencia['RFF PROCESADO'], marker='o', markersize=4, label='RFF PROCESADO')\n",
    "plt.plot(df_TEA_full_semana_tendencia['SEMANA'], df_TEA_full_semana_tendencia['CPO OBTENIDO imp'], marker='o', markersize=4, label='CPO OBTENIDO imp')\n",
    "\n",
    "# plt.plot(df_TEA_full_semana_tendencia['SEMANA'], df_TEA_full_semana_tendencia['TOTAL'], marker='o', markersize=4, label='TOTAL recibido')\n",
    "# plt.plot(df_TEA_full_semana_tendencia['SEMANA'], df_TEA_full_semana_tendencia['PROPIOS'], marker='o', markersize=4, label='PROPIOS')\n",
    "plt.plot(df_TEA_full_semana_tendencia['SEMANA'], df_TEA_full_semana_tendencia['PRECIPITACION_TOTAL_svzdo_3'], marker='o', markersize=4, label='PRECIPITACION_TOTAL')\n",
    "plt.plot(df_TEA_full_semana_tendencia['SEMANA'], df_TEA_full_semana_tendencia['PRECIPITACION_TOTAL_svzdo_4'], marker='o', markersize=4, label='PRECIPITACION_TOTAL')\n",
    "\n",
    "# Configurar etiquetas y título\n",
    "plt.xlabel('Fecha')\n",
    "plt.ylabel('Valores')\n",
    "plt.title('Comparación de CPO OBTENIDO y PRECIPITACION_TOTAL a lo largo del tiempo - '+ plantacion_name[0])\n",
    "plt.legend()\n",
    "\n",
    "# Mostrar el gráfico\n",
    "# Mostrar la gráfica\n",
    "# print(df_TEA_full_semana_tendencia.head())\n",
    "plt.grid(True)\n",
    "plt.show()"
   ]
  },
  {
   "cell_type": "code",
   "execution_count": null,
   "metadata": {},
   "outputs": [],
   "source": []
  },
  {
   "cell_type": "code",
   "execution_count": null,
   "metadata": {},
   "outputs": [],
   "source": [
    "# Suponiendo que df es tu DataFrame y col1, col2 son las columnas de datos temporales\n",
    "correlation_pearson = df_TEA_full_semana_tendencia['CPO OBTENIDO imp'].corr(df_TEA_full_semana_tendencia['PRECIPITACION_TOTAL'], method='pearson')\n",
    "correlation_spearman = df_TEA_full_semana_tendencia['CPO OBTENIDO imp'].corr(df_TEA_full_semana_tendencia['PRECIPITACION_TOTAL'], method='spearman')\n",
    "correlation_kendall = df_TEA_full_semana_tendencia['CPO OBTENIDO imp'].corr(df_TEA_full_semana_tendencia['PRECIPITACION_TOTAL'], method='kendall')\n",
    "\n",
    "print(\"Correlación de Pearson:\", correlation_pearson)\n",
    "print(\"Correlación de Spearman:\", correlation_spearman)\n",
    "print(\"Correlación de Kendall:\", correlation_kendall)"
   ]
  },
  {
   "cell_type": "code",
   "execution_count": null,
   "metadata": {},
   "outputs": [],
   "source": [
    "# Suponiendo que df es tu DataFrame y col1, col2 son las columnas de datos temporales\n",
    "correlation_pearson = df_TEA_full_semana_tendencia['CPO OBTENIDO_svzdo_3'].corr(df_TEA_full_semana_tendencia['PRECIPITACION_TOTAL_svzdo_3'], method='pearson')\n",
    "correlation_spearman = df_TEA_full_semana_tendencia['CPO OBTENIDO_svzdo_3'].corr(df_TEA_full_semana_tendencia['PRECIPITACION_TOTAL_svzdo_3'], method='spearman')\n",
    "correlation_kendall = df_TEA_full_semana_tendencia['CPO OBTENIDO_svzdo_3'].corr(df_TEA_full_semana_tendencia['PRECIPITACION_TOTAL_svzdo_3'], method='kendall')\n",
    "\n",
    "print(\"Correlación de Pearson:\", correlation_pearson)\n",
    "print(\"Correlación de Spearman:\", correlation_spearman)\n",
    "print(\"Correlación de Kendall:\", correlation_kendall)"
   ]
  },
  {
   "cell_type": "code",
   "execution_count": null,
   "metadata": {},
   "outputs": [],
   "source": [
    "# Suponiendo que df es tu DataFrame y col1, col2 son las columnas de datos temporales\n",
    "correlation_pearson = df_TEA_full_semana_tendencia['CPO OBTENIDO imp'].corr(df_TEA_full_semana_tendencia['PRECIPITACION_TOTAL_SHIFTED_6'], method='pearson')\n",
    "correlation_spearman = df_TEA_full_semana_tendencia['CPO OBTENIDO imp'].corr(df_TEA_full_semana_tendencia['PRECIPITACION_TOTAL_SHIFTED_6'], method='spearman')\n",
    "correlation_kendall = df_TEA_full_semana_tendencia['CPO OBTENIDO imp'].corr(df_TEA_full_semana_tendencia['PRECIPITACION_TOTAL_SHIFTED_6'], method='kendall')\n",
    "\n",
    "print(\"Correlación de Pearson:\", correlation_pearson)\n",
    "print(\"Correlación de Spearman:\", correlation_spearman)\n",
    "print(\"Correlación de Kendall:\", correlation_kendall)"
   ]
  },
  {
   "cell_type": "code",
   "execution_count": null,
   "metadata": {},
   "outputs": [],
   "source": [
    "from statsmodels.tsa.stattools import coint\n",
    "\n",
    "# Suponiendo que series1 y series2 son tus series temporales\n",
    "score, p_value, _ = coint(df_TEA_full_semana_tendencia['CPO OBTENIDO imp'], df_TEA_full_semana_tendencia['PRECIPITACION_TOTAL_SHIFTED_5'])\n",
    "\n",
    "print(\"P-valor de la cointegración:\", p_value)"
   ]
  },
  {
   "cell_type": "code",
   "execution_count": null,
   "metadata": {},
   "outputs": [],
   "source": []
  },
  {
   "cell_type": "code",
   "execution_count": null,
   "metadata": {},
   "outputs": [],
   "source": []
  },
  {
   "cell_type": "code",
   "execution_count": null,
   "metadata": {},
   "outputs": [],
   "source": []
  },
  {
   "cell_type": "code",
   "execution_count": null,
   "metadata": {},
   "outputs": [],
   "source": [
    "import statsmodels.api as sm\n"
   ]
  },
  {
   "cell_type": "code",
   "execution_count": null,
   "metadata": {},
   "outputs": [],
   "source": [
    "import statsmodels.api as sm\n",
    "\n",
    "# Suponiendo que df tiene 'X' como variable independiente y 'Y' como variable dependiente\n",
    "X = df_TEA_full_semana_tendencia[['PRECIPITACION_TOTAL_svzdo_3']]\n",
    "Y = df_TEA_full_semana_tendencia['CPO OBTENIDO_svzdo_3']\n",
    "X = sm.add_constant(X)  # Añadir constante para la intercepción\n",
    "model = sm.OLS(Y, X).fit()\n",
    "print(model.summary())"
   ]
  },
  {
   "cell_type": "code",
   "execution_count": null,
   "metadata": {},
   "outputs": [],
   "source": []
  },
  {
   "cell_type": "code",
   "execution_count": null,
   "metadata": {},
   "outputs": [],
   "source": []
  },
  {
   "cell_type": "markdown",
   "metadata": {},
   "source": [
    "#### Transformando data por Plantación"
   ]
  },
  {
   "cell_type": "markdown",
   "metadata": {},
   "source": [
    "##### Planta Shanuzi"
   ]
  },
  {
   "cell_type": "code",
   "execution_count": null,
   "metadata": {},
   "outputs": [],
   "source": [
    "\n",
    "print(df_TEA_full.FECHA.min())\n",
    "print(df_TEA_full.FECHA.max())\n",
    "print(df_TEA_full[df_TEA_full['PLANTACION'] == 'Shanuzi'].head())\n",
    "\n",
    "print(df_sabana_saldo_campo_full_vf.FECHA.min())\n",
    "print(df_sabana_saldo_campo_full_vf.FECHA.max())\n",
    "print(df_sabana_saldo_campo_full_vf[df_sabana_saldo_campo_full_vf['PLANTACION'] == 'Shanuzi'].head())"
   ]
  },
  {
   "cell_type": "code",
   "execution_count": null,
   "metadata": {},
   "outputs": [],
   "source": [
    "# Unir los DataFrames en base a 'FECHA' y 'PLANTACION'\n",
    "df_TEA_full_sh = pd.merge(df_TEA_full[df_TEA_full['PLANTACION'] == 'Shanuzi'],\n",
    "                          df_sabana_saldo_campo_full_vf[df_sabana_saldo_campo_full_vf['PLANTACION'] == 'Shanuzi'],\n",
    "                          on=['FECHA', 'PLANTACION'], how='inner')\n",
    "# Convertir 'FECHA' a formato datetime\n",
    "df_TEA_full_sh['FECHA'] = pd.to_datetime(df_TEA_full_sh['FECHA'])\n",
    "df_TEA_full_sh.head(10)"
   ]
  },
  {
   "cell_type": "code",
   "execution_count": null,
   "metadata": {},
   "outputs": [],
   "source": [
    "# Crear columna 'SEMANA' que indica el año y la semana del año\n",
    "df_TEA_full_sh['SEMANA'] = df_TEA_full_sh['FECHA'].dt.to_period('W').apply(lambda r: r.start_time)\n",
    "df_TEA_full_sh.head()"
   ]
  },
  {
   "cell_type": "code",
   "execution_count": null,
   "metadata": {},
   "outputs": [],
   "source": [
    "# Agrupar por 'SEMANA' y calcular la suma de 'VALOR1' y 'VALOR2'\n",
    "df_TEA_full_sh_semana = df_TEA_full_sh.groupby(['SEMANA', 'PLANTACION']).agg({'PROPIOS': 'sum',\n",
    "                                                                              'TERCEROS': 'sum',\n",
    "                                                                              'TOTAL': 'sum',\n",
    "                                                                              'RFF PROCESADO': 'sum',\n",
    "                                                                              'CPO OBTENIDO': 'sum',\n",
    "                                                                              'SALDO':'mean',\n",
    "                                                                              'SALDO > 3':'mean',\n",
    "                                                                              'PRECIPITACION_TOTAL':'sum'}).reset_index()\n",
    "\n",
    "df_TEA_full_sh_semana.head()"
   ]
  },
  {
   "cell_type": "code",
   "execution_count": null,
   "metadata": {},
   "outputs": [],
   "source": [
    "# Crear figura y ejes\n",
    "fig, ax1 = plt.subplots(figsize=(15, 6))\n",
    "\n",
    "# Graficar la primera variable en el eje principal\n",
    "ax1.plot(df_TEA_full_sh_semana['SEMANA'], df_TEA_full_sh_semana['PRECIPITACION_TOTAL'], color='blue', marker='o', linestyle='-', label='PRECIPITACION_TOTAL')\n",
    "ax1.set_xlabel('Fecha')\n",
    "ax1.set_ylabel('Variable 1', color='blue')\n",
    "ax1.tick_params(axis='y', labelcolor='blue')\n",
    "\n",
    "# Crear eje secundario\n",
    "ax2 = ax1.twinx()\n",
    "ax2.plot(df_TEA_full_sh_semana['SEMANA'], df_TEA_full_sh_semana['CPO OBTENIDO'], color='green', marker='s', linestyle='--', label='CPO OBTENIDO')\n",
    "ax2.set_ylabel('Variable 2', color='green')\n",
    "ax2.tick_params(axis='y', labelcolor='green')\n",
    "\n",
    "# Agregar títulos y leyendas\n",
    "fig.suptitle('Comparación de Variables con Diferentes Escalas', fontsize=14)\n",
    "ax1.legend(loc='upper left')\n",
    "ax2.legend(loc='upper right')\n",
    "\n",
    "# Mostrar gráfico\n",
    "plt.grid(True)\n",
    "plt.show()"
   ]
  },
  {
   "cell_type": "code",
   "execution_count": null,
   "metadata": {},
   "outputs": [],
   "source": [
    "# Suponiendo que df es tu DataFrame y col1, col2 son las columnas de datos temporales\n",
    "correlation_pearson = df_TEA_full_sh_semana['CPO OBTENIDO'].corr(df_TEA_full_sh_semana['PRECIPITACION_TOTAL'], method='pearson')\n",
    "correlation_spearman = df_TEA_full_sh_semana['CPO OBTENIDO'].corr(df_TEA_full_sh_semana['PRECIPITACION_TOTAL'], method='spearman')\n",
    "correlation_kendall = df_TEA_full_sh_semana['CPO OBTENIDO'].corr(df_TEA_full_sh_semana['PRECIPITACION_TOTAL'], method='kendall')\n",
    "\n",
    "print(\"Correlación de Pearson:\", correlation_pearson)\n",
    "print(\"Correlación de Spearman:\", correlation_spearman)\n",
    "print(\"Correlación de Kendall:\", correlation_kendall)"
   ]
  },
  {
   "cell_type": "code",
   "execution_count": null,
   "metadata": {},
   "outputs": [],
   "source": []
  }
 ],
 "metadata": {
  "kernelspec": {
   "display_name": "Python 3",
   "language": "python",
   "name": "python3"
  },
  "language_info": {
   "codemirror_mode": {
    "name": "ipython",
    "version": 3
   },
   "file_extension": ".py",
   "mimetype": "text/x-python",
   "name": "python",
   "nbconvert_exporter": "python",
   "pygments_lexer": "ipython3",
   "version": "3.11.9"
  }
 },
 "nbformat": 4,
 "nbformat_minor": 2
}
