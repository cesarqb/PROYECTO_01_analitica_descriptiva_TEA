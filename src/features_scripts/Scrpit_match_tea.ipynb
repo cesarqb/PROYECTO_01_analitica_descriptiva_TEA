{
 "cells": [
  {
   "cell_type": "code",
   "execution_count": null,
   "metadata": {},
   "outputs": [],
   "source": [
    "# !pip install scipy\n",
    "# !pip install statsmodels"
   ]
  },
  {
   "cell_type": "code",
   "execution_count": 1,
   "metadata": {},
   "outputs": [],
   "source": [
    "#from google.colab import files\n",
    "import pandas as pd\n",
    "import numpy as np\n",
    "import calendar\n",
    "# import warnings\n",
    "from scipy.stats import spearmanr, kendalltau\n",
    "from scipy.stats import entropy\n",
    "\n",
    "import matplotlib.pyplot as plt\n",
    "from scipy.stats import pearsonr"
   ]
  },
  {
   "cell_type": "code",
   "execution_count": null,
   "metadata": {},
   "outputs": [],
   "source": []
  },
  {
   "cell_type": "markdown",
   "metadata": {},
   "source": [
    "### Cargando rutas de archivos y funciones"
   ]
  },
  {
   "cell_type": "code",
   "execution_count": 115,
   "metadata": {},
   "outputs": [],
   "source": [
    "# Cargamos el archivo Excel - RFF Procesado\n",
    "# --------------\n",
    "\n",
    "ruta_path = 'C:/cesar_quezada/ProyectosIA/Proyectos_PALMAS'               # -> Casa\n",
    "# ruta_path = 'C:/Users/usuario/Documents/DOCUMENTOS_CONSULTOR_5_BI'      # -> Trabajo\n",
    "\n",
    "\n",
    "ruta_path_fabrica = '/PROYECTO_01_analitica_descriptiva_TEA/data/processed/df_sabana_fabrica_full.csv'\n",
    "ruta_path_balanza = '/PROYECTO_01_analitica_descriptiva_TEA/data/processed/df_sabana_participacion_full.csv'\n",
    "ruta_path_saldo_campo = '/PROYECTO_01_analitica_descriptiva_TEA/data/processed/df_sabana_saldo_campo_full_vf.csv'\n",
    "ruta_calidad_precipitacion = '/PROYECTO_01_analitica_descriptiva_TEA/data/processed/df_calidad_precipitacion_full.csv'\n",
    "# --\n",
    "ruta_calidad_racimos_propios = '/PROYECTO_01_analitica_descriptiva_TEA/data/processed/df_calidad_racimos_propios_total_full.csv'\n",
    "ruta_antiguedad_frutos = '/PROYECTO_01_analitica_descriptiva_TEA/data/processed/df_antiguedad_fruta_full.csv'\n",
    "# --\n",
    "ruta_calidad_racimos_terceros = '/PROYECTO_01_analitica_descriptiva_TEA/data/processed/df_sabana_calidad_terceros_full.csv'\n",
    "# --\n",
    "ruta_acidez = '/PROYECTO_01_analitica_descriptiva_TEA/data/processed/df_acidez_full.csv'\n",
    "# --\n",
    "ruta_clima = '/PROYECTO_01_analitica_descriptiva_TEA/data/processed/df_clima_full_vf.csv'\n",
    "# --\n",
    "ruta__freq_cosecha = '/PROYECTO_01_analitica_descriptiva_TEA/data/processed/df_freq_cosecha_full.csv'\n",
    "# --\n",
    "ruta_participacion_cashcost_full = '/PROYECTO_01_analitica_descriptiva_TEA/data/processed/df_participacion_cashcost_full.csv'\n",
    "# --\n",
    "ruta_perdida_aceite_full = '/PROYECTO_01_analitica_descriptiva_TEA/data/processed/df_perdida_aceite_full.csv'\n",
    "# --\n",
    "ruta_perdida_cosecha = '/PROYECTO_01_analitica_descriptiva_TEA/data/processed/df_perdida_otros_full_group.csv'\n",
    "\n",
    "\n"
   ]
  },
  {
   "cell_type": "code",
   "execution_count": 32,
   "metadata": {},
   "outputs": [],
   "source": [
    "## FUNCION COMPLETITUD\n",
    "## #######################\n",
    "## #######################\n",
    "## #######################\n",
    "\n",
    "def function_completitud(df_x, variable, valor = 2, anio_filtro = '1901-01-01'):\n",
    "    # Mostrando estadísticas importantes\n",
    "\n",
    "    # --- Seleccionamos PLANTACION\n",
    "    # ---\n",
    "    df_bbdd_imputar = df_x\n",
    "    plantacion_name = df_bbdd_imputar['PLANTACION'].unique()\n",
    "\n",
    "    # Crear una nueva columna con el año y mes en el formato deseado\n",
    "    df_bbdd_imputar['FECHA'] = pd.to_datetime(df_bbdd_imputar['FECHA'])\n",
    "\n",
    "    # Crear un rango de fechas que cubra el período completo del DataFrame original\n",
    "    start_date = df_bbdd_imputar['FECHA'].min().replace(day=1)\n",
    "    end_date = (df_bbdd_imputar['FECHA'].max() + pd.offsets.MonthEnd(1)).replace(day=1) - pd.Timedelta(days=1)\n",
    "    all_dates = pd.date_range(start=start_date, end=end_date, freq='D')\n",
    "\n",
    "    # Crear un DataFrame con todas las fechas\n",
    "    df_all_dates = pd.DataFrame(all_dates, columns=['FECHA'])\n",
    "    # Hacer un merge con el DataFrame original\n",
    "    df_merged = pd.merge(df_all_dates, df_bbdd_imputar, on='FECHA', how='left')\n",
    "\n",
    "    # Filtramos el año si es que fuera necesario\n",
    "    # ---\n",
    "    # Filtrar el DataFrame para considerar solo las fechas mayores a 2023-03-16\n",
    "    fecha_limite = pd.Timestamp(anio_filtro)\n",
    "    df_merged = df_merged[df_merged['FECHA'] > fecha_limite]\n",
    "\n",
    "    # Crear las columnas variable_con_datos y variable_sin_datos\n",
    "    df_merged['variable_con_datos'] = np.where(df_merged[variable].notnull() & (df_merged[variable] != 0), 1, 0)\n",
    "    df_merged['variable_sin_datos'] = np.where(df_merged[variable].isnull() | (df_merged[variable] == 0), 1, 0)\n",
    "\n",
    "    # Agrupar por mes y sumar las columnas\n",
    "    df_merged['AÑO_MES'] = df_merged['FECHA'].dt.strftime('%Y-%m')\n",
    "    df_monthly = df_merged.groupby('AÑO_MES').agg({'variable_con_datos': 'sum', 'variable_sin_datos': 'sum'}).reset_index()\n",
    "    df_monthly['PLANTACION'] = plantacion_name[0]\n",
    "    df_monthly['Total_dias'] = df_monthly['variable_con_datos'] + df_monthly['variable_sin_datos']\n",
    "    df_monthly['% Completitud'] = df_monthly['variable_con_datos']/(df_monthly['variable_con_datos'] + df_monthly['variable_sin_datos'])\n",
    "\n",
    "    # Agrupar por año\n",
    "    df_merged['AÑO'] = df_merged['FECHA'].dt.strftime('%Y')\n",
    "    df_year = df_merged.groupby('AÑO').agg({'variable_con_datos': 'sum', 'variable_sin_datos': 'sum'}).reset_index()\n",
    "    df_year['PLANTACION'] = plantacion_name[0]\n",
    "    df_year['Total_dias'] = df_year['variable_con_datos'] + df_year['variable_sin_datos']\n",
    "    df_year['% Completitud'] = df_year['variable_con_datos']/(df_year['variable_con_datos'] + df_year['variable_sin_datos'])\n",
    "\n",
    "    # Creando el indicador divergencia KL (Kullback-Leibler)\n",
    "    # ------\n",
    "    df_merged['incompleto'] = df_merged[variable]\n",
    "    df_merged['completo'] = df_merged[variable]\n",
    "\n",
    "    # Reemplazamos los ceros por NaN\n",
    "\n",
    "    df_merged['completo'].replace(0, np.nan, inplace=True)\n",
    "    df_merged['completo'].fillna(method='ffill', inplace=True) # Reemplazamos los valores NaN por el valor anterior (forward fill)\n",
    "\n",
    "    # Calcular la moda de cada columna\n",
    "    # moda_variable = df_merged['completo'].mode().iloc[0]\n",
    "\n",
    "    # Verificar si la moda no está vacía antes de acceder al primer elemento\n",
    "    if not df_merged['completo'].mode().empty:\n",
    "        moda_variable = df_merged['completo'].mode().iloc[0]\n",
    "        df_merged['completo'] = df_merged['completo'].fillna(moda_variable) # Reemplazamos los valores NaN por la moda\n",
    "    else:\n",
    "        # Si no hay moda, calcular el promedio\n",
    "        moda_variable = df_merged['completo'].mean()\n",
    "        df_merged['completo'] = df_merged['completo'].fillna(moda_variable) # Reemplazamos los valores NaN por el promedio\n",
    "\n",
    "\n",
    "    df_merged['completo'] = df_merged['completo'].fillna(moda_variable) # Reemplazamos los valores NaN por el valor anterior (forward fill)\n",
    "\n",
    "    # Calcular las distribuciones de la variable original y la imputada\n",
    "    hist_original, bin_edges = np.histogram(df_merged['incompleto'].dropna(), bins=30, density=True)\n",
    "    hist_imputado, _ = np.histogram(df_merged['completo'], bins=bin_edges, density=True)\n",
    "\n",
    "    # Calcular la divergencia KL entre las dos distribuciones\n",
    "    kl_divergence = entropy(hist_original, hist_imputado)\n",
    "\n",
    "\n",
    "    # Guardamos el datframe - df_monthly\n",
    "    # -----\n",
    "    print( \"## ################# ##\")\n",
    "    print(f'Divergencia KL: {kl_divergence}')\n",
    "    print(f'Dataframe creados: df_year, df_month')\n",
    "    print( \"## ################# ##\")\n",
    "\n",
    "    # Especifica la ruta donde deseas guardar el excel\n",
    "    ruta_missing_mensual =  '/PROYECTO_01_analitica_descriptiva_TEA/data/processed/missing_values/df_missing_values_month.xlsx'  # Cambia esta ruta a la que necesites\n",
    "    df_monthly.to_excel(ruta_path + ruta_missing_mensual, index=False)\n",
    "    print(f'Datos guardados en {ruta_path + ruta_missing_mensual}')\n",
    "\n",
    "    # Guardamos el datframe - df_year\n",
    "    # -----\n",
    "    # Especifica la ruta donde deseas guardar el excel\n",
    "    ruta_missing_anual =  '/PROYECTO_01_analitica_descriptiva_TEA/data/processed/missing_values/df_missing_values_year.xlsx'  # Cambia esta ruta a la que necesites\n",
    "    df_year.to_excel(ruta_path + ruta_missing_anual, index=False)\n",
    "    print(f'Datos guardados en {ruta_path + ruta_missing_anual}')\n",
    "\n",
    "     # Mostrar el DataFrame correspondiente según el valor de `val`\n",
    "    if valor == 1:\n",
    "        print(\"DataFrame df_year:\")\n",
    "        print(df_year.head(10))\n",
    "    else:\n",
    "        print(\"DataFrame df_month:\")\n",
    "        print(df_monthly.head(10))\n",
    "\n",
    "\n",
    "\n",
    "## FUNCION COMPLETITUD PENALIZADA\n",
    "## #######################\n",
    "## #######################\n",
    "## #######################\n",
    "\n",
    "def function_completitud_pen(df_x, variable, valor = 2, anio_filtro = '1901-01-01'):\n",
    "    # Mostrando estadísticas importantes\n",
    "\n",
    "    # --- Seleccionamos PLANTACION\n",
    "    # ---\n",
    "    df_bbdd_imputar = df_x\n",
    "    plantacion_name = df_bbdd_imputar['PLANTACION'].unique()\n",
    "\n",
    "    # Crear una nueva columna con el año y mes en el formato deseado\n",
    "    df_bbdd_imputar['FECHA'] = pd.to_datetime(df_bbdd_imputar['FECHA'])\n",
    "\n",
    "    # Crear un rango de fechas que cubra el período completo del DataFrame original\n",
    "    start_date = df_bbdd_imputar['FECHA'].min().replace(day=1)\n",
    "    end_date = (df_bbdd_imputar['FECHA'].max() + pd.offsets.MonthEnd(1)).replace(day=1) - pd.Timedelta(days=1)\n",
    "    all_dates = pd.date_range(start=start_date, end=end_date, freq='D')\n",
    "\n",
    "    # Crear un DataFrame con todas las fechas\n",
    "    df_all_dates = pd.DataFrame(all_dates, columns=['FECHA'])\n",
    "    # Hacer un merge con el DataFrame original\n",
    "    df_merged = pd.merge(df_all_dates, df_bbdd_imputar, on='FECHA', how='left')\n",
    "    df_merged['FECHA'] = pd.to_datetime(df_merged['FECHA'])\n",
    "    dim_start = df_merged.shape[0]\n",
    "\n",
    "    # Filtrar filas donde el día de la semana no sea domingo (domingo es 6)\n",
    "    df_merged = df_merged[df_merged['FECHA'].dt.weekday != 6]\n",
    "    df_merged = df_merged[df_merged['FECHA'].dt.weekday != 5]\n",
    "\n",
    "    dim_finish = df_merged.shape[0]\n",
    "\n",
    "    dim_reduccion = dim_finish/dim_start\n",
    "\n",
    "    # Filtramos el año si es que fuera necesario\n",
    "    # ---\n",
    "    # Filtrar el DataFrame para considerar solo las fechas mayores a 2023-03-16\n",
    "    fecha_limite = pd.Timestamp(anio_filtro)\n",
    "    df_merged = df_merged[df_merged['FECHA'] > fecha_limite]\n",
    "\n",
    "    # Crear las columnas variable_con_datos y variable_sin_datos\n",
    "    df_merged['variable_con_datos'] = np.where(df_merged[variable].notnull() & (df_merged[variable] != 0), 1, 0)\n",
    "    df_merged['variable_sin_datos'] = np.where(df_merged[variable].isnull() | (df_merged[variable] == 0), 1, 0)\n",
    "\n",
    "    sum_variable_con_datos = df_merged['variable_con_datos'].sum()\n",
    "    sum_variable_sin_datos = df_merged['variable_sin_datos'].sum()\n",
    "    pctj_completitud_total = sum_variable_con_datos/(sum_variable_con_datos + sum_variable_sin_datos)\n",
    "\n",
    "    # Agrupar por mes y sumar las columnas\n",
    "    df_merged['AÑO_MES'] = df_merged['FECHA'].dt.strftime('%Y-%m')\n",
    "    df_monthly = df_merged.groupby('AÑO_MES').agg({'variable_con_datos': 'sum', 'variable_sin_datos': 'sum'}).reset_index()\n",
    "    df_monthly['PLANTACION'] = plantacion_name[0]\n",
    "    df_monthly['Total_dias'] = df_monthly['variable_con_datos'] + df_monthly['variable_sin_datos']\n",
    "    df_monthly['% Completitud'] = df_monthly['variable_con_datos']/(df_monthly['variable_con_datos'] + df_monthly['variable_sin_datos'])\n",
    "\n",
    "    # Agrupar por año\n",
    "    df_merged['AÑO'] = df_merged['FECHA'].dt.strftime('%Y')\n",
    "    df_year = df_merged.groupby('AÑO').agg({'variable_con_datos': 'sum', 'variable_sin_datos': 'sum'}).reset_index()\n",
    "    df_year['PLANTACION'] = plantacion_name[0]\n",
    "    df_year['Total_dias'] = df_year['variable_con_datos'] + df_year['variable_sin_datos']\n",
    "    df_year['% Completitud'] = df_year['variable_con_datos']/(df_year['variable_con_datos'] + df_year['variable_sin_datos'])\n",
    "\n",
    "    # Creando el indicador divergencia KL (Kullback-Leibler)\n",
    "    # ------\n",
    "    df_merged['incompleto'] = df_merged[variable]\n",
    "    df_merged['completo'] = df_merged[variable]\n",
    "\n",
    "    # Reemplazamos los ceros por NaN\n",
    "\n",
    "    df_merged['completo'].replace(0, np.nan, inplace=True)\n",
    "    df_merged['completo'].fillna(method='ffill', inplace=True) # Reemplazamos los valores NaN por el valor anterior (forward fill)\n",
    "\n",
    "    # Calcular la moda de cada columna\n",
    "    # moda_variable = df_merged['completo'].mode().iloc[0]\n",
    "\n",
    "    # Verificar si la moda no está vacía antes de acceder al primer elemento\n",
    "    if not df_merged['completo'].mode().empty:\n",
    "        moda_variable = df_merged['completo'].mode().iloc[0]\n",
    "        df_merged['completo'] = df_merged['completo'].fillna(moda_variable) # Reemplazamos los valores NaN por la moda\n",
    "    else:\n",
    "        # Si no hay moda, calcular el promedio\n",
    "        moda_variable = df_merged['completo'].mean()\n",
    "        df_merged['completo'] = df_merged['completo'].fillna(moda_variable) # Reemplazamos los valores NaN por el promedio\n",
    "\n",
    "\n",
    "    df_merged['completo'] = df_merged['completo'].fillna(moda_variable) # Reemplazamos los valores NaN por el valor anterior (forward fill)\n",
    "\n",
    "    # Calcular las distribuciones de la variable original y la imputada\n",
    "    hist_original, bin_edges = np.histogram(df_merged['incompleto'].dropna(), bins=30, density=True)\n",
    "    hist_imputado, _ = np.histogram(df_merged['completo'], bins=bin_edges, density=True)\n",
    "\n",
    "    # Calcular la divergencia KL entre las dos distribuciones\n",
    "    kl_divergence = entropy(hist_original, hist_imputado)\n",
    "\n",
    "\n",
    "    # Guardamos el datframe - df_monthly\n",
    "    # -----\n",
    "    print( \"## ################# ##\")\n",
    "    print(f'Divergencia KL: {kl_divergence}')\n",
    "    print(f'Sin considerar dias sábados/domingos: {dim_reduccion}')\n",
    "    print(f'Dataframe creados: df_year, df_month')\n",
    "    print(f'pctj_completitud_total= {pctj_completitud_total}')\n",
    "    print( \"## ################# ##\")\n",
    "\n",
    "    # Especifica la ruta donde deseas guardar el excel\n",
    "    ruta_missing_mensual =  '/PROYECTO_01_analitica_descriptiva_TEA/data/processed/missing_values/df_missing_values_month.xlsx'  # Cambia esta ruta a la que necesites\n",
    "    df_monthly.to_excel(ruta_path + ruta_missing_mensual, index=False)\n",
    "    print(f'Datos guardados en {ruta_path + ruta_missing_mensual}')\n",
    "\n",
    "    # Guardamos el datframe - df_year\n",
    "    # -----\n",
    "    # Especifica la ruta donde deseas guardar el excel\n",
    "    ruta_missing_anual =  '/PROYECTO_01_analitica_descriptiva_TEA/data/processed/missing_values/df_missing_values_year.xlsx'  # Cambia esta ruta a la que necesites\n",
    "    df_year.to_excel(ruta_path + ruta_missing_anual, index=False)\n",
    "    print(f'Datos guardados en {ruta_path + ruta_missing_anual}')\n",
    "\n",
    "     # Mostrar el DataFrame correspondiente según el valor de `val`\n",
    "    if valor == 1:\n",
    "        print(\"DataFrame df_year:\")\n",
    "        print(df_year.head(10))\n",
    "    else:\n",
    "        print(\"DataFrame df_month:\")\n",
    "        print(df_monthly.head(10))\n",
    "\n",
    "\n",
    "\n",
    "\n",
    "\n",
    "\n",
    "## FUNCION GRAFICADORA 1\n",
    "## #######################\n",
    "## #######################\n",
    "## #######################\n",
    "\n",
    "def function_tendencia_unica(df_x, valor,colors='green'):\n",
    "    df_x = df_x.sort_values(by='FECHA')\n",
    "    plantacion_name = df_x['PLANTACION'].unique()\n",
    "\n",
    "    plt.figure(figsize=(15, 5))\n",
    "    plt.plot(df_x['FECHA'], df_x[valor], marker='o', markersize=2, linestyle='-', color=colors, label='Peso')\n",
    "    plt.title(f'{plantacion_name[0]}: variable {valor} - por Día a través del Tiempo ')\n",
    "    plt.xlabel('Fecha')\n",
    "    plt.ylabel('Peso por Día')\n",
    "    plt.grid(True)\n",
    "    plt.legend()\n",
    "    #plt.xticks(rotation=45)\n",
    "\n",
    "    fecha_min = df_x['FECHA'].min()\n",
    "    fecha_max = df_x['FECHA'].max()\n",
    "    print('Analisis de ', fecha_min, ' hasta ', fecha_max)\n",
    "    \n",
    "    # Mostrar la gráfica\n",
    "    # print(df_TEA_full_tendencia[df_TEA_full_tendencia['RFF PROCESADO'] == 0].head())\n",
    "    plt.tight_layout()\n",
    "    plt.show()\n",
    "\n",
    "\n",
    "\n",
    "\n",
    "\n",
    "## FUNCION SAVE EXCEL\n",
    "## #######################\n",
    "## #######################\n",
    "## #######################\n",
    "\n",
    "def function_save(df_x):\n",
    "    # Especifica la ruta donde deseas guardar el CSV\n",
    "    ruta_save =  '/PROYECTO_01_analitica_descriptiva_TEA/data/processed/__bbdd_revision__.xlsx'  # Cambia esta ruta a la que necesites\n",
    "    df_x.to_excel(ruta_path + ruta_save, index=False)\n",
    "    print(f'Datos guardados en {ruta_path + ruta_save}')\n",
    "\n"
   ]
  },
  {
   "cell_type": "markdown",
   "metadata": {},
   "source": [
    "### Cargando datos processed"
   ]
  },
  {
   "cell_type": "code",
   "execution_count": 182,
   "metadata": {},
   "outputs": [],
   "source": [
    "### Cargamos df_sabana_fabrica_full\n",
    "### --------------------\n",
    "df_sabana_fabrica_full = pd.read_csv(ruta_path + ruta_path_fabrica)\n",
    "df_sabana_balanza_full = pd.read_csv(ruta_path + ruta_path_balanza)\n",
    "\n",
    "df_sabana_saldo_campo_full_vf = pd.read_csv(ruta_path + ruta_path_saldo_campo)\n",
    "df_sabana_saldo_campo_full_vf['FECHA'] = pd.to_datetime(df_sabana_saldo_campo_full_vf['FECHA'])\n",
    "\n",
    "df_calidad_precipitacion_full = pd.read_csv(ruta_path + ruta_calidad_precipitacion)\n",
    "df_calidad_precipitacion_full['FECHA'] = df_calidad_precipitacion_full['FECHA'].str.split(' ').str[0]\n",
    "df_calidad_precipitacion_full['FECHA'] = pd.to_datetime(df_calidad_precipitacion_full['FECHA'], format='%Y-%m-%d')\n",
    "\n",
    "# --\n",
    "df_calidad_racimos_propios_full = pd.read_csv(ruta_path + ruta_calidad_racimos_propios)\n",
    "df_calidad_antiguedad_frutos_full = pd.read_csv(ruta_path + ruta_antiguedad_frutos)\n",
    "\n",
    "# --\n",
    "df_sabana_calidad_terceros_full = pd.read_csv(ruta_path + ruta_calidad_racimos_terceros)\n",
    "df_sabana_calidad_terceros_full['FECHA'] = pd.to_datetime(df_sabana_calidad_terceros_full['FECHA'], format='%Y-%m-%d')\n",
    "df_sabana_calidad_terceros_full['% VERDES'] = df_sabana_calidad_terceros_full['% VERDES'].replace('-',np.nan)\n",
    "df_sabana_calidad_terceros_full['% MADUROS'] = df_sabana_calidad_terceros_full['% MADUROS'].replace('-',np.nan)\n",
    "df_sabana_calidad_terceros_full['% SMADUROS'] = df_sabana_calidad_terceros_full['% SMADUROS'].replace('-',np.nan)\n",
    "df_sabana_calidad_terceros_full['% ESCOBAJO'] = df_sabana_calidad_terceros_full['% ESCOBAJO'].replace('-',np.nan)\n",
    "\n",
    "df_sabana_calidad_terceros_full['% VERDES'] = df_sabana_calidad_terceros_full['% VERDES'].astype(float)\n",
    "df_sabana_calidad_terceros_full['% MADUROS'] = df_sabana_calidad_terceros_full['% MADUROS'].astype(float)\n",
    "df_sabana_calidad_terceros_full['% SMADUROS'] = df_sabana_calidad_terceros_full['% SMADUROS'].astype(float)\n",
    "df_sabana_calidad_terceros_full['% ESCOBAJO'] = df_sabana_calidad_terceros_full['% ESCOBAJO'].astype(float)\n",
    "\n",
    "# --\n",
    "df_acidez_full = pd.read_csv(ruta_path + ruta_acidez)\n",
    "\n",
    "# --\n",
    "df_clima_full_vf = pd.read_csv(ruta_path + ruta_clima)\n",
    "\n",
    "# --\n",
    "df_freq_cosecha_full = pd.read_csv(ruta_path + ruta__freq_cosecha)\n",
    "\n",
    "# --\n",
    "df_participacion_cashcost_full = pd.read_csv(ruta_path + ruta_participacion_cashcost_full)\n",
    "\n",
    "# --\n",
    "df_perdida_aceite_full = pd.read_csv(ruta_path + ruta_perdida_aceite_full)\n",
    "df_perdida_aceite_full['FECHA'] = pd.to_datetime(df_perdida_aceite_full['FECHA'])\n",
    "\n",
    "# --\n",
    "df_perdida_cosecha_full_vf = pd.read_csv(ruta_path + ruta_perdida_cosecha)\n",
    "\n",
    "\n",
    "\n"
   ]
  },
  {
   "cell_type": "code",
   "execution_count": null,
   "metadata": {},
   "outputs": [],
   "source": []
  },
  {
   "cell_type": "markdown",
   "metadata": {},
   "source": [
    "### Visualizando datos/ completitud de datos"
   ]
  },
  {
   "cell_type": "code",
   "execution_count": null,
   "metadata": {},
   "outputs": [],
   "source": [
    "# df_sabana_fabrica_full.head(15)\n",
    "# df_sabana_balanza_full.head()       # --> se actualizará con la data de Rolly (CashCost)\n",
    "\n",
    "# df_sabana_saldo_campo_full_vf.head()\n",
    "\n",
    "# print(df_calidad_precipitacion_full.dtypes)\n",
    "# df_calidad_precipitacion_full.head()\n",
    "\n",
    "# df_calidad_racimos_propios_full.head()\n",
    "# df_calidad_antiguedad_frutos_full.head()\n",
    "\n",
    "# df_acidez_full.head()\n",
    "df_perdida_aceite_full.head()\n"
   ]
  },
  {
   "cell_type": "code",
   "execution_count": null,
   "metadata": {},
   "outputs": [],
   "source": [
    "df_sabana_fabrica_full.groupby('PLANTACION').agg({'FECHA':['min','max'],\n",
    "                                                  'MES_NRO':'count'})"
   ]
  },
  {
   "cell_type": "code",
   "execution_count": null,
   "metadata": {},
   "outputs": [],
   "source": [
    "df_sabana_balanza_full.groupby('PLANTACION').agg({'FECHA':['min','max'],\n",
    "                                                  'PTANIO':'count'})"
   ]
  },
  {
   "cell_type": "code",
   "execution_count": null,
   "metadata": {},
   "outputs": [],
   "source": [
    "df_sabana_saldo_campo_full_vf.groupby('PLANTACION').agg({'FECHA':['min','max'],\n",
    "                                                        'SALDO':'count'})"
   ]
  },
  {
   "cell_type": "code",
   "execution_count": null,
   "metadata": {},
   "outputs": [],
   "source": [
    "df_calidad_precipitacion_full.groupby('PLANTACION').agg({'FECHA':['min','max'],\n",
    "                                                         'PLANTACION':'count'})"
   ]
  },
  {
   "cell_type": "code",
   "execution_count": null,
   "metadata": {},
   "outputs": [],
   "source": [
    "df_calidad_racimos_propios_full.groupby('PLANTACION').agg({'FECHA':['min','max'],\n",
    "                                                           'PLANTACION':'count'})"
   ]
  },
  {
   "cell_type": "code",
   "execution_count": null,
   "metadata": {},
   "outputs": [],
   "source": [
    "df_sabana_calidad_terceros_full.groupby('PLANTACION').agg({'FECHA':['min','max'],\n",
    "                                                           'PLANTACION':'count'})"
   ]
  },
  {
   "cell_type": "code",
   "execution_count": null,
   "metadata": {},
   "outputs": [],
   "source": [
    "df_calidad_antiguedad_frutos_full.groupby('PLANTACION').agg({'FECHA':['min','max'],\n",
    "                                                             'PLANTACION':'count'})"
   ]
  },
  {
   "cell_type": "code",
   "execution_count": null,
   "metadata": {},
   "outputs": [],
   "source": [
    "df_acidez_full.groupby('PLANTACION').agg({'FECHA':['min','max'],\n",
    "                                          'PLANTACION':'count'})"
   ]
  },
  {
   "cell_type": "code",
   "execution_count": 183,
   "metadata": {},
   "outputs": [
    {
     "data": {
      "text/html": [
       "<div>\n",
       "<style scoped>\n",
       "    .dataframe tbody tr th:only-of-type {\n",
       "        vertical-align: middle;\n",
       "    }\n",
       "\n",
       "    .dataframe tbody tr th {\n",
       "        vertical-align: top;\n",
       "    }\n",
       "\n",
       "    .dataframe thead tr th {\n",
       "        text-align: left;\n",
       "    }\n",
       "\n",
       "    .dataframe thead tr:last-of-type th {\n",
       "        text-align: right;\n",
       "    }\n",
       "</style>\n",
       "<table border=\"1\" class=\"dataframe\">\n",
       "  <thead>\n",
       "    <tr>\n",
       "      <th></th>\n",
       "      <th colspan=\"2\" halign=\"left\">FECHA</th>\n",
       "      <th>PLANTACION</th>\n",
       "    </tr>\n",
       "    <tr>\n",
       "      <th></th>\n",
       "      <th>min</th>\n",
       "      <th>max</th>\n",
       "      <th>count</th>\n",
       "    </tr>\n",
       "    <tr>\n",
       "      <th>PLANTACION</th>\n",
       "      <th></th>\n",
       "      <th></th>\n",
       "      <th></th>\n",
       "    </tr>\n",
       "  </thead>\n",
       "  <tbody>\n",
       "    <tr>\n",
       "      <th>Nuevo Horizonte</th>\n",
       "      <td>2021-06-10 08:45:00</td>\n",
       "      <td>2024-12-06 00:00:00</td>\n",
       "      <td>92819</td>\n",
       "    </tr>\n",
       "    <tr>\n",
       "      <th>Palmawasi</th>\n",
       "      <td>2010-01-01 00:00:00</td>\n",
       "      <td>2024-12-06 00:00:00</td>\n",
       "      <td>4769</td>\n",
       "    </tr>\n",
       "    <tr>\n",
       "      <th>Shanuzi</th>\n",
       "      <td>2017-09-28 14:00:00</td>\n",
       "      <td>2024-12-06 00:00:00</td>\n",
       "      <td>222315</td>\n",
       "    </tr>\n",
       "  </tbody>\n",
       "</table>\n",
       "</div>"
      ],
      "text/plain": [
       "                               FECHA                      PLANTACION\n",
       "                                 min                  max      count\n",
       "PLANTACION                                                          \n",
       "Nuevo Horizonte  2021-06-10 08:45:00  2024-12-06 00:00:00      92819\n",
       "Palmawasi        2010-01-01 00:00:00  2024-12-06 00:00:00       4769\n",
       "Shanuzi          2017-09-28 14:00:00  2024-12-06 00:00:00     222315"
      ]
     },
     "execution_count": 183,
     "metadata": {},
     "output_type": "execute_result"
    }
   ],
   "source": [
    "df_clima_full_vf.groupby('PLANTACION').agg({'FECHA':['min','max'],\n",
    "                                            'PLANTACION':'count'})"
   ]
  },
  {
   "cell_type": "code",
   "execution_count": null,
   "metadata": {},
   "outputs": [],
   "source": [
    "df_freq_cosecha_full.groupby('PLANTACION').agg({'FECHA':['min','max'],\n",
    "                                                'PLANTACION':'count'})"
   ]
  },
  {
   "cell_type": "code",
   "execution_count": null,
   "metadata": {},
   "outputs": [],
   "source": [
    "df_participacion_cashcost_full.groupby('PLANTACION').agg({'FECHA':['min','max'],\n",
    "                                                          'PLANTACION':'count'})"
   ]
  },
  {
   "cell_type": "code",
   "execution_count": null,
   "metadata": {},
   "outputs": [],
   "source": [
    "df_perdida_aceite_full.groupby('PLANTACION').agg({'FECHA':['min','max'],\n",
    "                                                  'PLANTACION':'count'})"
   ]
  },
  {
   "cell_type": "code",
   "execution_count": null,
   "metadata": {},
   "outputs": [],
   "source": [
    "df_perdida_cosecha_full_vf.groupby('PLANTACION').agg({'FECHA':['min','max'],\n",
    "                                                      'PLANTACION':'count'})"
   ]
  },
  {
   "cell_type": "code",
   "execution_count": null,
   "metadata": {},
   "outputs": [],
   "source": []
  },
  {
   "cell_type": "markdown",
   "metadata": {},
   "source": [
    "##### --------------------------------------------"
   ]
  },
  {
   "cell_type": "code",
   "execution_count": 184,
   "metadata": {},
   "outputs": [
    {
     "data": {
      "text/html": [
       "<div>\n",
       "<style scoped>\n",
       "    .dataframe tbody tr th:only-of-type {\n",
       "        vertical-align: middle;\n",
       "    }\n",
       "\n",
       "    .dataframe tbody tr th {\n",
       "        vertical-align: top;\n",
       "    }\n",
       "\n",
       "    .dataframe thead th {\n",
       "        text-align: right;\n",
       "    }\n",
       "</style>\n",
       "<table border=\"1\" class=\"dataframe\">\n",
       "  <thead>\n",
       "    <tr style=\"text-align: right;\">\n",
       "      <th></th>\n",
       "      <th>FECHA</th>\n",
       "      <th>PLANTACION</th>\n",
       "      <th>Temperatura</th>\n",
       "      <th>Temp Hi</th>\n",
       "      <th>Temp Low</th>\n",
       "      <th>Humedad</th>\n",
       "      <th>Radiacion</th>\n",
       "    </tr>\n",
       "  </thead>\n",
       "  <tbody>\n",
       "    <tr>\n",
       "      <th>0</th>\n",
       "      <td>2010-01-01 00:00:00</td>\n",
       "      <td>Palmawasi</td>\n",
       "      <td>21.808511</td>\n",
       "      <td>21.982979</td>\n",
       "      <td>21.663830</td>\n",
       "      <td>94.914894</td>\n",
       "      <td>159.531915</td>\n",
       "    </tr>\n",
       "    <tr>\n",
       "      <th>1</th>\n",
       "      <td>2010-01-02 00:00:00</td>\n",
       "      <td>Palmawasi</td>\n",
       "      <td>21.793750</td>\n",
       "      <td>21.900000</td>\n",
       "      <td>21.658333</td>\n",
       "      <td>92.395833</td>\n",
       "      <td>144.916667</td>\n",
       "    </tr>\n",
       "    <tr>\n",
       "      <th>2</th>\n",
       "      <td>2010-01-03 00:00:00</td>\n",
       "      <td>Palmawasi</td>\n",
       "      <td>21.877083</td>\n",
       "      <td>22.033333</td>\n",
       "      <td>21.735417</td>\n",
       "      <td>87.000000</td>\n",
       "      <td>241.645833</td>\n",
       "    </tr>\n",
       "    <tr>\n",
       "      <th>3</th>\n",
       "      <td>2010-01-04 00:00:00</td>\n",
       "      <td>Palmawasi</td>\n",
       "      <td>22.202083</td>\n",
       "      <td>22.352083</td>\n",
       "      <td>22.047917</td>\n",
       "      <td>87.583333</td>\n",
       "      <td>178.395833</td>\n",
       "    </tr>\n",
       "    <tr>\n",
       "      <th>4</th>\n",
       "      <td>2010-01-05 00:00:00</td>\n",
       "      <td>Palmawasi</td>\n",
       "      <td>22.320833</td>\n",
       "      <td>22.493750</td>\n",
       "      <td>22.137500</td>\n",
       "      <td>89.395833</td>\n",
       "      <td>269.208333</td>\n",
       "    </tr>\n",
       "  </tbody>\n",
       "</table>\n",
       "</div>"
      ],
      "text/plain": [
       "                 FECHA PLANTACION  Temperatura    Temp Hi   Temp Low  \\\n",
       "0  2010-01-01 00:00:00  Palmawasi    21.808511  21.982979  21.663830   \n",
       "1  2010-01-02 00:00:00  Palmawasi    21.793750  21.900000  21.658333   \n",
       "2  2010-01-03 00:00:00  Palmawasi    21.877083  22.033333  21.735417   \n",
       "3  2010-01-04 00:00:00  Palmawasi    22.202083  22.352083  22.047917   \n",
       "4  2010-01-05 00:00:00  Palmawasi    22.320833  22.493750  22.137500   \n",
       "\n",
       "     Humedad   Radiacion  \n",
       "0  94.914894  159.531915  \n",
       "1  92.395833  144.916667  \n",
       "2  87.000000  241.645833  \n",
       "3  87.583333  178.395833  \n",
       "4  89.395833  269.208333  "
      ]
     },
     "execution_count": 184,
     "metadata": {},
     "output_type": "execute_result"
    }
   ],
   "source": [
    "df_clima_full_vf.head()\n",
    "#df_participacion_cashcost_full.dtypes"
   ]
  },
  {
   "cell_type": "code",
   "execution_count": 185,
   "metadata": {},
   "outputs": [
    {
     "data": {
      "text/plain": [
       "PLANTACION\n",
       "Nuevo Horizonte     92819\n",
       "Palmawasi            4769\n",
       "Shanuzi            222315\n",
       "dtype: int64"
      ]
     },
     "execution_count": 185,
     "metadata": {},
     "output_type": "execute_result"
    }
   ],
   "source": [
    "df_clima_full_vf.groupby('PLANTACION').size()"
   ]
  },
  {
   "cell_type": "code",
   "execution_count": 188,
   "metadata": {},
   "outputs": [
    {
     "name": "stdout",
     "output_type": "stream",
     "text": [
      "## ################# ##\n",
      "Divergencia KL: 0.1737233071529637\n",
      "Sin considerar dias sábados/domingos: 0.7151799687010955\n",
      "Dataframe creados: df_year, df_month\n",
      "pctj_completitud_total= 0.7560175054704595\n",
      "## ################# ##\n",
      "Datos guardados en C:/cesar_quezada/ProyectosIA/Proyectos_PALMAS/PROYECTO_01_analitica_descriptiva_TEA/data/processed/missing_values/df_missing_values_month.xlsx\n",
      "Datos guardados en C:/cesar_quezada/ProyectosIA/Proyectos_PALMAS/PROYECTO_01_analitica_descriptiva_TEA/data/processed/missing_values/df_missing_values_year.xlsx\n",
      "DataFrame df_year:\n",
      "    AÑO  variable_con_datos  variable_sin_datos       PLANTACION  Total_dias  \\\n",
      "0  2021                 147                   7  Nuevo Horizonte         154   \n",
      "1  2022                 260                   0  Nuevo Horizonte         260   \n",
      "2  2023                 260                   0  Nuevo Horizonte         260   \n",
      "3  2024                  24                 216  Nuevo Horizonte         240   \n",
      "\n",
      "   % Completitud  \n",
      "0       0.954545  \n",
      "1       1.000000  \n",
      "2       1.000000  \n",
      "3       0.100000  \n"
     ]
    },
    {
     "name": "stderr",
     "output_type": "stream",
     "text": [
      "C:\\Users\\CESAR QUEZADA\\AppData\\Local\\Temp\\ipykernel_15292\\1821798899.py:127: SettingWithCopyWarning: \n",
      "A value is trying to be set on a copy of a slice from a DataFrame.\n",
      "Try using .loc[row_indexer,col_indexer] = value instead\n",
      "\n",
      "See the caveats in the documentation: https://pandas.pydata.org/pandas-docs/stable/user_guide/indexing.html#returning-a-view-versus-a-copy\n",
      "  df_bbdd_imputar['FECHA'] = pd.to_datetime(df_bbdd_imputar['FECHA'])\n",
      "C:\\Users\\CESAR QUEZADA\\AppData\\Local\\Temp\\ipykernel_15292\\1821798899.py:184: FutureWarning: A value is trying to be set on a copy of a DataFrame or Series through chained assignment using an inplace method.\n",
      "The behavior will change in pandas 3.0. This inplace method will never work because the intermediate object on which we are setting values always behaves as a copy.\n",
      "\n",
      "For example, when doing 'df[col].method(value, inplace=True)', try using 'df.method({col: value}, inplace=True)' or df[col] = df[col].method(value) instead, to perform the operation inplace on the original object.\n",
      "\n",
      "\n",
      "  df_merged['completo'].replace(0, np.nan, inplace=True)\n",
      "C:\\Users\\CESAR QUEZADA\\AppData\\Local\\Temp\\ipykernel_15292\\1821798899.py:185: FutureWarning: A value is trying to be set on a copy of a DataFrame or Series through chained assignment using an inplace method.\n",
      "The behavior will change in pandas 3.0. This inplace method will never work because the intermediate object on which we are setting values always behaves as a copy.\n",
      "\n",
      "For example, when doing 'df[col].method(value, inplace=True)', try using 'df.method({col: value}, inplace=True)' or df[col] = df[col].method(value) instead, to perform the operation inplace on the original object.\n",
      "\n",
      "\n",
      "  df_merged['completo'].fillna(method='ffill', inplace=True) # Reemplazamos los valores NaN por el valor anterior (forward fill)\n",
      "C:\\Users\\CESAR QUEZADA\\AppData\\Local\\Temp\\ipykernel_15292\\1821798899.py:185: FutureWarning: Series.fillna with 'method' is deprecated and will raise in a future version. Use obj.ffill() or obj.bfill() instead.\n",
      "  df_merged['completo'].fillna(method='ffill', inplace=True) # Reemplazamos los valores NaN por el valor anterior (forward fill)\n"
     ]
    }
   ],
   "source": [
    "function_completitud_pen(df_clima_full_vf[df_clima_full_vf['PLANTACION'] == 'Nuevo Horizonte'],'Temp Hi',1)"
   ]
  },
  {
   "cell_type": "code",
   "execution_count": null,
   "metadata": {},
   "outputs": [],
   "source": [
    "# df_sabana_fabrica_full.groupby('PLANTACION').size()\n",
    "# df_sabana_balanza_full.groupby('PLANTACION').size()\n",
    "# df_sabana_saldo_campo_full_vf.groupby('PLANTACION').size()\n",
    "# df_calidad_precipitacion_full.groupby('PLANTACION').size()\n"
   ]
  },
  {
   "cell_type": "code",
   "execution_count": null,
   "metadata": {},
   "outputs": [],
   "source": []
  },
  {
   "cell_type": "markdown",
   "metadata": {},
   "source": [
    "##### Transformando datos"
   ]
  },
  {
   "cell_type": "code",
   "execution_count": null,
   "metadata": {},
   "outputs": [],
   "source": [
    "# AÑADIENDO DATOS DE BALANZA Y FABRICA\n",
    "# #######################\n",
    "# #######################\n",
    "\n",
    "# Unir los DataFrames en base a 'FECHA' y 'PLANTACION'\n",
    "df_TEA_full = pd.merge(df_sabana_balanza_full[['FECHA','PLANTACION','PROPIOS','TERCEROS','TOTAL','PARTICIPACION CP']], \n",
    "                       df_sabana_fabrica_full[['FECHA','PLANTACION','RFF PROCESADO','CPO OBTENIDO','TEA']], \n",
    "                       on=['FECHA', 'PLANTACION'], how='outer')\n",
    "# Convertir 'FECHA' a formato datetime\n",
    "df_TEA_full['FECHA'] = pd.to_datetime(df_TEA_full['FECHA'])\n",
    "\n",
    "\n",
    "print(f'df_sabana_balanza_full: {df_sabana_balanza_full.shape}')\n",
    "print(f'df_sabana_fabrica_full: {df_sabana_fabrica_full.shape}')\n",
    "\n",
    "print(df_TEA_full['PLANTACION'].unique())\n",
    "print(f'df_TEA_full: {df_TEA_full.shape}')\n",
    "df_TEA_full.head(15)"
   ]
  },
  {
   "cell_type": "code",
   "execution_count": null,
   "metadata": {},
   "outputs": [],
   "source": []
  },
  {
   "cell_type": "code",
   "execution_count": null,
   "metadata": {},
   "outputs": [],
   "source": [
    "# AÑADIENDO DATOS DE PRECIPITACION\n",
    "# #######################\n",
    "# #######################\n",
    "\n",
    "# Unir los DataFrames en base a 'FECHA' y 'PLANTACION'\n",
    "df_TEA_full = pd.merge(df_TEA_full, \n",
    "                       df_calidad_precipitacion_full, \n",
    "                       on=['FECHA', 'PLANTACION'], how='outer')\n",
    "\n",
    "# Convertir 'FECHA' a formato datetime\n",
    "df_TEA_full['FECHA'] = pd.to_datetime(df_TEA_full['FECHA'])\n",
    "\n",
    "print(df_TEA_full['PLANTACION'].unique())\n",
    "print(f'df_TEA_full: {df_TEA_full.shape}')\n",
    "df_TEA_full.head(15)"
   ]
  },
  {
   "cell_type": "code",
   "execution_count": null,
   "metadata": {},
   "outputs": [],
   "source": [
    "function_tendencia_unica(df_TEA_full[df_TEA_full['PLANTACION'] == 'Palmawasi'], 'TERCEROS')"
   ]
  },
  {
   "cell_type": "code",
   "execution_count": null,
   "metadata": {},
   "outputs": [],
   "source": [
    "# AÑADIENDO DATOS DE CALIDAD RACIMOS PROPIOS\n",
    "# #######################\n",
    "# #######################\n",
    "\n",
    "df_calidad_racimos_propios_full.tail()\n",
    "# df_calidad_racimos_propios_full[df_calidad_racimos_propios_full['PLANTACION'] == 'Palmawasi'].tail(15)\n"
   ]
  },
  {
   "cell_type": "code",
   "execution_count": null,
   "metadata": {},
   "outputs": [],
   "source": [
    "df_calidad_racimos_propios_full_group = df_calidad_racimos_propios_full.groupby(['FECHA','PLANTACION','SECTOR']).agg({'VERDES':'sum',\n",
    "                                                                                                                      'MADUROS':'sum',\n",
    "                                                                                                                      'SMADUROS':'sum',\n",
    "                                                                                                                      'PEDUNCULO':'sum',\n",
    "                                                                                                                      'ESCOBAJO':'sum',\n",
    "                                                                                                                      'MALFORMADOA':'sum',\n",
    "                                                                                                                      'MALFORMADOB': 'sum',\n",
    "                                                                                                                      'Peso':'sum',\n",
    "                                                                                                                      'Racimos':'sum'}).reset_index()\n",
    "\n",
    "# Validamos presencia de duplicados en la bbdd\n",
    "df_prueba = df_calidad_racimos_propios_full[['FECHA','PLANTACION','SECTOR']].drop_duplicates()\n",
    "print(df_calidad_racimos_propios_full.shape)\n",
    "print(df_prueba.shape)\n",
    "\n",
    "# Creando variables de calidad\n",
    "df_calidad_racimos_propios_full_group['Peso_CALIDAD'] = df_calidad_racimos_propios_full_group[['VERDES','MADUROS','SMADUROS','PEDUNCULO','ESCOBAJO']].sum(axis=1)\n",
    "\n",
    "df_calidad_racimos_propios_full_group['Peso_VERDES'] = df_calidad_racimos_propios_full_group['Peso']*(df_calidad_racimos_propios_full_group['VERDES']/ df_calidad_racimos_propios_full_group['Peso_CALIDAD'])\n",
    "df_calidad_racimos_propios_full_group['Peso_MADUROS'] = df_calidad_racimos_propios_full_group['Peso']*(df_calidad_racimos_propios_full_group['MADUROS']/ df_calidad_racimos_propios_full_group['Peso_CALIDAD'])\n",
    "df_calidad_racimos_propios_full_group['Peso_SMADUROS'] = df_calidad_racimos_propios_full_group['Peso']*(df_calidad_racimos_propios_full_group['SMADUROS']/ df_calidad_racimos_propios_full_group['Peso_CALIDAD'])\n",
    "df_calidad_racimos_propios_full_group['Peso_PEDUNCULO'] = df_calidad_racimos_propios_full_group['Peso']*(df_calidad_racimos_propios_full_group['PEDUNCULO']/ df_calidad_racimos_propios_full_group['Peso_CALIDAD'])\n",
    "df_calidad_racimos_propios_full_group['Peso_ESCOBAJO'] = df_calidad_racimos_propios_full_group['Peso']*(df_calidad_racimos_propios_full_group['ESCOBAJO']/ df_calidad_racimos_propios_full_group['Peso_CALIDAD'])\n",
    "\n",
    "# print(df_calidad_racimos_propios_full_group['PLANTACION'].unique())\n",
    "\n",
    "# Craendo dataframe agrupando los sectores\n",
    "# ------------\n",
    "df_agg_racimos = df_calidad_racimos_propios_full_group.groupby(['FECHA','PLANTACION']).agg({'Peso_VERDES':'sum',\n",
    "                                                                                            'Peso_MADUROS':'sum',\n",
    "                                                                                            'Peso_SMADUROS':'sum',\n",
    "                                                                                            'Peso_PEDUNCULO':'sum',\n",
    "                                                                                            'Peso_ESCOBAJO':'sum',\n",
    "                                                                                            'Peso':'sum',\n",
    "                                                                                            'Racimos':'sum'}).reset_index()\n",
    "df_agg_racimos['FECHA'] = pd.to_datetime(df_agg_racimos['FECHA'])\n",
    "\n",
    "print(df_agg_racimos['PLANTACION'].unique())\n",
    "df_agg_racimos.tail()\n"
   ]
  },
  {
   "cell_type": "code",
   "execution_count": null,
   "metadata": {},
   "outputs": [],
   "source": [
    "# AÑADIENDO DATOS DE PRECIPITACION\n",
    "# #######################\n",
    "# #######################\n",
    "\n",
    "# Unir los DataFrames en base a 'FECHA' y 'PLANTACION'\n",
    "df_TEA_full = pd.merge(df_TEA_full, \n",
    "                       df_agg_racimos, \n",
    "                       on=['FECHA', 'PLANTACION'], how='outer')\n",
    "\n",
    "# Convertir 'FECHA' a formato datetime\n",
    "df_TEA_full['FECHA'] = pd.to_datetime(df_TEA_full['FECHA'])\n",
    "\n",
    "print(df_TEA_full['PLANTACION'].unique())\n",
    "print(f'df_TEA_full: {df_TEA_full.shape}')\n",
    "df_TEA_full.head()"
   ]
  },
  {
   "cell_type": "code",
   "execution_count": null,
   "metadata": {},
   "outputs": [],
   "source": [
    "function_tendencia_unica(df_agg_racimos[df_agg_racimos['PLANTACION'] == 'Palmawasi'], 'Peso')"
   ]
  },
  {
   "cell_type": "code",
   "execution_count": null,
   "metadata": {},
   "outputs": [],
   "source": []
  },
  {
   "cell_type": "markdown",
   "metadata": {},
   "source": [
    "#### Analizando tendencias"
   ]
  },
  {
   "cell_type": "markdown",
   "metadata": {},
   "source": [
    "##### ACIDEZ VS CALIDAD RACIMOS PROPIOS"
   ]
  },
  {
   "cell_type": "code",
   "execution_count": null,
   "metadata": {},
   "outputs": [],
   "source": [
    "df_acidez_full.head()"
   ]
  },
  {
   "cell_type": "code",
   "execution_count": null,
   "metadata": {},
   "outputs": [],
   "source": [
    "df_acidez_full.PLANTACION.unique()"
   ]
  },
  {
   "cell_type": "code",
   "execution_count": null,
   "metadata": {},
   "outputs": [],
   "source": [
    "df_acidez_full[df_acidez_full['PLANTACION'] == 'Shanuzi'].tail()"
   ]
  },
  {
   "cell_type": "code",
   "execution_count": null,
   "metadata": {},
   "outputs": [],
   "source": [
    "function_tendencia_unica(df_acidez_full[df_acidez_full['PLANTACION'] == 'Shanuzi'], '% Acidez')"
   ]
  },
  {
   "cell_type": "code",
   "execution_count": null,
   "metadata": {},
   "outputs": [],
   "source": [
    "## REDUCIENDO LA BASE A SEMANA\n",
    "## ############\n",
    "## ############\n",
    "\n",
    "df_analisis_tendencia = df_acidez_full[df_acidez_full['PLANTACION'] == 'Shanuzi']\n",
    "df_analisis_tendencia['FECHA'] = pd.to_datetime(df_analisis_tendencia['FECHA'])\n",
    "\n",
    "# Crear columna 'SEMANA' que indica el año y la semana del año\n",
    "df_analisis_tendencia['SEMANA'] = df_analisis_tendencia['FECHA'].dt.to_period('W').apply(lambda r: r.start_time)\n",
    "df_analisis_tendencia.head()"
   ]
  },
  {
   "cell_type": "code",
   "execution_count": null,
   "metadata": {},
   "outputs": [],
   "source": [
    "# Agrupar por 'SEMANA' y calcular la suma de 'VALOR1' y 'VALOR2'\n",
    "df_analisis_tendencia_semana = df_analisis_tendencia.groupby(['SEMANA','PLANTACION']).agg({'% Acidez': 'mean'}).reset_index()\n",
    "df_analisis_tendencia_semana.columns = ['FECHA','PLANTACION','% Acidez']\n",
    "df_analisis_tendencia_semana.head()"
   ]
  },
  {
   "cell_type": "code",
   "execution_count": null,
   "metadata": {},
   "outputs": [],
   "source": [
    "function_tendencia_unica(df_analisis_tendencia_semana, '% Acidez')"
   ]
  },
  {
   "cell_type": "code",
   "execution_count": null,
   "metadata": {},
   "outputs": [],
   "source": []
  },
  {
   "cell_type": "markdown",
   "metadata": {},
   "source": [
    "Calidad racimos propios"
   ]
  },
  {
   "cell_type": "code",
   "execution_count": null,
   "metadata": {},
   "outputs": [],
   "source": [
    "df_calidad_racimos_propios_full.head()"
   ]
  },
  {
   "cell_type": "code",
   "execution_count": null,
   "metadata": {},
   "outputs": [],
   "source": [
    "df_calidad_racimos_propios_full[df_calidad_racimos_propios_full['PLANTACION'] == 'Shanuzi'].tail()"
   ]
  },
  {
   "cell_type": "code",
   "execution_count": null,
   "metadata": {},
   "outputs": [],
   "source": [
    "function_save(df_calidad_racimos_propios_full[df_calidad_racimos_propios_full['PLANTACION'] == 'Shanuzi'])"
   ]
  },
  {
   "cell_type": "code",
   "execution_count": null,
   "metadata": {},
   "outputs": [],
   "source": [
    "df_calidad_racimos_propios_full.PLANTACION.unique()"
   ]
  },
  {
   "cell_type": "code",
   "execution_count": null,
   "metadata": {},
   "outputs": [],
   "source": []
  },
  {
   "cell_type": "code",
   "execution_count": null,
   "metadata": {},
   "outputs": [],
   "source": [
    "# Creando variables de calidad\n",
    "df_calidad_racimos_propios_full['Peso_CALIDAD'] = df_calidad_racimos_propios_full[['VERDES','MADUROS','SMADUROS','ESCOBAJO']].sum(axis=1)\n",
    "\n",
    "df_calidad_racimos_propios_full['Peso_VERDES'] = df_calidad_racimos_propios_full['Peso']*(df_calidad_racimos_propios_full['VERDES']/ df_calidad_racimos_propios_full['Peso_CALIDAD'])\n",
    "df_calidad_racimos_propios_full['Peso_MADUROS'] = df_calidad_racimos_propios_full['Peso']*(df_calidad_racimos_propios_full['MADUROS']/ df_calidad_racimos_propios_full['Peso_CALIDAD'])\n",
    "df_calidad_racimos_propios_full['Peso_SMADUROS'] = df_calidad_racimos_propios_full['Peso']*(df_calidad_racimos_propios_full['SMADUROS']/ df_calidad_racimos_propios_full['Peso_CALIDAD'])\n",
    "df_calidad_racimos_propios_full['Peso_ESCOBAJO'] = df_calidad_racimos_propios_full['Peso']*(df_calidad_racimos_propios_full['ESCOBAJO']/ df_calidad_racimos_propios_full['Peso_CALIDAD'])\n",
    "\n",
    "df_calidad_racimos_propios_full.head()\n"
   ]
  },
  {
   "cell_type": "code",
   "execution_count": null,
   "metadata": {},
   "outputs": [],
   "source": [
    "df_calidad_racimos_propios_full['FECHA'] = pd.to_datetime(df_calidad_racimos_propios_full['FECHA'])"
   ]
  },
  {
   "cell_type": "code",
   "execution_count": null,
   "metadata": {},
   "outputs": [],
   "source": [
    "# Filtrar el DataFrame para considerar solo las fechas mayores a 2023-03-16\n",
    "fecha_limite = pd.Timestamp('2023-03-16')\n",
    "df_filtrado = df_calidad_racimos_propios_full[df_calidad_racimos_propios_full['PLANTACION'] == 'Shanuzi'][df_calidad_racimos_propios_full[df_calidad_racimos_propios_full['PLANTACION'] == 'Shanuzi']['FECHA'] > fecha_limite]"
   ]
  },
  {
   "cell_type": "code",
   "execution_count": null,
   "metadata": {},
   "outputs": [],
   "source": [
    "function_tendencia_unica(df_filtrado,'Peso_MADUROS')"
   ]
  },
  {
   "cell_type": "code",
   "execution_count": null,
   "metadata": {},
   "outputs": [],
   "source": [
    "function_tendencia_unica(df_analisis_tendencia_semana, '% Acidez','red')"
   ]
  },
  {
   "cell_type": "code",
   "execution_count": null,
   "metadata": {},
   "outputs": [],
   "source": []
  },
  {
   "cell_type": "code",
   "execution_count": null,
   "metadata": {},
   "outputs": [],
   "source": [
    "## REDUCIENDO LA BASE A SEMANA\n",
    "## ############\n",
    "## ############\n",
    "\n",
    "df_analisis_tendencia_2 = df_calidad_racimos_propios_full[df_calidad_racimos_propios_full['PLANTACION'] == 'Shanuzi']\n",
    "df_analisis_tendencia_2['FECHA'] = pd.to_datetime(df_analisis_tendencia_2['FECHA'])\n",
    "\n",
    "# Crear columna 'SEMANA' que indica el año y la semana del año\n",
    "df_analisis_tendencia_2['SEMANA'] = df_analisis_tendencia_2['FECHA'].dt.to_period('W').apply(lambda r: r.start_time)\n",
    "df_analisis_tendencia_2.head()"
   ]
  },
  {
   "cell_type": "code",
   "execution_count": null,
   "metadata": {},
   "outputs": [],
   "source": [
    "# Agrupar por 'SEMANA' y calcular la suma de 'VALOR1' y 'VALOR2'\n",
    "df_analisis_tendencia_semana_2 = df_analisis_tendencia_2.groupby(['SEMANA','PLANTACION']).agg({'Peso': 'sum',\n",
    "                                                                                             'Racimos':'sum',\n",
    "                                                                                             'Peso_CALIDAD':'sum',\n",
    "                                                                                             'Peso_VERDES':'sum',\n",
    "                                                                                             'Peso_MADUROS':'sum',\n",
    "                                                                                             'Peso_SMADUROS':'sum',\n",
    "                                                                                             'Peso_ESCOBAJO':'sum'}).reset_index()\n",
    "\n",
    "df_analisis_tendencia_semana_2.columns = ['FECHA', 'PLANTACION', 'Peso', 'Racimos', 'Peso_CALIDAD','Peso_VERDES', 'Peso_MADUROS', 'Peso_SMADUROS', 'Peso_ESCOBAJO']\n",
    "df_analisis_tendencia_semana_2.tail()"
   ]
  },
  {
   "cell_type": "code",
   "execution_count": null,
   "metadata": {},
   "outputs": [],
   "source": [
    "# Filtrar el DataFrame para considerar solo las fechas mayores a 2023-03-16\n",
    "fecha_limite = pd.Timestamp('2023-03-16')\n",
    "df_filtrado_2 = df_analisis_tendencia_semana_2[df_analisis_tendencia_semana_2['FECHA'] > fecha_limite]"
   ]
  },
  {
   "cell_type": "code",
   "execution_count": null,
   "metadata": {},
   "outputs": [],
   "source": []
  },
  {
   "cell_type": "code",
   "execution_count": null,
   "metadata": {},
   "outputs": [],
   "source": [
    "function_tendencia_unica(df_filtrado_2,'Peso_VERDES')\n",
    "# function_tendencia_unica(df_filtrado_2,'Peso_MADUROS')\n",
    "# function_tendencia_unica(df_filtrado_2,'Peso_SMADUROS')\n",
    "\n"
   ]
  },
  {
   "cell_type": "code",
   "execution_count": null,
   "metadata": {},
   "outputs": [],
   "source": [
    "# Filtrar el DataFrame para considerar solo las fechas mayores a 2023-03-16\n",
    "fecha_limite = pd.Timestamp('2023-03-16')\n",
    "df_filtrado_3 = df_analisis_tendencia_semana[df_analisis_tendencia_semana['FECHA'] > fecha_limite]"
   ]
  },
  {
   "cell_type": "code",
   "execution_count": null,
   "metadata": {},
   "outputs": [],
   "source": [
    "function_tendencia_unica(df_filtrado_3, '% Acidez','red')"
   ]
  },
  {
   "cell_type": "code",
   "execution_count": null,
   "metadata": {},
   "outputs": [],
   "source": [
    "df_filtrado_3.head()"
   ]
  },
  {
   "cell_type": "code",
   "execution_count": null,
   "metadata": {},
   "outputs": [],
   "source": [
    "df_filtrado_2.head()"
   ]
  },
  {
   "cell_type": "code",
   "execution_count": null,
   "metadata": {},
   "outputs": [],
   "source": [
    "# AÑADIENDO DATOS DE BALANZA Y FABRICA\n",
    "# #######################\n",
    "# #######################\n",
    "\n",
    "# Unir los DataFrames en base a 'FECHA' y 'PLANTACION'\n",
    "df_analisis_full = pd.merge(df_filtrado_3,\n",
    "                            df_filtrado_2,\n",
    "                            on=['FECHA', 'PLANTACION'], how='outer')\n",
    "# Convertir 'FECHA' a formato datetime\n",
    "df_analisis_full['FECHA'] = pd.to_datetime(df_analisis_full['FECHA'])\n",
    "df_analisis_full.head()"
   ]
  },
  {
   "cell_type": "code",
   "execution_count": null,
   "metadata": {},
   "outputs": [],
   "source": [
    "# Crear figura y ejes\n",
    "fig, ax1 = plt.subplots(figsize=(15, 6))\n",
    "\n",
    "# Graficar la primera variable en el eje principal\n",
    "ax1.plot(df_analisis_full['FECHA'], df_analisis_full['% Acidez'], color='red', marker='o', linestyle='-', label='% Acidez')\n",
    "ax1.set_xlabel('Fecha')\n",
    "ax1.set_ylabel('Variable 1', color='blue')\n",
    "ax1.tick_params(axis='y', labelcolor='blue')\n",
    "\n",
    "# Crear eje secundario\n",
    "ax2 = ax1.twinx()\n",
    "ax2.plot(df_analisis_full['FECHA'], df_analisis_full['Peso_VERDES'], color='green', marker='s', linestyle='--', label='Peso_VERDES')\n",
    "# ax2.plot(df_analisis_full['FECHA'], df_analisis_full['Peso_MADUROS'], color='green', marker='s', linestyle='--', label='Peso_MADUROS')\n",
    "# ax2.plot(df_analisis_full['FECHA'], df_analisis_full['Peso_SMADUROS'], color='green', marker='s', linestyle='--', label='Peso_SMADUROS')\n",
    "\n",
    "ax2.set_ylabel('Variable 2', color='green')\n",
    "ax2.tick_params(axis='y', labelcolor='green')\n",
    "\n",
    "# Agregar títulos y leyendas\n",
    "fig.suptitle('Comparación de Variables con Diferentes Escalas', fontsize=14)\n",
    "ax1.legend(loc='upper left')\n",
    "ax2.legend(loc='upper right')\n",
    "\n",
    "# Mostrar gráfico\n",
    "plt.grid(True)\n",
    "plt.show()"
   ]
  },
  {
   "cell_type": "code",
   "execution_count": null,
   "metadata": {},
   "outputs": [],
   "source": [
    "# Suavizando por medias moviles\n",
    "# ----------\n",
    "# Desplazar 'VARIABLE_1' un período hacia adelante\n",
    "df_analisis_full['% Acidez_rolling_2'] = df_analisis_full['% Acidez'].rolling(window=2).mean() # Suavizado a 2 periodos\n",
    "df_analisis_full['% Acidez_rolling_3'] = df_analisis_full['% Acidez'].rolling(window=3).mean() # Suavizado a 3 periodos\n",
    "df_analisis_full['% Acidez_rolling_4'] = df_analisis_full['% Acidez'].rolling(window=3).mean() # Suavizado a 4 periodos\n",
    "\n",
    "df_analisis_full['Peso_SMADUROS_rolling_2'] = df_analisis_full['Peso_SMADUROS'].rolling(window=2).mean() # Suavizado a 2 periodos\n",
    "df_analisis_full['Peso_SMADUROS_rolling_3'] = df_analisis_full['Peso_SMADUROS'].rolling(window=3).mean() # Suavizado a 3 periodos\n",
    "df_analisis_full['Peso_SMADUROS_rolling_4'] = df_analisis_full['Peso_SMADUROS'].rolling(window=4).mean() # Suavizado a 4 periodos\n",
    "\n",
    "df_analisis_full['Peso_MADUROS_rolling_2'] = df_analisis_full['Peso_MADUROS'].rolling(window=2).mean() # Suavizado a 2 periodos\n",
    "df_analisis_full['Peso_MADUROS_rolling_3'] = df_analisis_full['Peso_MADUROS'].rolling(window=3).mean() # Suavizado a 3 periodos\n",
    "df_analisis_full['Peso_MADUROS_rolling_4'] = df_analisis_full['Peso_MADUROS'].rolling(window=4).mean() # Suavizado a 4 periodos\n",
    "\n",
    "\n",
    "df_analisis_full['Peso_VERDES_rolling_2'] = df_analisis_full['Peso_VERDES'].rolling(window=2).mean() # Suavizado a 2 periodos\n",
    "df_analisis_full['Peso_VERDES_rolling_3'] = df_analisis_full['Peso_VERDES'].rolling(window=3).mean() # Suavizado a 3 periodos\n",
    "df_analisis_full['Peso_VERDES_rolling_4'] = df_analisis_full['Peso_VERDES'].rolling(window=4).mean() # Suavizado a 4 periodos\n",
    "df_analisis_full['Peso_VERDES_rolling_5'] = df_analisis_full['Peso_VERDES'].rolling(window=5).mean() # Suavizado a 4 periodos\n",
    "\n"
   ]
  },
  {
   "cell_type": "code",
   "execution_count": null,
   "metadata": {},
   "outputs": [],
   "source": [
    "# Crear figura y ejes\n",
    "fig, ax1 = plt.subplots(figsize=(15, 6))\n",
    "\n",
    "# Graficar la primera variable en el eje principal\n",
    "#ax1.plot(df_analisis_full['FECHA'], df_analisis_full['% Acidez'], color='blue', marker='o', linestyle='-', label='% Acidez')\n",
    "ax1.plot(df_analisis_full['FECHA'], df_analisis_full['% Acidez_rolling_3'], color='blue', marker='o', linestyle='-', label='% Acidez_rolling_3')\n",
    "ax1.set_xlabel('Fecha')\n",
    "ax1.set_ylabel('Variable 1', color='blue')\n",
    "ax1.tick_params(axis='y', labelcolor='blue')\n",
    "\n",
    "# Crear eje secundario\n",
    "ax2 = ax1.twinx()\n",
    "#ax2.plot(df_analisis_full['FECHA'], df_analisis_full['Peso_VERDES'], color='green', marker='s', linestyle='--', label='Peso_VERDES')\n",
    "# ax2.plot(df_analisis_full['FECHA'], df_analisis_full['Peso_VERDES'], color='green', marker='s', linestyle='--', label='Peso_MADUROS')\n",
    "# ax2.plot(df_analisis_full['FECHA'], df_analisis_full['Peso_SMADUROS'], color='green', marker='s', linestyle='--', label='Peso_SMADUROS')\n",
    "# ax2.plot(df_analisis_full['FECHA'], df_analisis_full['Peso_SMADUROS_rolling_2'], color='green', marker='s', linestyle='--', label='Peso_SMADUROS_rolling_2')\n",
    "\n",
    "# ax2.plot(df_analisis_full['FECHA'], df_analisis_full['Peso_MADUROS_rolling_2'], color='green', marker='s', linestyle='--', label='Peso_MADUROS_rolling_2')\n",
    "\n",
    "ax2.plot(df_analisis_full['FECHA'], df_analisis_full['Peso_VERDES_rolling_2'], color='green', marker='s', linestyle='--', label='Peso_VERDES')\n",
    "\n",
    "\n",
    "ax2.set_ylabel('Variable 2', color='green')\n",
    "ax2.tick_params(axis='y', labelcolor='green')\n",
    "\n",
    "# Agregar títulos y leyendas\n",
    "fig.suptitle('Comparación de Variables con Diferentes Escalas', fontsize=14)\n",
    "ax1.legend(loc='upper left')\n",
    "ax2.legend(loc='upper right')\n",
    "\n",
    "# Mostrar gráfico\n",
    "plt.grid(True)\n",
    "plt.show()"
   ]
  },
  {
   "cell_type": "code",
   "execution_count": null,
   "metadata": {},
   "outputs": [],
   "source": [
    "# df_analisis_full['% Acidez_rolling_3'].corr(df_analisis_full['Peso_SMADUROS_rolling_2'])\n",
    "\n",
    "# df_analisis_full['% Acidez'].corr(df_analisis_full['Peso_SMADUROS'])\n",
    "df_analisis_full['% Acidez'].corr(df_analisis_full['Peso_MADUROS'])\n",
    "# df_analisis_full['% Acidez_rolling_3'].corr(df_analisis_full['Peso_VERDES'])\n",
    "\n"
   ]
  },
  {
   "cell_type": "code",
   "execution_count": null,
   "metadata": {},
   "outputs": [],
   "source": [
    "def correlacion_cruzada(serie1, serie2):\n",
    "    lags = np.arange(-len(serie1) + 1, len(serie1))\n",
    "    corr = [serie1.corr(serie2.shift(lag)) for lag in lags]\n",
    "    return lags, corr\n",
    "\n",
    "lags, corr = correlacion_cruzada(df_analisis_full['% Acidez_rolling_3'], df_analisis_full['Peso_VERDES'])"
   ]
  },
  {
   "cell_type": "code",
   "execution_count": null,
   "metadata": {},
   "outputs": [],
   "source": [
    "lags, corr"
   ]
  },
  {
   "cell_type": "code",
   "execution_count": null,
   "metadata": {},
   "outputs": [],
   "source": [
    "# Graficar correlación cruzada\n",
    "plt.figure(figsize=(12, 6))\n",
    "plt.plot(lags, corr)\n",
    "plt.title('Correlación Cruzada entre \"% Acidez_rolling_3\" y \"Peso_VERDES_rolling_2\"')\n",
    "plt.xlabel('Desfase')\n",
    "plt.ylabel('Correlación')\n",
    "plt.axvline(0, color='gray', linestyle='--', linewidth=1)\n",
    "plt.axhline(0, color='gray', linestyle='--', linewidth=1)\n",
    "plt.show()"
   ]
  },
  {
   "cell_type": "code",
   "execution_count": null,
   "metadata": {},
   "outputs": [],
   "source": []
  },
  {
   "cell_type": "code",
   "execution_count": null,
   "metadata": {},
   "outputs": [],
   "source": [
    "# Probando traslaciones temporales\n",
    "# -----------\n",
    "\n",
    "# Desplazar 'VARIABLE_1' un período hacia adelante\n",
    "df_analisis_full['% Acidez_SHIFTED_1'] = df_analisis_full['% Acidez'].shift(-1)\n",
    "df_analisis_full['% Acidez_SHIFTED_2'] = df_analisis_full['% Acidez'].shift(-2)\n",
    "df_analisis_full['% Acidez_SHIFTED_3'] = df_analisis_full['% Acidez'].shift(-3)\n",
    "df_analisis_full['% Acidez_SHIFTED_4'] = df_analisis_full['% Acidez'].shift(-4)\n",
    "df_analisis_full['% Acidez_SHIFTED_5'] = df_analisis_full['% Acidez'].shift(-5)\n",
    "df_analisis_full['% Acidez_SHIFTED_6'] = df_analisis_full['% Acidez'].shift(-6)\n",
    "df_analisis_full['% Acidez_SHIFTED_7'] = df_analisis_full['% Acidez'].shift(-7)\n",
    "\n",
    "df_analisis_full.head()"
   ]
  },
  {
   "cell_type": "code",
   "execution_count": null,
   "metadata": {},
   "outputs": [],
   "source": [
    "# Suponiendo que df es tu DataFrame y col1, col2 son las columnas de datos temporales\n",
    "correlation_pearson = df_analisis_full['% Acidez'].corr(df_analisis_full['Peso_MADUROS'], method='pearson')\n",
    "correlation_spearman = df_analisis_full['% Acidez'].corr(df_analisis_full['Peso_MADUROS'], method='spearman')\n",
    "correlation_kendall = df_analisis_full['% Acidez'].corr(df_analisis_full['Peso_MADUROS'], method='kendall')\n",
    "\n",
    "print(\"Correlación de Pearson:\", correlation_pearson)\n",
    "print(\"Correlación de Spearman:\", correlation_spearman)\n",
    "print(\"Correlación de Kendall:\", correlation_kendall)"
   ]
  },
  {
   "cell_type": "code",
   "execution_count": null,
   "metadata": {},
   "outputs": [],
   "source": [
    "# Suponiendo que df es tu DataFrame y col1, col2 son las columnas de datos temporales\n",
    "correlation_pearson = df_analisis_full['% Acidez_SHIFTED_4'].corr(df_analisis_full['Peso_MADUROS'], method='pearson')\n",
    "correlation_spearman = df_analisis_full['% Acidez_SHIFTED_4'].corr(df_analisis_full['Peso_MADUROS'], method='spearman')\n",
    "correlation_kendall = df_analisis_full['% Acidez_SHIFTED_4'].corr(df_analisis_full['Peso_MADUROS'], method='kendall')\n",
    "\n",
    "print(\"Correlación de Pearson:\", correlation_pearson)\n",
    "print(\"Correlación de Spearman:\", correlation_spearman)\n",
    "print(\"Correlación de Kendall:\", correlation_kendall)"
   ]
  },
  {
   "cell_type": "code",
   "execution_count": null,
   "metadata": {},
   "outputs": [],
   "source": [
    "# Crear figura y ejes\n",
    "fig, ax1 = plt.subplots(figsize=(15, 6))\n",
    "\n",
    "# Graficar la primera variable en el eje principal\n",
    "ax1.plot(df_analisis_full['FECHA'], df_analisis_full['% Acidez'], color='blue', marker='o', linestyle='-', label='% Acidez')\n",
    "ax1.plot(df_analisis_full['FECHA'], df_analisis_full['% Acidez_SHIFTED_4'], color='red', marker='o', linestyle='-', label='% Acidez_SHIFTED_4')\n",
    "ax1.set_xlabel('Fecha')\n",
    "ax1.set_ylabel('Variable 1', color='blue')\n",
    "ax1.tick_params(axis='y', labelcolor='blue')\n",
    "\n",
    "# Crear eje secundario\n",
    "ax2 = ax1.twinx()\n",
    "#ax2.plot(df_analisis_full['FECHA'], df_analisis_full['Peso_VERDES'], color='green', marker='s', linestyle='--', label='Peso_VERDES')\n",
    "# ax2.plot(df_analisis_full['FECHA'], df_analisis_full['Peso_VERDES'], color='green', marker='s', linestyle='--', label='Peso_MADUROS')\n",
    "ax2.plot(df_analisis_full['FECHA'], df_analisis_full['Peso_VERDES'], color='green', marker='s', linestyle='--', label='Peso_SMADUROS')\n",
    "\n",
    "ax2.set_ylabel('Variable 2', color='green')\n",
    "ax2.tick_params(axis='y', labelcolor='green')\n",
    "\n",
    "# Agregar títulos y leyendas\n",
    "fig.suptitle('Comparación de Variables con Diferentes Escalas', fontsize=14)\n",
    "ax1.legend(loc='upper left')\n",
    "ax2.legend(loc='upper right')\n",
    "\n",
    "# Mostrar gráfico\n",
    "plt.grid(True)\n",
    "plt.show()"
   ]
  },
  {
   "cell_type": "code",
   "execution_count": null,
   "metadata": {},
   "outputs": [],
   "source": [
    "# Datos de ejemplo\n",
    "toneladas = np.array([100, 200, 300, 400, 500])\n",
    "porcentajes = np.array([10, 20, 30, 40, 50])"
   ]
  },
  {
   "cell_type": "code",
   "execution_count": null,
   "metadata": {},
   "outputs": [],
   "source": [
    "# Normalización (escalado)\n",
    "toneladas_norm = (df_analisis_full['Peso_VERDES'] - np.mean(df_analisis_full['Peso_VERDES'])) / np.std(df_analisis_full['Peso_VERDES'])\n",
    "porcentajes_norm = (df_analisis_full['% Acidez'] - np.mean(df_analisis_full['% Acidez'])) / np.std(df_analisis_full['% Acidez'])"
   ]
  },
  {
   "cell_type": "code",
   "execution_count": null,
   "metadata": {},
   "outputs": [],
   "source": [
    "# Calcular la correlación de Pearson\n",
    "correlacion, _ = pearsonr(toneladas_norm, porcentajes_norm)\n",
    "print(f'Correlación de Pearson: {correlacion}')"
   ]
  },
  {
   "cell_type": "code",
   "execution_count": null,
   "metadata": {},
   "outputs": [],
   "source": [
    "# Calcular la correlación de Pearson\n",
    "correlacion, _ = pearsonr(toneladas, porcentajes)\n",
    "print(f'Correlación de Pearson: {correlacion}')"
   ]
  },
  {
   "cell_type": "code",
   "execution_count": null,
   "metadata": {},
   "outputs": [],
   "source": []
  },
  {
   "cell_type": "markdown",
   "metadata": {},
   "source": [
    "##### PROPORCION DE PARTICIPACION PROPIOS Y TERCEROS"
   ]
  },
  {
   "cell_type": "code",
   "execution_count": null,
   "metadata": {},
   "outputs": [],
   "source": [
    "df_participacion_cashcost_full.head()"
   ]
  },
  {
   "cell_type": "code",
   "execution_count": null,
   "metadata": {},
   "outputs": [],
   "source": [
    "df_participacion_cashcost_full.groupby('PLANTACION').size()"
   ]
  },
  {
   "cell_type": "code",
   "execution_count": null,
   "metadata": {},
   "outputs": [],
   "source": [
    "df_analisis_participacion = df_participacion_cashcost_full[df_participacion_cashcost_full['PLANTACION'] == 'Shanuzi']\n",
    "df_analisis_participacion.tail()"
   ]
  },
  {
   "cell_type": "code",
   "execution_count": null,
   "metadata": {},
   "outputs": [],
   "source": [
    "function_tendencia_unica(df_analisis_participacion,'RFFProcesado')"
   ]
  },
  {
   "cell_type": "code",
   "execution_count": null,
   "metadata": {},
   "outputs": [],
   "source": [
    "df_analisis_participacion.columns"
   ]
  },
  {
   "cell_type": "code",
   "execution_count": null,
   "metadata": {},
   "outputs": [],
   "source": [
    "## REDUCIENDO LA BASE A SEMANA\n",
    "## ############\n",
    "## ############\n",
    "\n",
    "df_analisis_participacion['FECHA'] = pd.to_datetime(df_analisis_participacion['FECHA'])\n",
    "\n",
    "# Crear columna 'SEMANA' que indica el año y la semana del año\n",
    "df_analisis_participacion['SEMANA'] = df_analisis_participacion['FECHA'].dt.to_period('W').apply(lambda r: r.start_time)\n",
    "df_analisis_participacion['MES'] = df_analisis_participacion['FECHA'].dt.to_period('M').apply(lambda r: r.start_time)\n",
    "\n",
    "# Agrupar por 'SEMANA' y calcular la suma de 'VALOR1' y 'VALOR2'\n",
    "df_analisis_participacion_semana = df_analisis_participacion.groupby(['SEMANA','PLANTACION']).agg({'RFFProcesado': 'sum',\n",
    "                                                                                                   'RFFProcesadoPropios':'sum',\n",
    "                                                                                                   'RFFProcesadoTerceros':'sum',\n",
    "                                                                                                   'CPOObtenido':'sum',\n",
    "                                                                                                   'CPOObtenidoPropios':'sum',\n",
    "                                                                                                   'CPOObtenidoTerceros':'sum'}).reset_index()\n",
    "df_analisis_participacion_semana.columns = ['FECHA', 'PLANTACION', 'RFFProcesado', 'RFFProcesadoPropios','RFFProcesadoTerceros', 'CPOObtenido', 'CPOObtenidoPropios','CPOObtenidoTerceros']\n",
    "\n",
    "# Agrupar por 'MES' y calcular la suma de 'VALOR1' y 'VALOR2'\n",
    "df_analisis_participacion_mes = df_analisis_participacion.groupby(['MES','PLANTACION']).agg({'RFFProcesado': 'sum',\n",
    "                                                                                             'RFFProcesadoPropios':'sum',\n",
    "                                                                                             'RFFProcesadoTerceros':'sum',\n",
    "                                                                                             'CPOObtenido':'sum',\n",
    "                                                                                             'CPOObtenidoPropios':'sum',\n",
    "                                                                                             'CPOObtenidoTerceros':'sum'}).reset_index()\n",
    "df_analisis_participacion_mes.columns = ['FECHA', 'PLANTACION', 'RFFProcesado', 'RFFProcesadoPropios','RFFProcesadoTerceros', 'CPOObtenido', 'CPOObtenidoPropios',\n",
    "       'CPOObtenidoTerceros']\n",
    "\n",
    "df_analisis_participacion_mes.head()"
   ]
  },
  {
   "cell_type": "code",
   "execution_count": null,
   "metadata": {},
   "outputs": [],
   "source": [
    "function_tendencia_unica(df_analisis_participacion_semana,'RFFProcesado')"
   ]
  },
  {
   "cell_type": "code",
   "execution_count": null,
   "metadata": {},
   "outputs": [],
   "source": [
    "# Mostrando el % de participacion\n",
    "# ---\n",
    "df_analisis_participacion_mes['Propios_Porcentaje'] = df_analisis_participacion_mes['RFFProcesadoPropios'] / df_analisis_participacion_semana['RFFProcesado'] * 100\n",
    "df_analisis_participacion_mes['Terceros_Porcentaje'] = df_analisis_participacion_mes['RFFProcesadoTerceros'] / df_analisis_participacion_semana['RFFProcesado'] * 100\n",
    "df_analisis_participacion_mes.head()"
   ]
  },
  {
   "cell_type": "code",
   "execution_count": null,
   "metadata": {},
   "outputs": [],
   "source": [
    "df_analisis_participacion_mes['Fecha_cat'] = df_analisis_participacion_mes['FECHA'].astype('object')\n",
    "df_analisis_participacion_mes.head()"
   ]
  },
  {
   "cell_type": "code",
   "execution_count": null,
   "metadata": {},
   "outputs": [],
   "source": [
    "function_save(df_analisis_participacion_mes)"
   ]
  },
  {
   "cell_type": "code",
   "execution_count": null,
   "metadata": {},
   "outputs": [],
   "source": [
    "# Configuración del gráfico\n",
    "fig, ax = plt.subplots(figsize=(10, 6))\n",
    "\n",
    "# Ajuste del ancho de las barras\n",
    "# Graficar barras apiladas\n",
    "ax.bar(df_analisis_participacion_mes['Fecha_cat'], df_analisis_participacion_mes['Propios_Porcentaje'],  label='Propios')\n",
    "ax.bar(df_analisis_participacion_mes['Fecha_cat'], df_analisis_participacion_mes['Terceros_Porcentaje'], bottom=df_analisis_participacion_mes['Propios_Porcentaje'], label='Terceros')\n",
    "\n",
    "# Etiquetas y título\n",
    "ax.set_xlabel('Fecha')\n",
    "ax.set_ylabel('Porcentaje de Participación')\n",
    "ax.set_title('Participación de RFF Procesado a través del tiempo')\n",
    "ax.legend()\n",
    "\n",
    "# Mostrar gráfico\n",
    "plt.xticks(rotation=0)\n",
    "plt.tight_layout()\n",
    "plt.show()"
   ]
  },
  {
   "cell_type": "code",
   "execution_count": null,
   "metadata": {},
   "outputs": [],
   "source": []
  },
  {
   "cell_type": "code",
   "execution_count": null,
   "metadata": {},
   "outputs": [],
   "source": []
  },
  {
   "cell_type": "code",
   "execution_count": null,
   "metadata": {},
   "outputs": [],
   "source": []
  },
  {
   "cell_type": "code",
   "execution_count": null,
   "metadata": {},
   "outputs": [],
   "source": []
  },
  {
   "cell_type": "markdown",
   "metadata": {},
   "source": [
    "##### OTRO ANALISIS"
   ]
  },
  {
   "cell_type": "code",
   "execution_count": null,
   "metadata": {},
   "outputs": [],
   "source": []
  },
  {
   "cell_type": "code",
   "execution_count": null,
   "metadata": {},
   "outputs": [],
   "source": []
  },
  {
   "cell_type": "code",
   "execution_count": null,
   "metadata": {},
   "outputs": [],
   "source": [
    "# Analizando datos por Plantacion\n",
    "# ----\n",
    "df_TEA_full_tendencia = df_calidad_racimos_propios_full_group[df_calidad_racimos_propios_full_group['PLANTACION'] == 'Palmawasi']\n",
    "# ---\n",
    "df_TEA_full_tendencia = df_TEA_full_tendencia[df_TEA_full_tendencia['SECTOR'] == 'SE03']\n",
    "# ---\n",
    "\n",
    "function_tendencia_unica(df_TEA_full_tendencia,'Peso')"
   ]
  },
  {
   "cell_type": "code",
   "execution_count": null,
   "metadata": {},
   "outputs": [],
   "source": [
    "df_TEA_full.head()"
   ]
  },
  {
   "cell_type": "code",
   "execution_count": null,
   "metadata": {},
   "outputs": [],
   "source": [
    "print(df_TEA_full['PLANTACION'].unique())\n",
    "df_TEA_full.head()"
   ]
  },
  {
   "cell_type": "code",
   "execution_count": null,
   "metadata": {},
   "outputs": [],
   "source": [
    "function_tendencia_unica(df_TEA_full[df_TEA_full['PLANTACION'] == 'Nuevo Horizonte'], 'PROPIOS')"
   ]
  },
  {
   "cell_type": "code",
   "execution_count": null,
   "metadata": {},
   "outputs": [],
   "source": [
    "# Filtramos la tendencia de interes DE LA BBDD UNIDA\n",
    "# ################\n",
    "# ################\n",
    "# ################\n",
    "\n",
    "# ---\n",
    "df_TEA_full_tendencia = df_TEA_full[df_TEA_full['PLANTACION'] == 'Nuevo Horizonte']\n",
    "df_TEA_full_tendencia = df_TEA_full_tendencia.sort_values(by='FECHA')\n",
    "# ---\n",
    "\n",
    "plantacion_name = df_TEA_full_tendencia['PLANTACION'].unique()\n",
    "\n",
    "# Crear el gráfico de líneas para 'toneladas_dia'\n",
    "plt.figure(figsize=(15, 5))\n",
    "plt.plot(df_TEA_full_tendencia['FECHA'], df_TEA_full_tendencia['CPO OBTENIDO'], marker='o', markersize=2, linestyle='-', color='green', label='CPO OBTENIDO')\n",
    "plt.title('RFF Procesado por Día a través del Tiempo - '+ plantacion_name[0])\n",
    "plt.xlabel('Fecha')\n",
    "plt.ylabel('RFF Procesado por Día')\n",
    "plt.grid(True)\n",
    "plt.legend()\n",
    "#plt.xticks(rotation=45)\n",
    "\n",
    "# Mostrar la gráfica\n",
    "# print(df_TEA_full_tendencia[df_TEA_full_tendencia['RFF PROCESADO'] == 0].head())\n",
    "plt.tight_layout()\n",
    "plt.show()"
   ]
  },
  {
   "cell_type": "code",
   "execution_count": null,
   "metadata": {},
   "outputs": [],
   "source": []
  },
  {
   "cell_type": "code",
   "execution_count": null,
   "metadata": {},
   "outputs": [],
   "source": [
    "# ---\n",
    "plantacion_name = df_TEA_full_tendencia['PLANTACION'].unique()\n",
    "\n",
    "\n",
    "# Configurar el gráfico\n",
    "plt.figure(figsize=(15, 5))\n",
    "\n",
    "# Graficar 'VALOR1' y 'VALOR2'\n",
    "# plt.plot(df_TEA_full_tendencia['FECHA'], df_TEA_full_tendencia['RFF PROCESADO'], marker='o', markersize=4, label='RFF PROCESADO')\n",
    "plt.plot(df_TEA_full_tendencia['FECHA'], df_TEA_full_tendencia['CPO OBTENIDO'], marker='o', markersize=4, label='CPO OBTENIDO')\n",
    "\n",
    "# plt.plot(df_TEA_full_tendencia['FECHA'], df_TEA_full_tendencia['PROPIOS'], marker='o', markersize=4, label='PROPIOS')\n",
    "# plt.plot(df_TEA_full_tendencia['FECHA'], df_TEA_full_tendencia['TERCEROS'], marker='o', markersize=4, label='TERCEROS')\n",
    "plt.plot(df_TEA_full_tendencia['FECHA'], df_TEA_full_tendencia['PRECIPITACION_TOTAL'], marker='o', markersize=4, label='PRECIPITACION_TOTAL')\n",
    "\n",
    "# Configurar etiquetas y título\n",
    "plt.xlabel('Fecha')\n",
    "plt.ylabel('Valores')\n",
    "plt.title('Comparación de RFF PROCESADO y CPO OBTENIDO a lo largo del tiempo - '+ plantacion_name[0])\n",
    "plt.legend()\n",
    "\n",
    "# Mostrar el gráfico\n",
    "plt.grid(True)\n",
    "plt.show()"
   ]
  },
  {
   "cell_type": "code",
   "execution_count": null,
   "metadata": {},
   "outputs": [],
   "source": [
    "# Duplicando informacion faltante\n",
    "# -----\n",
    "df_TEA_full_tendencia_recorte = df_TEA_full_tendencia[['FECHA','CPO OBTENIDO']]\n",
    "df_TEA_full_tendencia_recorte = df_TEA_full_tendencia_recorte.dropna(subset=['CPO OBTENIDO'])\n",
    "df_TEA_full_tendencia_recorte = df_TEA_full_tendencia_recorte[df_TEA_full_tendencia_recorte['FECHA'] <= '2023-12-31']\n",
    "# Lista de años a los que quieres copiar los datos\n",
    "years_to_fill = [2019, 2020, 2021, 2022]\n",
    "\n",
    "dfs_real = df_TEA_full_tendencia[['FECHA','CPO OBTENIDO']][df_TEA_full_tendencia['FECHA'] > '2023-01-01']\n",
    "\n",
    "dfs = []\n",
    "for year in years_to_fill:\n",
    "    df_copy = df_TEA_full_tendencia_recorte.copy()\n",
    "    # Ajustar el año mientras se maneja el caso especial del 29 de febrero\n",
    "    def replace_year(date):\n",
    "        try:\n",
    "            return date.replace(year=year)\n",
    "        except ValueError:\n",
    "            # Manejar el 29 de febrero para años no bisiestos\n",
    "            return date.replace(year=year, day=28)\n",
    "    \n",
    "    df_copy['FECHA'] = df_copy['FECHA'].apply(replace_year)\n",
    "    dfs.append(df_copy)\n",
    "\n",
    "# Concatenar todos los DataFrames\n",
    "df_combined = pd.concat(dfs, ignore_index=True)\n",
    "df_final = pd.concat([df_combined,dfs_real], ignore_index=True)\n",
    "\n",
    "df_final.columns = ['FECHA','CPO OBTENIDO imp']\n",
    "df_final.head()"
   ]
  },
  {
   "cell_type": "code",
   "execution_count": null,
   "metadata": {},
   "outputs": [],
   "source": [
    "# Unir los DataFrames en base a 'FECHA' y 'PLANTACION'\n",
    "df_TEA_full_tendencia = pd.merge(df_TEA_full_tendencia,\n",
    "                                 df_final, \n",
    "                                 on='FECHA', \n",
    "                                 how='left')"
   ]
  },
  {
   "cell_type": "code",
   "execution_count": null,
   "metadata": {},
   "outputs": [],
   "source": [
    "df_TEA_full_tendencia.head()"
   ]
  },
  {
   "cell_type": "code",
   "execution_count": null,
   "metadata": {},
   "outputs": [],
   "source": [
    "plantacion_name = df_TEA_full_tendencia['PLANTACION'].unique()\n",
    "\n",
    "\n",
    "# Configurar el gráfico\n",
    "plt.figure(figsize=(15, 5))\n",
    "\n",
    "# Graficar 'VALOR1' y 'VALOR2'\n",
    "# plt.plot(df_TEA_full_tendencia['FECHA'], df_TEA_full_tendencia['RFF PROCESADO'], marker='o', markersize=4, label='RFF PROCESADO')\n",
    "# plt.plot(df_TEA_full_tendencia['FECHA'], df_TEA_full_tendencia['CPO OBTENIDO'], marker='o', markersize=4, label='CPO OBTENIDO')\n",
    "plt.plot(df_TEA_full_tendencia['FECHA'], df_TEA_full_tendencia['CPO OBTENIDO imp'], marker='o', markersize=4, label='CPO OBTENIDO imp')\n",
    "\n",
    "\n",
    "# plt.plot(df_TEA_full_tendencia['FECHA'], df_TEA_full_tendencia['PROPIOS'], marker='o', markersize=4, label='PROPIOS')\n",
    "# plt.plot(df_TEA_full_tendencia['FECHA'], df_TEA_full_tendencia['TERCEROS'], marker='o', markersize=4, label='TERCEROS')\n",
    "plt.plot(df_TEA_full_tendencia['FECHA'], df_TEA_full_tendencia['PRECIPITACION_TOTAL'], marker='o', markersize=4, label='PRECIPITACION_TOTAL')\n",
    "\n",
    "# Configurar etiquetas y título\n",
    "plt.xlabel('Fecha')\n",
    "plt.ylabel('Valores')\n",
    "plt.title('Comparación de RFF PROCESADO y CPO OBTENIDO a lo largo del tiempo - '+ plantacion_name[0])\n",
    "plt.legend()\n",
    "\n",
    "# Mostrar el gráfico\n",
    "plt.grid(True)\n",
    "plt.show()"
   ]
  },
  {
   "cell_type": "code",
   "execution_count": null,
   "metadata": {},
   "outputs": [],
   "source": []
  },
  {
   "cell_type": "code",
   "execution_count": null,
   "metadata": {},
   "outputs": [],
   "source": []
  },
  {
   "cell_type": "markdown",
   "metadata": {},
   "source": [
    "#### Agrupando por semanas"
   ]
  },
  {
   "cell_type": "code",
   "execution_count": null,
   "metadata": {},
   "outputs": [],
   "source": [
    "# Crear columna 'SEMANA' que indica el año y la semana del año\n",
    "df_TEA_full_tendencia['SEMANA'] = df_TEA_full_tendencia['FECHA'].dt.to_period('W').apply(lambda r: r.start_time)\n",
    "df_TEA_full_tendencia.head()"
   ]
  },
  {
   "cell_type": "code",
   "execution_count": null,
   "metadata": {},
   "outputs": [],
   "source": [
    "# Agrupar por 'SEMANA' y calcular la suma de 'VALOR1' y 'VALOR2'\n",
    "df_TEA_full_semana = df_TEA_full_tendencia.groupby(['SEMANA', 'PLANTACION']).agg({'PROPIOS': 'sum',\n",
    "                                                                                  'TERCEROS': 'sum',\n",
    "                                                                                  'TOTAL': 'sum',\n",
    "                                                                                  'RFF PROCESADO': 'sum',\n",
    "                                                                                  'CPO OBTENIDO': 'sum',\n",
    "                                                                                  'CPO OBTENIDO imp': 'sum',\n",
    "                                                                                  'PRECIPITACION_TOTAL':'sum'}).reset_index()\n",
    "\n",
    "df_TEA_full_semana.head()"
   ]
  },
  {
   "cell_type": "markdown",
   "metadata": {},
   "source": [
    "#### Suavizando por medias moviles"
   ]
  },
  {
   "cell_type": "code",
   "execution_count": null,
   "metadata": {},
   "outputs": [],
   "source": [
    "# Filtramos la tendencia de interes\n",
    "# -------------\n",
    "\n",
    "# ---\n",
    "df_TEA_full_semana_tendencia = df_TEA_full_semana\n",
    "df_TEA_full_semana_tendencia = df_TEA_full_semana_tendencia.sort_values(by='SEMANA')\n",
    "df_TEA_full_semana_tendencia.head()"
   ]
  },
  {
   "cell_type": "code",
   "execution_count": null,
   "metadata": {},
   "outputs": [],
   "source": [
    "# Suavizando por medias moviles\n",
    "# ----------\n",
    "df_TEA_full_semana_tendencia['CPO OBTENIDO_svzdo_2'] = df_TEA_full_semana_tendencia['CPO OBTENIDO imp'].rolling(window=2).mean() # Suavizado a 2 periodos\n",
    "df_TEA_full_semana_tendencia['CPO OBTENIDO_svzdo_3'] = df_TEA_full_semana_tendencia['CPO OBTENIDO imp'].rolling(window=3).mean() # Suavizado a 3 periodos\n",
    "df_TEA_full_semana_tendencia['CPO OBTENIDO_svzdo_4'] = df_TEA_full_semana_tendencia['CPO OBTENIDO imp'].rolling(window=4).mean() # Suavizado a 4 periodos\n",
    "df_TEA_full_semana_tendencia['CPO OBTENIDO_svzdo_5'] = df_TEA_full_semana_tendencia['CPO OBTENIDO imp'].rolling(window=5).mean() # Suavizado a 5 periodos\n",
    "\n",
    "\n",
    "df_TEA_full_semana_tendencia['PRECIPITACION_TOTAL_svzdo_2'] = df_TEA_full_semana_tendencia['PRECIPITACION_TOTAL'].rolling(window=2).mean() # Suavizado a 2 periodos\n",
    "df_TEA_full_semana_tendencia['PRECIPITACION_TOTAL_svzdo_3'] = df_TEA_full_semana_tendencia['PRECIPITACION_TOTAL'].rolling(window=3).mean() # Suavizado a 3 periodos\n",
    "df_TEA_full_semana_tendencia['PRECIPITACION_TOTAL_svzdo_4'] = df_TEA_full_semana_tendencia['PRECIPITACION_TOTAL'].rolling(window=4).mean() # Suavizado a 4 periodos\n",
    "df_TEA_full_semana_tendencia['PRECIPITACION_TOTAL_svzdo_5'] = df_TEA_full_semana_tendencia['PRECIPITACION_TOTAL'].rolling(window=5).mean() # Suavizado a 5 periodos\n",
    "\n",
    "\n",
    "# Probando traslaciones temporales\n",
    "# -----------\n",
    "\n",
    "# Desplazar 'VARIABLE_1' un período hacia adelante\n",
    "df_TEA_full_semana_tendencia['PRECIPITACION_TOTAL_SHIFTED_1'] = df_TEA_full_semana_tendencia['PRECIPITACION_TOTAL'].shift(-1)\n",
    "df_TEA_full_semana_tendencia['PRECIPITACION_TOTAL_SHIFTED_2'] = df_TEA_full_semana_tendencia['PRECIPITACION_TOTAL'].shift(-2)\n",
    "df_TEA_full_semana_tendencia['PRECIPITACION_TOTAL_SHIFTED_3'] = df_TEA_full_semana_tendencia['PRECIPITACION_TOTAL'].shift(-3)\n",
    "df_TEA_full_semana_tendencia['PRECIPITACION_TOTAL_SHIFTED_4'] = df_TEA_full_semana_tendencia['PRECIPITACION_TOTAL'].shift(-4)\n",
    "df_TEA_full_semana_tendencia['PRECIPITACION_TOTAL_SHIFTED_5'] = df_TEA_full_semana_tendencia['PRECIPITACION_TOTAL'].shift(-5)\n",
    "df_TEA_full_semana_tendencia['PRECIPITACION_TOTAL_SHIFTED_6'] = df_TEA_full_semana_tendencia['PRECIPITACION_TOTAL'].shift(-6)\n",
    "df_TEA_full_semana_tendencia['PRECIPITACION_TOTAL_SHIFTED_7'] = df_TEA_full_semana_tendencia['PRECIPITACION_TOTAL'].shift(-7)\n",
    "\n",
    "\n",
    "df_TEA_full_semana_tendencia.head()"
   ]
  },
  {
   "cell_type": "code",
   "execution_count": null,
   "metadata": {},
   "outputs": [],
   "source": []
  },
  {
   "cell_type": "code",
   "execution_count": null,
   "metadata": {},
   "outputs": [],
   "source": [
    "# Graficamos tendencias\n",
    "# -------\n",
    "# -----\n",
    "# --\n",
    "\n",
    "plantacion_name = df_TEA_full_semana_tendencia['PLANTACION'].unique()\n",
    "\n",
    "# Crear el gráfico de líneas para 'toneladas_dia'\n",
    "plt.figure(figsize=(15, 5))\n",
    "plt.plot(df_TEA_full_semana_tendencia['SEMANA'], df_TEA_full_semana_tendencia['CPO OBTENIDO imp'], marker='o', markersize=2, linestyle='-', color='green', label='CPO OBTENIDO')\n",
    "# plt.plot(df_TEA_full_semana_tendencia['SEMANA'], df_TEA_full_semana_tendencia['CPO OBTENIDO_svzdo_2'], marker='o', markersize=2, linestyle='-', color='red', label='CPO OBTENIDO_svzdo_2')\n",
    "# plt.plot(df_TEA_full_semana_tendencia['SEMANA'], df_TEA_full_semana_tendencia['CPO OBTENIDO_svzdo_3'], marker='o', markersize=2, linestyle='-', color='blue', label='CPO OBTENIDO_svzdo_3')\n",
    "# plt.plot(df_TEA_full_semana_tendencia['SEMANA'], df_TEA_full_semana_tendencia['CPO OBTENIDO_svzdo_4'], marker='o', markersize=2, linestyle='-', color='red', label='CPO OBTENIDO_svzdo_4')\n",
    "# plt.plot(df_TEA_full_semana_tendencia['SEMANA'], df_TEA_full_semana_tendencia['CPO OBTENIDO_svzdo_5'], marker='o', markersize=2, linestyle='-', color='blue', label='CPO OBTENIDO_svzdo_5')\n",
    "\n",
    "plt.plot(df_TEA_full_semana_tendencia['SEMANA'], df_TEA_full_semana_tendencia['PRECIPITACION_TOTAL_SHIFTED_4'], marker='o', markersize=2, linestyle='-', color='blue', label='PRECIPITACION_TOTAL_SHIFTED_1')\n",
    "\n",
    "\n",
    "plt.title('RFF Procesado por Semana a través del Tiempo - '+ plantacion_name[0])\n",
    "plt.xlabel('Semana')\n",
    "plt.ylabel('RFF Procesado por Semana')\n",
    "plt.grid(True)\n",
    "plt.legend()\n",
    "#plt.xticks(rotation=45)\n",
    "\n",
    "# Mostrar la gráfica\n",
    "# print(df_TEA_full_semana_tendencia[df_TEA_full_semana_tendencia['RFF PROCESADO'] == 0].head())\n",
    "plt.tight_layout()\n",
    "plt.show()"
   ]
  },
  {
   "cell_type": "code",
   "execution_count": null,
   "metadata": {},
   "outputs": [],
   "source": [
    "\n"
   ]
  },
  {
   "cell_type": "code",
   "execution_count": null,
   "metadata": {},
   "outputs": [],
   "source": []
  },
  {
   "cell_type": "code",
   "execution_count": null,
   "metadata": {},
   "outputs": [],
   "source": [
    "plantacion_name = df_TEA_full_semana_tendencia['PLANTACION'].unique()\n",
    "\n",
    "# Configurar el gráfico\n",
    "plt.figure(figsize=(15, 5))\n",
    "\n",
    "# Graficar 'VALOR1' y 'VALOR2'\n",
    "# plt.plot(df_TEA_full_semana_tendencia['SEMANA'], df_TEA_full_semana_tendencia['RFF PROCESADO'], marker='o', markersize=4, label='RFF PROCESADO')\n",
    "plt.plot(df_TEA_full_semana_tendencia['SEMANA'], df_TEA_full_semana_tendencia['CPO OBTENIDO imp'], marker='o', markersize=4, label='CPO OBTENIDO imp')\n",
    "\n",
    "# plt.plot(df_TEA_full_semana_tendencia['SEMANA'], df_TEA_full_semana_tendencia['TOTAL'], marker='o', markersize=4, label='TOTAL recibido')\n",
    "# plt.plot(df_TEA_full_semana_tendencia['SEMANA'], df_TEA_full_semana_tendencia['PROPIOS'], marker='o', markersize=4, label='PROPIOS')\n",
    "plt.plot(df_TEA_full_semana_tendencia['SEMANA'], df_TEA_full_semana_tendencia['PRECIPITACION_TOTAL_svzdo_3'], marker='o', markersize=4, label='PRECIPITACION_TOTAL')\n",
    "plt.plot(df_TEA_full_semana_tendencia['SEMANA'], df_TEA_full_semana_tendencia['PRECIPITACION_TOTAL_svzdo_4'], marker='o', markersize=4, label='PRECIPITACION_TOTAL')\n",
    "\n",
    "# Configurar etiquetas y título\n",
    "plt.xlabel('Fecha')\n",
    "plt.ylabel('Valores')\n",
    "plt.title('Comparación de CPO OBTENIDO y PRECIPITACION_TOTAL a lo largo del tiempo - '+ plantacion_name[0])\n",
    "plt.legend()\n",
    "\n",
    "# Mostrar el gráfico\n",
    "# Mostrar la gráfica\n",
    "# print(df_TEA_full_semana_tendencia.head())\n",
    "plt.grid(True)\n",
    "plt.show()"
   ]
  },
  {
   "cell_type": "code",
   "execution_count": null,
   "metadata": {},
   "outputs": [],
   "source": []
  },
  {
   "cell_type": "code",
   "execution_count": null,
   "metadata": {},
   "outputs": [],
   "source": [
    "# Suponiendo que df es tu DataFrame y col1, col2 son las columnas de datos temporales\n",
    "correlation_pearson = df_TEA_full_semana_tendencia['CPO OBTENIDO imp'].corr(df_TEA_full_semana_tendencia['PRECIPITACION_TOTAL'], method='pearson')\n",
    "correlation_spearman = df_TEA_full_semana_tendencia['CPO OBTENIDO imp'].corr(df_TEA_full_semana_tendencia['PRECIPITACION_TOTAL'], method='spearman')\n",
    "correlation_kendall = df_TEA_full_semana_tendencia['CPO OBTENIDO imp'].corr(df_TEA_full_semana_tendencia['PRECIPITACION_TOTAL'], method='kendall')\n",
    "\n",
    "print(\"Correlación de Pearson:\", correlation_pearson)\n",
    "print(\"Correlación de Spearman:\", correlation_spearman)\n",
    "print(\"Correlación de Kendall:\", correlation_kendall)"
   ]
  },
  {
   "cell_type": "code",
   "execution_count": null,
   "metadata": {},
   "outputs": [],
   "source": [
    "# Suponiendo que df es tu DataFrame y col1, col2 son las columnas de datos temporales\n",
    "correlation_pearson = df_TEA_full_semana_tendencia['CPO OBTENIDO_svzdo_3'].corr(df_TEA_full_semana_tendencia['PRECIPITACION_TOTAL_svzdo_3'], method='pearson')\n",
    "correlation_spearman = df_TEA_full_semana_tendencia['CPO OBTENIDO_svzdo_3'].corr(df_TEA_full_semana_tendencia['PRECIPITACION_TOTAL_svzdo_3'], method='spearman')\n",
    "correlation_kendall = df_TEA_full_semana_tendencia['CPO OBTENIDO_svzdo_3'].corr(df_TEA_full_semana_tendencia['PRECIPITACION_TOTAL_svzdo_3'], method='kendall')\n",
    "\n",
    "print(\"Correlación de Pearson:\", correlation_pearson)\n",
    "print(\"Correlación de Spearman:\", correlation_spearman)\n",
    "print(\"Correlación de Kendall:\", correlation_kendall)"
   ]
  },
  {
   "cell_type": "code",
   "execution_count": null,
   "metadata": {},
   "outputs": [],
   "source": [
    "# Suponiendo que df es tu DataFrame y col1, col2 son las columnas de datos temporales\n",
    "correlation_pearson = df_TEA_full_semana_tendencia['CPO OBTENIDO imp'].corr(df_TEA_full_semana_tendencia['PRECIPITACION_TOTAL_SHIFTED_6'], method='pearson')\n",
    "correlation_spearman = df_TEA_full_semana_tendencia['CPO OBTENIDO imp'].corr(df_TEA_full_semana_tendencia['PRECIPITACION_TOTAL_SHIFTED_6'], method='spearman')\n",
    "correlation_kendall = df_TEA_full_semana_tendencia['CPO OBTENIDO imp'].corr(df_TEA_full_semana_tendencia['PRECIPITACION_TOTAL_SHIFTED_6'], method='kendall')\n",
    "\n",
    "print(\"Correlación de Pearson:\", correlation_pearson)\n",
    "print(\"Correlación de Spearman:\", correlation_spearman)\n",
    "print(\"Correlación de Kendall:\", correlation_kendall)"
   ]
  },
  {
   "cell_type": "code",
   "execution_count": null,
   "metadata": {},
   "outputs": [],
   "source": [
    "from statsmodels.tsa.stattools import coint\n",
    "\n",
    "# Suponiendo que series1 y series2 son tus series temporales\n",
    "score, p_value, _ = coint(df_TEA_full_semana_tendencia['CPO OBTENIDO imp'], df_TEA_full_semana_tendencia['PRECIPITACION_TOTAL_SHIFTED_5'])\n",
    "\n",
    "print(\"P-valor de la cointegración:\", p_value)"
   ]
  },
  {
   "cell_type": "code",
   "execution_count": null,
   "metadata": {},
   "outputs": [],
   "source": []
  },
  {
   "cell_type": "code",
   "execution_count": null,
   "metadata": {},
   "outputs": [],
   "source": []
  },
  {
   "cell_type": "code",
   "execution_count": null,
   "metadata": {},
   "outputs": [],
   "source": []
  },
  {
   "cell_type": "code",
   "execution_count": null,
   "metadata": {},
   "outputs": [],
   "source": [
    "import statsmodels.api as sm\n"
   ]
  },
  {
   "cell_type": "code",
   "execution_count": null,
   "metadata": {},
   "outputs": [],
   "source": [
    "import statsmodels.api as sm\n",
    "\n",
    "# Suponiendo que df tiene 'X' como variable independiente y 'Y' como variable dependiente\n",
    "X = df_TEA_full_semana_tendencia[['PRECIPITACION_TOTAL_svzdo_3']]\n",
    "Y = df_TEA_full_semana_tendencia['CPO OBTENIDO_svzdo_3']\n",
    "X = sm.add_constant(X)  # Añadir constante para la intercepción\n",
    "model = sm.OLS(Y, X).fit()\n",
    "print(model.summary())"
   ]
  },
  {
   "cell_type": "code",
   "execution_count": null,
   "metadata": {},
   "outputs": [],
   "source": []
  },
  {
   "cell_type": "code",
   "execution_count": null,
   "metadata": {},
   "outputs": [],
   "source": []
  },
  {
   "cell_type": "markdown",
   "metadata": {},
   "source": [
    "#### Transformando data por Plantación"
   ]
  },
  {
   "cell_type": "markdown",
   "metadata": {},
   "source": [
    "##### Planta Shanuzi"
   ]
  },
  {
   "cell_type": "code",
   "execution_count": null,
   "metadata": {},
   "outputs": [],
   "source": [
    "\n",
    "print(df_TEA_full.FECHA.min())\n",
    "print(df_TEA_full.FECHA.max())\n",
    "print(df_TEA_full[df_TEA_full['PLANTACION'] == 'Shanuzi'].head())\n",
    "\n",
    "print(df_sabana_saldo_campo_full_vf.FECHA.min())\n",
    "print(df_sabana_saldo_campo_full_vf.FECHA.max())\n",
    "print(df_sabana_saldo_campo_full_vf[df_sabana_saldo_campo_full_vf['PLANTACION'] == 'Shanuzi'].head())"
   ]
  },
  {
   "cell_type": "code",
   "execution_count": null,
   "metadata": {},
   "outputs": [],
   "source": [
    "# Unir los DataFrames en base a 'FECHA' y 'PLANTACION'\n",
    "df_TEA_full_sh = pd.merge(df_TEA_full[df_TEA_full['PLANTACION'] == 'Shanuzi'],\n",
    "                          df_sabana_saldo_campo_full_vf[df_sabana_saldo_campo_full_vf['PLANTACION'] == 'Shanuzi'],\n",
    "                          on=['FECHA', 'PLANTACION'], how='inner')\n",
    "# Convertir 'FECHA' a formato datetime\n",
    "df_TEA_full_sh['FECHA'] = pd.to_datetime(df_TEA_full_sh['FECHA'])\n",
    "df_TEA_full_sh.head(10)"
   ]
  },
  {
   "cell_type": "code",
   "execution_count": null,
   "metadata": {},
   "outputs": [],
   "source": [
    "# Crear columna 'SEMANA' que indica el año y la semana del año\n",
    "df_TEA_full_sh['SEMANA'] = df_TEA_full_sh['FECHA'].dt.to_period('W').apply(lambda r: r.start_time)\n",
    "df_TEA_full_sh.head()"
   ]
  },
  {
   "cell_type": "code",
   "execution_count": null,
   "metadata": {},
   "outputs": [],
   "source": [
    "# Agrupar por 'SEMANA' y calcular la suma de 'VALOR1' y 'VALOR2'\n",
    "df_TEA_full_sh_semana = df_TEA_full_sh.groupby(['SEMANA', 'PLANTACION']).agg({'PROPIOS': 'sum',\n",
    "                                                                              'TERCEROS': 'sum',\n",
    "                                                                              'TOTAL': 'sum',\n",
    "                                                                              'RFF PROCESADO': 'sum',\n",
    "                                                                              'CPO OBTENIDO': 'sum',\n",
    "                                                                              'SALDO':'mean',\n",
    "                                                                              'SALDO > 3':'mean',\n",
    "                                                                              'PRECIPITACION_TOTAL':'sum'}).reset_index()\n",
    "\n",
    "df_TEA_full_sh_semana.head()"
   ]
  },
  {
   "cell_type": "code",
   "execution_count": null,
   "metadata": {},
   "outputs": [],
   "source": [
    "# Crear figura y ejes\n",
    "fig, ax1 = plt.subplots(figsize=(15, 6))\n",
    "\n",
    "# Graficar la primera variable en el eje principal\n",
    "ax1.plot(df_TEA_full_sh_semana['SEMANA'], df_TEA_full_sh_semana['PRECIPITACION_TOTAL'], color='blue', marker='o', linestyle='-', label='PRECIPITACION_TOTAL')\n",
    "ax1.set_xlabel('Fecha')\n",
    "ax1.set_ylabel('Variable 1', color='blue')\n",
    "ax1.tick_params(axis='y', labelcolor='blue')\n",
    "\n",
    "# Crear eje secundario\n",
    "ax2 = ax1.twinx()\n",
    "ax2.plot(df_TEA_full_sh_semana['SEMANA'], df_TEA_full_sh_semana['CPO OBTENIDO'], color='green', marker='s', linestyle='--', label='CPO OBTENIDO')\n",
    "ax2.set_ylabel('Variable 2', color='green')\n",
    "ax2.tick_params(axis='y', labelcolor='green')\n",
    "\n",
    "# Agregar títulos y leyendas\n",
    "fig.suptitle('Comparación de Variables con Diferentes Escalas', fontsize=14)\n",
    "ax1.legend(loc='upper left')\n",
    "ax2.legend(loc='upper right')\n",
    "\n",
    "# Mostrar gráfico\n",
    "plt.grid(True)\n",
    "plt.show()"
   ]
  },
  {
   "cell_type": "code",
   "execution_count": null,
   "metadata": {},
   "outputs": [],
   "source": [
    "# Suponiendo que df es tu DataFrame y col1, col2 son las columnas de datos temporales\n",
    "correlation_pearson = df_TEA_full_sh_semana['CPO OBTENIDO'].corr(df_TEA_full_sh_semana['PRECIPITACION_TOTAL'], method='pearson')\n",
    "correlation_spearman = df_TEA_full_sh_semana['CPO OBTENIDO'].corr(df_TEA_full_sh_semana['PRECIPITACION_TOTAL'], method='spearman')\n",
    "correlation_kendall = df_TEA_full_sh_semana['CPO OBTENIDO'].corr(df_TEA_full_sh_semana['PRECIPITACION_TOTAL'], method='kendall')\n",
    "\n",
    "print(\"Correlación de Pearson:\", correlation_pearson)\n",
    "print(\"Correlación de Spearman:\", correlation_spearman)\n",
    "print(\"Correlación de Kendall:\", correlation_kendall)"
   ]
  },
  {
   "cell_type": "code",
   "execution_count": null,
   "metadata": {},
   "outputs": [],
   "source": []
  }
 ],
 "metadata": {
  "kernelspec": {
   "display_name": "Python 3",
   "language": "python",
   "name": "python3"
  },
  "language_info": {
   "codemirror_mode": {
    "name": "ipython",
    "version": 3
   },
   "file_extension": ".py",
   "mimetype": "text/x-python",
   "name": "python",
   "nbconvert_exporter": "python",
   "pygments_lexer": "ipython3",
   "version": "3.11.9"
  }
 },
 "nbformat": 4,
 "nbformat_minor": 2
}
